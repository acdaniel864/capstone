{
 "cells": [
  {
   "cell_type": "markdown",
   "metadata": {},
   "source": [
    "# Data Cleaning & Pre-Processing"
   ]
  },
  {
   "cell_type": "code",
   "execution_count": 1,
   "metadata": {},
   "outputs": [],
   "source": [
    "import re\n",
    "import numpy as np\n",
    "import pandas as pd\n",
    "import matplotlib.pyplot as plt\n",
    "import cleaning_functions as cf\n",
    "from unidecode import unidecode # source: https://stackoverflow.com/questions/517923/what-is-the-best-way-to-remove-accents-normalize-in-a-python-unicode-string "
   ]
  },
  {
   "cell_type": "code",
   "execution_count": 2,
   "metadata": {},
   "outputs": [],
   "source": [
    "# Source (via Wine.com) : https://www.kaggle.com/datasets/salohiddindev/wine-dataset-scraping-from-wine-com (prices in USD)\n",
    "df_wine_com = pd.read_csv(\"../data/original_datasets/wine_com.csv\", encoding='utf-16')\n",
    "\n",
    "# Source (via Vivino.com): https://www.kaggle.com/datasets/budnyak/wine-rating-and-price (prices in EUR)\n",
    "df_viv_1 = pd.read_csv('../data/original_datasets/vivino_one.csv')\n",
    "df_viv_1.drop(columns=['Unnamed: 0'], inplace=True)\n",
    "\n",
    "# Source (via Vivino.com): https://www.kaggle.com/datasets/joshuakalobbowles/vivino-wine-data (prices in EUR)\n",
    "df_viv_2 = pd.read_csv('../data/original_datasets/vivino_two.csv')\n",
    "\n",
    "# Source (via Vivino.com): https://www.kaggle.com/datasets/nikitatkachenko/vivinoredwine/data (prices in USD)\n",
    "df_viv_3 = pd.read_csv('../data/original_datasets/validation_set.csv',encoding='latin1')\n",
    "df_viv_3.dropna(inplace=True)\n",
    "df_viv_3.drop(columns=['Unnamed: 0'], inplace=True)"
   ]
  },
  {
   "cell_type": "code",
   "execution_count": 3,
   "metadata": {},
   "outputs": [],
   "source": [
    "# Make column names snake_case.\n",
    "df_viv_1.columns = [col.lower().replace(' ', '_') for col in df_viv_1.columns]\n",
    "df_viv_2.columns = [col.lower().replace(' ', '_') for col in df_viv_2.columns]\n",
    "df_wine_com.columns = [col.lower().replace(' %', '').replace(' ', '_') for col in df_wine_com.columns]\n",
    "df_viv_3.columns = [col.lower().replace(' ', '_') for col in df_viv_3.columns]"
   ]
  },
  {
   "cell_type": "markdown",
   "metadata": {},
   "source": [
    "# Cleaning wine.com Dataset"
   ]
  },
  {
   "cell_type": "code",
   "execution_count": 4,
   "metadata": {},
   "outputs": [
    {
     "data": {
      "text/html": [
       "<div>\n",
       "<style scoped>\n",
       "    .dataframe tbody tr th:only-of-type {\n",
       "        vertical-align: middle;\n",
       "    }\n",
       "\n",
       "    .dataframe tbody tr th {\n",
       "        vertical-align: top;\n",
       "    }\n",
       "\n",
       "    .dataframe thead th {\n",
       "        text-align: right;\n",
       "    }\n",
       "</style>\n",
       "<table border=\"1\" class=\"dataframe\">\n",
       "  <thead>\n",
       "    <tr style=\"text-align: right;\">\n",
       "      <th></th>\n",
       "      <th>names</th>\n",
       "      <th>color_wine</th>\n",
       "      <th>prices</th>\n",
       "      <th>ml</th>\n",
       "      <th>ratings</th>\n",
       "      <th>ratingsnum</th>\n",
       "      <th>countrys</th>\n",
       "      <th>abv</th>\n",
       "      <th>rates</th>\n",
       "    </tr>\n",
       "  </thead>\n",
       "  <tbody>\n",
       "    <tr>\n",
       "      <th>0</th>\n",
       "      <td>00 Wines VGW Chardonnay 2017</td>\n",
       "      <td>White Wine</td>\n",
       "      <td>79.99$</td>\n",
       "      <td>750</td>\n",
       "      <td>0.0</td>\n",
       "      <td>0</td>\n",
       "      <td>Chardonnay from Willamette Valley, Oregon</td>\n",
       "      <td>13.0</td>\n",
       "      <td>JS, WE, WS</td>\n",
       "    </tr>\n",
       "    <tr>\n",
       "      <th>1</th>\n",
       "      <td>00 Wines VGR Pinot Noir 2019</td>\n",
       "      <td>Red Wine</td>\n",
       "      <td>99.99$</td>\n",
       "      <td>750</td>\n",
       "      <td>0.0</td>\n",
       "      <td>0</td>\n",
       "      <td>Pinot Noir from Willamette Valley, Oregon</td>\n",
       "      <td>12.9</td>\n",
       "      <td>WE, JS, RP</td>\n",
       "    </tr>\n",
       "    <tr>\n",
       "      <th>2</th>\n",
       "      <td>00 Wines EGW Chardonnay 2019</td>\n",
       "      <td>White Wine</td>\n",
       "      <td>115.99$</td>\n",
       "      <td>750</td>\n",
       "      <td>0.0</td>\n",
       "      <td>0</td>\n",
       "      <td>Chardonnay from Willamette Valley, Oregon</td>\n",
       "      <td>0.0</td>\n",
       "      <td>JS, RP, WE</td>\n",
       "    </tr>\n",
       "    <tr>\n",
       "      <th>3</th>\n",
       "      <td>100 Nails Ranch Pinot Noir 2019</td>\n",
       "      <td>Red Wine</td>\n",
       "      <td>16.99$</td>\n",
       "      <td>750</td>\n",
       "      <td>0.0</td>\n",
       "      <td>0</td>\n",
       "      <td>Pinot Noir from Central Coast, California</td>\n",
       "      <td>14.2</td>\n",
       "      <td>WW</td>\n",
       "    </tr>\n",
       "    <tr>\n",
       "      <th>4</th>\n",
       "      <td>100 Nails Ranch Chardonnay 2019</td>\n",
       "      <td>White Wine</td>\n",
       "      <td>16.99$</td>\n",
       "      <td>750</td>\n",
       "      <td>0.0</td>\n",
       "      <td>0</td>\n",
       "      <td>Chardonnay from Sonoma County, California</td>\n",
       "      <td>14.2</td>\n",
       "      <td>0</td>\n",
       "    </tr>\n",
       "  </tbody>\n",
       "</table>\n",
       "</div>"
      ],
      "text/plain": [
       "                             names  color_wine   prices   ml  ratings  \\\n",
       "0     00 Wines VGW Chardonnay 2017  White Wine   79.99$  750      0.0   \n",
       "1     00 Wines VGR Pinot Noir 2019    Red Wine   99.99$  750      0.0   \n",
       "2     00 Wines EGW Chardonnay 2019  White Wine  115.99$  750      0.0   \n",
       "3  100 Nails Ranch Pinot Noir 2019    Red Wine   16.99$  750      0.0   \n",
       "4  100 Nails Ranch Chardonnay 2019  White Wine   16.99$  750      0.0   \n",
       "\n",
       "   ratingsnum                                   countrys   abv       rates  \n",
       "0           0  Chardonnay from Willamette Valley, Oregon  13.0  JS, WE, WS  \n",
       "1           0  Pinot Noir from Willamette Valley, Oregon  12.9  WE, JS, RP  \n",
       "2           0  Chardonnay from Willamette Valley, Oregon   0.0  JS, RP, WE  \n",
       "3           0  Pinot Noir from Central Coast, California  14.2          WW  \n",
       "4           0  Chardonnay from Sonoma County, California  14.2           0  "
      ]
     },
     "execution_count": 4,
     "metadata": {},
     "output_type": "execute_result"
    }
   ],
   "source": [
    "df_wine_com.head()"
   ]
  },
  {
   "cell_type": "code",
   "execution_count": 5,
   "metadata": {},
   "outputs": [
    {
     "data": {
      "text/plain": [
       "(15254, 9)"
      ]
     },
     "execution_count": 5,
     "metadata": {},
     "output_type": "execute_result"
    }
   ],
   "source": [
    "df_wine_com.shape"
   ]
  },
  {
   "cell_type": "code",
   "execution_count": 6,
   "metadata": {},
   "outputs": [],
   "source": [
    "df_wine_com.drop_duplicates(inplace=True)"
   ]
  },
  {
   "cell_type": "code",
   "execution_count": 7,
   "metadata": {},
   "outputs": [],
   "source": [
    "# Correct prices \n",
    "df_wine_com['prices'] = df_wine_com['prices'].str.replace(',', '').str.replace('$', '').astype(float)"
   ]
  },
  {
   "cell_type": "code",
   "execution_count": 8,
   "metadata": {},
   "outputs": [
    {
     "data": {
      "text/plain": [
       "vintage\n",
       "2019    3050\n",
       "2020    2873\n",
       "2018    2317\n",
       "2021    1788\n",
       "2017    1373\n",
       "Name: count, dtype: int64"
      ]
     },
     "execution_count": 8,
     "metadata": {},
     "output_type": "execute_result"
    }
   ],
   "source": [
    "# Extract column for vintage from name column\n",
    "df_wine_com['vintage'] = df_wine_com['names'].apply(cf.get_vintage)\n",
    "df_wine_com['vintage'].value_counts().head()"
   ]
  },
  {
   "cell_type": "code",
   "execution_count": 9,
   "metadata": {},
   "outputs": [
    {
     "data": {
      "image/png": "[encoded data removed]",
      "text/plain": [
       "<Figure size 640x480 with 1 Axes>"
      ]
     },
     "metadata": {},
     "output_type": "display_data"
    }
   ],
   "source": [
    "# Investigate very old wines\n",
    "old_wines = df_wine_com[df_wine_com['vintage'] < '1985']\n",
    "plt.hist(old_wines['prices'], bins=50)\n",
    "plt.axvline(x=200, color='r', linestyle='dashed', linewidth=1, label='$200');"
   ]
  },
  {
   "cell_type": "code",
   "execution_count": 10,
   "metadata": {},
   "outputs": [],
   "source": [
    "'''\n",
    "Remove vintage for wines below $200 in price and 'older' than 1985, having investgated them \n",
    "individually these are wines with the established year of the producer in their name \n",
    "not the year grape was picked.\n",
    "'''\n",
    "df_wine_com.loc[(df_wine_com['prices'] < 200) & (df_wine_com['vintage'] < '1985'), 'vintage'] = 'unknown'"
   ]
  },
  {
   "cell_type": "code",
   "execution_count": 11,
   "metadata": {},
   "outputs": [],
   "source": [
    "# Keep only 750ml bottles.\n",
    "df_wine_com = df_wine_com[df_wine_com['ml'] == 750].copy()\n",
    "df_wine_com.drop(columns=['ml'], inplace=True)"
   ]
  },
  {
   "cell_type": "code",
   "execution_count": 12,
   "metadata": {},
   "outputs": [
    {
     "data": {
      "text/plain": [
       "color_wine\n",
       "Red Wine                 8983\n",
       "White Wine               3687\n",
       "Sparkling & Champagne     959\n",
       "Pink and Rosé             413\n",
       "0                         199\n",
       "Collectible                25\n",
       "Screw Cap                  20\n",
       "Boutique                    7\n",
       "Green Wine                  4\n",
       "Great Gift                  2\n",
       "Name: count, dtype: int64"
      ]
     },
     "execution_count": 12,
     "metadata": {},
     "output_type": "execute_result"
    }
   ],
   "source": [
    "df_wine_com['color_wine'].value_counts()"
   ]
  },
  {
   "cell_type": "code",
   "execution_count": 13,
   "metadata": {},
   "outputs": [
    {
     "data": {
      "text/plain": [
       "wine_variety\n",
       "red          8983\n",
       "white        3687\n",
       "sparkling     959\n",
       "rose          413\n",
       "other         257\n",
       "Name: count, dtype: int64"
      ]
     },
     "execution_count": 13,
     "metadata": {},
     "output_type": "execute_result"
    }
   ],
   "source": [
    "df_wine_com['color_wine'] = df_wine_com['color_wine'].apply(cf.remove_accents)\n",
    "df_wine_com['wine_variety'] = df_wine_com['color_wine'].apply(cf.get_wine_variety)\n",
    "df_wine_com.drop(columns=['color_wine'], inplace=True)\n",
    "df_wine_com['wine_variety'].value_counts()"
   ]
  },
  {
   "cell_type": "code",
   "execution_count": 14,
   "metadata": {},
   "outputs": [],
   "source": [
    "# Remove 'other' wine varieties\n",
    "df_wine_com = df_wine_com[df_wine_com['wine_variety'] != 'unknown'].copy()"
   ]
  },
  {
   "cell_type": "code",
   "execution_count": 15,
   "metadata": {},
   "outputs": [],
   "source": [
    "# Rename columns \n",
    "df_wine_com.rename(columns = {'names' : 'name',\n",
    "                            'prices' : 'price',\n",
    "                            'ratings' : 'rating',\n",
    "                            'ratingsnum': 'rating_qty', \n",
    "                            'rates' : 'reviewed_by'}, inplace = True)"
   ]
  },
  {
   "cell_type": "code",
   "execution_count": 16,
   "metadata": {},
   "outputs": [],
   "source": [
    "df_wine_com['name'] = df_wine_com['name'].apply(cf.uniform_strings)"
   ]
  },
  {
   "cell_type": "code",
   "execution_count": 17,
   "metadata": {},
   "outputs": [],
   "source": [
    "df_wine_com['region'] = df_wine_com['countrys'].apply(cf.get_region)\n",
    "# Drop 33 wines where region was not found \n",
    "df_wine_com = df_wine_com[df_wine_com['region'] != 'unknown'].copy()"
   ]
  },
  {
   "cell_type": "code",
   "execution_count": 18,
   "metadata": {},
   "outputs": [
    {
     "data": {
      "text/plain": [
       "country\n",
       "France          4128\n",
       "California      2845\n",
       "Italy           2381\n",
       "unknown         1363\n",
       "Spain            926\n",
       "Australia        433\n",
       "Argentina        407\n",
       "Washington       300\n",
       "Germany          258\n",
       "Oregon           241\n",
       "Portugal         219\n",
       "Chile            219\n",
       "New Zealand      202\n",
       "Other U.S.       107\n",
       "South Africa      99\n",
       "Austria           74\n",
       "Greece            62\n",
       "Canada             2\n",
       "Name: count, dtype: int64"
      ]
     },
     "execution_count": 18,
     "metadata": {},
     "output_type": "execute_result"
    }
   ],
   "source": [
    "# Extract country name from country column \n",
    "df_wine_com['country'] = df_wine_com['countrys'].apply(cf.get_country)\n",
    "df_wine_com['country'].value_counts()"
   ]
  },
  {
   "cell_type": "code",
   "execution_count": 19,
   "metadata": {},
   "outputs": [
    {
     "data": {
      "text/html": [
       "<div>\n",
       "<style scoped>\n",
       "    .dataframe tbody tr th:only-of-type {\n",
       "        vertical-align: middle;\n",
       "    }\n",
       "\n",
       "    .dataframe tbody tr th {\n",
       "        vertical-align: top;\n",
       "    }\n",
       "\n",
       "    .dataframe thead th {\n",
       "        text-align: right;\n",
       "    }\n",
       "</style>\n",
       "<table border=\"1\" class=\"dataframe\">\n",
       "  <thead>\n",
       "    <tr style=\"text-align: right;\">\n",
       "      <th></th>\n",
       "      <th>name</th>\n",
       "      <th>price</th>\n",
       "      <th>rating</th>\n",
       "      <th>rating_qty</th>\n",
       "      <th>countrys</th>\n",
       "      <th>abv</th>\n",
       "      <th>reviewed_by</th>\n",
       "      <th>vintage</th>\n",
       "      <th>wine_variety</th>\n",
       "      <th>region</th>\n",
       "      <th>country</th>\n",
       "    </tr>\n",
       "  </thead>\n",
       "  <tbody>\n",
       "    <tr>\n",
       "      <th>6</th>\n",
       "      <td>1000 Stories Bourbon Barrel Aged Prospectors P...</td>\n",
       "      <td>19.99</td>\n",
       "      <td>0.0</td>\n",
       "      <td>0</td>\n",
       "      <td>Cabernet Sauvignon from California</td>\n",
       "      <td>0.0</td>\n",
       "      <td>WW</td>\n",
       "      <td>2020</td>\n",
       "      <td>red</td>\n",
       "      <td>California</td>\n",
       "      <td>unknown</td>\n",
       "    </tr>\n",
       "    <tr>\n",
       "      <th>7</th>\n",
       "      <td>1000 Stories American Barrel Aged Pinot Noir 2020</td>\n",
       "      <td>17.99</td>\n",
       "      <td>0.0</td>\n",
       "      <td>0</td>\n",
       "      <td>Pinot Noir from California</td>\n",
       "      <td>14.5</td>\n",
       "      <td>0</td>\n",
       "      <td>2020</td>\n",
       "      <td>red</td>\n",
       "      <td>California</td>\n",
       "      <td>unknown</td>\n",
       "    </tr>\n",
       "    <tr>\n",
       "      <th>8</th>\n",
       "      <td>1000 Stories Bourbon Barrel Aged Zinfandel 2020</td>\n",
       "      <td>18.99</td>\n",
       "      <td>3.8</td>\n",
       "      <td>11</td>\n",
       "      <td>Zinfandel from California</td>\n",
       "      <td>15.5</td>\n",
       "      <td>WW</td>\n",
       "      <td>2020</td>\n",
       "      <td>red</td>\n",
       "      <td>California</td>\n",
       "      <td>unknown</td>\n",
       "    </tr>\n",
       "    <tr>\n",
       "      <th>9</th>\n",
       "      <td>1000 Stories Bourbon Barrel Aged Chardonnay 2019</td>\n",
       "      <td>19.99</td>\n",
       "      <td>4.4</td>\n",
       "      <td>10</td>\n",
       "      <td>Chardonnay from California</td>\n",
       "      <td>14.4</td>\n",
       "      <td>TP</td>\n",
       "      <td>2019</td>\n",
       "      <td>white</td>\n",
       "      <td>California</td>\n",
       "      <td>unknown</td>\n",
       "    </tr>\n",
       "    <tr>\n",
       "      <th>10</th>\n",
       "      <td>1000 Stories Bourbon Barrel Aged Prospectors P...</td>\n",
       "      <td>18.99</td>\n",
       "      <td>0.0</td>\n",
       "      <td>0</td>\n",
       "      <td>Cabernet Sauvignon from California</td>\n",
       "      <td>14.9</td>\n",
       "      <td>0</td>\n",
       "      <td>2018</td>\n",
       "      <td>red</td>\n",
       "      <td>California</td>\n",
       "      <td>unknown</td>\n",
       "    </tr>\n",
       "    <tr>\n",
       "      <th>...</th>\n",
       "      <td>...</td>\n",
       "      <td>...</td>\n",
       "      <td>...</td>\n",
       "      <td>...</td>\n",
       "      <td>...</td>\n",
       "      <td>...</td>\n",
       "      <td>...</td>\n",
       "      <td>...</td>\n",
       "      <td>...</td>\n",
       "      <td>...</td>\n",
       "      <td>...</td>\n",
       "    </tr>\n",
       "    <tr>\n",
       "      <th>15210</th>\n",
       "      <td>Vinos Atlantico Vera Vinho Verde Rose 2021</td>\n",
       "      <td>12.99</td>\n",
       "      <td>0.0</td>\n",
       "      <td>0</td>\n",
       "      <td>Rosé from Portugal</td>\n",
       "      <td>11.5</td>\n",
       "      <td>0</td>\n",
       "      <td>2021</td>\n",
       "      <td>rose</td>\n",
       "      <td>Portugal</td>\n",
       "      <td>unknown</td>\n",
       "    </tr>\n",
       "    <tr>\n",
       "      <th>15212</th>\n",
       "      <td>Vinos De Arganza Marques De Montejos Mencia 2020</td>\n",
       "      <td>13.99</td>\n",
       "      <td>0.0</td>\n",
       "      <td>0</td>\n",
       "      <td>Mencia from Spain</td>\n",
       "      <td>13.0</td>\n",
       "      <td>JS, WW</td>\n",
       "      <td>2020</td>\n",
       "      <td>red</td>\n",
       "      <td>Spain</td>\n",
       "      <td>unknown</td>\n",
       "    </tr>\n",
       "    <tr>\n",
       "      <th>15214</th>\n",
       "      <td>Vinos De Arganza Alvarez De Toledo Godello 2021</td>\n",
       "      <td>11.99</td>\n",
       "      <td>4.8</td>\n",
       "      <td>29</td>\n",
       "      <td>Godello from Spain</td>\n",
       "      <td>0.0</td>\n",
       "      <td>WW</td>\n",
       "      <td>2021</td>\n",
       "      <td>white</td>\n",
       "      <td>Spain</td>\n",
       "      <td>unknown</td>\n",
       "    </tr>\n",
       "    <tr>\n",
       "      <th>15215</th>\n",
       "      <td>Vinos De Arganza Palacio De Arganza Cabernet S...</td>\n",
       "      <td>13.99</td>\n",
       "      <td>4.8</td>\n",
       "      <td>30</td>\n",
       "      <td>Other Red Blends from Spain</td>\n",
       "      <td>13.0</td>\n",
       "      <td>JS, WW</td>\n",
       "      <td>2020</td>\n",
       "      <td>red</td>\n",
       "      <td>Spain</td>\n",
       "      <td>unknown</td>\n",
       "    </tr>\n",
       "    <tr>\n",
       "      <th>15216</th>\n",
       "      <td>Vinos De Arganza Palacio De Arganza Cabernet S...</td>\n",
       "      <td>13.99</td>\n",
       "      <td>4.5</td>\n",
       "      <td>38</td>\n",
       "      <td>Cabernet Sauvignon from Spain</td>\n",
       "      <td>13.0</td>\n",
       "      <td>JS, WW</td>\n",
       "      <td>2020</td>\n",
       "      <td>red</td>\n",
       "      <td>Spain</td>\n",
       "      <td>unknown</td>\n",
       "    </tr>\n",
       "  </tbody>\n",
       "</table>\n",
       "<p>1363 rows × 11 columns</p>\n",
       "</div>"
      ],
      "text/plain": [
       "                                                    name  price  rating  \\\n",
       "6      1000 Stories Bourbon Barrel Aged Prospectors P...  19.99     0.0   \n",
       "7      1000 Stories American Barrel Aged Pinot Noir 2020  17.99     0.0   \n",
       "8        1000 Stories Bourbon Barrel Aged Zinfandel 2020  18.99     3.8   \n",
       "9       1000 Stories Bourbon Barrel Aged Chardonnay 2019  19.99     4.4   \n",
       "10     1000 Stories Bourbon Barrel Aged Prospectors P...  18.99     0.0   \n",
       "...                                                  ...    ...     ...   \n",
       "15210         Vinos Atlantico Vera Vinho Verde Rose 2021  12.99     0.0   \n",
       "15212   Vinos De Arganza Marques De Montejos Mencia 2020  13.99     0.0   \n",
       "15214    Vinos De Arganza Alvarez De Toledo Godello 2021  11.99     4.8   \n",
       "15215  Vinos De Arganza Palacio De Arganza Cabernet S...  13.99     4.8   \n",
       "15216  Vinos De Arganza Palacio De Arganza Cabernet S...  13.99     4.5   \n",
       "\n",
       "       rating_qty                            countrys   abv reviewed_by  \\\n",
       "6               0  Cabernet Sauvignon from California   0.0          WW   \n",
       "7               0          Pinot Noir from California  14.5           0   \n",
       "8              11           Zinfandel from California  15.5          WW   \n",
       "9              10          Chardonnay from California  14.4          TP   \n",
       "10              0  Cabernet Sauvignon from California  14.9           0   \n",
       "...           ...                                 ...   ...         ...   \n",
       "15210           0                  Rosé from Portugal  11.5           0   \n",
       "15212           0                   Mencia from Spain  13.0      JS, WW   \n",
       "15214          29                  Godello from Spain   0.0          WW   \n",
       "15215          30         Other Red Blends from Spain  13.0      JS, WW   \n",
       "15216          38       Cabernet Sauvignon from Spain  13.0      JS, WW   \n",
       "\n",
       "      vintage wine_variety      region  country  \n",
       "6        2020          red  California  unknown  \n",
       "7        2020          red  California  unknown  \n",
       "8        2020          red  California  unknown  \n",
       "9        2019        white  California  unknown  \n",
       "10       2018          red  California  unknown  \n",
       "...       ...          ...         ...      ...  \n",
       "15210    2021         rose    Portugal  unknown  \n",
       "15212    2020          red       Spain  unknown  \n",
       "15214    2021        white       Spain  unknown  \n",
       "15215    2020          red       Spain  unknown  \n",
       "15216    2020          red       Spain  unknown  \n",
       "\n",
       "[1363 rows x 11 columns]"
      ]
     },
     "execution_count": 19,
     "metadata": {},
     "output_type": "execute_result"
    }
   ],
   "source": [
    "# Investigate the unknown countries \n",
    "df_wine_com[df_wine_com['country'] == 'unknown']"
   ]
  },
  {
   "cell_type": "code",
   "execution_count": 20,
   "metadata": {},
   "outputs": [],
   "source": [
    "df_wine_com.loc[df_wine_com['region'].isin(cf.us_states), 'country'] = 'United States'"
   ]
  },
  {
   "cell_type": "code",
   "execution_count": 21,
   "metadata": {},
   "outputs": [
    {
     "data": {
      "text/plain": [
       "region\n",
       "Israel               115\n",
       "South Africa         105\n",
       "Chile                 70\n",
       "Portugal              70\n",
       "Spain                 69\n",
       "France                60\n",
       "Italy                 55\n",
       "Argentina             32\n",
       "Austria               23\n",
       "Uruguay               23\n",
       "Greece                23\n",
       "Australia             20\n",
       "Lebanon               11\n",
       "England               10\n",
       "Slovenia               9\n",
       "Germany                9\n",
       "Hungary                8\n",
       "Croatia                6\n",
       "Brazil                 5\n",
       "Armenia                3\n",
       "New Zealand            3\n",
       "China                  2\n",
       "Other                  2\n",
       "Macedonia (FYROM)      2\n",
       "Other U.S.             1\n",
       "Name: count, dtype: int64"
      ]
     },
     "execution_count": 21,
     "metadata": {},
     "output_type": "execute_result"
    }
   ],
   "source": [
    "# All unknown countries are cases where no region was available. The country was populated in the region or a US state. \n",
    "region_problems = df_wine_com[df_wine_com['country'] == 'unknown']\n",
    "region_problems['region'].value_counts()"
   ]
  },
  {
   "cell_type": "code",
   "execution_count": 22,
   "metadata": {},
   "outputs": [
    {
     "data": {
      "text/plain": [
       "country\n",
       "France           4188\n",
       "United States    4121\n",
       "Italy            2436\n",
       "Spain             995\n",
       "Australia         453\n",
       "Argentina         439\n",
       "Chile             289\n",
       "Portugal          289\n",
       "Germany           267\n",
       "New Zealand       205\n",
       "South Africa      204\n",
       "Israel            115\n",
       "Austria            97\n",
       "Greece             85\n",
       "Uruguay            23\n",
       "Lebanon            11\n",
       "England            10\n",
       "Slovenia            9\n",
       "Hungary             8\n",
       "Croatia             6\n",
       "Brazil              5\n",
       "Armenia             3\n",
       "China               2\n",
       "Other               2\n",
       "Canada              2\n",
       "Macedonia           2\n",
       "Name: count, dtype: int64"
      ]
     },
     "execution_count": 22,
     "metadata": {},
     "output_type": "execute_result"
    }
   ],
   "source": [
    "# move those regions that are countries to the country column \n",
    "df_wine_com.loc[df_wine_com['country'] == 'unknown', 'country'] = df_wine_com.loc[df_wine_com['country'] == 'unknown', 'region']\n",
    "# make those regions that are countries 'unknown'\n",
    "df_wine_com.loc[df_wine_com['region'] == df_wine_com['country'], 'region'] = 'unknown'\n",
    "# combine U.S. and Other U.S.\n",
    "df_wine_com.loc[df_wine_com['country'] == 'Other U.S.', 'country'] = 'United States'\n",
    "# combine all U.S. and Other U.S.\n",
    "df_wine_com.loc[df_wine_com['country'] == 'California', 'country'] = 'United States'\n",
    "df_wine_com.loc[df_wine_com['country'] == 'Washington', 'country'] = 'United States'\n",
    "df_wine_com.loc[df_wine_com['country'] == 'Oregon', 'country'] = 'United States'\n",
    "# rename macedonia \n",
    "df_wine_com.loc[df_wine_com['country'] == 'Macedonia (FYROM)', 'country'] = 'Macedonia'\n",
    "\n",
    "df_wine_com['country'].value_counts()"
   ]
  },
  {
   "cell_type": "code",
   "execution_count": 23,
   "metadata": {},
   "outputs": [],
   "source": [
    "df_wine_com['grape_variety'] = df_wine_com['countrys'].apply(cf.get_grape_1)"
   ]
  },
  {
   "cell_type": "code",
   "execution_count": 24,
   "metadata": {
    "tags": []
   },
   "outputs": [],
   "source": [
    "# EXTRACT PRODUCER NAMES \n",
    "# Step 1 - Match with producers from other datasets and custom list in cleaning_functions.py \n",
    "all_producers = list(df_viv_1['winery'].unique()) + list(df_viv_2['winery'].unique()) + list(df_viv_3['winery'].unique()) + cf.custom_producer_list\n",
    "all_producers  = [cf.uniform_strings(word) for word in all_producers]\n",
    "all_producers.remove('Domaine De La')"
   ]
  },
  {
   "cell_type": "code",
   "execution_count": 25,
   "metadata": {},
   "outputs": [],
   "source": [
    "df_wine_com['name'] = df_wine_com['name'].apply(cf.uniform_strings)"
   ]
  },
  {
   "cell_type": "code",
   "execution_count": 26,
   "metadata": {},
   "outputs": [],
   "source": [
    "# 80% of producers matched by finding producer names from other datasets and custom list in cleaning_functions.py\n",
    "# 2741 producers matched of total 14266\n",
    "df_wine_com['producer_clean'] = df_wine_com['name'].apply(lambda x: cf.extract_string(x, all_producers))"
   ]
  },
  {
   "cell_type": "code",
   "execution_count": 27,
   "metadata": {},
   "outputs": [
    {
     "data": {
      "text/plain": [
       "producer_clean\n",
       "review          2741\n",
       "Louis Latour      80\n",
       "Sine Qua Non      55\n",
       "Chanson           35\n",
       "Guigal            33\n",
       "Name: count, dtype: int64"
      ]
     },
     "execution_count": 27,
     "metadata": {},
     "output_type": "execute_result"
    }
   ],
   "source": [
    "check_wine = df_wine_com[df_wine_com['producer_clean'] == 'review']\n",
    "check_wine.shape\n",
    "df_wine_com['producer_clean'].value_counts().head()"
   ]
  },
  {
   "cell_type": "code",
   "execution_count": 28,
   "metadata": {},
   "outputs": [],
   "source": [
    "# test = 'Wine De LA Abbona'\n",
    "# test1 = \"Wine De LA Annabella\"\n",
    "# test2 = '1849 wine wine'\n",
    "# test3 = 'Aj Adam D Hofberg'\n",
    "# test4 = 'Ydooker Gigglepot'\n",
    "# test5 = 'Mollydooker Blue Eyed Boy Shiraz 2020'\n",
    "# test6 = 'Reira Dona Antonia 10 Year Tawny Port'\n",
    "# test7 = 'Tamarack Cellars Firehouse Red 2019'\n",
    "# test8 = 'Domaine De La Charbonniere Chateauneufdupape Mourre Des Perdrix 2016'\n",
    "# extract_string(test8, all_producers)"
   ]
  },
  {
   "cell_type": "code",
   "execution_count": 29,
   "metadata": {},
   "outputs": [],
   "source": [
    "# STEP 2 - Isolate part before grape names in column 'name' import list of grape varieties.\n",
    "# This removes grape and year from X leaving X for review. X producers remain that have not be captured by first 2 steps. \n",
    "grape_list_long = pd.read_csv('../data/grape_varieties.csv')\n",
    "grape_list_long.drop(columns = ['Unnamed: 0'], inplace = True)\n",
    "varietal_set_long = set(grape_list_long['Variety'].dropna().apply(lambda x: cf.uniform_strings(x).strip().lower()))"
   ]
  },
  {
   "cell_type": "code",
   "execution_count": 30,
   "metadata": {},
   "outputs": [],
   "source": [
    "# test = 'Chardonnay Vinny  oz Mc Vinard Malbec  2002'\n",
    "# test1 = 'Vinny Mc Vinard Malbec Chardonnay Cats 2002'\n",
    "# test2 = 'Vinny Mc Vinard don Don 2002'\n",
    "# test3 = 'Vinny Mc Vinard Pinot Noir 2002'\n",
    "# test4 = 'Chardon Don Vineyard Chardonnay 2020'\n",
    "# test5 = 'Aj Adam Hofberg Reserve Riesling Trocken 2019' # ISSUE HERE WITH {GRAPE}{OTHER-STRING}{YEAR}\n",
    "# test6 = 'Aj Adam Hofberg Reserve Riesling 2020'\n",
    "\n",
    "# cf.remove_varietal(test6, varietal_set_long)"
   ]
  },
  {
   "cell_type": "code",
   "execution_count": 31,
   "metadata": {},
   "outputs": [],
   "source": [
    "df_wine_com['producer_varietal_removed'] = df_wine_com['name'].apply(lambda x : cf.remove_varietal(x, varietal_set_long))"
   ]
  },
  {
   "cell_type": "code",
   "execution_count": 32,
   "metadata": {},
   "outputs": [
    {
     "data": {
      "text/html": [
       "<div>\n",
       "<style scoped>\n",
       "    .dataframe tbody tr th:only-of-type {\n",
       "        vertical-align: middle;\n",
       "    }\n",
       "\n",
       "    .dataframe tbody tr th {\n",
       "        vertical-align: top;\n",
       "    }\n",
       "\n",
       "    .dataframe thead th {\n",
       "        text-align: right;\n",
       "    }\n",
       "</style>\n",
       "<table border=\"1\" class=\"dataframe\">\n",
       "  <thead>\n",
       "    <tr style=\"text-align: right;\">\n",
       "      <th></th>\n",
       "      <th>name</th>\n",
       "      <th>price</th>\n",
       "      <th>rating</th>\n",
       "      <th>rating_qty</th>\n",
       "      <th>countrys</th>\n",
       "      <th>abv</th>\n",
       "      <th>reviewed_by</th>\n",
       "      <th>vintage</th>\n",
       "      <th>wine_variety</th>\n",
       "      <th>region</th>\n",
       "      <th>country</th>\n",
       "      <th>grape_variety</th>\n",
       "      <th>producer_clean</th>\n",
       "      <th>producer_varietal_removed</th>\n",
       "    </tr>\n",
       "  </thead>\n",
       "  <tbody>\n",
       "    <tr>\n",
       "      <th>13</th>\n",
       "      <td>12 Linajes Crianza 2014</td>\n",
       "      <td>31.99</td>\n",
       "      <td>3.9</td>\n",
       "      <td>17</td>\n",
       "      <td>Tempranillo from Ribera del Duero, Spain</td>\n",
       "      <td>14.5</td>\n",
       "      <td>WE</td>\n",
       "      <td>2014</td>\n",
       "      <td>red</td>\n",
       "      <td>Ribera del Duero</td>\n",
       "      <td>Spain</td>\n",
       "      <td>Tempranillo</td>\n",
       "      <td>12 Linajes</td>\n",
       "      <td>review</td>\n",
       "    </tr>\n",
       "    <tr>\n",
       "      <th>35</th>\n",
       "      <td>19 Crimes The Warden 2018</td>\n",
       "      <td>20.99</td>\n",
       "      <td>3.7</td>\n",
       "      <td>12</td>\n",
       "      <td>Syrah/Shiraz from South East Australia, Australia</td>\n",
       "      <td>0.0</td>\n",
       "      <td>0</td>\n",
       "      <td>2018</td>\n",
       "      <td>red</td>\n",
       "      <td>South East Australia</td>\n",
       "      <td>Australia</td>\n",
       "      <td>Syrah/Shiraz</td>\n",
       "      <td>19 Crimes</td>\n",
       "      <td>review</td>\n",
       "    </tr>\n",
       "    <tr>\n",
       "      <th>36</th>\n",
       "      <td>19 Crimes Hard Chard 2021</td>\n",
       "      <td>20.99</td>\n",
       "      <td>3.0</td>\n",
       "      <td>13</td>\n",
       "      <td>Chardonnay from Australia</td>\n",
       "      <td>14.0</td>\n",
       "      <td>0</td>\n",
       "      <td>2021</td>\n",
       "      <td>white</td>\n",
       "      <td>unknown</td>\n",
       "      <td>Australia</td>\n",
       "      <td>Chardonnay</td>\n",
       "      <td>19 Crimes</td>\n",
       "      <td>review</td>\n",
       "    </tr>\n",
       "    <tr>\n",
       "      <th>37</th>\n",
       "      <td>19 Crimes Marthas Chard 2020</td>\n",
       "      <td>13.99</td>\n",
       "      <td>3.8</td>\n",
       "      <td>24</td>\n",
       "      <td>Chardonnay from California</td>\n",
       "      <td>13.8</td>\n",
       "      <td>0</td>\n",
       "      <td>2020</td>\n",
       "      <td>white</td>\n",
       "      <td>California</td>\n",
       "      <td>United States</td>\n",
       "      <td>Chardonnay</td>\n",
       "      <td>19 Crimes</td>\n",
       "      <td>review</td>\n",
       "    </tr>\n",
       "    <tr>\n",
       "      <th>38</th>\n",
       "      <td>19 Crimes The Uprising 2020</td>\n",
       "      <td>11.99</td>\n",
       "      <td>4.1</td>\n",
       "      <td>41</td>\n",
       "      <td>Other Red Blends from Australia</td>\n",
       "      <td>0.0</td>\n",
       "      <td>0</td>\n",
       "      <td>2020</td>\n",
       "      <td>red</td>\n",
       "      <td>unknown</td>\n",
       "      <td>Australia</td>\n",
       "      <td>Other Red Blends</td>\n",
       "      <td>19 Crimes</td>\n",
       "      <td>review</td>\n",
       "    </tr>\n",
       "    <tr>\n",
       "      <th>...</th>\n",
       "      <td>...</td>\n",
       "      <td>...</td>\n",
       "      <td>...</td>\n",
       "      <td>...</td>\n",
       "      <td>...</td>\n",
       "      <td>...</td>\n",
       "      <td>...</td>\n",
       "      <td>...</td>\n",
       "      <td>...</td>\n",
       "      <td>...</td>\n",
       "      <td>...</td>\n",
       "      <td>...</td>\n",
       "      <td>...</td>\n",
       "      <td>...</td>\n",
       "    </tr>\n",
       "    <tr>\n",
       "      <th>15242</th>\n",
       "      <td>Viticcio Chianti Classico 2018</td>\n",
       "      <td>21.99</td>\n",
       "      <td>0.0</td>\n",
       "      <td>0</td>\n",
       "      <td>Sangiovese from Chianti Classico, Chianti, Tus...</td>\n",
       "      <td>14.0</td>\n",
       "      <td>0</td>\n",
       "      <td>2018</td>\n",
       "      <td>red</td>\n",
       "      <td>Chianti Classico</td>\n",
       "      <td>Italy</td>\n",
       "      <td>Sangiovese</td>\n",
       "      <td>Viticcio</td>\n",
       "      <td>review</td>\n",
       "    </tr>\n",
       "    <tr>\n",
       "      <th>15244</th>\n",
       "      <td>Vivaltus 2016</td>\n",
       "      <td>99.99</td>\n",
       "      <td>0.0</td>\n",
       "      <td>0</td>\n",
       "      <td>Tempranillo from Ribera del Duero, Spain</td>\n",
       "      <td>0.0</td>\n",
       "      <td>D, RP</td>\n",
       "      <td>2016</td>\n",
       "      <td>red</td>\n",
       "      <td>Ribera del Duero</td>\n",
       "      <td>Spain</td>\n",
       "      <td>Tempranillo</td>\n",
       "      <td>Vivaltus</td>\n",
       "      <td>review</td>\n",
       "    </tr>\n",
       "    <tr>\n",
       "      <th>15246</th>\n",
       "      <td>Vivaltus La Fleur Vivaltus 2016</td>\n",
       "      <td>46.99</td>\n",
       "      <td>0.0</td>\n",
       "      <td>0</td>\n",
       "      <td>Tempranillo from Ribera del Duero, Spain</td>\n",
       "      <td>14.5</td>\n",
       "      <td>RP</td>\n",
       "      <td>2016</td>\n",
       "      <td>red</td>\n",
       "      <td>Ribera del Duero</td>\n",
       "      <td>Spain</td>\n",
       "      <td>Tempranillo</td>\n",
       "      <td>Vivaltus</td>\n",
       "      <td>review</td>\n",
       "    </tr>\n",
       "    <tr>\n",
       "      <th>15247</th>\n",
       "      <td>Vivanco Rioja Blanco 2019</td>\n",
       "      <td>14.99</td>\n",
       "      <td>3.8</td>\n",
       "      <td>6</td>\n",
       "      <td>Other White Blends from Rioja, Spain</td>\n",
       "      <td>13.0</td>\n",
       "      <td>0</td>\n",
       "      <td>2019</td>\n",
       "      <td>white</td>\n",
       "      <td>Rioja</td>\n",
       "      <td>Spain</td>\n",
       "      <td>Other White Blends</td>\n",
       "      <td>Vivanco</td>\n",
       "      <td>review</td>\n",
       "    </tr>\n",
       "    <tr>\n",
       "      <th>15248</th>\n",
       "      <td>Vivanco Reserva Rioja Seleccion De Familia 2014</td>\n",
       "      <td>29.99</td>\n",
       "      <td>3.8</td>\n",
       "      <td>13</td>\n",
       "      <td>Tempranillo from Rioja, Spain</td>\n",
       "      <td>14.5</td>\n",
       "      <td>0</td>\n",
       "      <td>2014</td>\n",
       "      <td>red</td>\n",
       "      <td>Rioja</td>\n",
       "      <td>Spain</td>\n",
       "      <td>Tempranillo</td>\n",
       "      <td>Vivanco</td>\n",
       "      <td>review</td>\n",
       "    </tr>\n",
       "  </tbody>\n",
       "</table>\n",
       "<p>5779 rows × 14 columns</p>\n",
       "</div>"
      ],
      "text/plain": [
       "                                                  name  price  rating  \\\n",
       "13                             12 Linajes Crianza 2014  31.99     3.9   \n",
       "35                           19 Crimes The Warden 2018  20.99     3.7   \n",
       "36                           19 Crimes Hard Chard 2021  20.99     3.0   \n",
       "37                        19 Crimes Marthas Chard 2020  13.99     3.8   \n",
       "38                         19 Crimes The Uprising 2020  11.99     4.1   \n",
       "...                                                ...    ...     ...   \n",
       "15242                   Viticcio Chianti Classico 2018  21.99     0.0   \n",
       "15244                                    Vivaltus 2016  99.99     0.0   \n",
       "15246                  Vivaltus La Fleur Vivaltus 2016  46.99     0.0   \n",
       "15247                        Vivanco Rioja Blanco 2019  14.99     3.8   \n",
       "15248  Vivanco Reserva Rioja Seleccion De Familia 2014  29.99     3.8   \n",
       "\n",
       "       rating_qty                                           countrys   abv  \\\n",
       "13             17           Tempranillo from Ribera del Duero, Spain  14.5   \n",
       "35             12  Syrah/Shiraz from South East Australia, Australia   0.0   \n",
       "36             13                          Chardonnay from Australia  14.0   \n",
       "37             24                         Chardonnay from California  13.8   \n",
       "38             41                    Other Red Blends from Australia   0.0   \n",
       "...           ...                                                ...   ...   \n",
       "15242           0  Sangiovese from Chianti Classico, Chianti, Tus...  14.0   \n",
       "15244           0           Tempranillo from Ribera del Duero, Spain   0.0   \n",
       "15246           0           Tempranillo from Ribera del Duero, Spain  14.5   \n",
       "15247           6               Other White Blends from Rioja, Spain  13.0   \n",
       "15248          13                      Tempranillo from Rioja, Spain  14.5   \n",
       "\n",
       "      reviewed_by vintage wine_variety                region        country  \\\n",
       "13             WE    2014          red      Ribera del Duero          Spain   \n",
       "35              0    2018          red  South East Australia      Australia   \n",
       "36              0    2021        white               unknown      Australia   \n",
       "37              0    2020        white            California  United States   \n",
       "38              0    2020          red               unknown      Australia   \n",
       "...           ...     ...          ...                   ...            ...   \n",
       "15242           0    2018          red      Chianti Classico          Italy   \n",
       "15244       D, RP    2016          red      Ribera del Duero          Spain   \n",
       "15246          RP    2016          red      Ribera del Duero          Spain   \n",
       "15247           0    2019        white                 Rioja          Spain   \n",
       "15248           0    2014          red                 Rioja          Spain   \n",
       "\n",
       "            grape_variety producer_clean producer_varietal_removed  \n",
       "13            Tempranillo     12 Linajes                    review  \n",
       "35           Syrah/Shiraz      19 Crimes                    review  \n",
       "36             Chardonnay      19 Crimes                    review  \n",
       "37             Chardonnay      19 Crimes                    review  \n",
       "38       Other Red Blends      19 Crimes                    review  \n",
       "...                   ...            ...                       ...  \n",
       "15242          Sangiovese       Viticcio                    review  \n",
       "15244         Tempranillo       Vivaltus                    review  \n",
       "15246         Tempranillo       Vivaltus                    review  \n",
       "15247  Other White Blends        Vivanco                    review  \n",
       "15248         Tempranillo        Vivanco                    review  \n",
       "\n",
       "[5779 rows x 14 columns]"
      ]
     },
     "execution_count": 32,
     "metadata": {},
     "output_type": "execute_result"
    }
   ],
   "source": [
    "df_wine_com[(df_wine_com['producer_varietal_removed'] == 'review')]"
   ]
  },
  {
   "cell_type": "code",
   "execution_count": 33,
   "metadata": {},
   "outputs": [],
   "source": [
    "df_wine_com.loc[df_wine_com['abv'] == 0, 'abv'] = np.nan"
   ]
  },
  {
   "cell_type": "code",
   "execution_count": 34,
   "metadata": {},
   "outputs": [
    {
     "data": {
      "text/plain": [
       "(1431, 14)"
      ]
     },
     "execution_count": 34,
     "metadata": {},
     "output_type": "execute_result"
    }
   ],
   "source": [
    "#2047 producers remain that have not be captured by first 2 steps. \n",
    "df_wine_com[(df_wine_com['producer_varietal_removed'] == 'review') & (df_wine_com['producer_clean'] == 'review')].shape"
   ]
  },
  {
   "cell_type": "code",
   "execution_count": 35,
   "metadata": {},
   "outputs": [],
   "source": [
    "df_wine_com['producer_dirty'] = df_wine_com['name'].apply(cf.get_dirty_producer)"
   ]
  },
  {
   "cell_type": "code",
   "execution_count": 36,
   "metadata": {},
   "outputs": [],
   "source": [
    "# # Done iteratively to add to custom producer list in cleaning_functions\n",
    "# for i in np.sort(df_wine_com['producer_dirty'].unique()):\n",
    "#     print(i)"
   ]
  },
  {
   "cell_type": "code",
   "execution_count": 37,
   "metadata": {},
   "outputs": [],
   "source": [
    "# # Check --> (6405,)\n",
    "# df_wine_com['producer_dirty'].unique().shape"
   ]
  },
  {
   "cell_type": "code",
   "execution_count": 38,
   "metadata": {},
   "outputs": [],
   "source": [
    "shorterned_df = df_wine_com[(df_wine_com['producer_clean'] == 'review') &(df_wine_com['producer_varietal_removed'] == 'review')]"
   ]
  },
  {
   "cell_type": "code",
   "execution_count": 39,
   "metadata": {},
   "outputs": [],
   "source": [
    "all_remaining_producers =  shorterned_df['producer_dirty'].value_counts().index\n",
    "all_remaining_producers = all_remaining_producers.sort_values()"
   ]
  },
  {
   "cell_type": "code",
   "execution_count": 40,
   "metadata": {},
   "outputs": [
    {
     "data": {
      "text/plain": [
       "count    14266.000000\n",
       "mean        10.439577\n",
       "std         49.378628\n",
       "min          0.000000\n",
       "25%          0.000000\n",
       "50%          0.000000\n",
       "75%          6.000000\n",
       "max       1829.000000\n",
       "Name: rating_qty, dtype: float64"
      ]
     },
     "execution_count": 40,
     "metadata": {},
     "output_type": "execute_result"
    }
   ],
   "source": [
    "# No minimum number of ratings set for this scrape. \n",
    "df_wine_com['rating_qty'].describe()"
   ]
  },
  {
   "cell_type": "code",
   "execution_count": 41,
   "metadata": {},
   "outputs": [],
   "source": [
    "df_wine_com['combined_methods_producer'] = df_wine_com.apply(cf.combine_methods, axis = 1)"
   ]
  },
  {
   "cell_type": "code",
   "execution_count": 42,
   "metadata": {},
   "outputs": [
    {
     "data": {
      "text/plain": [
       "combined_methods_producer\n",
       "Louis Latour       80\n",
       "Sine Qua Non       55\n",
       "Chanson            35\n",
       "Guigal             33\n",
       "Louis Jadot        33\n",
       "                   ..\n",
       "Abbott Claim        1\n",
       "Fina                1\n",
       "Vina Callejuela     1\n",
       "Vina Ijalba         1\n",
       "Vinas Del Cenit     1\n",
       "Name: count, Length: 4432, dtype: int64"
      ]
     },
     "execution_count": 42,
     "metadata": {},
     "output_type": "execute_result"
    }
   ],
   "source": [
    "df_wine_com['combined_methods_producer'].value_counts()"
   ]
  },
  {
   "cell_type": "code",
   "execution_count": 43,
   "metadata": {},
   "outputs": [],
   "source": [
    "df_wine_com['producer'] = df_wine_com['combined_methods_producer']"
   ]
  },
  {
   "cell_type": "code",
   "execution_count": 44,
   "metadata": {},
   "outputs": [
    {
     "data": {
      "text/html": [
       "<div>\n",
       "<style scoped>\n",
       "    .dataframe tbody tr th:only-of-type {\n",
       "        vertical-align: middle;\n",
       "    }\n",
       "\n",
       "    .dataframe tbody tr th {\n",
       "        vertical-align: top;\n",
       "    }\n",
       "\n",
       "    .dataframe thead th {\n",
       "        text-align: right;\n",
       "    }\n",
       "</style>\n",
       "<table border=\"1\" class=\"dataframe\">\n",
       "  <thead>\n",
       "    <tr style=\"text-align: right;\">\n",
       "      <th></th>\n",
       "      <th>name</th>\n",
       "      <th>price</th>\n",
       "      <th>rating</th>\n",
       "      <th>rating_qty</th>\n",
       "      <th>countrys</th>\n",
       "      <th>abv</th>\n",
       "      <th>reviewed_by</th>\n",
       "      <th>vintage</th>\n",
       "      <th>wine_variety</th>\n",
       "      <th>region</th>\n",
       "      <th>country</th>\n",
       "      <th>grape_variety</th>\n",
       "      <th>producer_clean</th>\n",
       "      <th>producer_varietal_removed</th>\n",
       "      <th>producer_dirty</th>\n",
       "      <th>combined_methods_producer</th>\n",
       "      <th>producer</th>\n",
       "    </tr>\n",
       "  </thead>\n",
       "  <tbody>\n",
       "    <tr>\n",
       "      <th>3810</th>\n",
       "      <td>Chateau Petrus 2016</td>\n",
       "      <td>9999.99</td>\n",
       "      <td>4.7</td>\n",
       "      <td>11</td>\n",
       "      <td>Bordeaux Red Blends from Pomerol, Bordeaux, Fr...</td>\n",
       "      <td>14.5</td>\n",
       "      <td>JS, RP, D, JD, WE, WS</td>\n",
       "      <td>2016</td>\n",
       "      <td>red</td>\n",
       "      <td>Pomerol</td>\n",
       "      <td>France</td>\n",
       "      <td>Bordeaux Red Blends</td>\n",
       "      <td>Petrus</td>\n",
       "      <td>review</td>\n",
       "      <td>Chateau Petrus</td>\n",
       "      <td>Petrus</td>\n",
       "      <td>Petrus</td>\n",
       "    </tr>\n",
       "  </tbody>\n",
       "</table>\n",
       "</div>"
      ],
      "text/plain": [
       "                     name    price  rating  rating_qty  \\\n",
       "3810  Chateau Petrus 2016  9999.99     4.7          11   \n",
       "\n",
       "                                               countrys   abv  \\\n",
       "3810  Bordeaux Red Blends from Pomerol, Bordeaux, Fr...  14.5   \n",
       "\n",
       "                reviewed_by vintage wine_variety   region country  \\\n",
       "3810  JS, RP, D, JD, WE, WS    2016          red  Pomerol  France   \n",
       "\n",
       "            grape_variety producer_clean producer_varietal_removed  \\\n",
       "3810  Bordeaux Red Blends         Petrus                    review   \n",
       "\n",
       "      producer_dirty combined_methods_producer producer  \n",
       "3810  Chateau Petrus                    Petrus   Petrus  "
      ]
     },
     "execution_count": 44,
     "metadata": {},
     "output_type": "execute_result"
    }
   ],
   "source": [
    "# Investgate wine of price 9999.99\n",
    "df_wine_com[df_wine_com['price'] == 9999.99]\n",
    "# This is a collectable highly prized wine producer Chateau Petrus, explaining the high price"
   ]
  },
  {
   "cell_type": "code",
   "execution_count": 45,
   "metadata": {},
   "outputs": [],
   "source": [
    "# Convert price to GBP £ using https://www.xe.com/currencytables/ at exchange rate date of scrape. \n",
    "df_wine_com['price'] = round((df_wine_com['price'] * 0.8214659183132513),2)"
   ]
  },
  {
   "cell_type": "code",
   "execution_count": 46,
   "metadata": {},
   "outputs": [],
   "source": [
    "df_wine_com['from_vivino'] = False\n",
    "df_wine_com.drop(columns=['producer_clean', 'producer_varietal_removed',\n",
    "                            'producer_dirty', 'combined_methods_producer','countrys' ], inplace=True)"
   ]
  },
  {
   "cell_type": "markdown",
   "metadata": {},
   "source": [
    "# Cleaning Vivino 1 Dataset"
   ]
  },
  {
   "cell_type": "code",
   "execution_count": 47,
   "metadata": {},
   "outputs": [
    {
     "data": {
      "text/html": [
       "<div>\n",
       "<style scoped>\n",
       "    .dataframe tbody tr th:only-of-type {\n",
       "        vertical-align: middle;\n",
       "    }\n",
       "\n",
       "    .dataframe tbody tr th {\n",
       "        vertical-align: top;\n",
       "    }\n",
       "\n",
       "    .dataframe thead th {\n",
       "        text-align: right;\n",
       "    }\n",
       "</style>\n",
       "<table border=\"1\" class=\"dataframe\">\n",
       "  <thead>\n",
       "    <tr style=\"text-align: right;\">\n",
       "      <th></th>\n",
       "      <th>name</th>\n",
       "      <th>country</th>\n",
       "      <th>region</th>\n",
       "      <th>winery</th>\n",
       "      <th>rating</th>\n",
       "      <th>numberofratings</th>\n",
       "      <th>price</th>\n",
       "      <th>year</th>\n",
       "      <th>category</th>\n",
       "    </tr>\n",
       "  </thead>\n",
       "  <tbody>\n",
       "    <tr>\n",
       "      <th>0</th>\n",
       "      <td>Pomerol 2011</td>\n",
       "      <td>France</td>\n",
       "      <td>Pomerol</td>\n",
       "      <td>Château La Providence</td>\n",
       "      <td>4.2</td>\n",
       "      <td>100</td>\n",
       "      <td>95.00</td>\n",
       "      <td>2011</td>\n",
       "      <td>red</td>\n",
       "    </tr>\n",
       "    <tr>\n",
       "      <th>1</th>\n",
       "      <td>Lirac 2017</td>\n",
       "      <td>France</td>\n",
       "      <td>Lirac</td>\n",
       "      <td>Château Mont-Redon</td>\n",
       "      <td>4.3</td>\n",
       "      <td>100</td>\n",
       "      <td>15.50</td>\n",
       "      <td>2017</td>\n",
       "      <td>red</td>\n",
       "    </tr>\n",
       "    <tr>\n",
       "      <th>2</th>\n",
       "      <td>Erta e China Rosso di Toscana 2015</td>\n",
       "      <td>Italy</td>\n",
       "      <td>Toscana</td>\n",
       "      <td>Renzo Masi</td>\n",
       "      <td>3.9</td>\n",
       "      <td>100</td>\n",
       "      <td>7.45</td>\n",
       "      <td>2015</td>\n",
       "      <td>red</td>\n",
       "    </tr>\n",
       "    <tr>\n",
       "      <th>3</th>\n",
       "      <td>Bardolino 2019</td>\n",
       "      <td>Italy</td>\n",
       "      <td>Bardolino</td>\n",
       "      <td>Cavalchina</td>\n",
       "      <td>3.5</td>\n",
       "      <td>100</td>\n",
       "      <td>8.72</td>\n",
       "      <td>2019</td>\n",
       "      <td>red</td>\n",
       "    </tr>\n",
       "    <tr>\n",
       "      <th>4</th>\n",
       "      <td>Ried Scheibner Pinot Noir 2016</td>\n",
       "      <td>Austria</td>\n",
       "      <td>Carnuntum</td>\n",
       "      <td>Markowitsch</td>\n",
       "      <td>3.9</td>\n",
       "      <td>100</td>\n",
       "      <td>29.15</td>\n",
       "      <td>2016</td>\n",
       "      <td>red</td>\n",
       "    </tr>\n",
       "  </tbody>\n",
       "</table>\n",
       "</div>"
      ],
      "text/plain": [
       "                                 name  country     region  \\\n",
       "0                        Pomerol 2011   France    Pomerol   \n",
       "1                          Lirac 2017   France      Lirac   \n",
       "2  Erta e China Rosso di Toscana 2015    Italy    Toscana   \n",
       "3                      Bardolino 2019    Italy  Bardolino   \n",
       "4      Ried Scheibner Pinot Noir 2016  Austria  Carnuntum   \n",
       "\n",
       "                  winery  rating  numberofratings  price  year category  \n",
       "0  Château La Providence     4.2              100  95.00  2011      red  \n",
       "1     Château Mont-Redon     4.3              100  15.50  2017      red  \n",
       "2             Renzo Masi     3.9              100   7.45  2015      red  \n",
       "3             Cavalchina     3.5              100   8.72  2019      red  \n",
       "4            Markowitsch     3.9              100  29.15  2016      red  "
      ]
     },
     "execution_count": 47,
     "metadata": {},
     "output_type": "execute_result"
    }
   ],
   "source": [
    "df_viv_1.drop_duplicates(inplace=True)\n",
    "df_viv_1.head()\n"
   ]
  },
  {
   "cell_type": "code",
   "execution_count": 48,
   "metadata": {},
   "outputs": [
    {
     "data": {
      "text/plain": [
       "(34664, 9)"
      ]
     },
     "execution_count": 48,
     "metadata": {},
     "output_type": "execute_result"
    }
   ],
   "source": [
    "df_viv_1.shape"
   ]
  },
  {
   "cell_type": "code",
   "execution_count": 49,
   "metadata": {},
   "outputs": [],
   "source": [
    "df_viv_1.rename(columns = {'winery' : 'producer', \n",
    "                           'numberofratings' : 'rating_qty', \n",
    "                           'category' : 'wine_variety',\n",
    "                           'year' : 'vintage'\n",
    "                           }, inplace = True)"
   ]
  },
  {
   "cell_type": "code",
   "execution_count": 50,
   "metadata": {},
   "outputs": [],
   "source": [
    "# Remove accents from columns.\n",
    "df_viv_1['name'] = df_viv_1['name'].apply(cf.uniform_strings)\n",
    "df_viv_1['producer'] = df_viv_1['producer'].apply(cf.uniform_strings)\n",
    "df_viv_1['region'] = df_viv_1['region'].apply(cf.uniform_strings)\n",
    "df_viv_1['country'] = df_viv_1['country'].apply(cf.uniform_strings)"
   ]
  },
  {
   "cell_type": "code",
   "execution_count": 51,
   "metadata": {},
   "outputs": [],
   "source": [
    "df_viv_1.loc[df_viv_1['producer'] == 'Domaine De La', 'producer'] = 'Domaine De La Rouge'"
   ]
  },
  {
   "cell_type": "code",
   "execution_count": 52,
   "metadata": {},
   "outputs": [
    {
     "data": {
      "text/plain": [
       "name             object\n",
       "country          object\n",
       "region           object\n",
       "producer         object\n",
       "rating          float64\n",
       "rating_qty        int64\n",
       "price           float64\n",
       "vintage          object\n",
       "wine_variety     object\n",
       "dtype: object"
      ]
     },
     "execution_count": 52,
     "metadata": {},
     "output_type": "execute_result"
    }
   ],
   "source": [
    "df_viv_1.dtypes"
   ]
  },
  {
   "cell_type": "code",
   "execution_count": 53,
   "metadata": {},
   "outputs": [],
   "source": [
    "# Make name formatting structure the same as wine_com dataframe.\n",
    "df_viv_1['name'] = df_viv_1['producer'] + ' ' + df_viv_1['name']"
   ]
  },
  {
   "cell_type": "code",
   "execution_count": 54,
   "metadata": {},
   "outputs": [
    {
     "data": {
      "text/plain": [
       "region\n",
       "Rioja                        1300\n",
       "Toscana                       996\n",
       "Stellenbosch                  928\n",
       "Saintemilion Grand Cru        828\n",
       "Barolo                        700\n",
       "                             ... \n",
       "San Severo                      4\n",
       "Barco Reale Di Carmignano       4\n",
       "Southeastern Anatolia           4\n",
       "Heathcote                       4\n",
       "San Antonio Valley              4\n",
       "Name: count, Length: 624, dtype: int64"
      ]
     },
     "execution_count": 54,
     "metadata": {},
     "output_type": "execute_result"
    }
   ],
   "source": [
    "df_viv_1['region'].value_counts()"
   ]
  },
  {
   "cell_type": "code",
   "execution_count": 55,
   "metadata": {},
   "outputs": [
    {
     "data": {
      "text/plain": [
       "country\n",
       "Italy            10600\n",
       "France            9024\n",
       "Spain             4568\n",
       "South Africa      2000\n",
       "United States     1496\n",
       "Chile             1304\n",
       "Germany            992\n",
       "Australia          984\n",
       "Argentina          984\n",
       "Portugal           920\n",
       "Austria            880\n",
       "New Zealand        252\n",
       "Brazil             160\n",
       "Romania             92\n",
       "Lebanon             60\n",
       "Israel              52\n",
       "Greece              52\n",
       "Switzerland         48\n",
       "Hungary             36\n",
       "Slovenia            32\n",
       "Moldova             32\n",
       "Turkey              24\n",
       "Georgia             20\n",
       "Uruguay             16\n",
       "Canada               8\n",
       "Croatia              8\n",
       "Bulgaria             8\n",
       "Mexico               4\n",
       "Slovakia             4\n",
       "China                4\n",
       "Name: count, dtype: int64"
      ]
     },
     "execution_count": 55,
     "metadata": {},
     "output_type": "execute_result"
    }
   ],
   "source": [
    "df_viv_1['country'].value_counts()"
   ]
  },
  {
   "cell_type": "code",
   "execution_count": 56,
   "metadata": {},
   "outputs": [],
   "source": [
    "df_viv_1.loc[df_viv_1['vintage'] == 'N.V.', 'vintage'] = np.nan"
   ]
  },
  {
   "cell_type": "code",
   "execution_count": 57,
   "metadata": {},
   "outputs": [
    {
     "data": {
      "text/plain": [
       "count    34664.000000\n",
       "mean         3.890342\n",
       "std          0.308534\n",
       "min          2.500000\n",
       "25%          3.700000\n",
       "50%          3.900000\n",
       "75%          4.100000\n",
       "max          4.800000\n",
       "Name: rating, dtype: float64"
      ]
     },
     "execution_count": 57,
     "metadata": {},
     "output_type": "execute_result"
    }
   ],
   "source": [
    "df_viv_1['rating'].describe()"
   ]
  },
  {
   "cell_type": "code",
   "execution_count": 58,
   "metadata": {},
   "outputs": [
    {
     "data": {
      "text/plain": [
       "count    34664.000000\n",
       "mean       415.287445\n",
       "std        899.687438\n",
       "min         25.000000\n",
       "25%         66.000000\n",
       "50%        157.000000\n",
       "75%        401.000000\n",
       "max      20293.000000\n",
       "Name: rating_qty, dtype: float64"
      ]
     },
     "execution_count": 58,
     "metadata": {},
     "output_type": "execute_result"
    }
   ],
   "source": [
    "# Minimum number of ratings 25 for this scrape. \n",
    "df_viv_1['rating_qty'].describe()"
   ]
  },
  {
   "cell_type": "code",
   "execution_count": 59,
   "metadata": {},
   "outputs": [
    {
     "data": {
      "text/plain": [
       "count    34664.000000\n",
       "mean        42.471993\n",
       "std         92.150517\n",
       "min          3.850000\n",
       "25%         11.590000\n",
       "50%         19.750000\n",
       "75%         41.400000\n",
       "max       3700.660000\n",
       "Name: price, dtype: float64"
      ]
     },
     "execution_count": 59,
     "metadata": {},
     "output_type": "execute_result"
    }
   ],
   "source": [
    "# Convert price to USD using https://www.xe.com/currencytables/ at date of scrape.\n",
    "df_viv_1['price'] = round(df_viv_1['price'] * 1.0849853073421676, 2)\n",
    "df_viv_1['price'].describe()"
   ]
  },
  {
   "cell_type": "code",
   "execution_count": 60,
   "metadata": {},
   "outputs": [],
   "source": [
    "df_viv_1['abv'] = np.nan\n",
    "df_viv_1['reviewed_by'] = 'unknown'\n",
    "df_viv_1['from_vivino'] = True"
   ]
  },
  {
   "cell_type": "code",
   "execution_count": 61,
   "metadata": {
    "tags": [
     "REVISIT - MAY AFFECT LATER DATA!"
    ]
   },
   "outputs": [],
   "source": [
    "# Get grape variety - iteratively added grape varieties to find those missed.\n",
    "grape_varieties =(list(df_wine_com['grape_variety'].unique()) + ['red blend', 'shiraz', 'Pomerol', 'Lirac', 'Rosso di Toscana', \n",
    "                                                                 'Bardolino', 'Gigondas', 'Chianti', 'Monastrell', 'Sancerre Rouge',\n",
    "                                                                 'Saint-Joseph', 'Fronsac','Roma Rosso','Garnacha','Barolo',\n",
    "                                                                 'Côte-Rôtie','Madiran','Ruché','Tempranillo','Margaux', 'syrah', \n",
    "                                                                 'blend', 'Rioja', 'Super Tuscan', 'Chianti', 'pinot nero',\n",
    "                                                                 'Carménère', 'Mencía', 'Mourvèdre', \"Blaufränkisch\", \"Corvina\",\n",
    "                                                                 \"Rondinella\", \"Molinara\", \"Sangiovese\", 'baga', \n",
    "                                                                 \"Corvina\", \"Rondinella\", \"Molinara\", \"Trincadeira\",  \"Prieto Picudo\"])\n",
    "grape_varieties = [cf.uniform_strings(i) for i in grape_varieties]\n",
    "\n",
    "\n",
    "df_viv_1['grape_variety'] = df_viv_1['name'].apply(lambda x: cf.extract_varietal(x, grape_varieties))"
   ]
  },
  {
   "cell_type": "code",
   "execution_count": 62,
   "metadata": {},
   "outputs": [
    {
     "data": {
      "text/plain": [
       "grape_variety\n",
       "unknown               18424\n",
       "Cabernet Sauvignon     2224\n",
       "Merlot                 1100\n",
       "Pinot Noir             1044\n",
       "Chianti                 912\n",
       "Shiraz                  752\n",
       "Barolo                  696\n",
       "Malbec                  648\n",
       "Rioja                   596\n",
       "Pomerol                 580\n",
       "Syrah                   564\n",
       "Tempranillo             504\n",
       "Primitivo               492\n",
       "Barbera                 480\n",
       "Margaux                 440\n",
       "Montepulciano           424\n",
       "Pinotage                320\n",
       "Nero Davola             264\n",
       "Carmenere               244\n",
       "Zinfandel               236\n",
       "Garnacha                216\n",
       "Zweigelt                204\n",
       "Blaufrankisch           196\n",
       "Red Blend               184\n",
       "Gigondas                176\n",
       "Negroamaro              164\n",
       "Grenache                164\n",
       "Rose                    156\n",
       "Lagrein                 156\n",
       "Nebbiolo                152\n",
       "Sangiovese              144\n",
       "Dolcetto                128\n",
       "Aglianico               124\n",
       "Cabernet Franc          100\n",
       "Coterotie                96\n",
       "Fronsac                  92\n",
       "Blend                    88\n",
       "Port                     84\n",
       "Pinot Nero               76\n",
       "Teroldego                76\n",
       "Bardolino                72\n",
       "Mencia                   68\n",
       "Saintjoseph              64\n",
       "Monastrell               60\n",
       "Carignan                 60\n",
       "Touriga Nacional         56\n",
       "Tannat                   52\n",
       "Corvina                  48\n",
       "Viognier                 44\n",
       "Ruche                    36\n",
       "Name: count, dtype: int64"
      ]
     },
     "execution_count": 62,
     "metadata": {},
     "output_type": "execute_result"
    }
   ],
   "source": [
    "# Review results. \n",
    "df_viv_1['grape_variety'].value_counts().head(50)"
   ]
  },
  {
   "cell_type": "code",
   "execution_count": 63,
   "metadata": {},
   "outputs": [],
   "source": [
    "# TO DO !!!>!>\n",
    "unknown_grapes = df_viv_1[df_viv_1['grape_variety'] == 'unknown']"
   ]
  },
  {
   "cell_type": "markdown",
   "metadata": {},
   "source": [
    "# Cleaning Vivino 2 Dataset"
   ]
  },
  {
   "cell_type": "code",
   "execution_count": 64,
   "metadata": {},
   "outputs": [
    {
     "name": "stdout",
     "output_type": "stream",
     "text": [
      "(2018, 9)\n"
     ]
    },
    {
     "data": {
      "text/html": [
       "<div>\n",
       "<style scoped>\n",
       "    .dataframe tbody tr th:only-of-type {\n",
       "        vertical-align: middle;\n",
       "    }\n",
       "\n",
       "    .dataframe tbody tr th {\n",
       "        vertical-align: top;\n",
       "    }\n",
       "\n",
       "    .dataframe thead th {\n",
       "        text-align: right;\n",
       "    }\n",
       "</style>\n",
       "<table border=\"1\" class=\"dataframe\">\n",
       "  <thead>\n",
       "    <tr style=\"text-align: right;\">\n",
       "      <th></th>\n",
       "      <th>winery</th>\n",
       "      <th>year</th>\n",
       "      <th>wine_id</th>\n",
       "      <th>wine</th>\n",
       "      <th>rating</th>\n",
       "      <th>num_review</th>\n",
       "      <th>price</th>\n",
       "      <th>country</th>\n",
       "      <th>region</th>\n",
       "    </tr>\n",
       "  </thead>\n",
       "  <tbody>\n",
       "    <tr>\n",
       "      <th>0</th>\n",
       "      <td>Viña Oria</td>\n",
       "      <td>2019</td>\n",
       "      <td>1812139</td>\n",
       "      <td>Garnacha 2019</td>\n",
       "      <td>3.5</td>\n",
       "      <td>327</td>\n",
       "      <td>2.50</td>\n",
       "      <td>España</td>\n",
       "      <td>Cariñena</td>\n",
       "    </tr>\n",
       "    <tr>\n",
       "      <th>1</th>\n",
       "      <td>Ayuso</td>\n",
       "      <td>2017</td>\n",
       "      <td>2084964</td>\n",
       "      <td>Abadia del Roble Tinto 2017</td>\n",
       "      <td>2.9</td>\n",
       "      <td>52</td>\n",
       "      <td>2.54</td>\n",
       "      <td>España</td>\n",
       "      <td>La Mancha</td>\n",
       "    </tr>\n",
       "    <tr>\n",
       "      <th>2</th>\n",
       "      <td>Castillo de Liria</td>\n",
       "      <td>2020</td>\n",
       "      <td>1643745</td>\n",
       "      <td>Bobal - Shiraz 2020</td>\n",
       "      <td>3.4</td>\n",
       "      <td>85</td>\n",
       "      <td>2.56</td>\n",
       "      <td>España</td>\n",
       "      <td>Valencia</td>\n",
       "    </tr>\n",
       "    <tr>\n",
       "      <th>3</th>\n",
       "      <td>Castillo de Liria</td>\n",
       "      <td>2019</td>\n",
       "      <td>1643745</td>\n",
       "      <td>Bobal - Shiraz 2019</td>\n",
       "      <td>3.6</td>\n",
       "      <td>305</td>\n",
       "      <td>2.56</td>\n",
       "      <td>España</td>\n",
       "      <td>Valencia</td>\n",
       "    </tr>\n",
       "    <tr>\n",
       "      <th>4</th>\n",
       "      <td>Finca Venta de Don Quijote</td>\n",
       "      <td>2020</td>\n",
       "      <td>7166356</td>\n",
       "      <td>Tempranillo - Syrah 2020</td>\n",
       "      <td>3.6</td>\n",
       "      <td>129</td>\n",
       "      <td>2.72</td>\n",
       "      <td>España</td>\n",
       "      <td>Castilla</td>\n",
       "    </tr>\n",
       "  </tbody>\n",
       "</table>\n",
       "</div>"
      ],
      "text/plain": [
       "                       winery  year  wine_id                         wine  \\\n",
       "0                   Viña Oria  2019  1812139                Garnacha 2019   \n",
       "1                       Ayuso  2017  2084964  Abadia del Roble Tinto 2017   \n",
       "2           Castillo de Liria  2020  1643745          Bobal - Shiraz 2020   \n",
       "3           Castillo de Liria  2019  1643745          Bobal - Shiraz 2019   \n",
       "4  Finca Venta de Don Quijote  2020  7166356     Tempranillo - Syrah 2020   \n",
       "\n",
       "   rating  num_review  price country     region  \n",
       "0     3.5         327   2.50  España   Cariñena  \n",
       "1     2.9          52   2.54  España  La Mancha  \n",
       "2     3.4          85   2.56  España   Valencia  \n",
       "3     3.6         305   2.56  España   Valencia  \n",
       "4     3.6         129   2.72  España   Castilla  "
      ]
     },
     "execution_count": 64,
     "metadata": {},
     "output_type": "execute_result"
    }
   ],
   "source": [
    "df_viv_2.drop_duplicates(inplace=True)\n",
    "print(df_viv_2.shape)\n",
    "df_viv_2.head()"
   ]
  },
  {
   "cell_type": "code",
   "execution_count": 65,
   "metadata": {},
   "outputs": [],
   "source": [
    "df_viv_2.rename(columns = {'winery' : 'producer', \n",
    "                           'num_review' : 'rating_qty', \n",
    "                           'year' : 'vintage',\n",
    "                           'wine' : 'name'\n",
    "                           }, inplace = True)"
   ]
  },
  {
   "cell_type": "code",
   "execution_count": 66,
   "metadata": {},
   "outputs": [
    {
     "name": "stdout",
     "output_type": "stream",
     "text": [
      "<class 'pandas.core.frame.DataFrame'>\n",
      "Index: 2018 entries, 0 to 2024\n",
      "Data columns (total 9 columns):\n",
      " #   Column      Non-Null Count  Dtype  \n",
      "---  ------      --------------  -----  \n",
      " 0   producer    2018 non-null   object \n",
      " 1   vintage     2018 non-null   object \n",
      " 2   wine_id     2018 non-null   int64  \n",
      " 3   name        2018 non-null   object \n",
      " 4   rating      2018 non-null   float64\n",
      " 5   rating_qty  2018 non-null   int64  \n",
      " 6   price       2018 non-null   float64\n",
      " 7   country     2018 non-null   object \n",
      " 8   region      2018 non-null   object \n",
      "dtypes: float64(2), int64(2), object(5)\n",
      "memory usage: 157.7+ KB\n"
     ]
    }
   ],
   "source": [
    "df_viv_2['name'] = df_viv_2['name'].apply(cf.uniform_strings)\n",
    "df_viv_2['producer'] = df_viv_2['producer'].apply(cf.uniform_strings)\n",
    "df_viv_2['region'] = df_viv_2['region'].apply(cf.uniform_strings)\n",
    "df_viv_2.info()"
   ]
  },
  {
   "cell_type": "code",
   "execution_count": 67,
   "metadata": {},
   "outputs": [],
   "source": [
    "df_viv_2['grape_variety'] = df_viv_2['name'].apply(cf.get_grape_2)"
   ]
  },
  {
   "cell_type": "code",
   "execution_count": 68,
   "metadata": {},
   "outputs": [],
   "source": [
    "# df_viv_2['grape_variety_2'] = df_viv_2['name'].apply(lambda x: extract_varietal(x, grape_varieties))"
   ]
  },
  {
   "cell_type": "code",
   "execution_count": 69,
   "metadata": {},
   "outputs": [],
   "source": [
    "df_viv_2['name'] = df_viv_2['producer'] + ' ' + df_viv_2['name']\n",
    "df_viv_2['name'] = df_viv_2['name'].str.replace('-', '')\n",
    "df_viv_2['region'] = df_viv_2['region'].apply(cf.uniform_strings)\n",
    "df_viv_2['country'] = 'Spain'\n",
    "df_viv_2.loc[df_viv_2['vintage'] == 'N.V.', 'vintage'] = 'unknown'"
   ]
  },
  {
   "cell_type": "code",
   "execution_count": 70,
   "metadata": {},
   "outputs": [
    {
     "data": {
      "text/plain": [
       "count    2018.000000\n",
       "mean        3.694995\n",
       "std         0.222506\n",
       "min         2.400000\n",
       "25%         3.600000\n",
       "50%         3.700000\n",
       "75%         3.800000\n",
       "max         4.400000\n",
       "Name: rating, dtype: float64"
      ]
     },
     "execution_count": 70,
     "metadata": {},
     "output_type": "execute_result"
    }
   ],
   "source": [
    "df_viv_2['rating'].describe()"
   ]
  },
  {
   "cell_type": "code",
   "execution_count": 71,
   "metadata": {},
   "outputs": [
    {
     "data": {
      "text/plain": [
       "count     2018.000000\n",
       "mean       321.930624\n",
       "std       1035.124164\n",
       "min         25.000000\n",
       "25%         49.000000\n",
       "50%        104.000000\n",
       "75%        260.750000\n",
       "max      29389.000000\n",
       "Name: rating_qty, dtype: float64"
      ]
     },
     "execution_count": 71,
     "metadata": {},
     "output_type": "execute_result"
    }
   ],
   "source": [
    "# Minimum number of ratings 25 for this scrape. Same as df_viv_1.\n",
    "df_viv_2['rating_qty'].describe()"
   ]
  },
  {
   "cell_type": "code",
   "execution_count": 72,
   "metadata": {},
   "outputs": [
    {
     "data": {
      "text/plain": [
       "count    2018.000000\n",
       "mean        9.711695\n",
       "std         2.746843\n",
       "min         2.800000\n",
       "25%         7.670000\n",
       "50%         9.915000\n",
       "75%        11.980000\n",
       "max        14.440000\n",
       "Name: price, dtype: float64"
      ]
     },
     "execution_count": 72,
     "metadata": {},
     "output_type": "execute_result"
    }
   ],
   "source": [
    "# Convert price to USD using https://www.xe.com/currencytables/ at date of scrape.\n",
    "df_viv_2['price'] = round(df_viv_2['price'] * 1.1195970296830366, 2)\n",
    "df_viv_2['price'].describe()"
   ]
  },
  {
   "cell_type": "code",
   "execution_count": 73,
   "metadata": {},
   "outputs": [],
   "source": [
    "df_viv_2['wine_variety'] = 'red'"
   ]
  },
  {
   "cell_type": "code",
   "execution_count": 74,
   "metadata": {},
   "outputs": [],
   "source": [
    "df_viv_2['abv'] = np.nan"
   ]
  },
  {
   "cell_type": "code",
   "execution_count": 75,
   "metadata": {},
   "outputs": [],
   "source": [
    "df_viv_2['reviewed_by'] = 'unknown'"
   ]
  },
  {
   "cell_type": "code",
   "execution_count": 76,
   "metadata": {},
   "outputs": [],
   "source": [
    "df_viv_2['from_vivino'] = True"
   ]
  },
  {
   "cell_type": "code",
   "execution_count": 77,
   "metadata": {},
   "outputs": [],
   "source": [
    "df_viv_2.drop(columns = 'wine_id', inplace=True)"
   ]
  },
  {
   "cell_type": "markdown",
   "metadata": {},
   "source": [
    "# Cleaning Vivino 3 Dataset"
   ]
  },
  {
   "cell_type": "code",
   "execution_count": 78,
   "metadata": {},
   "outputs": [
    {
     "name": "stdout",
     "output_type": "stream",
     "text": [
      "(10369, 8)\n"
     ]
    },
    {
     "data": {
      "text/html": [
       "<div>\n",
       "<style scoped>\n",
       "    .dataframe tbody tr th:only-of-type {\n",
       "        vertical-align: middle;\n",
       "    }\n",
       "\n",
       "    .dataframe tbody tr th {\n",
       "        vertical-align: top;\n",
       "    }\n",
       "\n",
       "    .dataframe thead th {\n",
       "        text-align: right;\n",
       "    }\n",
       "</style>\n",
       "<table border=\"1\" class=\"dataframe\">\n",
       "  <thead>\n",
       "    <tr style=\"text-align: right;\">\n",
       "      <th></th>\n",
       "      <th>wine_name</th>\n",
       "      <th>wine_year</th>\n",
       "      <th>wine_country</th>\n",
       "      <th>wine_region</th>\n",
       "      <th>winery</th>\n",
       "      <th>wine_rating</th>\n",
       "      <th>n_ratings</th>\n",
       "      <th>wine_price</th>\n",
       "    </tr>\n",
       "  </thead>\n",
       "  <tbody>\n",
       "    <tr>\n",
       "      <th>0</th>\n",
       "      <td>Merlot</td>\n",
       "      <td>2019</td>\n",
       "      <td>United States</td>\n",
       "      <td>California</td>\n",
       "      <td>Crane Lake</td>\n",
       "      <td>3.6</td>\n",
       "      <td>30</td>\n",
       "      <td>4.99</td>\n",
       "    </tr>\n",
       "    <tr>\n",
       "      <th>1</th>\n",
       "      <td>Cabernet Sauvignon</td>\n",
       "      <td>2011</td>\n",
       "      <td>United States</td>\n",
       "      <td>Columbia Valley</td>\n",
       "      <td>Hogue</td>\n",
       "      <td>3.3</td>\n",
       "      <td>76</td>\n",
       "      <td>4.95</td>\n",
       "    </tr>\n",
       "    <tr>\n",
       "      <th>2</th>\n",
       "      <td>Hot To Trot Smooth Red Blend</td>\n",
       "      <td>2013</td>\n",
       "      <td>United States</td>\n",
       "      <td>Columbia Valley</td>\n",
       "      <td>14 Hands</td>\n",
       "      <td>3.7</td>\n",
       "      <td>3917</td>\n",
       "      <td>4.99</td>\n",
       "    </tr>\n",
       "    <tr>\n",
       "      <th>3</th>\n",
       "      <td>Cabernet Sauvignon</td>\n",
       "      <td>2010</td>\n",
       "      <td>Chile</td>\n",
       "      <td>Maule Valley</td>\n",
       "      <td>Aromo</td>\n",
       "      <td>3.0</td>\n",
       "      <td>189</td>\n",
       "      <td>4.99</td>\n",
       "    </tr>\n",
       "    <tr>\n",
       "      <th>4</th>\n",
       "      <td>Loggia del Conte Chianti</td>\n",
       "      <td>2016</td>\n",
       "      <td>Italy</td>\n",
       "      <td>Chianti</td>\n",
       "      <td>Le Chiantigiane</td>\n",
       "      <td>3.3</td>\n",
       "      <td>149</td>\n",
       "      <td>4.99</td>\n",
       "    </tr>\n",
       "  </tbody>\n",
       "</table>\n",
       "</div>"
      ],
      "text/plain": [
       "                      wine_name  wine_year   wine_country      wine_region  \\\n",
       "0                        Merlot       2019  United States       California   \n",
       "1            Cabernet Sauvignon       2011  United States  Columbia Valley   \n",
       "2  Hot To Trot Smooth Red Blend       2013  United States  Columbia Valley   \n",
       "3            Cabernet Sauvignon       2010          Chile     Maule Valley   \n",
       "4      Loggia del Conte Chianti       2016          Italy          Chianti   \n",
       "\n",
       "            winery  wine_rating  n_ratings  wine_price  \n",
       "0       Crane Lake          3.6         30        4.99  \n",
       "1            Hogue          3.3         76        4.95  \n",
       "2         14 Hands          3.7       3917        4.99  \n",
       "3            Aromo          3.0        189        4.99  \n",
       "4  Le Chiantigiane          3.3        149        4.99  "
      ]
     },
     "execution_count": 78,
     "metadata": {},
     "output_type": "execute_result"
    }
   ],
   "source": [
    "df_viv_3.drop_duplicates(inplace=True)\n",
    "df_viv_3.dropna(inplace = True)\n",
    "print(df_viv_3.shape)\n",
    "df_viv_3.head()"
   ]
  },
  {
   "cell_type": "code",
   "execution_count": 79,
   "metadata": {},
   "outputs": [],
   "source": [
    "df_viv_3.rename(columns = {'wine_year' : 'vintage',\n",
    "                         'wine_country' : 'country',\n",
    "                         'n_ratings':'rating_qty',\n",
    "                         'wine_region': 'region',\n",
    "                         'winery':'producer',\n",
    "                         'wine_rating':'rating',\n",
    "                         'wine_price': 'price'\n",
    "                         }, inplace = True)"
   ]
  },
  {
   "cell_type": "code",
   "execution_count": 80,
   "metadata": {},
   "outputs": [],
   "source": [
    "df_viv_3['wine_variety'] = 'red'"
   ]
  },
  {
   "cell_type": "code",
   "execution_count": 81,
   "metadata": {},
   "outputs": [],
   "source": [
    "df_viv_3['wine_name'] = df_viv_3['wine_name'].apply(cf.uniform_strings)\n",
    "df_viv_3['country'] = df_viv_3['country'].apply(cf.uniform_strings)\n",
    "df_viv_3['region'] = df_viv_3['region'].apply(cf.uniform_strings)\n",
    "df_viv_3['producer'] = df_viv_3['producer'].apply(cf.uniform_strings)"
   ]
  },
  {
   "cell_type": "code",
   "execution_count": 82,
   "metadata": {},
   "outputs": [],
   "source": [
    "# 70% of grape types accounted for, the rest are obscure types e.g. 'tinto' or 'red'. Likely blends of various grapes. \n",
    "df_viv_3['grape_variety'] = df_viv_3['wine_name'].apply(lambda x: cf.extract_varietal(x, grape_varieties))"
   ]
  },
  {
   "cell_type": "code",
   "execution_count": 83,
   "metadata": {},
   "outputs": [
    {
     "data": {
      "text/plain": [
       "array([2019, 2011, 2013, 2010, 2016, 2009, 2017, 2015, 2018, 2007, 2020,\n",
       "       2000, 2006, 2008, 2014, 2012, 2005, 2003, 1999, 2021, 1994, 2004,\n",
       "       1984, 2001])"
      ]
     },
     "execution_count": 83,
     "metadata": {},
     "output_type": "execute_result"
    }
   ],
   "source": [
    "df_viv_3['vintage'].unique()"
   ]
  },
  {
   "cell_type": "code",
   "execution_count": 84,
   "metadata": {},
   "outputs": [
    {
     "data": {
      "text/plain": [
       "producer\n",
       "Francis Ford Coppola Winery    38\n",
       "Santa Rita                     29\n",
       "Yellow Tail                    27\n",
       "19 Crimes                      26\n",
       "Beringer                       25\n",
       "                               ..\n",
       "Crane Lake                     11\n",
       "Ghost Pines                    10\n",
       "Emiliana                       10\n",
       "Catena                         10\n",
       "Sean Minor                     10\n",
       "Name: count, Length: 100, dtype: int64"
      ]
     },
     "execution_count": 84,
     "metadata": {},
     "output_type": "execute_result"
    }
   ],
   "source": [
    "df_viv_3['producer'].value_counts().head(100)"
   ]
  },
  {
   "cell_type": "code",
   "execution_count": 85,
   "metadata": {},
   "outputs": [
    {
     "data": {
      "text/plain": [
       "count    10369.000000\n",
       "mean       516.262513\n",
       "std       1152.623501\n",
       "min         25.000000\n",
       "25%         68.000000\n",
       "50%        164.000000\n",
       "75%        462.000000\n",
       "max      24713.000000\n",
       "Name: rating_qty, dtype: float64"
      ]
     },
     "execution_count": 85,
     "metadata": {},
     "output_type": "execute_result"
    }
   ],
   "source": [
    "df_viv_3['rating_qty'].describe()"
   ]
  },
  {
   "cell_type": "code",
   "execution_count": 86,
   "metadata": {},
   "outputs": [],
   "source": [
    "# do last after other cleaning \n",
    "df_viv_3['name'] = df_viv_3['producer'] + ' ' + df_viv_3['wine_name'] + ' ' + df_viv_3['vintage'].astype(str)"
   ]
  },
  {
   "cell_type": "code",
   "execution_count": 87,
   "metadata": {},
   "outputs": [],
   "source": [
    "df_viv_3['reviewed_by'] = 'unknown'\n",
    "df_viv_3['abv'] = np.nan\n",
    "df_viv_3['from_vivino'] = True"
   ]
  },
  {
   "cell_type": "code",
   "execution_count": 88,
   "metadata": {},
   "outputs": [],
   "source": [
    "df_viv_3.drop(columns = ['wine_name'],   inplace=True)"
   ]
  },
  {
   "cell_type": "markdown",
   "metadata": {},
   "source": [
    "# Order and Combine Dataframes"
   ]
  },
  {
   "cell_type": "code",
   "execution_count": 89,
   "metadata": {},
   "outputs": [
    {
     "name": "stdout",
     "output_type": "stream",
     "text": [
      "(14266, 13)\n",
      "(34664, 13)\n",
      "(2018, 13)\n",
      "(10369, 13)\n"
     ]
    }
   ],
   "source": [
    "desired_columns_order = ['name', 'region', 'country', 'vintage', 'producer', 'wine_variety','grape_variety',\n",
    "                         'price', 'rating', 'rating_qty', 'abv', 'reviewed_by', 'from_vivino']\n",
    "df_wine_com = df_wine_com[desired_columns_order]\n",
    "df_viv_1 = df_viv_1[desired_columns_order]\n",
    "df_viv_2 = df_viv_2[desired_columns_order]\n",
    "df_viv_3 = df_viv_3[desired_columns_order]\n",
    "print(df_wine_com.shape)\n",
    "print(df_viv_1.shape)\n",
    "print(df_viv_2.shape)\n",
    "print(df_viv_3.shape)\n",
    "df_combined = pd.concat([df_wine_com, df_viv_1, df_viv_2, df_viv_3])"
   ]
  },
  {
   "cell_type": "code",
   "execution_count": 90,
   "metadata": {},
   "outputs": [
    {
     "name": "stdout",
     "output_type": "stream",
     "text": [
      "<class 'pandas.core.frame.DataFrame'>\n",
      "Index: 61317 entries, 0 to 10382\n",
      "Data columns (total 13 columns):\n",
      " #   Column         Non-Null Count  Dtype  \n",
      "---  ------         --------------  -----  \n",
      " 0   name           61317 non-null  object \n",
      " 1   region         61317 non-null  object \n",
      " 2   country        61317 non-null  object \n",
      " 3   vintage        60356 non-null  object \n",
      " 4   producer       61317 non-null  object \n",
      " 5   wine_variety   61317 non-null  object \n",
      " 6   grape_variety  61317 non-null  object \n",
      " 7   price          61317 non-null  float64\n",
      " 8   rating         61317 non-null  float64\n",
      " 9   rating_qty     61317 non-null  int64  \n",
      " 10  abv            9906 non-null   float64\n",
      " 11  reviewed_by    61317 non-null  object \n",
      " 12  from_vivino    61317 non-null  bool   \n",
      "dtypes: bool(1), float64(3), int64(1), object(8)\n",
      "memory usage: 6.1+ MB\n"
     ]
    }
   ],
   "source": [
    "df_combined.info()"
   ]
  },
  {
   "cell_type": "code",
   "execution_count": 91,
   "metadata": {},
   "outputs": [],
   "source": [
    "df_combined['grape_variety'] = df_combined['grape_variety'].apply(cf.uniform_strings)"
   ]
  },
  {
   "cell_type": "code",
   "execution_count": 92,
   "metadata": {},
   "outputs": [
    {
     "data": {
      "text/plain": [
       "count    9906.000000\n",
       "mean       13.605026\n",
       "std         1.462862\n",
       "min         1.200000\n",
       "25%        13.000000\n",
       "50%        13.500000\n",
       "75%        14.500000\n",
       "max        21.500000\n",
       "Name: abv, dtype: float64"
      ]
     },
     "execution_count": 92,
     "metadata": {},
     "output_type": "execute_result"
    }
   ],
   "source": [
    "df_combined['abv'].describe()"
   ]
  },
  {
   "cell_type": "code",
   "execution_count": 93,
   "metadata": {},
   "outputs": [
    {
     "data": {
      "text/plain": [
       "count    61317.000000\n",
       "mean       335.098537\n",
       "std        867.042236\n",
       "min          0.000000\n",
       "25%         30.000000\n",
       "50%         94.000000\n",
       "75%        295.000000\n",
       "max      29389.000000\n",
       "Name: rating_qty, dtype: float64"
      ]
     },
     "execution_count": 93,
     "metadata": {},
     "output_type": "execute_result"
    }
   ],
   "source": [
    "df_combined['rating_qty'].describe()"
   ]
  },
  {
   "cell_type": "code",
   "execution_count": 94,
   "metadata": {},
   "outputs": [
    {
     "data": {
      "text/plain": [
       "9256"
      ]
     },
     "execution_count": 94,
     "metadata": {},
     "output_type": "execute_result"
    }
   ],
   "source": [
    "# was 6996 then 6942 now 6885\n",
    "len(df_combined['producer'].unique())"
   ]
  },
  {
   "cell_type": "code",
   "execution_count": 95,
   "metadata": {},
   "outputs": [],
   "source": [
    "# # Was revisited to iteratively add new producer names to producer list in cleaning_functions.py\n",
    "# for i in np.sort(df_combined['producer'].unique()):\n",
    "#     print(i)"
   ]
  },
  {
   "cell_type": "code",
   "execution_count": 96,
   "metadata": {},
   "outputs": [
    {
     "name": "stdout",
     "output_type": "stream",
     "text": [
      "Producers with matching first two words '4 Kilos': 4 Kilos, 4 Kilos Vinicola\n",
      "Producers with matching first two words '7 Deadly': 7 Deadly, 7 Deadly Wines\n",
      "Producers with matching first two words 'A To': A To Z, A To Z Wineworks\n",
      "Producers with matching first two words 'Abadia De': Abadia De Acon, Abadia De Poblet\n",
      "Producers with matching first two words 'Agricola De': Agricola De Borja, Agricola De Borja Vina\n",
      "Producers with matching first two words 'Albert Boxler': Albert Boxler, Albert Boxler Edelswicker\n",
      "Producers with matching first two words 'Alfo Bertolani': Alfo Bertolani, Alfo Bertolani Allantica, Alfo Bertolani Dolce Fiore\n",
      "Producers with matching first two words 'Altos De': Altos De Rioja, Altos De Tamaron\n",
      "Producers with matching first two words 'Anne Amie': Anne Amie, Anne Amie Vineyards\n",
      "Producers with matching first two words 'Azienda Agricola': Azienda Agricola, Azienda Agricola Accornero, Azienda Agricola Lunelli, Azienda Agricola Morella, Azienda Agricola Negro Lorenzo, Azienda Agricola Nicola Di Sipio, Azienda Agricola Pianogrillo, Azienda Agricola Pisoni, Azienda Agricola Ranchelle\n",
      "Producers with matching first two words 'Baglio Di': Baglio Di Grisi, Baglio Di Pianetto\n",
      "Producers with matching first two words 'Baron De': Baron De Barbon, Baron De La Charriere, Baron De Ley, Baron De Montfort\n",
      "Producers with matching first two words 'Barons De': Barons De Rothschild, Barons De Rothschild Lafite\n",
      "Producers with matching first two words 'Bedrock Wine': Bedrock Wine, Bedrock Wine Co\n",
      "Producers with matching first two words 'Berthetbondet Du': Berthetbondet Du Jura, Berthetbondet Du Jura Balan\n",
      "Producers with matching first two words 'Beso De': Beso De Rechenna, Beso De Vino\n",
      "Producers with matching first two words 'Besserat De': Besserat De Fon, Besserat De Fon Bleu, Besserat De Fon De S Grand Cru\n",
      "Producers with matching first two words 'Bodega Finca': Bodega Finca Fuentegalana, Bodega Finca Las Moras\n",
      "Producers with matching first two words 'Bodega La': Bodega La Carbonera, Bodega La Milagrosa, Bodega La Remediadora\n",
      "Producers with matching first two words 'Bodegas Del': Bodegas Del Muni, Bodegas Del Rosario\n",
      "Producers with matching first two words 'Bodegas La': Bodegas La Horra, Bodegas La Rosa, Bodegas La Soterrana\n",
      "Producers with matching first two words 'Bodegas Nando': Bodegas Nando Rez De Ganuza Fincas De Ganuza Rioja, Bodegas Nando Rez De Ganuza O, Bodegas Nando Rez De Ganuza Rioja, Bodegas Nando Rez De Ganuza Rioja Gran\n",
      "Producers with matching first two words 'Bodegas Virgen': Bodegas Virgen De Galir, Bodegas Virgen De La Sierra, Bodegas Virgen Del Galir\n",
      "Producers with matching first two words 'Bodegas Y': Bodegas Y Vinedos Del Jalon, Bodegas Y Vinedos Escudero, Bodegas Y Vinedos Rodrigo Mendez Cies\n",
      "Producers with matching first two words 'Ca Del': Ca Del Baio, Ca Del Bosco\n",
      "Producers with matching first two words 'Campo Alle': Campo Alle Comete, Campo Alle Noci\n",
      "Producers with matching first two words 'Campos De': Campos De Dulcinea, Campos De Luz\n",
      "Producers with matching first two words 'Cantina Del': Cantina Del Nebbiolo, Cantina Del Taburno\n",
      "Producers with matching first two words 'Cantina Di': Cantina Di Custoza, Cantina Di Dolianova, Cantina Di Montalcino, Cantina Di Negrar\n",
      "Producers with matching first two words 'Cantine Del': Cantine Del Borgo Reale, Cantine Del Notaio\n",
      "Producers with matching first two words 'Casa De': Casa De La Ermita, Casa De Santar, Casa De Si\n",
      "Producers with matching first two words 'Casa Di': Casa Di Malia Organic Pcco, Casa Di Terra\n",
      "Producers with matching first two words 'Casa Do': Casa Do Conego, Casa Do Lago, Casa Do Valle\n",
      "Producers with matching first two words 'Castello Di': Castello Di Albola, Castello Di Ama, Castello Di Bolgheri, Castello Di Borghese, Castello Di Bossi, Castello Di Farnetella, Castello Di Gabbiano, Castello Di Luzzano, Castello Di Meleto, Castello Di Monsanto, Castello Di Morcote, Castello Di Neive, Castello Di Querceto, Castello Di Uviglie, Castello Di Uzzano, Castello Di Verduno\n",
      "Producers with matching first two words 'Castillo De': Castillo De Albai, Castillo De Aresan, Castillo De Cuzcurrita, Castillo De Embid, Castillo De Eneriz, Castillo De Liria, Castillo De Maetierra, Castillo De Mendoza, Castillo De Monesma, Castillo De Monjardin, Castillo De Monseran\n",
      "Producers with matching first two words 'Cave De': Cave De Lugny Macon Lugny Les Charmes, Cave De Pomerols, Cave De Ribeauville, Cave De Tain\n",
      "Producers with matching first two words 'Celler De': Celler De Capcanes, Celler De Sanui\n",
      "Producers with matching first two words 'Cellier Des': Cellier Des Dauphins, Cellier Des Princes\n",
      "Producers with matching first two words 'Champagne Le': Champagne Le Mesnil De S Grand Cru, Champagne Le Mesnil De S Grand Cru Vintage\n",
      "Producers with matching first two words 'Charles De': Charles De Cazanove, Charles De E, Charles De E Cuvee Jeanlouis De S, Charles De E Cuvee Jeanlouis Ice De S, Charles De E De S\n",
      "Producers with matching first two words 'Chateau Beaumont': Chateau Beaumont, Chateau Beaumont Les Pierrieres\n",
      "Producers with matching first two words 'Chateau Beauregard': Chateau Beauregard, Chateau Beauregard Ducasse\n",
      "Producers with matching first two words 'Chateau Beausejour': Chateau Beausejour, Chateau Beausejour Becot\n",
      "Producers with matching first two words 'Chateau Belair': Chateau Belair, Chateau Belair Laclotte, Chateau Belair Perponcher\n",
      "Producers with matching first two words 'Chateau Bellevue': Chateau Bellevue, Chateau Bellevue Claribes, Chateau Bellevue Figeac, Chateau Bellevue La Foret\n",
      "Producers with matching first two words 'Chateau Bois': Chateau Bois, Chateau Bois Redon\n",
      "Producers with matching first two words 'Chateau Bourgneuf': Chateau Bourgneuf, Chateau Bourgneuf Vieux Chateau Bourgneuf\n",
      "Producers with matching first two words 'Chateau Cap': Chateau Cap De Faugeres, Chateau Cap Dor, Chateau Cap Saintmartin, Chateau Cap St George\n",
      "Producers with matching first two words 'Chateau Certan': Chateau Certan De May, Chateau Certan Marzelle\n",
      "Producers with matching first two words 'Chateau Clos': Chateau Clos, Chateau Clos Chaumont, Chateau Clos Du Moulin, Chateau Clos Saint Emilion Philippe, Chateau Clos Saint Martin\n",
      "Producers with matching first two words 'Chateau Cote': Chateau Cote De Baleau, Chateau Cote Montpezat\n",
      "Producers with matching first two words 'Chateau De': Chateau De Beaucastel, Chateau De Beauregardducourt, Chateau De Belair, Chateau De Bellevue, Chateau De Bergun, Chateau De Berne, Chateau De Bligny Grande, Chateau De Bligny Green Bay Packers Grande, Chateau De Bonhoste, Chateau De Braude, Chateau De Caladroy, Chateau De Camarsac, Chateau De Camensac, Chateau De Camparian, Chateau De Campuget, Chateau De Caraguilhes, Chateau De Carles, Chateau De Carolle, Chateau De Chambert, Chateau De Chambrun Chateau Moncets, Chateau De Chamirey, Chateau De Chantegrive, Chateau De Corneilla, Chateau De Costis, Chateau De Coulaine, Chateau De Cranne Vincent Lacoste, Chateau De Cruzeau, Chateau De Cugat, Chateau De Dracy, Chateau De Ferrand, Chateau De Fieuzal, Chateau De Fonbel, Chateau De Fonsalette Du Rhone, Chateau De Fontenille, Chateau De Fosseseche, Chateau De France, Chateau De Francs, Chateau De Gaudou, Chateau De Grand Pre, Chateau De Jau, Chateau De Javernand, Chateau De La Chaize, Chateau De La Commanderie, Chateau De La Cour Dargent, Chateau De La Cree, Chateau De La Croix, Chateau De La Dauphine, Chateau De La Grave, Chateau De La Huste, Chateau De La Liquiere, Chateau De La Maltroye, Chateau De La Riviere, Chateau De La Roulerie, Chateau De La Selve, Chateau De La Soujeole, Chateau De La Tour, Chateau De Lancyre, Chateau De Lancyre Le, Chateau De Landiras, Chateau De Lascaux, Chateau De Lavagnac, Chateau De Lengarran, Chateau De Lescarelle, Chateau De Lisse, Chateau De Lorangerie, Chateau De Lussac, Chateau De Manissy, Chateau De Marjolet, Chateau De Marsannay, Chateau De Mattessabran, Chateau De Merande Domaine Genoux, Chateau De Meursault, Chateau De Meursault Clos Du Chateau, Chateau De Montfaucon, Chateau De Montfort, Chateau De Montmirail, Chateau De Nages, Chateau De Nalys, Chateau De Pampelonne De Provence, Chateau De Panigon, Chateau De Paraza, Chateau De Parenchere, Chateau De Parnay, Chateau De Parsac, Chateau De Pennautier, Chateau De Pez, Chateau De Pibarnon, Chateau De Pierreux, Chateau De Pitray, Chateau De Pizay, Chateau De Plaisance, Chateau De Poncie, Chateau De Pressac, Chateau De Reignac, Chateau De Ricaud, Chateau De Roquefort, Chateau De Rouanne, Chateau De Rouillac, Chateau De Saint Cosme, Chateau De Sales, Chateau De Sancerre, Chateau De Segries, Chateau De Serame, Chateau De Tiregand, Chateau De Vaudieu, Chateau De Vaux, Chateau De Viaud, Chateau De Villeneuve\n",
      "Producers with matching first two words 'Chateau Des': Chateau Des Aladeres, Chateau Des Alouettes, Chateau Des Annereaux, Chateau Des Arnauds, Chateau Des Bardes, Chateau Des Bormettes, Chateau Des Capitans, Chateau Des Deduits, Chateau Des Ferrages, Chateau Des Fines Roches, Chateau Des Gravieres, Chateau Des Graviers, Chateau Des Jacques, Chateau Des Laurets, Chateau Des Leotins, Chateau Des Mille Anges, Chateau Des Sarrins, Chateau Des Tours\n",
      "Producers with matching first two words 'Chateau Du': Chateau Du Bois De La Garde, Chateau Du Bousquet, Chateau Du Caillau, Chateau Du Carillon, Chateau Du Cayrou, Chateau Du Cedre, Chateau Du Chatelard, Chateau Du Coudray Montpensier, Chateau Du Courlat, Chateau Du Glana, Chateau Du Grand Bos, Chateau Du Grand Caumont, Chateau Du Hureau, Chateau Du Lort, Chateau Du Moulin, Chateau Du Moulin Rouge, Chateau Du Moulinavent, Chateau Du Perier, Chateau Du Petit Thouars, Chateau Du Raux, Chateau Du Retout, Chateau Du Taillan, Chateau Du Tertre, Chateau Du Trignon\n",
      "Producers with matching first two words 'Chateau Feuillet': Chateau Feuillet, Chateau Feuillet Valle Daosta\n",
      "Producers with matching first two words 'Chateau Fleur': Chateau Fleur, Chateau Fleur Cardinale, Chateau Fleur De Jean Gue, Chateau Fleur De Lisse, Chateau Fleur Deymerits, Chateau Fleur Haut Gaussens\n",
      "Producers with matching first two words 'Chateau Fourcas': Chateau Fourcas Dupre, Chateau Fourcas Hosten\n",
      "Producers with matching first two words 'Chateau Fuisse': Chateau Fuisse, Chateau Fuisse Julienas\n",
      "Producers with matching first two words 'Chateau Gazin': Chateau Gazin, Chateau Gazin Rocquencourt\n",
      "Producers with matching first two words 'Chateau Grand': Chateau Grand, Chateau Grand Barrail Lamarzelle Figeac, Chateau Grand Corbin, Chateau Grand Corbindespagne, Chateau Grand Donnezac, Chateau Grand Launay, Chateau Grand Mayne, Chateau Grand Meynau, Chateau Grand Pascaud, Chateau Grand Village\n",
      "Producers with matching first two words 'Chateau Haut': Chateau Haut, Chateau Haut Baradieu, Chateau Haut Bardin, Chateau Haut Beyzac, Chateau Haut Bicou, Chateau Haut Cabut, Chateau Haut Claribes, Chateau Haut Condissas, Chateau Haut Maginet, Chateau Haut Plantey Declercq, Chateau Haut Reys, Chateau Haut Rian, Chateau Haut Saint Clair, Chateau Haut Selve\n",
      "Producers with matching first two words 'Chateau Hautbages': Chateau Hautbages Liberal, Chateau Hautbages Monpelou\n",
      "Producers with matching first two words 'Chateau Jalousie': Chateau Jalousie, Chateau Jalousie Beaulieu\n",
      "Producers with matching first two words 'Chateau Jean': Chateau Jean Faure, Chateau Jean Gue\n",
      "Producers with matching first two words 'Chateau La': Chateau La Bastienne, Chateau La Bourree, Chateau La Cabanne, Chateau La Caminade, Chateau La Canorgue, Chateau La Cardonne, Chateau La Castillonne, Chateau La Chapelle Despagnet, Chateau La Claymore, Chateau La Commanderie, Chateau La Confession, Chateau La Conseillante, Chateau La Coudraie, Chateau La Couronne, Chateau La Couspaude, Chateau La Coustarelle, Chateau La Croix Chantecaille, Chateau La Croix De Pez, Chateau La Croix Du Duc, Chateau La Dominique, Chateau La Dournie, Chateau La Fleur, Chateau La Fleur Darthus, Chateau La Fleur De Bouard, Chateau La Fleur De Jaugue, Chateau La Fleur Des Amandiers, Chateau La Fleur Des Rouzes, Chateau La Fleur Morange, Chateau La Fleur Perruchon Chollet, Chateau La Fleurpetrus, Chateau La Freynelle, Chateau La Friere, Chateau La Gaffeliere, Chateau La Garde, Chateau La Gorce, Chateau La Gorre, Chateau La Grange Clinet, Chateau La Grangere, Chateau La Graula, Chateau La Grave Trigant De Boisset, Chateau La Graviere, Chateau La Gurgue, Chateau La Lagune, Chateau La Louviere, Chateau La Marzelle, Chateau La Mission Hautbrion, Chateau La Negly, Chateau La Nerthe, Chateau La Patache, Chateau La Pirouette, Chateau La Prade, Chateau La Providence, Chateau La Raze Beauvallet, Chateau La Renaissance, Chateau La Reverence, Chateau La Roque, Chateau La Rougeante, Chateau La Serre, Chateau La Tonnelle, Chateau La Tour Carnet, Chateau La Tour De Bessan, Chateau La Tour De By, Chateau La Tour De Leveque, Chateau La Tour De Mons, Chateau La Tour Figeac, Chateau La Tuilerie Du Puy, Chateau La Vieille Cure\n",
      "Producers with matching first two words 'Chateau Lafite': Chateau Lafite Monteil, Chateau Lafite Rothschild\n",
      "Producers with matching first two words 'Chateau Lalande': Chateau Lalande, Chateau Lalande De Gravet\n",
      "Producers with matching first two words 'Chateau Latour': Chateau Latour, Chateau Latour A Pomerol\n",
      "Producers with matching first two words 'Chateau Le': Chateau Le Bedat, Chateau Le Bergey, Chateau Le Bon Pasteur, Chateau Le Bonnat, Chateau Le Borderon, Chateau Le Boscq, Chateau Le Breton, Chateau Le Bruilleau, Chateau Le Coin, Chateau Le Coteau, Chateau Le Crock, Chateau Le Doyenne, Chateau Le Gardera, Chateau Le Gay, Chateau Le Grand Moulin, Chateau Le Petit Chaban, Chateau Le Pey, Chateau Le Pin Beausoleil, Chateau Le Prieure, Chateau Le Puy, Chateau Le Sabley\n",
      "Producers with matching first two words 'Chateau Leoville': Chateau Leoville Barton, Chateau Leoville Las Cases, Chateau Leoville Poyferre\n",
      "Producers with matching first two words 'Chateau Les': Chateau Les Barraillots, Chateau Les Belles Murailles, Chateau Les Carmes, Chateau Les Carmes Hautbrion, Chateau Les Clauzots, Chateau Les Grandes Murailles, Chateau Les Grands, Chateau Les Grands Chenes, Chateau Les Granges, Chateau Les Graves De Barrau, Chateau Les Graves De Viaud, Chateau Les Gravieres, Chateau Les Gravieres De La Brandille, Chateau Les Hauts Daglan, Chateau Les Hautsconseillants, Chateau Les Marechaux, Chateau Les Ormes, Chateau Les Paris, Chateau Les Pins De Bossuet, Chateau Les Rambauds, Chateau Les Riganes, Chateau Les Trois Croix, Chateau Les Trois Manoirs, Chateau Les Tuileries, Chateau Les Vieux Ormes, Chateau Les Vimieres\n",
      "Producers with matching first two words 'Chateau Lestage': Chateau Lestage, Chateau Lestage Chevillon\n",
      "Producers with matching first two words 'Chateau Marquis': Chateau Marquis Dalesme, Chateau Marquis De Terme\n",
      "Producers with matching first two words 'Chateau Maupague': Chateau Maupague De Provence Cabaret, Chateau Maupague De Provence Saintevictoire\n",
      "Producers with matching first two words 'Chateau Mont': Chateau Mont, Chateau Mont On Chateauneufdupape, Chateau Mont On Du Rhone\n",
      "Producers with matching first two words 'Chateau Moulin': Chateau Moulin De Curat, Chateau Moulin Du Cadet, Chateau Moulin Du Prieur, Chateau Moulin Du Terrier, Chateau Moulin Hautlaroque\n",
      "Producers with matching first two words 'Chateau Pavie': Chateau Pavie, Chateau Pavie Decesse, Chateau Pavie Macquin\n",
      "Producers with matching first two words 'Chateau Petit': Chateau Petit, Chateau Petit Bocq, Chateau Petit Gravet Aine\n",
      "Producers with matching first two words 'Chateau Pey': Chateau Pey De Faure, Chateau Pey La Tour\n",
      "Producers with matching first two words 'Chateau Pichon': Chateau Pichon Baron, Chateau Pichon Longueville Comtesse De Lalande\n",
      "Producers with matching first two words 'Chateau Plantey': Chateau Plantey, Chateau Plantey De Lieujean\n",
      "Producers with matching first two words 'Chateau Pontet': Chateau Pontet Clauzure, Chateau Pontet La Graviere\n",
      "Producers with matching first two words 'Chateau Rieussec': Chateau Rieussec, Chateau Rieussec R De Rieussec\n",
      "Producers with matching first two words 'Chateau Roc': Chateau Roc De Levraut, Chateau Roc De Segur, Chateau Roc Meynard\n",
      "Producers with matching first two words 'Chateau Rocher': Chateau Rocher Calon, Chateau Rocher Corbin, Chateau Rocher Gardat\n",
      "Producers with matching first two words 'Chateau Saint': Chateau Saint, Chateau Saint Louis, Chateau Saint Nabor, Chateau Saint Sulpice Esprit De Saintsulpice\n",
      "Producers with matching first two words 'Chateau Smith': Chateau Smith, Chateau Smith Hautlafitte\n",
      "Producers with matching first two words 'Chateau Ste': Chateau Ste, Chateau Ste Michelle\n",
      "Producers with matching first two words 'Chateau Tertre': Chateau Tertre, Chateau Tertre Roteboeuf\n",
      "Producers with matching first two words 'Chateau Tour': Chateau Tour, Chateau Tour Baladoz, Chateau Tour Bayard, Chateau Tour Bel Air, Chateau Tour Calon, Chateau Tour De Mirambeau, Chateau Tour Des Gendres, Chateau Tour Des Termes, Chateau Tour Du Cauze, Chateau Tour Du Haut Moulin, Chateau Tour Du Mayne, Chateau Tour Du Moulin, Chateau Tour Maillet, Chateau Tour Saintchristophe, Chateau Tour Seran\n",
      "Producers with matching first two words 'Chateau Val': Chateau Val Beylie, Chateau Val Darenc, Chateau Val Joanis\n",
      "Producers with matching first two words 'Chateau Vieux': Chateau Vieux Chevrol, Chateau Vieux Clos St Emilion, Chateau Vieux Garrouilh, Chateau Vieux Landat, Chateau Vieux Manoir, Chateau Vieux Pourret\n",
      "Producers with matching first two words 'Clos De': Clos De Bouard, Clos De La Chapelle, Clos De La Roilette, Clos De La Tech, Clos De Lelu, Clos De Lom, Clos De Lona, Clos De Loratoire, Clos De Los Siete, Clos De Lours, Clos De Napa, Clos De Nit, Clos De Sarpe\n",
      "Producers with matching first two words 'Clos Des': Clos Des Boutes, Clos Des Fous, Clos Des Jacobins, Clos Des Lumieres, Clos Des Lunes, Clos Des Menuts, Clos Des Papes, Clos Des Papes Paul Avril\n",
      "Producers with matching first two words 'Clos Du': Clos Du Bois, Clos Du Caillou, Clos Du Clocher, Clos Du Jaugueyron, Clos Du Marquis, Clos Du Mont, Clos Du Montolivet, Clos Du Roy, Clos Du Tueboeuf, Clos Du Val\n",
      "Producers with matching first two words 'Clos Henri': Clos Henri, Clos Henri Vineyard\n",
      "Producers with matching first two words 'Col Di': Col Di Bacche, Col Di Lamo\n",
      "Producers with matching first two words 'Condado De': Condado De Haza, Condado De Oriza\n",
      "Producers with matching first two words 'Conde De': Conde De Altava, Conde De Siruela\n",
      "Producers with matching first two words 'Corte Dei': Corte Dei Mori, Corte Dei Papi, Corte Dei Venti\n",
      "Producers with matching first two words 'Costers Del': Costers Del Priorat, Costers Del Sio\n",
      "Producers with matching first two words 'Cote Des': Cote Des Roses, Cote Des S\n",
      "Producers with matching first two words 'De Bleu': De Bleu Cuvee Mousseux, De Bleu De\n",
      "Producers with matching first two words 'Dehesa De': Dehesa De Los Canonigos, Dehesa De Luna\n",
      "Producers with matching first two words 'Descendientes De': Descendientes De J Palacios, Descendientes De Jose\n",
      "Producers with matching first two words 'Do Reiro': Do Reiro, Do Reiro Cepas Vellas\n",
      "Producers with matching first two words 'Domaine Anne': Domaine Anne, Domaine Anne Gros Jeanpaul Tollot\n",
      "Producers with matching first two words 'Domaine Bruno': Domaine Bruno, Domaine Bruno Clair\n",
      "Producers with matching first two words 'Domaine Comte': Domaine Comte, Domaine Comte Georges De Vogue\n",
      "Producers with matching first two words 'Domaine De': Domaine De Baronarques, Domaine De Beaurenard, Domaine De Bellene, Domaine De Bernier, Domaine De Boede, Domaine De Boissan, Domaine De Cambes, Domaine De Castelnau, Domaine De Chantegut, Domaine De Chateaumar, Domaine De Chenepierre, Domaine De Chevalier, Domaine De Colette, Domaine De Courteillac, Domaine De Cristia, Domaine De Cumelle, Domaine De Durban, Domaine De Fa, Domaine De Fenouillet, Domaine De Ferrand, Domaine De Fondreche, Domaine De Fontclare, Domaine De Fontsainte, Domaine De Fontsane, Domaine De Givaudan, Domaine De Gry Sablon Dominique Morel, Domaine De La Barthassade Clos De La Barthassade, Domaine De La Begude, Domaine De La Bergerie, Domaine De La Bongran Vireclesse, Domaine De La Butte, Domaine De La Cadette, Domaine De La Chanade, Domaine De La Chanteleuserie Bourgueil, Domaine De La Charbonniere, Domaine De La Chevalerie, Domaine De La Citadelle, Domaine De La Clapiere, Domaine De La Cote, Domaine De La Croix, Domaine De La Damase, Domaine De La Fouquette De Provence, Domaine De La Fruitiere, Domaine De La Grandcour Fleurie, Domaine De La Grandcour Jean Louis Dutraive, Domaine De La Graveirette, Domaine De La Grosse Pierre, Domaine De La Guilloterie, Domaine De La Janasse, Domaine De La Luolle, Domaine De La Madone, Domaine De La Mariniere, Domaine De La Mordoree, Domaine De La Noblaie, Domaine De La Patience, Domaine De La Pauline, Domaine De La Pepiere, Domaine De La Pertuisane, Domaine De La Pirolette, Domaine De La Pousse Dor, Domaine De La Prebende, Domaine De La Romaneeconti, Domaine De La Rouge, Domaine De La Solitude, Domaine De La Solitude Famille Lancon, Domaine De La Taille Aux Loups, Domaine De La Tour Du Bon, Domaine De La Verde, Domaine De La Vieille Julienne, Domaine De La Villaudiere, Domaine De La Vougeraie Terres, Domaine De La Vougeraie Vougeot, Domaine De Lalba, Domaine De Larlot, Domaine De Larnesque, Domaine De Lenchantoir, Domaine De Lenclos, Domaine De Lepicurieux, Domaine De Lespigouette, Domaine De Lhorizon, Domaine De Lhortus, Domaine De Lile, Domaine De Loiselet, Domaine De Loye, Domaine De Luch, Domaine De Majas, Domaine De Marcoux, Domaine De Montille, Domaine De Nerleux, Domaine De Pajot, Domaine De Pallus, Domaine De Pellehaut, Domaine De Pierredon, Domaine De Rabusas, Domaine De Reuilly, Domaine De Robert, Domaine De Rochebin, Domaine De Rosiers, Domaine De Sabbat, Domaine De Sulauze, Domaine De Suremain, Domaine De Terrebrune, Domaine De Valmengaux, Domaine De Vauroux, Domaine De Villaine, Domaine De Vodanis Vouvray Petillant\n",
      "Producers with matching first two words 'Domaine Des': Domaine Des Accoles, Domaine Des Aires Hautes, Domaine Des Ardoisieres, Domaine Des Baumard, Domaine Des Billards, Domaine Des Bosquets, Domaine Des Chambris, Domaine Des Chers, Domaine Des Clos Godeaux, Domaine Des Comtes Lafon, Domaine Des Cotes De La Moliere, Domaine Des Cres Ricards, Domaine Des Deux Cles, Domaine Des Entrefaux, Domaine Des Escaravailles, Domaine Des Fonds, Domaine Des Gravennes, Domaine Des Hauts Chassis, Domaine Des Hauts De Sanziers, Domaine Des Heritiers Louis Jadot, Domaine Des Homs, Domaine Des Lambrays, Domaine Des Lises, Domaine Des Marrans, Domaine Des Nouelles, Domaine Des Ouled Thaleb, Domaine Des Pasquiers, Domaine Des Perdrix, Domaine Des Pierres Dorees, Domaine Des Pothiers, Domaine Des Quatre, Domaine Des Quatre Vents, Domaine Des Remizieres, Domaine Des Roches Neuves, Domaine Des Rosiers, Domaine Des Rouges Queues, Domaine Des Senechaux, Domaine Des Tourelles, Domaine Des Tours, Domaine Des Vercheres\n",
      "Producers with matching first two words 'Domaine Du': Domaine Du Bel Air, Domaine Du Bouscat, Domaine Du Castel, Domaine Du Causse Darboras, Domaine Du Cayron, Domaine Du Cellier, Domaine Du Clos, Domaine Du Clos Des Fees, Domaine Du Clos Du Fief, Domaine Du Colombier, Domaine Du Coulet Matthieu Barret, Domaine Du Cros, Domaine Du Galet Des Papes, Domaine Du Gour De Chaule, Domaine Du Gouyat, Domaine Du Grangeon, Domaine Du Haut, Domaine Du Joncier, Domaine Du Mage, Domaine Du Meixfoulot, Domaine Du Moulin Gaillac Cuvee, Domaine Du Pere Caboche, Domaine Du Pesquier, Domaine Du Possible, Domaine Du Pre Semele, Domaine Du Prieure, Domaine Du Seminaire, Domaine Du Somail, Domaine Du Tariquet, Domaine Du Vieux Lazaret, Domaine Du Vieux Telegraphe\n",
      "Producers with matching first two words 'Domaine Eugene': Domaine Eugene Carrel Et Fils, Domaine Eugene Carrel Fils\n",
      "Producers with matching first two words 'Domaine Font': Domaine Font De Courtedune, Domaine Font Du Vent\n",
      "Producers with matching first two words 'Domaine Francois': Domaine Francois, Domaine Francois Buffet, Domaine Francois Lumpp\n",
      "Producers with matching first two words 'Domaine Georges': Domaine Georges, Domaine Georges Vernay\n",
      "Producers with matching first two words 'Domaine Henri': Domaine Henri, Domaine Henri Boillot, Domaine Henri Delagrange Et Fils, Domaine Henri Milan\n",
      "Producers with matching first two words 'Domaine Jean': Domaine Jean Grivot, Domaine Jean Monnier Fils, Domaine Jean Royer, Domaine Jean Teiller, Domaine Jean Vullien\n",
      "Producers with matching first two words 'Domaine Joseph': Domaine Joseph, Domaine Joseph Roty\n",
      "Producers with matching first two words 'Domaine La': Domaine La Barroche, Domaine La Bouissiere, Domaine La Casenove, Domaine La Croix Belle, Domaine La Ferme Saintmartin, Domaine La Florane, Domaine La Fourmone, Domaine La Garrigue, Domaine La Grange, Domaine La Grangette, Domaine La Ligiere, Domaine La Manarine, Domaine La Rouviole, Domaine La Soumade, Domaine La Terrasse Delise, Domaine La Tour Vieille\n",
      "Producers with matching first two words 'Domaine Le': Domaine Le Galantin, Domaine Le Murmurium\n",
      "Producers with matching first two words 'Domaine Les': Domaine Les Aphillanthes, Domaine Les Capreoles, Domaine Les Enfants Sauvages, Domaine Les Fines, Domaine Les Fouques, Domaine Les Grands Bois, Domaine Les Pallieres, Domaine Les Pins Pitault Landry Et Fils, Domaine Les Roches, Domaine Les Terres Promises\n",
      "Producers with matching first two words 'Domaine Louis': Domaine Louis, Domaine Louis Magnin\n",
      "Producers with matching first two words 'Domaine Lucien': Domaine Lucien, Domaine Lucien Boillot\n",
      "Producers with matching first two words 'Domaine Michel': Domaine Michel, Domaine Michel Barraud, Domaine Michel Goubard Fils, Domaine Michel Guignier, Domaine Michel Lafarge\n",
      "Producers with matching first two words 'Domaine Paul': Domaine Paul, Domaine Paul Janin\n",
      "Producers with matching first two words 'Domaine Philippe': Domaine Philippe Et Vincent Jaboulet, Domaine Philippe Gilbert, Domaine Philippe Tessier\n",
      "Producers with matching first two words 'Domaine Pierre': Domaine Pierre, Domaine Pierre Andre\n",
      "Producers with matching first two words 'Domaine Robert': Domaine Robert, Domaine Robert Chevillon\n",
      "Producers with matching first two words 'Domaine Roux': Domaine Roux, Domaine Roux Pere Fils Les Cotilles\n",
      "Producers with matching first two words 'Domaine Saint': Domaine Saint, Domaine Saint Andre, Domaine Saint Nicolas, Domaine Saint Prefert, Domaine Saint Sylvestre\n",
      "Producers with matching first two words 'Domaine Ste': Domaine Ste, Domaine Ste Michelle\n",
      "Producers with matching first two words 'Domaine Thierry': Domaine Thierry, Domaine Thierry Mortet, Domaine Thierry Tissot Bugey\n",
      "Producers with matching first two words 'Domaine Vincent': Domaine Vincent, Domaine Vincent Dureuiljanthial\n",
      "Producers with matching first two words 'Dominio De': Dominio De Anza, Dominio De Atauta, Dominio De Bornos, Dominio De Cair, Dominio De Calles, Dominio De Eguren, Dominio De Longaz, Dominio De Pingus, Dominio De Punctum, Dominio De Tares\n",
      "Producers with matching first two words 'Dominio Del': Dominio Del Aguila, Dominio Del Bendito, Dominio Del Urogallo\n",
      "Producers with matching first two words 'Dry Creek': Dry Creek, Dry Creek Vineyard\n",
      "Producers with matching first two words 'Duca Di': Duca Di Cardino, Duca Di Salaparuta\n",
      "Producers with matching first two words 'E Pira': E Pira, E Pira Figli\n",
      "Producers with matching first two words 'Eden Rift': Eden Rift, Eden Rift Vineyards\n",
      "Producers with matching first two words 'Ermitage Du': Ermitage Du Pic, Ermitage Du Pic Saint Loup\n",
      "Producers with matching first two words 'Fattoria Dei': Fattoria Dei Barbi, Fattoria Dei Pagliaresi\n",
      "Producers with matching first two words 'Fattoria Del': Fattoria Del Cerro, Fattoria Del Pino\n",
      "Producers with matching first two words 'Fattoria Di': Fattoria Di Basciano, Fattoria Di Grignano, Fattoria Di Grignano Poggio Gualtieri Chianti Rufina, Fattoria Di Lamole, Fattoria Di Lucignano, Fattoria Di Magliano, Fattoria Di Petroio Chianti Classico, Fattoria Di Rodano\n",
      "Producers with matching first two words 'Fattoria La': Fattoria La Fiorita, Fattoria La Parrina, Fattoria La Rivolta\n",
      "Producers with matching first two words 'Fattoria Le': Fattoria Le Corti, Fattoria Le Pupille\n",
      "Producers with matching first two words 'Fattoria San': Fattoria San Francesco, Fattoria San Giuliano, Fattoria San Lorenzo\n",
      "Producers with matching first two words 'Feudi Del': Feudi Del Duca, Feudi Del Pisciotto\n",
      "Producers with matching first two words 'Finca De': Finca De La Rica, Finca De Los Arandinos\n",
      "Producers with matching first two words 'Finca El': Finca El Origen, Finca El Recreo\n",
      "Producers with matching first two words 'Finca La': Finca La Anita, Finca La Celia, Finca La Emperatriz, Finca La Estacada, Finca La Luz, Finca La Solana\n",
      "Producers with matching first two words 'Fleur De': Fleur De California, Fleur De Mer\n",
      "Producers with matching first two words 'Francis Ford': Francis Ford Coppola, Francis Ford Coppola Winery\n",
      "Producers with matching first two words 'Ghettina Franciacorta': Ghettina Franciacorta, Ghettina Franciacorta Cuvee, Ghettina Franciacorta Milledi\n",
      "Producers with matching first two words 'Golden West': Golden West, Golden West Vineyard\n",
      "Producers with matching first two words 'Hacienda Del': Hacienda Del Carche, Hacienda Del Carmen\n",
      "Producers with matching first two words 'Hamilton Russell': Hamilton Russell, Hamilton Russell Vineyards\n",
      "Producers with matching first two words 'Herdade Da': Herdade Da Calada, Herdade Da Comporta, Herdade Da Fonte Coberta\n",
      "Producers with matching first two words 'Herdade De': Herdade De Coelheiros, Herdade De Sao Miguel\n",
      "Producers with matching first two words 'Herdade Do': Herdade Do Freixo, Herdade Do Perdigao, Herdade Do Peso, Herdade Do Rocim, Herdade Do Sobroso\n",
      "Producers with matching first two words 'Herdade Dos': Herdade Dos Grous, Herdade Dos Templarios\n",
      "Producers with matching first two words 'Hund Acre': Hund Acre Few And Far Between, Hund Acre Precious, Hund Acre Wraith\n",
      "Producers with matching first two words 'Isa And': Isa And Pierre Clement Menetou Salon, Isa And Pierre Clement Menetousalon\n",
      "Producers with matching first two words 'J Lohr': J Lohr, J Lohr Vineyards Wines\n",
      "Producers with matching first two words 'Jean Max': Jean Max, Jean Max Roger Sancerre\n",
      "Producers with matching first two words 'Jj P': Jj P Bernkasteler Badstube, Jj P Bernkasteler Lay, Jj P Graacher Himmelreich, Jj P Graacher Himmelreich Gold Capsule, Jj P Wehlener Sonnenuhr, Jj P Wehlener Sonnenuhr Gold Capsule, Jj P Zeltinger Sonnenuhr, Jj P Zeltinger Sonnenuhr Gold Capsule\n",
      "Producers with matching first two words 'Joseph Burrier': Joseph Burrier, Joseph Burrier Chateau De Beauregard\n",
      "Producers with matching first two words 'Joseph Swan': Joseph Swan, Joseph Swan Vineyards\n",
      "Producers with matching first two words 'La Bastide': La Bastide Blanche, La Bastide Saint Dominique\n",
      "Producers with matching first two words 'La Croix': La Croix Belle, La Croix De Saint Jean\n",
      "Producers with matching first two words 'La Grange': La Grange Aux Belles, La Grange Tiphaine\n",
      "Producers with matching first two words 'La Marca': La Marca, La Marca Di San Michele\n",
      "Producers with matching first two words 'La Vieille': La Vieille Ferme, La Vieille Gargouille\n",
      "Producers with matching first two words 'La Vis': La Vis, La Vis Trentino\n",
      "Producers with matching first two words 'Lagar De': Lagar De Bezana, Lagar De Cervera\n",
      "Producers with matching first two words 'Lar De': Lar De Maia, Lar De Paula\n",
      "Producers with matching first two words 'Le Grand': Le Grand Courtage, Le Grand Noir\n",
      "Producers with matching first two words 'Le Roc': Le Roc, Le Roc Des Anges\n",
      "Producers with matching first two words 'Les Vignerons': Les Vignerons De Buzet, Les Vignerons De Sthilaire Dozilhan\n",
      "Producers with matching first two words 'Louis De': Louis De Grenelle Corail Saumur, Louis De Originel\n",
      "Producers with matching first two words 'Louis Jadot': Louis Jadot, Louis Jadot Domaine Gagey\n",
      "Producers with matching first two words 'Maison De': Maison De Grand Esprit, Maison De La Villette, Maison De Montille\n",
      "Producers with matching first two words 'Marchesi Di': Marchesi Di Barolo, Marchesi Di Gresy\n",
      "Producers with matching first two words 'Mark Ryan': Mark Ryan, Mark Ryan Winery\n",
      "Producers with matching first two words 'Marques De': Marques De Altillo, Marques De Ballestar, Marques De Borba, Marques De Burgos, Marques De Caceres, Marques De Carrion, Marques De Casa Concha, Marques De Chive, Marques De Grinon, Marques De Irun, Marques De La Carrasca, Marques De La Concordia, Marques De La Musa, Marques De Marialva, Marques De Monte Meru, Marques De Mundaiz, Marques De Murrieta, Marques De Reinosa, Marques De Riscal, Marques De Tomares, Marques De Tosos, Marques De Valdueza, Marques De Villanueva, Marques De Vitoria\n",
      "Producers with matching first two words 'Marques Del': Marques Del Atrio, Marques Del Puerto\n",
      "Producers with matching first two words 'Mas De': Mas De Boislauzon, Mas De Cadenet Sainte Victoire De Provence, Mas De Daumas Gassac, Mas De Gourgonnier, Mas De La Seranne, Mas De Labundancia, Mas De Libian, Mas De Lunes, Mas De Sainte Croix\n",
      "Producers with matching first two words 'Mas Del': Mas Del Perie Fabien Jouves, Mas Del Serral\n",
      "Producers with matching first two words 'Mas Den': Mas Den Blei, Mas Den Gil\n",
      "Producers with matching first two words 'Mas Des': Mas Des Agrunelles, Mas Des Bressades, Mas Des Brousses, Mas Des Caprices, Mas Des Mas, Mas Des Tannes, Mas Des Volques\n",
      "Producers with matching first two words 'Michel Men': Michel Men, Michel Men Coteaux Bourguignons\n",
      "Producers with matching first two words 'Miguel Torres': Miguel Torres, Miguel Torres Chile\n",
      "Producers with matching first two words 'Ministry Of': Ministry Of The Vinterior, Ministry Of Vinterior\n",
      "Producers with matching first two words 'Monte Da': Monte Da Cacada, Monte Da Penha, Monte Da Ravasqueira\n",
      "Producers with matching first two words 'Monte Rio': Monte Rio, Monte Rio Cellars\n",
      "Producers with matching first two words 'Moulin De': Moulin De Gassac, Moulin De La Roque\n",
      "Producers with matching first two words 'Notre Dame': Notre Dame De Cousignac, Notre Dame Des Pallieres\n",
      "Producers with matching first two words 'Pago De': Pago De Cirsus, Pago De La Jaraba, Pago De Los Capellanes, Pago De Tharsys, Pago De Vallegarcia\n",
      "Producers with matching first two words 'Pago Del': Pago Del Cielo, Pago Del Vicario\n",
      "Producers with matching first two words 'Pagos De': Pagos De Araiz, Pagos De Valcerracin\n",
      "Producers with matching first two words 'Pagos Del': Pagos Del Moncayo, Pagos Del Rey\n",
      "Producers with matching first two words 'Palacio De': Palacio De Arganza, Palacio De Primavera, Palacio De Villachica\n",
      "Producers with matching first two words 'Palacio Del': Palacio Del Burgo, Palacio Del Conde\n",
      "Producers with matching first two words 'Paul K': Paul K Et Fils, Paul K Et Fils Classique, Paul K Et Fils Classique Gewurz\n",
      "Producers with matching first two words 'Pazo De': Pazo De Barrantes, Pazo De Galegos, Pazo De Senorans\n",
      "Producers with matching first two words 'Pedro Parra': Pedro Parra, Pedro Parra Y Familia\n",
      "Producers with matching first two words 'Podere Il': Podere Il Balzo, Podere Il Castellaccio, Podere Il Palazzino\n",
      "Producers with matching first two words 'Poggio Al': Poggio Al Casone, Poggio Al Sole, Poggio Al Tesoro\n",
      "Producers with matching first two words 'Poggio Di': Poggio Di Bortolone, Poggio Di Sotto\n",
      "Producers with matching first two words 'Portal Del': Portal Del Montsant, Portal Del Priorat\n",
      "Producers with matching first two words 'Potek Winery': Potek Winery Demetria, Potek Winery Tierra Alta\n",
      "Producers with matching first two words 'Prats Symington': Prats Symington, Prats Symington Ps\n",
      "Producers with matching first two words 'Prayers Of': Prayers Of Saints, Prayers Of Sinners, Prayers Of Sinners Saints\n",
      "Producers with matching first two words 'Produttori Del': Produttori Del Barbaresco, Produttori Del Gavi\n",
      "Producers with matching first two words 'Quinta Da': Quinta Da Boavista, Quinta Da Caldeirinha, Quinta Da Espiga, Quinta Da Gandara, Quinta Da Lapa, Quinta Da Pellada, Quinta Da Plansel, Quinta Da Ponte Pedrinha, Quinta Da Raza, Quinta Da Raza Dom Diogo, Quinta Da Rede, Quinta Da Romaneira\n",
      "Producers with matching first two words 'Quinta Das': Quinta Das Amoras, Quinta Das Apegadas, Quinta Das Setencostas, Quinta Das Tecedeiras\n",
      "Producers with matching first two words 'Quinta De': Quinta De Baixo, Quinta De Bonsventos, Quinta De Chocapalha, Quinta De Couselo, Quinta De Foz De Arouce, Quinta De La Quietud, Quinta De La Rosa, Quinta De Porrais, Quinta De Quercus, Quinta De Roriz, Quinta De Ventozelo\n",
      "Producers with matching first two words 'Quinta Do': Quinta Do Ameal, Quinta Do Casal Monteiro, Quinta Do Conde, Quinta Do Crasto, Quinta Do Infantado, Quinta Do Mouro, Quinta Do Noval, Quinta Do Paral, Quinta Do Pego, Quinta Do Portal, Quinta Do Regueiro, Quinta Do Vale, Quinta Do Vale Meao, Quinta Do Vallado, Quinta Do Vesuvio, Quinta Do Zambujeiro\n",
      "Producers with matching first two words 'Quinta Dos': Quinta Dos Murcas, Quinta Dos Roques\n",
      "Producers with matching first two words 'Quinta Nova': Quinta Nova, Quinta Nova De Nossa Senhora Do Carmo\n",
      "Producers with matching first two words 'R Lopez': R Lopez, R Lopez De Heia Rioja Vina Tondonia, R Lopez De Heia Rioja White Vina Tondonia Gran, R Lopez De Heia Vina Nia, R Lopez De Heredia Vina Tondonia\n",
      "Producers with matching first two words 'Robert Mondavi': Robert Mondavi, Robert Mondavi Private Selection\n",
      "Producers with matching first two words 'Rocca Di': Rocca Di Castagnoli, Rocca Di Fabbri, Rocca Di Frassinello, Rocca Di Montegrossi, Rocca Di Montemassi, Rocca Di Passo\n",
      "Producers with matching first two words 'Roscato Dolce': Roscato Dolce, Roscato Dolce Sweet\n",
      "Producers with matching first two words 'Round Pond': Round Pond, Round Pond Estate\n",
      "Producers with matching first two words 'Sa P': Sa P Mosel, Sa P Solitar, Sa P Urziger Wurzgarten, Sa P Wehlener Sonnenuhr\n",
      "Producers with matching first two words 'San Pedro': San Pedro, San Pedro Regalado\n",
      "Producers with matching first two words 'Sans Liege': Sans Liege, Sans Liege Wines\n",
      "Producers with matching first two words 'Santa Maria': Santa Maria De Nogueira, Santa Maria La Palma\n",
      "Producers with matching first two words 'Senorio De': Senorio De Arana, Senorio De Benidorm, Senorio De Grevol, Senorio De Irati, Senorio De Libano, Senorio De Los Llanos, Senorio De Nava, Senorio De San, Senorio De Sarria, Senorio De Villarrica\n",
      "Producers with matching first two words 'Sierra De': Sierra De La Demanda, Sierra De Tolono\n",
      "Producers with matching first two words 'St Supery': St Supery, St Supery Dollarhide\n",
      "Producers with matching first two words 'Stags Leap': Stags Leap, Stags Leap Wine Cellars\n",
      "Producers with matching first two words 'Tenuta Dei': Tenuta Dei Baroni Capoano, Tenuta Dei Sette Cieli\n",
      "Producers with matching first two words 'Tenuta Del': Tenuta Del Buonamico, Tenuta Del Meriggio\n",
      "Producers with matching first two words 'Tenuta Di': Tenuta Di Carleone, Tenuta Di Castellaro, Tenuta Di Ceppaiano, Tenuta Di Corte, Tenuta Di Ghizzano, Tenuta Di Gracciano Della Seta, Tenuta Di Montecucco, Tenuta Di Nozzole, Tenuta Di Sesta, Tenuta Di Tavignano, Tenuta Di Trinoro, Tenuta Di Valgiano\n",
      "Producers with matching first two words 'Tenuta Guado': Tenuta Guado, Tenuta Guado Al Tasso\n",
      "Producers with matching first two words 'Tenuta Il': Tenuta Il Faggeto, Tenuta Il Oltrenero Cuvee, Tenuta Il Palagio, Tenuta Il Poggione\n",
      "Producers with matching first two words 'Tenuta Le': Tenuta Le Calcinaie, Tenuta Le Colonne, Tenuta Le Velette\n",
      "Producers with matching first two words 'Tenuta San': Tenuta San, Tenuta San Guido, Tenuta San Jacopo Chianti Poggio Ai Grilli, Tenuta San Vincenti, Tenuta San Vito\n",
      "Producers with matching first two words 'Tenuta Sette': Tenuta Sette, Tenuta Sette Ponti\n",
      "Producers with matching first two words 'Terras De': Terras De Estremoz, Terras De Fialho\n",
      "Producers with matching first two words 'Terre Del': Terre Del Barolo, Terre Del Marchesato, Terre Del Noce\n",
      "Producers with matching first two words 'Terre Di': Terre Di Campo Sasso, Terre Di Montelusa, Terre Di Talamo\n",
      "Producers with matching first two words 'Terroir Al': Terroir Al Limit, Terroir Al Limit Soc Lda\n",
      "Producers with matching first two words 'The Great': The Great American Wine Company By Nblum, The Great Oregon Wine Company\n",
      "Producers with matching first two words 'Tinto Negro': Tinto Negro, Tinto Negro Tintonegro\n",
      "Producers with matching first two words 'Torre De': Torre De Barreda, Torre De Ona\n",
      "Producers with matching first two words 'Val Delle': Val Delle Corti, Val Delle Rose\n",
      "Producers with matching first two words 'Valle De': Valle De La Puerta, Valle De Tintos\n",
      "Producers with matching first two words 'Vieux Chateau': Vieux Chateau Certan, Vieux Chateau Du Terme, Vieux Chateau Palon\n",
      "Producers with matching first two words 'Vignerons De': Vignerons De Buxy, Vignerons De Lenclave, Vignerons De Tautavel Vingrau\n",
      "Producers with matching first two words 'Vigneti Del': Vigneti Del Salento, Vigneti Del Sole, Vigneti Del Vulture\n",
      "Producers with matching first two words 'Villa Di': Villa Di Campobello, Villa Di Geggiano, Villa Di Vetrice\n",
      "Producers with matching first two words 'Vinas Del': Vinas Del Cenit, Vinas Del Vero\n",
      "Producers with matching first two words 'Vinos Del': Vinos Del Paseante, Vinos Del Viento Michael Cooper\n"
     ]
    }
   ],
   "source": [
    "# TO BE CONTINUED\n",
    "# Print shortlist of producer names to check and iteratively add to customer producer list\n",
    "sorted_producer_list = np.sort(df_combined['producer'].unique())\n",
    "def get_first_two_words(text):\n",
    "    words = text.split()\n",
    "    return \" \".join(words[:2]) if len(words) >= 2 else text\n",
    "\n",
    "producer_prefixes = {}\n",
    "\n",
    "# Populate the dictionary with producers having the same first two words\n",
    "for producer in sorted_producer_list:\n",
    "    prefix = get_first_two_words(producer)\n",
    "    if prefix in producer_prefixes:\n",
    "        producer_prefixes[prefix].append(producer)\n",
    "    else:\n",
    "        producer_prefixes[prefix] = [producer]\n",
    "\n",
    "# Iterate through the dictionary and print producers with matching first two words\n",
    "for prefix, producers in producer_prefixes.items():\n",
    "    if len(producers) > 1:  # Check if more than one producer has the same prefix\n",
    "        print(f\"Producers with matching first two words '{prefix}': {', '.join(producers)}\")"
   ]
  },
  {
   "cell_type": "code",
   "execution_count": 97,
   "metadata": {},
   "outputs": [],
   "source": [
    "df_combined.loc[df_combined['producer'] == 'Tinto Negro Tintonegro', 'producer'] =  'Tinto Negro'\n",
    "df_combined.loc[df_combined['producer'] == 'Stags Leap', 'producer'] =  'Stags Leap Wine Cellars'\n",
    "df_combined.loc[df_combined['producer'] == 'St Supery Dollarhide', 'producer'] =  'St Supery'\n",
    "df_combined.loc[df_combined['producer'] == 'Sans Liege', 'producer'] =  'Sans Liege Wines'\n",
    "df_combined.loc[df_combined['producer'] == 'Round Pond', 'producer'] =  'Round Pond Estate'\n",
    "df_combined.loc[df_combined['producer'] == 'Roscato Dolce Sweet', 'producer'] =  'Roscato Dolce'\n",
    "df_combined.loc[df_combined['producer'] == 'Robert Mondavi Private Selectiona', 'producer'] =  'Robert Mondavi'\n",
    "df_combined.loc[df_combined['producer'] == 'R Lopez De Heredia Vina Tondonia', 'producer'] =  'R Lopez'\n",
    "df_combined.loc[df_combined['producer'] == 'R Lopez De Heia Vina Nia', 'producer'] =  'R Lopez'\n",
    "df_combined.loc[df_combined['producer'] == 'R Lopez De Heia Rioja White Vina Tondonia Gran', 'producer'] =  'R Lopez'\n",
    "df_combined.loc[df_combined['producer'] == 'R Lopez De Heia Rioja Vina Tondonia', 'producer'] =  'R Lopez'\n",
    "df_combined.loc[df_combined['producer'] == 'Prayers Of Saints', 'producer'] =  'Prayers Of'\n",
    "df_combined.loc[df_combined['producer'] == 'Prayers Of Sinners', 'producer'] =  'Prayers Of'\n",
    "df_combined.loc[df_combined['producer'] == 'Prayers Of Sinners Saints', 'producer'] =  'Prayers Of'\n",
    "df_combined.loc[df_combined['producer'] == 'Prats Symington Ps', 'producer'] =  'Prats Symington'\n",
    "df_combined.loc[df_combined['producer'] == 'Potek Winery Demetria', 'producer'] =  'Potek Winery'\n",
    "df_combined.loc[df_combined['producer'] == 'Potek Winery Tierra Alta', 'producer'] =  'Potek Winery'\n",
    "df_combined.loc[df_combined['producer'] == 'Pedro Parra', 'producer'] =  'Pedro Parra Y Familia'\n",
    "df_combined.loc[df_combined['producer'] == 'Paul K Et Fils Classique', 'producer'] =  'Paul K Et Fils'\n",
    "df_combined.loc[df_combined['producer'] == 'Miguel Torres Chile', 'producer'] =  'Miguel Torres Chile'\n",
    "df_combined.loc[df_combined['producer'] == 'Michel Men Coteaux Bourguignons', 'producer'] =  'Michel Men'\n",
    "df_combined.loc[df_combined['producer'] == 'Mark Ryan', 'producer'] =  'Mark Ryan Winery'\n",
    "df_combined.loc[df_combined['producer'] == 'Louis Jadot Domaine Gagey', 'producer'] =  'Louis Jadot'\n",
    "df_combined.loc[df_combined['producer'] == 'Joseph Swan', 'producer'] =  'Joseph Swan Vineyards'\n",
    "df_combined.loc[df_combined['producer'] == 'Joseph Burrier Chateau De Beauregard', 'producer'] =  'Joseph Burrier'\n",
    "df_combined.loc[df_combined['producer'] == 'J Lohr', 'producer'] =  'J Lohr Vineyards Wines'\n",
    "df_combined.loc[df_combined['producer'] == 'Isa And Pierre Clement Menetousalon', 'producer'] =  'Isa And Pierre Clement'\n",
    "df_combined.loc[df_combined['producer'] == 'Isa And Pierre Clement Menetou Salon', 'producer'] =  'Isa And Pierre Clement'\n",
    "df_combined.loc[df_combined['producer'] == 'Hund Acre Few And Far Between', 'producer'] =  'Hund Acre'\n",
    "df_combined.loc[df_combined['producer'] == 'Hund Acre Precious', 'producer'] =  'Hund Acre'\n",
    "df_combined.loc[df_combined['producer'] == 'Hund Acre Wraith', 'producer'] =  'Hund Acre'\n",
    "df_combined.loc[df_combined['producer'] == 'Hamilton Russell', 'producer'] =  'Hamilton Russell Vineyards'\n",
    "df_combined.loc[df_combined['producer'] == 'Golden West', 'producer'] =  'Golden West Vineyard'\n",
    "df_combined.loc[df_combined['producer'] == 'Ghettina Franciacorta Milledi', 'producer'] =  'Ghettina Franciacorta'\n",
    "df_combined.loc[df_combined['producer'] == 'Ghettina Franciacorta Cuvee', 'producer'] =  'Ghettina Franciacorta'\n",
    "df_combined.loc[df_combined['producer'] == 'Francis Ford Coppola', 'producer'] =  \"Francis Ford Coppola Winery\"\n",
    "df_combined.loc[df_combined['producer'] == 'Ermitage Du Pic', 'producer'] =  \"Ermitage Du Pic Saint Loup\"\n",
    "df_combined.loc[df_combined['producer'] == 'Eden Rift', 'producer'] = 'Eden Rift Vineyards'\n",
    "df_combined.loc[df_combined['producer'] == '4 Kilos Vinicola', 'producer'] = '4 Kilos'\n",
    "df_combined.loc[df_combined['producer'] == '7 Deadly', 'producer'] = '7 Deadly Wines'\n",
    "df_combined.loc[df_combined['producer'] == 'A To Z', 'producer'] = 'A To Z Wineworks'\n",
    "df_combined.loc[df_combined['producer'] == 'Agricola De Borja', 'producer'] = 'Agricola De Borja Vina'\n",
    "df_combined.loc[df_combined['producer'] == 'Albert Boxler Edelswicker', 'producer'] = 'Albert Boxler'\n",
    "df_combined.loc[df_combined['producer'] == 'Alfo Bertolani Allantica', 'producer'] = 'Alfo Bertolani'\n",
    "df_combined.loc[df_combined['producer'] == 'Alfo Bertolani Dolce Fiore', 'producer'] = 'Alfo Bertolani'\n",
    "df_combined.loc[df_combined['producer'] == 'Anne Amie Vineyards', 'producer'] = 'Anne Amie'\n",
    "df_combined.loc[df_combined['producer'] == 'Bedrock Wine Co', 'producer'] = 'Bedrock Wine'\n",
    "df_combined.loc[df_combined['producer'] == 'Bodegas Nando Rez De Ganuza Fincas De Ganuza Rioja', 'producer'] = ' Bodegas Nando Rez De Ganuza'\n",
    "df_combined.loc[df_combined['producer'] == 'Bodegas Nando Rez De Ganuza Rioja', 'producer'] = ' Bodegas Nando Rez De Ganuza'\n",
    "df_combined.loc[df_combined['producer'] == 'Bodegas Nando Rez De Ganuza O', 'producer'] = ' Bodegas Nando Rez De Ganuza'\n",
    "df_combined.loc[df_combined['producer'] == 'Bodegas Nando Rez De Ganuza Rioja Gran', 'producer'] = ' Bodegas Nando Rez De Ganuza'\n",
    "df_combined.loc[df_combined['producer'] == 'Chateau Bourgneuf Vieux Chateau Bourgneuf', 'producer'] = 'Chateau Bourgneuf'\n",
    "df_combined.loc[df_combined['producer'] == 'Chateau Feuillet Valle Daosta', 'producer'] = 'Chateau Feuillet'\n",
    "df_combined.loc[df_combined['producer'] == 'Chateau Fuisse Julienas', 'producer'] = 'Chateau Fuisse'\n",
    "df_combined.loc[df_combined['producer'] == 'Clos Henri Vineyard', 'producer'] = 'Clos Henri'\n",
    "df_combined.loc[df_combined['producer'] == 'Domaine Anne Gros Jeanpaul Tollot', 'producer'] = 'Domaine Anne'\n",
    "df_combined.loc[df_combined['producer'] == 'Domaine Comte', 'producer'] = 'Domaine Comte Georges De Vogue'\n",
    "df_combined.loc[df_combined['producer'] == 'Domaine Eugene Carrel Fils', 'producer'] = 'Domaine Eugene Carrel Et Fils'\n",
    "df_combined.loc[df_combined['producer'] == 'Domaine Joseph', 'producer'] = 'Domaine Joseph Roty'\n",
    "df_combined.loc[df_combined['producer'] == 'Dry Creek', 'producer'] = 'Dry Creek Vineyard'\n"
   ]
  },
  {
   "cell_type": "code",
   "execution_count": 98,
   "metadata": {},
   "outputs": [
    {
     "data": {
      "text/plain": [
       "156"
      ]
     },
     "execution_count": 98,
     "metadata": {},
     "output_type": "execute_result"
    }
   ],
   "source": [
    "grape_value_counts = df_combined['grape_variety'].value_counts()\n",
    "not_grapes = grape_value_counts[grape_value_counts < 5]\n",
    "df_combined['grape_variety'] = df_combined['grape_variety'].apply(lambda x: 'Unknown' if x in not_grapes.index else x)\n",
    "len(df_combined['grape_variety'].unique())"
   ]
  },
  {
   "cell_type": "code",
   "execution_count": 99,
   "metadata": {},
   "outputs": [
    {
     "name": "stdout",
     "output_type": "stream",
     "text": [
      "wine_variety\n",
      "red          30018\n",
      "white        12350\n",
      "sparkling     9625\n",
      "rose          9078\n",
      "Name: count, dtype: int64\n"
     ]
    }
   ],
   "source": [
    "# Remove 'other' wine varietys (port, sherry and other fortified wines etc.) from dataset. Leaving only red, white, rose and sparkling. \n",
    "df_combined = df_combined[df_combined['wine_variety'] != 'other'].copy()\n",
    "df_viv_3 = df_viv_3[df_viv_3['wine_variety'] != 'other'].copy()\n",
    "print(df_combined['wine_variety'].value_counts())"
   ]
  },
  {
   "cell_type": "code",
   "execution_count": 100,
   "metadata": {},
   "outputs": [],
   "source": [
    "df_combined.loc[df_combined['vintage'] == 'unknown', 'vintage'] = np.nan\n",
    "df_combined.dropna(subset=['vintage'], inplace=True)"
   ]
  },
  {
   "cell_type": "code",
   "execution_count": 101,
   "metadata": {},
   "outputs": [],
   "source": [
    "# # Split data into train/test set and validation set to be kept completely seperate until production model(s) are created. \n",
    "# df_train_test, df_validation = train_test_split(df_combined, test_size=0.1, random_state=42)\n",
    "# print(df_train_test.shape)\n",
    "# print(df_validation.shape)"
   ]
  },
  {
   "cell_type": "code",
   "execution_count": 102,
   "metadata": {},
   "outputs": [],
   "source": [
    "# export to csv \n",
    "df_combined.to_csv('../data/clean_combined_wines.csv', index=False)"
   ]
  }
 ],
 "metadata": {
  "kernelspec": {
   "display_name": "base",
   "language": "python",
   "name": "python3"
  },
  "language_info": {
   "codemirror_mode": {
    "name": "ipython",
    "version": 3
   },
   "file_extension": ".py",
   "mimetype": "text/x-python",
   "name": "python",
   "nbconvert_exporter": "python",
   "pygments_lexer": "ipython3",
   "version": "3.11.5"
  }
 },
 "nbformat": 4,
 "nbformat_minor": 2
}
