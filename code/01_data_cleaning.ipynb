{
 "cells": [
  {
   "cell_type": "markdown",
   "metadata": {},
   "source": [
    "# Data Cleaning & Pre-Processing"
   ]
  },
  {
   "cell_type": "code",
   "execution_count": 1025,
   "metadata": {},
   "outputs": [],
   "source": [
    "import re\n",
    "import numpy as np\n",
    "import pandas as pd\n",
    "import matplotlib.pyplot as plt\n",
    "import cleaning_functions as cf\n",
    "from unidecode import unidecode # source: https://stackoverflow.com/questions/517923/what-is-the-best-way-to-remove-accents-normalize-in-a-python-unicode-string "
   ]
  },
  {
   "cell_type": "code",
   "execution_count": 1026,
   "metadata": {},
   "outputs": [],
   "source": [
    "# Source (via Wine.com) : https://www.kaggle.com/datasets/salohiddindev/wine-dataset-scraping-from-wine-com (prices in USD)\n",
    "df_wine_com = pd.read_csv(\"../data/original_datasets/wine_com.csv\", encoding='utf-16')\n",
    "\n",
    "# Source (via Vivino.com): https://www.kaggle.com/datasets/budnyak/wine-rating-and-price (prices in EUR)\n",
    "df_viv_1 = pd.read_csv('../data/original_datasets/vivino_one.csv')\n",
    "df_viv_1.drop(columns=['Unnamed: 0'], inplace=True)\n",
    "\n",
    "# Source (via Vivino.com): https://www.kaggle.com/datasets/joshuakalobbowles/vivino-wine-data (prices in EUR)\n",
    "df_viv_2 = pd.read_csv('../data/original_datasets/vivino_two.csv')\n",
    "\n",
    "# Source (via Vivino.com): https://www.kaggle.com/datasets/joshuakalobbowles/vivino-wine-data (prices in EUR)\n",
    "df_val = pd.read_csv('../data/original_datasets/validation_set.csv')"
   ]
  },
  {
   "cell_type": "code",
   "execution_count": 1027,
   "metadata": {},
   "outputs": [],
   "source": [
    "# Make column names snake_case.\n",
    "df_viv_1.columns = [col.lower().replace(' ', '_') for col in df_viv_1.columns]\n",
    "df_viv_2.columns = [col.lower().replace(' ', '_') for col in df_viv_2.columns]\n",
    "df_wine_com.columns = [col.lower().replace(' %', '').replace(' ', '_') for col in df_wine_com.columns]\n",
    "df_val.columns = [col.lower().replace(' ', '_') for col in df_val.columns]"
   ]
  },
  {
   "cell_type": "markdown",
   "metadata": {},
   "source": [
    "# Cleaning wine.com Dataset"
   ]
  },
  {
   "cell_type": "code",
   "execution_count": 1028,
   "metadata": {},
   "outputs": [
    {
     "data": {
      "text/html": [
       "<div>\n",
       "<style scoped>\n",
       "    .dataframe tbody tr th:only-of-type {\n",
       "        vertical-align: middle;\n",
       "    }\n",
       "\n",
       "    .dataframe tbody tr th {\n",
       "        vertical-align: top;\n",
       "    }\n",
       "\n",
       "    .dataframe thead th {\n",
       "        text-align: right;\n",
       "    }\n",
       "</style>\n",
       "<table border=\"1\" class=\"dataframe\">\n",
       "  <thead>\n",
       "    <tr style=\"text-align: right;\">\n",
       "      <th></th>\n",
       "      <th>names</th>\n",
       "      <th>color_wine</th>\n",
       "      <th>prices</th>\n",
       "      <th>ml</th>\n",
       "      <th>ratings</th>\n",
       "      <th>ratingsnum</th>\n",
       "      <th>countrys</th>\n",
       "      <th>abv</th>\n",
       "      <th>rates</th>\n",
       "    </tr>\n",
       "  </thead>\n",
       "  <tbody>\n",
       "    <tr>\n",
       "      <th>0</th>\n",
       "      <td>00 Wines VGW Chardonnay 2017</td>\n",
       "      <td>White Wine</td>\n",
       "      <td>79.99$</td>\n",
       "      <td>750</td>\n",
       "      <td>0.0</td>\n",
       "      <td>0</td>\n",
       "      <td>Chardonnay from Willamette Valley, Oregon</td>\n",
       "      <td>13.0</td>\n",
       "      <td>JS, WE, WS</td>\n",
       "    </tr>\n",
       "    <tr>\n",
       "      <th>1</th>\n",
       "      <td>00 Wines VGR Pinot Noir 2019</td>\n",
       "      <td>Red Wine</td>\n",
       "      <td>99.99$</td>\n",
       "      <td>750</td>\n",
       "      <td>0.0</td>\n",
       "      <td>0</td>\n",
       "      <td>Pinot Noir from Willamette Valley, Oregon</td>\n",
       "      <td>12.9</td>\n",
       "      <td>WE, JS, RP</td>\n",
       "    </tr>\n",
       "    <tr>\n",
       "      <th>2</th>\n",
       "      <td>00 Wines EGW Chardonnay 2019</td>\n",
       "      <td>White Wine</td>\n",
       "      <td>115.99$</td>\n",
       "      <td>750</td>\n",
       "      <td>0.0</td>\n",
       "      <td>0</td>\n",
       "      <td>Chardonnay from Willamette Valley, Oregon</td>\n",
       "      <td>0.0</td>\n",
       "      <td>JS, RP, WE</td>\n",
       "    </tr>\n",
       "    <tr>\n",
       "      <th>3</th>\n",
       "      <td>100 Nails Ranch Pinot Noir 2019</td>\n",
       "      <td>Red Wine</td>\n",
       "      <td>16.99$</td>\n",
       "      <td>750</td>\n",
       "      <td>0.0</td>\n",
       "      <td>0</td>\n",
       "      <td>Pinot Noir from Central Coast, California</td>\n",
       "      <td>14.2</td>\n",
       "      <td>WW</td>\n",
       "    </tr>\n",
       "    <tr>\n",
       "      <th>4</th>\n",
       "      <td>100 Nails Ranch Chardonnay 2019</td>\n",
       "      <td>White Wine</td>\n",
       "      <td>16.99$</td>\n",
       "      <td>750</td>\n",
       "      <td>0.0</td>\n",
       "      <td>0</td>\n",
       "      <td>Chardonnay from Sonoma County, California</td>\n",
       "      <td>14.2</td>\n",
       "      <td>0</td>\n",
       "    </tr>\n",
       "  </tbody>\n",
       "</table>\n",
       "</div>"
      ],
      "text/plain": [
       "                             names  color_wine   prices   ml  ratings  \\\n",
       "0     00 Wines VGW Chardonnay 2017  White Wine   79.99$  750      0.0   \n",
       "1     00 Wines VGR Pinot Noir 2019    Red Wine   99.99$  750      0.0   \n",
       "2     00 Wines EGW Chardonnay 2019  White Wine  115.99$  750      0.0   \n",
       "3  100 Nails Ranch Pinot Noir 2019    Red Wine   16.99$  750      0.0   \n",
       "4  100 Nails Ranch Chardonnay 2019  White Wine   16.99$  750      0.0   \n",
       "\n",
       "   ratingsnum                                   countrys   abv       rates  \n",
       "0           0  Chardonnay from Willamette Valley, Oregon  13.0  JS, WE, WS  \n",
       "1           0  Pinot Noir from Willamette Valley, Oregon  12.9  WE, JS, RP  \n",
       "2           0  Chardonnay from Willamette Valley, Oregon   0.0  JS, RP, WE  \n",
       "3           0  Pinot Noir from Central Coast, California  14.2          WW  \n",
       "4           0  Chardonnay from Sonoma County, California  14.2           0  "
      ]
     },
     "execution_count": 1028,
     "metadata": {},
     "output_type": "execute_result"
    }
   ],
   "source": [
    "df_wine_com.head()"
   ]
  },
  {
   "cell_type": "code",
   "execution_count": 1029,
   "metadata": {},
   "outputs": [
    {
     "data": {
      "text/plain": [
       "(15254, 9)"
      ]
     },
     "execution_count": 1029,
     "metadata": {},
     "output_type": "execute_result"
    }
   ],
   "source": [
    "df_wine_com.shape"
   ]
  },
  {
   "cell_type": "code",
   "execution_count": 1030,
   "metadata": {},
   "outputs": [],
   "source": [
    "df_wine_com.drop_duplicates(inplace=True)"
   ]
  },
  {
   "cell_type": "code",
   "execution_count": 1031,
   "metadata": {},
   "outputs": [],
   "source": [
    "# Correct prices \n",
    "df_wine_com['prices'] = df_wine_com['prices'].str.replace(',', '').str.replace('$', '').astype(float)"
   ]
  },
  {
   "cell_type": "code",
   "execution_count": 1032,
   "metadata": {},
   "outputs": [
    {
     "data": {
      "text/plain": [
       "vintage\n",
       "2019    3050\n",
       "2020    2873\n",
       "2018    2317\n",
       "2021    1788\n",
       "2017    1373\n",
       "Name: count, dtype: int64"
      ]
     },
     "execution_count": 1032,
     "metadata": {},
     "output_type": "execute_result"
    }
   ],
   "source": [
    "# Extract column for vintage from name column\n",
    "df_wine_com['vintage'] = df_wine_com['names'].apply(cf.get_vintage)\n",
    "df_wine_com['vintage'].value_counts().head()"
   ]
  },
  {
   "cell_type": "code",
   "execution_count": 1033,
   "metadata": {},
   "outputs": [
    {
     "data": {
      "image/png": "[encoded data removed]",
      "text/plain": [
       "<Figure size 640x480 with 1 Axes>"
      ]
     },
     "metadata": {},
     "output_type": "display_data"
    }
   ],
   "source": [
    "# Investigate very old wines\n",
    "old_wines = df_wine_com[df_wine_com['vintage'] < '1985']\n",
    "plt.hist(old_wines['prices'], bins=50)\n",
    "plt.axvline(x=200, color='r', linestyle='dashed', linewidth=1, label='$200');"
   ]
  },
  {
   "cell_type": "code",
   "execution_count": 1034,
   "metadata": {},
   "outputs": [],
   "source": [
    "'''\n",
    "Remove vintage for wines below $200 in price and 'older' than 1985, having investgated them \n",
    "individually these are wines with the established year of the producer in their name \n",
    "not the year grape was picked.\n",
    "'''\n",
    "df_wine_com.loc[(df_wine_com['prices'] < 200) & (df_wine_com['vintage'] < '1985'), 'vintage'] = 'unknown'"
   ]
  },
  {
   "cell_type": "code",
   "execution_count": 1035,
   "metadata": {},
   "outputs": [],
   "source": [
    "# Keep only 750ml bottles.\n",
    "df_wine_com = df_wine_com[df_wine_com['ml'] == 750].copy()\n",
    "df_wine_com.drop(columns=['ml'], inplace=True)"
   ]
  },
  {
   "cell_type": "code",
   "execution_count": 1036,
   "metadata": {},
   "outputs": [
    {
     "data": {
      "text/plain": [
       "color_wine\n",
       "Red Wine                 8983\n",
       "White Wine               3687\n",
       "Sparkling & Champagne     959\n",
       "Pink and Rosé             413\n",
       "0                         199\n",
       "Collectible                25\n",
       "Screw Cap                  20\n",
       "Boutique                    7\n",
       "Green Wine                  4\n",
       "Great Gift                  2\n",
       "Name: count, dtype: int64"
      ]
     },
     "execution_count": 1036,
     "metadata": {},
     "output_type": "execute_result"
    }
   ],
   "source": [
    "df_wine_com['color_wine'].value_counts()"
   ]
  },
  {
   "cell_type": "code",
   "execution_count": 1037,
   "metadata": {},
   "outputs": [
    {
     "data": {
      "text/plain": [
       "wine_variety\n",
       "red          8983\n",
       "white        3687\n",
       "sparkling     959\n",
       "rose          413\n",
       "other         257\n",
       "Name: count, dtype: int64"
      ]
     },
     "execution_count": 1037,
     "metadata": {},
     "output_type": "execute_result"
    }
   ],
   "source": [
    "df_wine_com['color_wine'] = df_wine_com['color_wine'].apply(cf.remove_accents)\n",
    "df_wine_com['wine_variety'] = df_wine_com['color_wine'].apply(cf.get_wine_variety)\n",
    "df_wine_com.drop(columns=['color_wine'], inplace=True)\n",
    "df_wine_com['wine_variety'].value_counts()"
   ]
  },
  {
   "cell_type": "code",
   "execution_count": 1038,
   "metadata": {},
   "outputs": [],
   "source": [
    "# Remove 'other' wine varieties\n",
    "df_wine_com = df_wine_com[df_wine_com['wine_variety'] != 'unknown'].copy()"
   ]
  },
  {
   "cell_type": "code",
   "execution_count": 1039,
   "metadata": {},
   "outputs": [],
   "source": [
    "# Rename columns \n",
    "df_wine_com.rename(columns = {'names' : 'name',\n",
    "                            'prices' : 'price',\n",
    "                            'ratings' : 'rating',\n",
    "                            'ratingsnum': 'rating_qty', \n",
    "                            'rates' : 'reviewed_by'}, inplace = True)"
   ]
  },
  {
   "cell_type": "code",
   "execution_count": 1040,
   "metadata": {},
   "outputs": [],
   "source": [
    "df_wine_com['name'] = df_wine_com['name'].apply(cf.uniform_strings)"
   ]
  },
  {
   "cell_type": "code",
   "execution_count": 1041,
   "metadata": {},
   "outputs": [],
   "source": [
    "df_wine_com['region'] = df_wine_com['countrys'].apply(cf.get_region)\n",
    "# Drop 33 wines where region was not found \n",
    "df_wine_com = df_wine_com[df_wine_com['region'] != 'unknown'].copy()"
   ]
  },
  {
   "cell_type": "code",
   "execution_count": 1042,
   "metadata": {},
   "outputs": [
    {
     "data": {
      "text/plain": [
       "country\n",
       "France          4128\n",
       "California      2845\n",
       "Italy           2381\n",
       "unknown         1363\n",
       "Spain            926\n",
       "Australia        433\n",
       "Argentina        407\n",
       "Washington       300\n",
       "Germany          258\n",
       "Oregon           241\n",
       "Chile            219\n",
       "Portugal         219\n",
       "New Zealand      202\n",
       "Other U.S.       107\n",
       "South Africa      99\n",
       "Austria           74\n",
       "Greece            62\n",
       "Canada             2\n",
       "Name: count, dtype: int64"
      ]
     },
     "execution_count": 1042,
     "metadata": {},
     "output_type": "execute_result"
    }
   ],
   "source": [
    "# Extract country name from country column \n",
    "df_wine_com['country'] = df_wine_com['countrys'].apply(cf.get_country)\n",
    "df_wine_com['country'].value_counts()"
   ]
  },
  {
   "cell_type": "code",
   "execution_count": 1043,
   "metadata": {},
   "outputs": [
    {
     "data": {
      "text/html": [
       "<div>\n",
       "<style scoped>\n",
       "    .dataframe tbody tr th:only-of-type {\n",
       "        vertical-align: middle;\n",
       "    }\n",
       "\n",
       "    .dataframe tbody tr th {\n",
       "        vertical-align: top;\n",
       "    }\n",
       "\n",
       "    .dataframe thead th {\n",
       "        text-align: right;\n",
       "    }\n",
       "</style>\n",
       "<table border=\"1\" class=\"dataframe\">\n",
       "  <thead>\n",
       "    <tr style=\"text-align: right;\">\n",
       "      <th></th>\n",
       "      <th>name</th>\n",
       "      <th>price</th>\n",
       "      <th>rating</th>\n",
       "      <th>rating_qty</th>\n",
       "      <th>countrys</th>\n",
       "      <th>abv</th>\n",
       "      <th>reviewed_by</th>\n",
       "      <th>vintage</th>\n",
       "      <th>wine_variety</th>\n",
       "      <th>region</th>\n",
       "      <th>country</th>\n",
       "    </tr>\n",
       "  </thead>\n",
       "  <tbody>\n",
       "    <tr>\n",
       "      <th>6</th>\n",
       "      <td>1000 Stories Bourbon Barrel Aged Prospectors P...</td>\n",
       "      <td>19.99</td>\n",
       "      <td>0.0</td>\n",
       "      <td>0</td>\n",
       "      <td>Cabernet Sauvignon from California</td>\n",
       "      <td>0.0</td>\n",
       "      <td>WW</td>\n",
       "      <td>2020</td>\n",
       "      <td>red</td>\n",
       "      <td>California</td>\n",
       "      <td>unknown</td>\n",
       "    </tr>\n",
       "    <tr>\n",
       "      <th>7</th>\n",
       "      <td>1000 Stories American Barrel Aged Pinot Noir 2020</td>\n",
       "      <td>17.99</td>\n",
       "      <td>0.0</td>\n",
       "      <td>0</td>\n",
       "      <td>Pinot Noir from California</td>\n",
       "      <td>14.5</td>\n",
       "      <td>0</td>\n",
       "      <td>2020</td>\n",
       "      <td>red</td>\n",
       "      <td>California</td>\n",
       "      <td>unknown</td>\n",
       "    </tr>\n",
       "    <tr>\n",
       "      <th>8</th>\n",
       "      <td>1000 Stories Bourbon Barrel Aged Zinfandel 2020</td>\n",
       "      <td>18.99</td>\n",
       "      <td>3.8</td>\n",
       "      <td>11</td>\n",
       "      <td>Zinfandel from California</td>\n",
       "      <td>15.5</td>\n",
       "      <td>WW</td>\n",
       "      <td>2020</td>\n",
       "      <td>red</td>\n",
       "      <td>California</td>\n",
       "      <td>unknown</td>\n",
       "    </tr>\n",
       "    <tr>\n",
       "      <th>9</th>\n",
       "      <td>1000 Stories Bourbon Barrel Aged Chardonnay 2019</td>\n",
       "      <td>19.99</td>\n",
       "      <td>4.4</td>\n",
       "      <td>10</td>\n",
       "      <td>Chardonnay from California</td>\n",
       "      <td>14.4</td>\n",
       "      <td>TP</td>\n",
       "      <td>2019</td>\n",
       "      <td>white</td>\n",
       "      <td>California</td>\n",
       "      <td>unknown</td>\n",
       "    </tr>\n",
       "    <tr>\n",
       "      <th>10</th>\n",
       "      <td>1000 Stories Bourbon Barrel Aged Prospectors P...</td>\n",
       "      <td>18.99</td>\n",
       "      <td>0.0</td>\n",
       "      <td>0</td>\n",
       "      <td>Cabernet Sauvignon from California</td>\n",
       "      <td>14.9</td>\n",
       "      <td>0</td>\n",
       "      <td>2018</td>\n",
       "      <td>red</td>\n",
       "      <td>California</td>\n",
       "      <td>unknown</td>\n",
       "    </tr>\n",
       "    <tr>\n",
       "      <th>...</th>\n",
       "      <td>...</td>\n",
       "      <td>...</td>\n",
       "      <td>...</td>\n",
       "      <td>...</td>\n",
       "      <td>...</td>\n",
       "      <td>...</td>\n",
       "      <td>...</td>\n",
       "      <td>...</td>\n",
       "      <td>...</td>\n",
       "      <td>...</td>\n",
       "      <td>...</td>\n",
       "    </tr>\n",
       "    <tr>\n",
       "      <th>15210</th>\n",
       "      <td>Vinos Atlantico Vera Vinho Verde Rose 2021</td>\n",
       "      <td>12.99</td>\n",
       "      <td>0.0</td>\n",
       "      <td>0</td>\n",
       "      <td>Rosé from Portugal</td>\n",
       "      <td>11.5</td>\n",
       "      <td>0</td>\n",
       "      <td>2021</td>\n",
       "      <td>rose</td>\n",
       "      <td>Portugal</td>\n",
       "      <td>unknown</td>\n",
       "    </tr>\n",
       "    <tr>\n",
       "      <th>15212</th>\n",
       "      <td>Vinos De Arganza Marques De Montejos Mencia 2020</td>\n",
       "      <td>13.99</td>\n",
       "      <td>0.0</td>\n",
       "      <td>0</td>\n",
       "      <td>Mencia from Spain</td>\n",
       "      <td>13.0</td>\n",
       "      <td>JS, WW</td>\n",
       "      <td>2020</td>\n",
       "      <td>red</td>\n",
       "      <td>Spain</td>\n",
       "      <td>unknown</td>\n",
       "    </tr>\n",
       "    <tr>\n",
       "      <th>15214</th>\n",
       "      <td>Vinos De Arganza Alvarez De Toledo Godello 2021</td>\n",
       "      <td>11.99</td>\n",
       "      <td>4.8</td>\n",
       "      <td>29</td>\n",
       "      <td>Godello from Spain</td>\n",
       "      <td>0.0</td>\n",
       "      <td>WW</td>\n",
       "      <td>2021</td>\n",
       "      <td>white</td>\n",
       "      <td>Spain</td>\n",
       "      <td>unknown</td>\n",
       "    </tr>\n",
       "    <tr>\n",
       "      <th>15215</th>\n",
       "      <td>Vinos De Arganza Palacio De Arganza Cabernet S...</td>\n",
       "      <td>13.99</td>\n",
       "      <td>4.8</td>\n",
       "      <td>30</td>\n",
       "      <td>Other Red Blends from Spain</td>\n",
       "      <td>13.0</td>\n",
       "      <td>JS, WW</td>\n",
       "      <td>2020</td>\n",
       "      <td>red</td>\n",
       "      <td>Spain</td>\n",
       "      <td>unknown</td>\n",
       "    </tr>\n",
       "    <tr>\n",
       "      <th>15216</th>\n",
       "      <td>Vinos De Arganza Palacio De Arganza Cabernet S...</td>\n",
       "      <td>13.99</td>\n",
       "      <td>4.5</td>\n",
       "      <td>38</td>\n",
       "      <td>Cabernet Sauvignon from Spain</td>\n",
       "      <td>13.0</td>\n",
       "      <td>JS, WW</td>\n",
       "      <td>2020</td>\n",
       "      <td>red</td>\n",
       "      <td>Spain</td>\n",
       "      <td>unknown</td>\n",
       "    </tr>\n",
       "  </tbody>\n",
       "</table>\n",
       "<p>1363 rows × 11 columns</p>\n",
       "</div>"
      ],
      "text/plain": [
       "                                                    name  price  rating  \\\n",
       "6      1000 Stories Bourbon Barrel Aged Prospectors P...  19.99     0.0   \n",
       "7      1000 Stories American Barrel Aged Pinot Noir 2020  17.99     0.0   \n",
       "8        1000 Stories Bourbon Barrel Aged Zinfandel 2020  18.99     3.8   \n",
       "9       1000 Stories Bourbon Barrel Aged Chardonnay 2019  19.99     4.4   \n",
       "10     1000 Stories Bourbon Barrel Aged Prospectors P...  18.99     0.0   \n",
       "...                                                  ...    ...     ...   \n",
       "15210         Vinos Atlantico Vera Vinho Verde Rose 2021  12.99     0.0   \n",
       "15212   Vinos De Arganza Marques De Montejos Mencia 2020  13.99     0.0   \n",
       "15214    Vinos De Arganza Alvarez De Toledo Godello 2021  11.99     4.8   \n",
       "15215  Vinos De Arganza Palacio De Arganza Cabernet S...  13.99     4.8   \n",
       "15216  Vinos De Arganza Palacio De Arganza Cabernet S...  13.99     4.5   \n",
       "\n",
       "       rating_qty                            countrys   abv reviewed_by  \\\n",
       "6               0  Cabernet Sauvignon from California   0.0          WW   \n",
       "7               0          Pinot Noir from California  14.5           0   \n",
       "8              11           Zinfandel from California  15.5          WW   \n",
       "9              10          Chardonnay from California  14.4          TP   \n",
       "10              0  Cabernet Sauvignon from California  14.9           0   \n",
       "...           ...                                 ...   ...         ...   \n",
       "15210           0                  Rosé from Portugal  11.5           0   \n",
       "15212           0                   Mencia from Spain  13.0      JS, WW   \n",
       "15214          29                  Godello from Spain   0.0          WW   \n",
       "15215          30         Other Red Blends from Spain  13.0      JS, WW   \n",
       "15216          38       Cabernet Sauvignon from Spain  13.0      JS, WW   \n",
       "\n",
       "      vintage wine_variety      region  country  \n",
       "6        2020          red  California  unknown  \n",
       "7        2020          red  California  unknown  \n",
       "8        2020          red  California  unknown  \n",
       "9        2019        white  California  unknown  \n",
       "10       2018          red  California  unknown  \n",
       "...       ...          ...         ...      ...  \n",
       "15210    2021         rose    Portugal  unknown  \n",
       "15212    2020          red       Spain  unknown  \n",
       "15214    2021        white       Spain  unknown  \n",
       "15215    2020          red       Spain  unknown  \n",
       "15216    2020          red       Spain  unknown  \n",
       "\n",
       "[1363 rows x 11 columns]"
      ]
     },
     "execution_count": 1043,
     "metadata": {},
     "output_type": "execute_result"
    }
   ],
   "source": [
    "# Investigate the unknown countries \n",
    "df_wine_com[df_wine_com['country'] == 'unknown']"
   ]
  },
  {
   "cell_type": "code",
   "execution_count": 1044,
   "metadata": {},
   "outputs": [],
   "source": [
    "df_wine_com.loc[df_wine_com['region'].isin(cf.us_states), 'country'] = 'United States'"
   ]
  },
  {
   "cell_type": "code",
   "execution_count": 1045,
   "metadata": {},
   "outputs": [
    {
     "data": {
      "text/plain": [
       "region\n",
       "Israel               115\n",
       "South Africa         105\n",
       "Chile                 70\n",
       "Portugal              70\n",
       "Spain                 69\n",
       "France                60\n",
       "Italy                 55\n",
       "Argentina             32\n",
       "Uruguay               23\n",
       "Austria               23\n",
       "Greece                23\n",
       "Australia             20\n",
       "Lebanon               11\n",
       "England               10\n",
       "Slovenia               9\n",
       "Germany                9\n",
       "Hungary                8\n",
       "Croatia                6\n",
       "Brazil                 5\n",
       "New Zealand            3\n",
       "Armenia                3\n",
       "China                  2\n",
       "Other                  2\n",
       "Macedonia (FYROM)      2\n",
       "Other U.S.             1\n",
       "Name: count, dtype: int64"
      ]
     },
     "execution_count": 1045,
     "metadata": {},
     "output_type": "execute_result"
    }
   ],
   "source": [
    "# All unknown countries are cases where no region was available. The country was populated in the region or a US state. \n",
    "region_problems = df_wine_com[df_wine_com['country'] == 'unknown']\n",
    "region_problems['region'].value_counts()"
   ]
  },
  {
   "cell_type": "code",
   "execution_count": 1046,
   "metadata": {},
   "outputs": [
    {
     "data": {
      "text/plain": [
       "country\n",
       "France           4188\n",
       "United States    4121\n",
       "Italy            2436\n",
       "Spain             995\n",
       "Australia         453\n",
       "Argentina         439\n",
       "Portugal          289\n",
       "Chile             289\n",
       "Germany           267\n",
       "New Zealand       205\n",
       "South Africa      204\n",
       "Israel            115\n",
       "Austria            97\n",
       "Greece             85\n",
       "Uruguay            23\n",
       "Lebanon            11\n",
       "England            10\n",
       "Slovenia            9\n",
       "Hungary             8\n",
       "Croatia             6\n",
       "Brazil              5\n",
       "Armenia             3\n",
       "China               2\n",
       "Other               2\n",
       "Canada              2\n",
       "Macedonia           2\n",
       "Name: count, dtype: int64"
      ]
     },
     "execution_count": 1046,
     "metadata": {},
     "output_type": "execute_result"
    }
   ],
   "source": [
    "# move those regions that are countries to the country column \n",
    "df_wine_com.loc[df_wine_com['country'] == 'unknown', 'country'] = df_wine_com.loc[df_wine_com['country'] == 'unknown', 'region']\n",
    "# make those regions that are countries 'unknown'\n",
    "df_wine_com.loc[df_wine_com['region'] == df_wine_com['country'], 'region'] = 'unknown'\n",
    "# combine U.S. and Other U.S.\n",
    "df_wine_com.loc[df_wine_com['country'] == 'Other U.S.', 'country'] = 'United States'\n",
    "# combine all U.S. and Other U.S.\n",
    "df_wine_com.loc[df_wine_com['country'] == 'California', 'country'] = 'United States'\n",
    "df_wine_com.loc[df_wine_com['country'] == 'Washington', 'country'] = 'United States'\n",
    "df_wine_com.loc[df_wine_com['country'] == 'Oregon', 'country'] = 'United States'\n",
    "# rename macedonia \n",
    "df_wine_com.loc[df_wine_com['country'] == 'Macedonia (FYROM)', 'country'] = 'Macedonia'\n",
    "\n",
    "df_wine_com['country'].value_counts()"
   ]
  },
  {
   "cell_type": "code",
   "execution_count": 1047,
   "metadata": {},
   "outputs": [],
   "source": [
    "df_wine_com['grape_variety'] = df_wine_com['countrys'].apply(cf.get_grape_1)"
   ]
  },
  {
   "cell_type": "code",
   "execution_count": 1048,
   "metadata": {
    "tags": []
   },
   "outputs": [],
   "source": [
    "# EXTRACT PRODUCER NAMES \n",
    "# Step 1 - Match with producers from other datasets and custom list in cleaning_functions.py \n",
    "all_producers = list(df_viv_1['winery'].unique()) + list(df_viv_2['winery'].unique()) + cf.custom_producer_list\n",
    "all_producers  = [cf.uniform_strings(word) for word in all_producers]\n",
    "all_producers.remove('Domaine De La')"
   ]
  },
  {
   "cell_type": "code",
   "execution_count": 1049,
   "metadata": {},
   "outputs": [],
   "source": [
    "df_wine_com['name'] = df_wine_com['name'].apply(cf.uniform_strings)"
   ]
  },
  {
   "cell_type": "code",
   "execution_count": 1050,
   "metadata": {},
   "outputs": [],
   "source": [
    "# 71% of producers matched by finding producer names from other datasets and custom list in cleaning_functions.py\n",
    "# X producers matched 4171 remaining (total 14266)\n",
    "df_wine_com['producer_clean'] = df_wine_com['name'].apply(lambda x: cf.extract_string(x, all_producers))"
   ]
  },
  {
   "cell_type": "code",
   "execution_count": 1051,
   "metadata": {},
   "outputs": [
    {
     "data": {
      "text/plain": [
       "producer_clean\n",
       "review          4170\n",
       "Louis Latour      80\n",
       "Sine Qua Non      57\n",
       "Ridge             49\n",
       "Chanson           35\n",
       "Name: count, dtype: int64"
      ]
     },
     "execution_count": 1051,
     "metadata": {},
     "output_type": "execute_result"
    }
   ],
   "source": [
    "check_wine = df_wine_com[df_wine_com['producer_clean'] == 'review']\n",
    "check_wine.shape\n",
    "df_wine_com['producer_clean'].value_counts().head()"
   ]
  },
  {
   "cell_type": "code",
   "execution_count": 1052,
   "metadata": {},
   "outputs": [],
   "source": [
    "# test = 'Wine De LA Abbona'\n",
    "# test1 = \"Wine De LA Annabella\"\n",
    "# test2 = '1849 wine wine'\n",
    "# test3 = 'Aj Adam D Hofberg'\n",
    "# test4 = 'Ydooker Gigglepot'\n",
    "# test5 = 'Mollydooker Blue Eyed Boy Shiraz 2020'\n",
    "# test6 = 'Reira Dona Antonia 10 Year Tawny Port'\n",
    "# test7 = 'Tamarack Cellars Firehouse Red 2019'\n",
    "# test8 = 'Domaine De La Charbonniere Chateauneufdupape Mourre Des Perdrix 2016'\n",
    "# extract_string(test8, all_producers)"
   ]
  },
  {
   "cell_type": "code",
   "execution_count": 1053,
   "metadata": {},
   "outputs": [],
   "source": [
    "# STEP 2 - Isolate part before grape names in column 'name' import list of grape varieties.\n",
    "# This removes grape and year from X leaving X for review. X producers remain that have not be captured by first 2 steps. \n",
    "grape_list_long = pd.read_csv('../data/grape_varieties.csv')\n",
    "grape_list_long.drop(columns = ['Unnamed: 0'], inplace = True)\n",
    "varietal_set_long = set(grape_list_long['Variety'].dropna().apply(lambda x: cf.uniform_strings(x).strip().lower()))"
   ]
  },
  {
   "cell_type": "code",
   "execution_count": 1054,
   "metadata": {},
   "outputs": [],
   "source": [
    "# test = 'Chardonnay Vinny  oz Mc Vinard Malbec  2002'\n",
    "# test1 = 'Vinny Mc Vinard Malbec Chardonnay Cats 2002'\n",
    "# test2 = 'Vinny Mc Vinard don Don 2002'\n",
    "# test3 = 'Vinny Mc Vinard Pinot Noir 2002'\n",
    "# test4 = 'Chardon Don Vineyard Chardonnay 2020'\n",
    "# test5 = 'Aj Adam Hofberg Reserve Riesling Trocken 2019' # ISSUE HERE WITH {GRAPE}{OTHER-STRING}{YEAR}\n",
    "# test6 = 'Aj Adam Hofberg Reserve Riesling 2020'\n",
    "\n",
    "# cf.remove_varietal(test6, varietal_set_long)"
   ]
  },
  {
   "cell_type": "code",
   "execution_count": 1055,
   "metadata": {},
   "outputs": [],
   "source": [
    "df_wine_com['producer_varietal_removed'] = df_wine_com['name'].apply(lambda x : cf.remove_varietal(x, varietal_set_long))"
   ]
  },
  {
   "cell_type": "code",
   "execution_count": 1056,
   "metadata": {},
   "outputs": [
    {
     "data": {
      "text/html": [
       "<div>\n",
       "<style scoped>\n",
       "    .dataframe tbody tr th:only-of-type {\n",
       "        vertical-align: middle;\n",
       "    }\n",
       "\n",
       "    .dataframe tbody tr th {\n",
       "        vertical-align: top;\n",
       "    }\n",
       "\n",
       "    .dataframe thead th {\n",
       "        text-align: right;\n",
       "    }\n",
       "</style>\n",
       "<table border=\"1\" class=\"dataframe\">\n",
       "  <thead>\n",
       "    <tr style=\"text-align: right;\">\n",
       "      <th></th>\n",
       "      <th>name</th>\n",
       "      <th>price</th>\n",
       "      <th>rating</th>\n",
       "      <th>rating_qty</th>\n",
       "      <th>countrys</th>\n",
       "      <th>abv</th>\n",
       "      <th>reviewed_by</th>\n",
       "      <th>vintage</th>\n",
       "      <th>wine_variety</th>\n",
       "      <th>region</th>\n",
       "      <th>country</th>\n",
       "      <th>grape_variety</th>\n",
       "      <th>producer_clean</th>\n",
       "      <th>producer_varietal_removed</th>\n",
       "    </tr>\n",
       "  </thead>\n",
       "  <tbody>\n",
       "    <tr>\n",
       "      <th>13</th>\n",
       "      <td>12 Linajes Crianza 2014</td>\n",
       "      <td>31.99</td>\n",
       "      <td>3.9</td>\n",
       "      <td>17</td>\n",
       "      <td>Tempranillo from Ribera del Duero, Spain</td>\n",
       "      <td>14.5</td>\n",
       "      <td>WE</td>\n",
       "      <td>2014</td>\n",
       "      <td>red</td>\n",
       "      <td>Ribera del Duero</td>\n",
       "      <td>Spain</td>\n",
       "      <td>Tempranillo</td>\n",
       "      <td>12 Linajes</td>\n",
       "      <td>review</td>\n",
       "    </tr>\n",
       "    <tr>\n",
       "      <th>35</th>\n",
       "      <td>19 Crimes The Warden 2018</td>\n",
       "      <td>20.99</td>\n",
       "      <td>3.7</td>\n",
       "      <td>12</td>\n",
       "      <td>Syrah/Shiraz from South East Australia, Australia</td>\n",
       "      <td>0.0</td>\n",
       "      <td>0</td>\n",
       "      <td>2018</td>\n",
       "      <td>red</td>\n",
       "      <td>South East Australia</td>\n",
       "      <td>Australia</td>\n",
       "      <td>Syrah/Shiraz</td>\n",
       "      <td>19 Crimes</td>\n",
       "      <td>review</td>\n",
       "    </tr>\n",
       "    <tr>\n",
       "      <th>36</th>\n",
       "      <td>19 Crimes Hard Chard 2021</td>\n",
       "      <td>20.99</td>\n",
       "      <td>3.0</td>\n",
       "      <td>13</td>\n",
       "      <td>Chardonnay from Australia</td>\n",
       "      <td>14.0</td>\n",
       "      <td>0</td>\n",
       "      <td>2021</td>\n",
       "      <td>white</td>\n",
       "      <td>unknown</td>\n",
       "      <td>Australia</td>\n",
       "      <td>Chardonnay</td>\n",
       "      <td>19 Crimes</td>\n",
       "      <td>review</td>\n",
       "    </tr>\n",
       "    <tr>\n",
       "      <th>37</th>\n",
       "      <td>19 Crimes Marthas Chard 2020</td>\n",
       "      <td>13.99</td>\n",
       "      <td>3.8</td>\n",
       "      <td>24</td>\n",
       "      <td>Chardonnay from California</td>\n",
       "      <td>13.8</td>\n",
       "      <td>0</td>\n",
       "      <td>2020</td>\n",
       "      <td>white</td>\n",
       "      <td>California</td>\n",
       "      <td>United States</td>\n",
       "      <td>Chardonnay</td>\n",
       "      <td>19 Crimes</td>\n",
       "      <td>review</td>\n",
       "    </tr>\n",
       "    <tr>\n",
       "      <th>38</th>\n",
       "      <td>19 Crimes The Uprising 2020</td>\n",
       "      <td>11.99</td>\n",
       "      <td>4.1</td>\n",
       "      <td>41</td>\n",
       "      <td>Other Red Blends from Australia</td>\n",
       "      <td>0.0</td>\n",
       "      <td>0</td>\n",
       "      <td>2020</td>\n",
       "      <td>red</td>\n",
       "      <td>unknown</td>\n",
       "      <td>Australia</td>\n",
       "      <td>Other Red Blends</td>\n",
       "      <td>19 Crimes</td>\n",
       "      <td>review</td>\n",
       "    </tr>\n",
       "    <tr>\n",
       "      <th>...</th>\n",
       "      <td>...</td>\n",
       "      <td>...</td>\n",
       "      <td>...</td>\n",
       "      <td>...</td>\n",
       "      <td>...</td>\n",
       "      <td>...</td>\n",
       "      <td>...</td>\n",
       "      <td>...</td>\n",
       "      <td>...</td>\n",
       "      <td>...</td>\n",
       "      <td>...</td>\n",
       "      <td>...</td>\n",
       "      <td>...</td>\n",
       "      <td>...</td>\n",
       "    </tr>\n",
       "    <tr>\n",
       "      <th>15242</th>\n",
       "      <td>Viticcio Chianti Classico 2018</td>\n",
       "      <td>21.99</td>\n",
       "      <td>0.0</td>\n",
       "      <td>0</td>\n",
       "      <td>Sangiovese from Chianti Classico, Chianti, Tus...</td>\n",
       "      <td>14.0</td>\n",
       "      <td>0</td>\n",
       "      <td>2018</td>\n",
       "      <td>red</td>\n",
       "      <td>Chianti Classico</td>\n",
       "      <td>Italy</td>\n",
       "      <td>Sangiovese</td>\n",
       "      <td>Viticcio</td>\n",
       "      <td>review</td>\n",
       "    </tr>\n",
       "    <tr>\n",
       "      <th>15244</th>\n",
       "      <td>Vivaltus 2016</td>\n",
       "      <td>99.99</td>\n",
       "      <td>0.0</td>\n",
       "      <td>0</td>\n",
       "      <td>Tempranillo from Ribera del Duero, Spain</td>\n",
       "      <td>0.0</td>\n",
       "      <td>D, RP</td>\n",
       "      <td>2016</td>\n",
       "      <td>red</td>\n",
       "      <td>Ribera del Duero</td>\n",
       "      <td>Spain</td>\n",
       "      <td>Tempranillo</td>\n",
       "      <td>Vivaltus</td>\n",
       "      <td>review</td>\n",
       "    </tr>\n",
       "    <tr>\n",
       "      <th>15246</th>\n",
       "      <td>Vivaltus La Fleur Vivaltus 2016</td>\n",
       "      <td>46.99</td>\n",
       "      <td>0.0</td>\n",
       "      <td>0</td>\n",
       "      <td>Tempranillo from Ribera del Duero, Spain</td>\n",
       "      <td>14.5</td>\n",
       "      <td>RP</td>\n",
       "      <td>2016</td>\n",
       "      <td>red</td>\n",
       "      <td>Ribera del Duero</td>\n",
       "      <td>Spain</td>\n",
       "      <td>Tempranillo</td>\n",
       "      <td>Vivaltus</td>\n",
       "      <td>review</td>\n",
       "    </tr>\n",
       "    <tr>\n",
       "      <th>15247</th>\n",
       "      <td>Vivanco Rioja Blanco 2019</td>\n",
       "      <td>14.99</td>\n",
       "      <td>3.8</td>\n",
       "      <td>6</td>\n",
       "      <td>Other White Blends from Rioja, Spain</td>\n",
       "      <td>13.0</td>\n",
       "      <td>0</td>\n",
       "      <td>2019</td>\n",
       "      <td>white</td>\n",
       "      <td>Rioja</td>\n",
       "      <td>Spain</td>\n",
       "      <td>Other White Blends</td>\n",
       "      <td>Vivanco</td>\n",
       "      <td>review</td>\n",
       "    </tr>\n",
       "    <tr>\n",
       "      <th>15248</th>\n",
       "      <td>Vivanco Reserva Rioja Seleccion De Familia 2014</td>\n",
       "      <td>29.99</td>\n",
       "      <td>3.8</td>\n",
       "      <td>13</td>\n",
       "      <td>Tempranillo from Rioja, Spain</td>\n",
       "      <td>14.5</td>\n",
       "      <td>0</td>\n",
       "      <td>2014</td>\n",
       "      <td>red</td>\n",
       "      <td>Rioja</td>\n",
       "      <td>Spain</td>\n",
       "      <td>Tempranillo</td>\n",
       "      <td>Vivanco</td>\n",
       "      <td>review</td>\n",
       "    </tr>\n",
       "  </tbody>\n",
       "</table>\n",
       "<p>5779 rows × 14 columns</p>\n",
       "</div>"
      ],
      "text/plain": [
       "                                                  name  price  rating  \\\n",
       "13                             12 Linajes Crianza 2014  31.99     3.9   \n",
       "35                           19 Crimes The Warden 2018  20.99     3.7   \n",
       "36                           19 Crimes Hard Chard 2021  20.99     3.0   \n",
       "37                        19 Crimes Marthas Chard 2020  13.99     3.8   \n",
       "38                         19 Crimes The Uprising 2020  11.99     4.1   \n",
       "...                                                ...    ...     ...   \n",
       "15242                   Viticcio Chianti Classico 2018  21.99     0.0   \n",
       "15244                                    Vivaltus 2016  99.99     0.0   \n",
       "15246                  Vivaltus La Fleur Vivaltus 2016  46.99     0.0   \n",
       "15247                        Vivanco Rioja Blanco 2019  14.99     3.8   \n",
       "15248  Vivanco Reserva Rioja Seleccion De Familia 2014  29.99     3.8   \n",
       "\n",
       "       rating_qty                                           countrys   abv  \\\n",
       "13             17           Tempranillo from Ribera del Duero, Spain  14.5   \n",
       "35             12  Syrah/Shiraz from South East Australia, Australia   0.0   \n",
       "36             13                          Chardonnay from Australia  14.0   \n",
       "37             24                         Chardonnay from California  13.8   \n",
       "38             41                    Other Red Blends from Australia   0.0   \n",
       "...           ...                                                ...   ...   \n",
       "15242           0  Sangiovese from Chianti Classico, Chianti, Tus...  14.0   \n",
       "15244           0           Tempranillo from Ribera del Duero, Spain   0.0   \n",
       "15246           0           Tempranillo from Ribera del Duero, Spain  14.5   \n",
       "15247           6               Other White Blends from Rioja, Spain  13.0   \n",
       "15248          13                      Tempranillo from Rioja, Spain  14.5   \n",
       "\n",
       "      reviewed_by vintage wine_variety                region        country  \\\n",
       "13             WE    2014          red      Ribera del Duero          Spain   \n",
       "35              0    2018          red  South East Australia      Australia   \n",
       "36              0    2021        white               unknown      Australia   \n",
       "37              0    2020        white            California  United States   \n",
       "38              0    2020          red               unknown      Australia   \n",
       "...           ...     ...          ...                   ...            ...   \n",
       "15242           0    2018          red      Chianti Classico          Italy   \n",
       "15244       D, RP    2016          red      Ribera del Duero          Spain   \n",
       "15246          RP    2016          red      Ribera del Duero          Spain   \n",
       "15247           0    2019        white                 Rioja          Spain   \n",
       "15248           0    2014          red                 Rioja          Spain   \n",
       "\n",
       "            grape_variety producer_clean producer_varietal_removed  \n",
       "13            Tempranillo     12 Linajes                    review  \n",
       "35           Syrah/Shiraz      19 Crimes                    review  \n",
       "36             Chardonnay      19 Crimes                    review  \n",
       "37             Chardonnay      19 Crimes                    review  \n",
       "38       Other Red Blends      19 Crimes                    review  \n",
       "...                   ...            ...                       ...  \n",
       "15242          Sangiovese       Viticcio                    review  \n",
       "15244         Tempranillo       Vivaltus                    review  \n",
       "15246         Tempranillo       Vivaltus                    review  \n",
       "15247  Other White Blends        Vivanco                    review  \n",
       "15248         Tempranillo        Vivanco                    review  \n",
       "\n",
       "[5779 rows x 14 columns]"
      ]
     },
     "execution_count": 1056,
     "metadata": {},
     "output_type": "execute_result"
    }
   ],
   "source": [
    "df_wine_com[(df_wine_com['producer_varietal_removed'] == 'review')]"
   ]
  },
  {
   "cell_type": "code",
   "execution_count": 1057,
   "metadata": {},
   "outputs": [],
   "source": [
    "df_wine_com.loc[df_wine_com['abv'] == 0, 'abv'] = np.nan"
   ]
  },
  {
   "cell_type": "code",
   "execution_count": 1058,
   "metadata": {},
   "outputs": [
    {
     "data": {
      "text/plain": [
       "(1956, 14)"
      ]
     },
     "execution_count": 1058,
     "metadata": {},
     "output_type": "execute_result"
    }
   ],
   "source": [
    "#2047 producers remain that have not be captured by first 2 steps. \n",
    "df_wine_com[(df_wine_com['producer_varietal_removed'] == 'review') & (df_wine_com['producer_clean'] == 'review')].shape"
   ]
  },
  {
   "cell_type": "code",
   "execution_count": 1059,
   "metadata": {},
   "outputs": [],
   "source": [
    "df_wine_com['producer_dirty'] = df_wine_com['name'].apply(cf.get_dirty_producer)"
   ]
  },
  {
   "cell_type": "code",
   "execution_count": 1060,
   "metadata": {},
   "outputs": [],
   "source": [
    "# # Done iteratively to add to custom producer list in cleaning_functions\n",
    "# for i in np.sort(df_wine_com['producer_dirty'].unique()):\n",
    "#     print(i)"
   ]
  },
  {
   "cell_type": "code",
   "execution_count": 1061,
   "metadata": {},
   "outputs": [],
   "source": [
    "# # Check --> (6405,)\n",
    "# df_wine_com['producer_dirty'].unique().shape"
   ]
  },
  {
   "cell_type": "code",
   "execution_count": 1062,
   "metadata": {},
   "outputs": [],
   "source": [
    "shorterned_df = df_wine_com[(df_wine_com['producer_clean'] == 'review') &(df_wine_com['producer_varietal_removed'] == 'review')]"
   ]
  },
  {
   "cell_type": "code",
   "execution_count": 1063,
   "metadata": {},
   "outputs": [],
   "source": [
    "all_remaining_producers =  shorterned_df['producer_dirty'].value_counts().index\n",
    "all_remaining_producers = all_remaining_producers.sort_values()"
   ]
  },
  {
   "cell_type": "code",
   "execution_count": 1064,
   "metadata": {},
   "outputs": [
    {
     "data": {
      "text/plain": [
       "count    14266.000000\n",
       "mean        10.439577\n",
       "std         49.378628\n",
       "min          0.000000\n",
       "25%          0.000000\n",
       "50%          0.000000\n",
       "75%          6.000000\n",
       "max       1829.000000\n",
       "Name: rating_qty, dtype: float64"
      ]
     },
     "execution_count": 1064,
     "metadata": {},
     "output_type": "execute_result"
    }
   ],
   "source": [
    "# No minimum number of ratings set for this scrape. \n",
    "df_wine_com['rating_qty'].describe()"
   ]
  },
  {
   "cell_type": "code",
   "execution_count": 1065,
   "metadata": {},
   "outputs": [],
   "source": [
    "df_wine_com['combined_methods_producer'] = df_wine_com.apply(cf.combine_methods, axis = 1)"
   ]
  },
  {
   "cell_type": "code",
   "execution_count": 1066,
   "metadata": {},
   "outputs": [
    {
     "data": {
      "text/plain": [
       "combined_methods_producer\n",
       "Louis Latour                     80\n",
       "Sine Qua Non                     57\n",
       "Ridge                            49\n",
       "Chanson                          35\n",
       "Guigal                           33\n",
       "                                 ..\n",
       "Le Coeur De La Reine Touraine     1\n",
       "Chateau De Fieuzal                1\n",
       "Le Casematte Peloro               1\n",
       "Le Cardinale De S                 1\n",
       "Frisk Prickly                     1\n",
       "Name: count, Length: 4515, dtype: int64"
      ]
     },
     "execution_count": 1066,
     "metadata": {},
     "output_type": "execute_result"
    }
   ],
   "source": [
    "df_wine_com['combined_methods_producer'].value_counts()"
   ]
  },
  {
   "cell_type": "code",
   "execution_count": 1067,
   "metadata": {},
   "outputs": [],
   "source": [
    "df_wine_com['producer'] = df_wine_com['combined_methods_producer']"
   ]
  },
  {
   "cell_type": "code",
   "execution_count": 1068,
   "metadata": {},
   "outputs": [
    {
     "data": {
      "text/html": [
       "<div>\n",
       "<style scoped>\n",
       "    .dataframe tbody tr th:only-of-type {\n",
       "        vertical-align: middle;\n",
       "    }\n",
       "\n",
       "    .dataframe tbody tr th {\n",
       "        vertical-align: top;\n",
       "    }\n",
       "\n",
       "    .dataframe thead th {\n",
       "        text-align: right;\n",
       "    }\n",
       "</style>\n",
       "<table border=\"1\" class=\"dataframe\">\n",
       "  <thead>\n",
       "    <tr style=\"text-align: right;\">\n",
       "      <th></th>\n",
       "      <th>name</th>\n",
       "      <th>price</th>\n",
       "      <th>rating</th>\n",
       "      <th>rating_qty</th>\n",
       "      <th>countrys</th>\n",
       "      <th>abv</th>\n",
       "      <th>reviewed_by</th>\n",
       "      <th>vintage</th>\n",
       "      <th>wine_variety</th>\n",
       "      <th>region</th>\n",
       "      <th>country</th>\n",
       "      <th>grape_variety</th>\n",
       "      <th>producer_clean</th>\n",
       "      <th>producer_varietal_removed</th>\n",
       "      <th>producer_dirty</th>\n",
       "      <th>combined_methods_producer</th>\n",
       "      <th>producer</th>\n",
       "    </tr>\n",
       "  </thead>\n",
       "  <tbody>\n",
       "    <tr>\n",
       "      <th>3810</th>\n",
       "      <td>Chateau Petrus 2016</td>\n",
       "      <td>9999.99</td>\n",
       "      <td>4.7</td>\n",
       "      <td>11</td>\n",
       "      <td>Bordeaux Red Blends from Pomerol, Bordeaux, Fr...</td>\n",
       "      <td>14.5</td>\n",
       "      <td>JS, RP, D, JD, WE, WS</td>\n",
       "      <td>2016</td>\n",
       "      <td>red</td>\n",
       "      <td>Pomerol</td>\n",
       "      <td>France</td>\n",
       "      <td>Bordeaux Red Blends</td>\n",
       "      <td>Petrus</td>\n",
       "      <td>review</td>\n",
       "      <td>Chateau Petrus</td>\n",
       "      <td>Petrus</td>\n",
       "      <td>Petrus</td>\n",
       "    </tr>\n",
       "  </tbody>\n",
       "</table>\n",
       "</div>"
      ],
      "text/plain": [
       "                     name    price  rating  rating_qty  \\\n",
       "3810  Chateau Petrus 2016  9999.99     4.7          11   \n",
       "\n",
       "                                               countrys   abv  \\\n",
       "3810  Bordeaux Red Blends from Pomerol, Bordeaux, Fr...  14.5   \n",
       "\n",
       "                reviewed_by vintage wine_variety   region country  \\\n",
       "3810  JS, RP, D, JD, WE, WS    2016          red  Pomerol  France   \n",
       "\n",
       "            grape_variety producer_clean producer_varietal_removed  \\\n",
       "3810  Bordeaux Red Blends         Petrus                    review   \n",
       "\n",
       "      producer_dirty combined_methods_producer producer  \n",
       "3810  Chateau Petrus                    Petrus   Petrus  "
      ]
     },
     "execution_count": 1068,
     "metadata": {},
     "output_type": "execute_result"
    }
   ],
   "source": [
    "# Investgate wine of price 9999.99\n",
    "df_wine_com[df_wine_com['price'] == 9999.99]\n",
    "# This is a collectable highly prized wine producer Chateau Petrus, explaining the high price"
   ]
  },
  {
   "cell_type": "code",
   "execution_count": 1069,
   "metadata": {},
   "outputs": [],
   "source": [
    "# Convert price to GBP £ using https://www.xe.com/currencytables/ at exchange rate date of scrape. \n",
    "df_wine_com['price'] = round((df_wine_com['price'] * 0.8214659183132513),2)"
   ]
  },
  {
   "cell_type": "code",
   "execution_count": 1070,
   "metadata": {},
   "outputs": [],
   "source": [
    "df_wine_com['from_vivino'] = False\n",
    "df_wine_com.drop(columns=['producer_clean', 'producer_varietal_removed',\n",
    "                            'producer_dirty', 'combined_methods_producer' ], inplace=True)"
   ]
  },
  {
   "cell_type": "markdown",
   "metadata": {},
   "source": [
    "# Cleaning Vivino 1 Dataset"
   ]
  },
  {
   "cell_type": "code",
   "execution_count": 1071,
   "metadata": {},
   "outputs": [
    {
     "data": {
      "text/html": [
       "<div>\n",
       "<style scoped>\n",
       "    .dataframe tbody tr th:only-of-type {\n",
       "        vertical-align: middle;\n",
       "    }\n",
       "\n",
       "    .dataframe tbody tr th {\n",
       "        vertical-align: top;\n",
       "    }\n",
       "\n",
       "    .dataframe thead th {\n",
       "        text-align: right;\n",
       "    }\n",
       "</style>\n",
       "<table border=\"1\" class=\"dataframe\">\n",
       "  <thead>\n",
       "    <tr style=\"text-align: right;\">\n",
       "      <th></th>\n",
       "      <th>name</th>\n",
       "      <th>country</th>\n",
       "      <th>region</th>\n",
       "      <th>winery</th>\n",
       "      <th>rating</th>\n",
       "      <th>numberofratings</th>\n",
       "      <th>price</th>\n",
       "      <th>year</th>\n",
       "      <th>category</th>\n",
       "    </tr>\n",
       "  </thead>\n",
       "  <tbody>\n",
       "    <tr>\n",
       "      <th>0</th>\n",
       "      <td>Pomerol 2011</td>\n",
       "      <td>France</td>\n",
       "      <td>Pomerol</td>\n",
       "      <td>Château La Providence</td>\n",
       "      <td>4.2</td>\n",
       "      <td>100</td>\n",
       "      <td>95.00</td>\n",
       "      <td>2011</td>\n",
       "      <td>red</td>\n",
       "    </tr>\n",
       "    <tr>\n",
       "      <th>1</th>\n",
       "      <td>Lirac 2017</td>\n",
       "      <td>France</td>\n",
       "      <td>Lirac</td>\n",
       "      <td>Château Mont-Redon</td>\n",
       "      <td>4.3</td>\n",
       "      <td>100</td>\n",
       "      <td>15.50</td>\n",
       "      <td>2017</td>\n",
       "      <td>red</td>\n",
       "    </tr>\n",
       "    <tr>\n",
       "      <th>2</th>\n",
       "      <td>Erta e China Rosso di Toscana 2015</td>\n",
       "      <td>Italy</td>\n",
       "      <td>Toscana</td>\n",
       "      <td>Renzo Masi</td>\n",
       "      <td>3.9</td>\n",
       "      <td>100</td>\n",
       "      <td>7.45</td>\n",
       "      <td>2015</td>\n",
       "      <td>red</td>\n",
       "    </tr>\n",
       "    <tr>\n",
       "      <th>3</th>\n",
       "      <td>Bardolino 2019</td>\n",
       "      <td>Italy</td>\n",
       "      <td>Bardolino</td>\n",
       "      <td>Cavalchina</td>\n",
       "      <td>3.5</td>\n",
       "      <td>100</td>\n",
       "      <td>8.72</td>\n",
       "      <td>2019</td>\n",
       "      <td>red</td>\n",
       "    </tr>\n",
       "    <tr>\n",
       "      <th>4</th>\n",
       "      <td>Ried Scheibner Pinot Noir 2016</td>\n",
       "      <td>Austria</td>\n",
       "      <td>Carnuntum</td>\n",
       "      <td>Markowitsch</td>\n",
       "      <td>3.9</td>\n",
       "      <td>100</td>\n",
       "      <td>29.15</td>\n",
       "      <td>2016</td>\n",
       "      <td>red</td>\n",
       "    </tr>\n",
       "  </tbody>\n",
       "</table>\n",
       "</div>"
      ],
      "text/plain": [
       "                                 name  country     region  \\\n",
       "0                        Pomerol 2011   France    Pomerol   \n",
       "1                          Lirac 2017   France      Lirac   \n",
       "2  Erta e China Rosso di Toscana 2015    Italy    Toscana   \n",
       "3                      Bardolino 2019    Italy  Bardolino   \n",
       "4      Ried Scheibner Pinot Noir 2016  Austria  Carnuntum   \n",
       "\n",
       "                  winery  rating  numberofratings  price  year category  \n",
       "0  Château La Providence     4.2              100  95.00  2011      red  \n",
       "1     Château Mont-Redon     4.3              100  15.50  2017      red  \n",
       "2             Renzo Masi     3.9              100   7.45  2015      red  \n",
       "3             Cavalchina     3.5              100   8.72  2019      red  \n",
       "4            Markowitsch     3.9              100  29.15  2016      red  "
      ]
     },
     "execution_count": 1071,
     "metadata": {},
     "output_type": "execute_result"
    }
   ],
   "source": [
    "df_viv_1.drop_duplicates(inplace=True)\n",
    "df_viv_1.head()\n"
   ]
  },
  {
   "cell_type": "code",
   "execution_count": 1072,
   "metadata": {},
   "outputs": [
    {
     "data": {
      "text/plain": [
       "(34664, 9)"
      ]
     },
     "execution_count": 1072,
     "metadata": {},
     "output_type": "execute_result"
    }
   ],
   "source": [
    "df_viv_1.shape"
   ]
  },
  {
   "cell_type": "code",
   "execution_count": 1073,
   "metadata": {},
   "outputs": [],
   "source": [
    "df_viv_1.rename(columns = {'winery' : 'producer', \n",
    "                           'numberofratings' : 'rating_qty', \n",
    "                           'category' : 'wine_variety',\n",
    "                           'year' : 'vintage'\n",
    "                           }, inplace = True)"
   ]
  },
  {
   "cell_type": "code",
   "execution_count": 1074,
   "metadata": {},
   "outputs": [],
   "source": [
    "# Remove accents from columns.\n",
    "df_viv_1['name'] = df_viv_1['name'].apply(cf.uniform_strings)\n",
    "df_viv_1['producer'] = df_viv_1['producer'].apply(cf.uniform_strings)\n",
    "df_viv_1['region'] = df_viv_1['region'].apply(cf.uniform_strings)\n",
    "df_viv_1['country'] = df_viv_1['country'].apply(cf.uniform_strings)"
   ]
  },
  {
   "cell_type": "code",
   "execution_count": 1075,
   "metadata": {},
   "outputs": [],
   "source": [
    "df_viv_1.loc[df_viv_1['producer'] == 'Domaine De La', 'producer'] = 'Domaine De La Rouge'"
   ]
  },
  {
   "cell_type": "code",
   "execution_count": 1076,
   "metadata": {},
   "outputs": [
    {
     "data": {
      "text/plain": [
       "name             object\n",
       "country          object\n",
       "region           object\n",
       "producer         object\n",
       "rating          float64\n",
       "rating_qty        int64\n",
       "price           float64\n",
       "vintage          object\n",
       "wine_variety     object\n",
       "dtype: object"
      ]
     },
     "execution_count": 1076,
     "metadata": {},
     "output_type": "execute_result"
    }
   ],
   "source": [
    "df_viv_1.dtypes"
   ]
  },
  {
   "cell_type": "code",
   "execution_count": 1077,
   "metadata": {},
   "outputs": [],
   "source": [
    "# Make name formatting structure the same as wine_com dataframe.\n",
    "df_viv_1['name'] = df_viv_1['producer'] + ' ' + df_viv_1['name']"
   ]
  },
  {
   "cell_type": "code",
   "execution_count": 1078,
   "metadata": {},
   "outputs": [
    {
     "data": {
      "text/plain": [
       "region\n",
       "Rioja                               1300\n",
       "Toscana                              996\n",
       "Stellenbosch                         928\n",
       "Saintemilion Grand Cru               828\n",
       "Barolo                               700\n",
       "                                    ... \n",
       "Sachsen                                4\n",
       "Coteaux Varois En Provence             4\n",
       "Orvietano Rosso                        4\n",
       "Mercurey 1Er Cru Le Clos Leveque       4\n",
       "Mount Veeder                           4\n",
       "Name: count, Length: 624, dtype: int64"
      ]
     },
     "execution_count": 1078,
     "metadata": {},
     "output_type": "execute_result"
    }
   ],
   "source": [
    "df_viv_1['region'].value_counts()"
   ]
  },
  {
   "cell_type": "code",
   "execution_count": 1079,
   "metadata": {},
   "outputs": [
    {
     "data": {
      "text/plain": [
       "country\n",
       "Italy            10600\n",
       "France            9024\n",
       "Spain             4568\n",
       "South Africa      2000\n",
       "United States     1496\n",
       "Chile             1304\n",
       "Germany            992\n",
       "Australia          984\n",
       "Argentina          984\n",
       "Portugal           920\n",
       "Austria            880\n",
       "New Zealand        252\n",
       "Brazil             160\n",
       "Romania             92\n",
       "Lebanon             60\n",
       "Israel              52\n",
       "Greece              52\n",
       "Switzerland         48\n",
       "Hungary             36\n",
       "Moldova             32\n",
       "Slovenia            32\n",
       "Turkey              24\n",
       "Georgia             20\n",
       "Uruguay             16\n",
       "Croatia              8\n",
       "Bulgaria             8\n",
       "Canada               8\n",
       "Mexico               4\n",
       "China                4\n",
       "Slovakia             4\n",
       "Name: count, dtype: int64"
      ]
     },
     "execution_count": 1079,
     "metadata": {},
     "output_type": "execute_result"
    }
   ],
   "source": [
    "df_viv_1['country'].value_counts()"
   ]
  },
  {
   "cell_type": "code",
   "execution_count": 1080,
   "metadata": {},
   "outputs": [],
   "source": [
    "df_viv_1.loc[df_viv_1['vintage'] == 'N.V.', 'vintage'] = np.nan"
   ]
  },
  {
   "cell_type": "code",
   "execution_count": 1081,
   "metadata": {},
   "outputs": [
    {
     "data": {
      "text/plain": [
       "count    34664.000000\n",
       "mean         3.890342\n",
       "std          0.308534\n",
       "min          2.500000\n",
       "25%          3.700000\n",
       "50%          3.900000\n",
       "75%          4.100000\n",
       "max          4.800000\n",
       "Name: rating, dtype: float64"
      ]
     },
     "execution_count": 1081,
     "metadata": {},
     "output_type": "execute_result"
    }
   ],
   "source": [
    "df_viv_1['rating'].describe()"
   ]
  },
  {
   "cell_type": "code",
   "execution_count": 1082,
   "metadata": {},
   "outputs": [
    {
     "data": {
      "text/plain": [
       "count    34664.000000\n",
       "mean       415.287445\n",
       "std        899.687438\n",
       "min         25.000000\n",
       "25%         66.000000\n",
       "50%        157.000000\n",
       "75%        401.000000\n",
       "max      20293.000000\n",
       "Name: rating_qty, dtype: float64"
      ]
     },
     "execution_count": 1082,
     "metadata": {},
     "output_type": "execute_result"
    }
   ],
   "source": [
    "# Minimum number of ratings 25 for this scrape. \n",
    "df_viv_1['rating_qty'].describe()"
   ]
  },
  {
   "cell_type": "code",
   "execution_count": 1083,
   "metadata": {},
   "outputs": [
    {
     "data": {
      "text/plain": [
       "count    34664.000000\n",
       "mean        39.145065\n",
       "std         84.932632\n",
       "min          3.550000\n",
       "25%         10.680000\n",
       "50%         18.200000\n",
       "75%         38.160000\n",
       "max       3410.790000\n",
       "Name: price, dtype: float64"
      ]
     },
     "execution_count": 1083,
     "metadata": {},
     "output_type": "execute_result"
    }
   ],
   "source": [
    "df_viv_1['price'].describe()"
   ]
  },
  {
   "cell_type": "code",
   "execution_count": 1084,
   "metadata": {},
   "outputs": [],
   "source": [
    "# Convert price to GBP £ using https://www.xe.com/currencytables/ at exchange rate date of scrape. \n",
    "df_viv_1['price'] = round(df_viv_1['price'] * 0.8371915735092197,2)\n",
    "df_viv_1['abv'] = np.nan\n",
    "df_viv_1['reviewed_by'] = 'unknown'\n",
    "df_viv_1['from_vivino'] = True"
   ]
  },
  {
   "cell_type": "code",
   "execution_count": 1085,
   "metadata": {},
   "outputs": [],
   "source": [
    "# Get grape variety - iteratively added grape varieties to find those missed.\n",
    "grape_varieties =(list(df_wine_com['grape_variety'].unique()) + ['red blend', 'shiraz', 'Pomerol', 'Lirac', 'Rosso di Toscana', \n",
    "                                                                 'Bardolino', 'Gigondas', 'Chianti', 'Monastrell', 'Sancerre Rouge',\n",
    "                                                                 'Saint-Joseph', 'Fronsac','Roma Rosso','Garnacha','Barolo',\n",
    "                                                                 'Côte-Rôtie','Madiran','Ruché','Tempranillo','Margaux', 'syrah', \n",
    "                                                                 'blend', 'Rioja', 'Super Tuscan', 'Chianti', 'pinot nero',\n",
    "                                                                 'Carménère', 'Mencía', 'Mourvèdre', \"Blaufränkisch\", \"Corvina\",\n",
    "                                                                 \"Rondinella\", \"Molinara\", \"Sangiovese\", 'baga', \n",
    "                                                                 \"Corvina\", \"Rondinella\", \"Molinara\", \"Trincadeira\",  \"Prieto Picudo\"])\n",
    "\n",
    "df_viv_1['grape_variety'] = df_viv_1['name'].apply(lambda x: cf.extract_varietal(x, grape_varieties))"
   ]
  },
  {
   "cell_type": "code",
   "execution_count": 1086,
   "metadata": {},
   "outputs": [
    {
     "data": {
      "text/plain": [
       "grape_variety\n",
       "unknown               19032\n",
       "Cabernet Sauvignon     2224\n",
       "Merlot                 1100\n",
       "Pinot Noir             1044\n",
       "Chianti                 912\n",
       "Shiraz                  764\n",
       "Barolo                  696\n",
       "Malbec                  648\n",
       "Rioja                   596\n",
       "Pomerol                 580\n",
       "Syrah                   580\n",
       "Tempranillo             504\n",
       "Primitivo               492\n",
       "Barbera                 480\n",
       "Margaux                 440\n",
       "Montepulciano           428\n",
       "Pinotage                320\n",
       "Carmenere               244\n",
       "Zinfandel               236\n",
       "Garnacha                216\n",
       "Zweigelt                204\n",
       "Blaufrankisch           196\n",
       "Red Blend               184\n",
       "Gigondas                176\n",
       "Grenache                164\n",
       "Negroamaro              164\n",
       "Lagrein                 156\n",
       "Nebbiolo                152\n",
       "Sangiovese              144\n",
       "Dolcetto                128\n",
       "Aglianico               124\n",
       "Cabernet Franc          100\n",
       "Fronsac                  92\n",
       "Blend                    88\n",
       "Port                     84\n",
       "Pinot Nero               76\n",
       "Teroldego                76\n",
       "Bardolino                72\n",
       "Mencia                   68\n",
       "Carignan                 60\n",
       "Monastrell               60\n",
       "Touriga Nacional         56\n",
       "Tannat                   52\n",
       "Corvina                  48\n",
       "Viognier                 44\n",
       "Mourvedre                36\n",
       "Madiran                  32\n",
       "Sagrantino               24\n",
       "Nerello Mascalese        24\n",
       "Lirac                    24\n",
       "Name: count, dtype: int64"
      ]
     },
     "execution_count": 1086,
     "metadata": {},
     "output_type": "execute_result"
    }
   ],
   "source": [
    "# Review results. \n",
    "df_viv_1['grape_variety'].value_counts().head(50)"
   ]
  },
  {
   "cell_type": "code",
   "execution_count": 1087,
   "metadata": {},
   "outputs": [],
   "source": [
    "unknown_grapes = df_viv_1[df_viv_1['grape_variety'] == 'unknown']"
   ]
  },
  {
   "cell_type": "code",
   "execution_count": 1088,
   "metadata": {},
   "outputs": [
    {
     "data": {
      "text/html": [
       "<div>\n",
       "<style scoped>\n",
       "    .dataframe tbody tr th:only-of-type {\n",
       "        vertical-align: middle;\n",
       "    }\n",
       "\n",
       "    .dataframe tbody tr th {\n",
       "        vertical-align: top;\n",
       "    }\n",
       "\n",
       "    .dataframe thead th {\n",
       "        text-align: right;\n",
       "    }\n",
       "</style>\n",
       "<table border=\"1\" class=\"dataframe\">\n",
       "  <thead>\n",
       "    <tr style=\"text-align: right;\">\n",
       "      <th></th>\n",
       "      <th>name</th>\n",
       "      <th>country</th>\n",
       "      <th>region</th>\n",
       "      <th>producer</th>\n",
       "      <th>rating</th>\n",
       "      <th>rating_qty</th>\n",
       "      <th>price</th>\n",
       "      <th>vintage</th>\n",
       "      <th>wine_variety</th>\n",
       "      <th>abv</th>\n",
       "      <th>reviewed_by</th>\n",
       "      <th>from_vivino</th>\n",
       "      <th>grape_variety</th>\n",
       "    </tr>\n",
       "  </thead>\n",
       "  <tbody>\n",
       "    <tr>\n",
       "      <th>9</th>\n",
       "      <td>Domaine Des Aires Hautes Tradition 2014</td>\n",
       "      <td>France</td>\n",
       "      <td>Minervois</td>\n",
       "      <td>Domaine Des Aires Hautes</td>\n",
       "      <td>3.5</td>\n",
       "      <td>100</td>\n",
       "      <td>5.78</td>\n",
       "      <td>2014</td>\n",
       "      <td>red</td>\n",
       "      <td>NaN</td>\n",
       "      <td>unknown</td>\n",
       "      <td>True</td>\n",
       "      <td>unknown</td>\n",
       "    </tr>\n",
       "    <tr>\n",
       "      <th>11</th>\n",
       "      <td>Torbreck Descendant 2016</td>\n",
       "      <td>Australia</td>\n",
       "      <td>Barossa</td>\n",
       "      <td>Torbreck</td>\n",
       "      <td>4.3</td>\n",
       "      <td>100</td>\n",
       "      <td>117.74</td>\n",
       "      <td>2016</td>\n",
       "      <td>red</td>\n",
       "      <td>NaN</td>\n",
       "      <td>unknown</td>\n",
       "      <td>True</td>\n",
       "      <td>unknown</td>\n",
       "    </tr>\n",
       "    <tr>\n",
       "      <th>12</th>\n",
       "      <td>La Peira En Damaisela Les Obriers De La Peira ...</td>\n",
       "      <td>France</td>\n",
       "      <td>Terrasses Du Larzac</td>\n",
       "      <td>La Peira En Damaisela</td>\n",
       "      <td>4.1</td>\n",
       "      <td>100</td>\n",
       "      <td>12.16</td>\n",
       "      <td>2017</td>\n",
       "      <td>red</td>\n",
       "      <td>NaN</td>\n",
       "      <td>unknown</td>\n",
       "      <td>True</td>\n",
       "      <td>unknown</td>\n",
       "    </tr>\n",
       "    <tr>\n",
       "      <th>14</th>\n",
       "      <td>Domaine Fond Croze Cuvee Confidence Cotes Du R...</td>\n",
       "      <td>France</td>\n",
       "      <td>Cotesdurhone</td>\n",
       "      <td>Domaine Fond Croze</td>\n",
       "      <td>3.7</td>\n",
       "      <td>100</td>\n",
       "      <td>7.11</td>\n",
       "      <td>2017</td>\n",
       "      <td>red</td>\n",
       "      <td>NaN</td>\n",
       "      <td>unknown</td>\n",
       "      <td>True</td>\n",
       "      <td>unknown</td>\n",
       "    </tr>\n",
       "    <tr>\n",
       "      <th>17</th>\n",
       "      <td>Losada La Bienquerida 2016</td>\n",
       "      <td>Spain</td>\n",
       "      <td>Bierzo</td>\n",
       "      <td>Losada</td>\n",
       "      <td>4.3</td>\n",
       "      <td>100</td>\n",
       "      <td>34.81</td>\n",
       "      <td>2016</td>\n",
       "      <td>red</td>\n",
       "      <td>NaN</td>\n",
       "      <td>unknown</td>\n",
       "      <td>True</td>\n",
       "      <td>unknown</td>\n",
       "    </tr>\n",
       "    <tr>\n",
       "      <th>...</th>\n",
       "      <td>...</td>\n",
       "      <td>...</td>\n",
       "      <td>...</td>\n",
       "      <td>...</td>\n",
       "      <td>...</td>\n",
       "      <td>...</td>\n",
       "      <td>...</td>\n",
       "      <td>...</td>\n",
       "      <td>...</td>\n",
       "      <td>...</td>\n",
       "      <td>...</td>\n",
       "      <td>...</td>\n",
       "      <td>...</td>\n",
       "    </tr>\n",
       "    <tr>\n",
       "      <th>34652</th>\n",
       "      <td>Tenuta Dei Sette Cieli Scipio 2013</td>\n",
       "      <td>Italy</td>\n",
       "      <td>Toscana</td>\n",
       "      <td>Tenuta Dei Sette Cieli</td>\n",
       "      <td>4.3</td>\n",
       "      <td>99</td>\n",
       "      <td>53.07</td>\n",
       "      <td>2013</td>\n",
       "      <td>sparkling</td>\n",
       "      <td>NaN</td>\n",
       "      <td>unknown</td>\n",
       "      <td>True</td>\n",
       "      <td>unknown</td>\n",
       "    </tr>\n",
       "    <tr>\n",
       "      <th>34653</th>\n",
       "      <td>Les Vins De Vienne Cuillerongaillardvillard Co...</td>\n",
       "      <td>France</td>\n",
       "      <td>Cotesdurhone</td>\n",
       "      <td>Les Vins De Vienne Cuillerongaillardvillard</td>\n",
       "      <td>3.7</td>\n",
       "      <td>99</td>\n",
       "      <td>8.79</td>\n",
       "      <td>2017</td>\n",
       "      <td>sparkling</td>\n",
       "      <td>NaN</td>\n",
       "      <td>unknown</td>\n",
       "      <td>True</td>\n",
       "      <td>unknown</td>\n",
       "    </tr>\n",
       "    <tr>\n",
       "      <th>34657</th>\n",
       "      <td>Mouton Cadet Bordeaux Rouge 2016</td>\n",
       "      <td>France</td>\n",
       "      <td>Bordeaux</td>\n",
       "      <td>Mouton Cadet</td>\n",
       "      <td>3.5</td>\n",
       "      <td>9926</td>\n",
       "      <td>7.74</td>\n",
       "      <td>2016</td>\n",
       "      <td>sparkling</td>\n",
       "      <td>NaN</td>\n",
       "      <td>unknown</td>\n",
       "      <td>True</td>\n",
       "      <td>unknown</td>\n",
       "    </tr>\n",
       "    <tr>\n",
       "      <th>34660</th>\n",
       "      <td>Le Mortelle Botrosecco Maremma Toscana 2016</td>\n",
       "      <td>Italy</td>\n",
       "      <td>Maremma Toscana</td>\n",
       "      <td>Le Mortelle</td>\n",
       "      <td>4.0</td>\n",
       "      <td>995</td>\n",
       "      <td>16.82</td>\n",
       "      <td>2016</td>\n",
       "      <td>sparkling</td>\n",
       "      <td>NaN</td>\n",
       "      <td>unknown</td>\n",
       "      <td>True</td>\n",
       "      <td>unknown</td>\n",
       "    </tr>\n",
       "    <tr>\n",
       "      <th>34661</th>\n",
       "      <td>Chateau Cambon La Pelouse Hautmedoc 2010</td>\n",
       "      <td>France</td>\n",
       "      <td>Hautmedoc</td>\n",
       "      <td>Chateau Cambon La Pelouse</td>\n",
       "      <td>3.7</td>\n",
       "      <td>996</td>\n",
       "      <td>20.05</td>\n",
       "      <td>2010</td>\n",
       "      <td>sparkling</td>\n",
       "      <td>NaN</td>\n",
       "      <td>unknown</td>\n",
       "      <td>True</td>\n",
       "      <td>unknown</td>\n",
       "    </tr>\n",
       "  </tbody>\n",
       "</table>\n",
       "<p>19032 rows × 13 columns</p>\n",
       "</div>"
      ],
      "text/plain": [
       "                                                    name    country  \\\n",
       "9                Domaine Des Aires Hautes Tradition 2014     France   \n",
       "11                              Torbreck Descendant 2016  Australia   \n",
       "12     La Peira En Damaisela Les Obriers De La Peira ...     France   \n",
       "14     Domaine Fond Croze Cuvee Confidence Cotes Du R...     France   \n",
       "17                            Losada La Bienquerida 2016      Spain   \n",
       "...                                                  ...        ...   \n",
       "34652                 Tenuta Dei Sette Cieli Scipio 2013      Italy   \n",
       "34653  Les Vins De Vienne Cuillerongaillardvillard Co...     France   \n",
       "34657                   Mouton Cadet Bordeaux Rouge 2016     France   \n",
       "34660        Le Mortelle Botrosecco Maremma Toscana 2016      Italy   \n",
       "34661           Chateau Cambon La Pelouse Hautmedoc 2010     France   \n",
       "\n",
       "                    region                                     producer  \\\n",
       "9                Minervois                     Domaine Des Aires Hautes   \n",
       "11                 Barossa                                     Torbreck   \n",
       "12     Terrasses Du Larzac                        La Peira En Damaisela   \n",
       "14            Cotesdurhone                           Domaine Fond Croze   \n",
       "17                  Bierzo                                       Losada   \n",
       "...                    ...                                          ...   \n",
       "34652              Toscana                       Tenuta Dei Sette Cieli   \n",
       "34653         Cotesdurhone  Les Vins De Vienne Cuillerongaillardvillard   \n",
       "34657             Bordeaux                                 Mouton Cadet   \n",
       "34660      Maremma Toscana                                  Le Mortelle   \n",
       "34661            Hautmedoc                    Chateau Cambon La Pelouse   \n",
       "\n",
       "       rating  rating_qty   price vintage wine_variety  abv reviewed_by  \\\n",
       "9         3.5         100    5.78    2014          red  NaN     unknown   \n",
       "11        4.3         100  117.74    2016          red  NaN     unknown   \n",
       "12        4.1         100   12.16    2017          red  NaN     unknown   \n",
       "14        3.7         100    7.11    2017          red  NaN     unknown   \n",
       "17        4.3         100   34.81    2016          red  NaN     unknown   \n",
       "...       ...         ...     ...     ...          ...  ...         ...   \n",
       "34652     4.3          99   53.07    2013    sparkling  NaN     unknown   \n",
       "34653     3.7          99    8.79    2017    sparkling  NaN     unknown   \n",
       "34657     3.5        9926    7.74    2016    sparkling  NaN     unknown   \n",
       "34660     4.0         995   16.82    2016    sparkling  NaN     unknown   \n",
       "34661     3.7         996   20.05    2010    sparkling  NaN     unknown   \n",
       "\n",
       "       from_vivino grape_variety  \n",
       "9             True       unknown  \n",
       "11            True       unknown  \n",
       "12            True       unknown  \n",
       "14            True       unknown  \n",
       "17            True       unknown  \n",
       "...            ...           ...  \n",
       "34652         True       unknown  \n",
       "34653         True       unknown  \n",
       "34657         True       unknown  \n",
       "34660         True       unknown  \n",
       "34661         True       unknown  \n",
       "\n",
       "[19032 rows x 13 columns]"
      ]
     },
     "execution_count": 1088,
     "metadata": {},
     "output_type": "execute_result"
    }
   ],
   "source": [
    "# TO DO !!!!!! \n",
    "unknown_grapes"
   ]
  },
  {
   "cell_type": "markdown",
   "metadata": {},
   "source": [
    "# Cleaning Vivino 2 Dataset"
   ]
  },
  {
   "cell_type": "code",
   "execution_count": 1089,
   "metadata": {},
   "outputs": [
    {
     "name": "stdout",
     "output_type": "stream",
     "text": [
      "(2018, 9)\n"
     ]
    },
    {
     "data": {
      "text/html": [
       "<div>\n",
       "<style scoped>\n",
       "    .dataframe tbody tr th:only-of-type {\n",
       "        vertical-align: middle;\n",
       "    }\n",
       "\n",
       "    .dataframe tbody tr th {\n",
       "        vertical-align: top;\n",
       "    }\n",
       "\n",
       "    .dataframe thead th {\n",
       "        text-align: right;\n",
       "    }\n",
       "</style>\n",
       "<table border=\"1\" class=\"dataframe\">\n",
       "  <thead>\n",
       "    <tr style=\"text-align: right;\">\n",
       "      <th></th>\n",
       "      <th>winery</th>\n",
       "      <th>year</th>\n",
       "      <th>wine_id</th>\n",
       "      <th>wine</th>\n",
       "      <th>rating</th>\n",
       "      <th>num_review</th>\n",
       "      <th>price</th>\n",
       "      <th>country</th>\n",
       "      <th>region</th>\n",
       "    </tr>\n",
       "  </thead>\n",
       "  <tbody>\n",
       "    <tr>\n",
       "      <th>0</th>\n",
       "      <td>Viña Oria</td>\n",
       "      <td>2019</td>\n",
       "      <td>1812139</td>\n",
       "      <td>Garnacha 2019</td>\n",
       "      <td>3.5</td>\n",
       "      <td>327</td>\n",
       "      <td>2.50</td>\n",
       "      <td>España</td>\n",
       "      <td>Cariñena</td>\n",
       "    </tr>\n",
       "    <tr>\n",
       "      <th>1</th>\n",
       "      <td>Ayuso</td>\n",
       "      <td>2017</td>\n",
       "      <td>2084964</td>\n",
       "      <td>Abadia del Roble Tinto 2017</td>\n",
       "      <td>2.9</td>\n",
       "      <td>52</td>\n",
       "      <td>2.54</td>\n",
       "      <td>España</td>\n",
       "      <td>La Mancha</td>\n",
       "    </tr>\n",
       "    <tr>\n",
       "      <th>2</th>\n",
       "      <td>Castillo de Liria</td>\n",
       "      <td>2020</td>\n",
       "      <td>1643745</td>\n",
       "      <td>Bobal - Shiraz 2020</td>\n",
       "      <td>3.4</td>\n",
       "      <td>85</td>\n",
       "      <td>2.56</td>\n",
       "      <td>España</td>\n",
       "      <td>Valencia</td>\n",
       "    </tr>\n",
       "    <tr>\n",
       "      <th>3</th>\n",
       "      <td>Castillo de Liria</td>\n",
       "      <td>2019</td>\n",
       "      <td>1643745</td>\n",
       "      <td>Bobal - Shiraz 2019</td>\n",
       "      <td>3.6</td>\n",
       "      <td>305</td>\n",
       "      <td>2.56</td>\n",
       "      <td>España</td>\n",
       "      <td>Valencia</td>\n",
       "    </tr>\n",
       "    <tr>\n",
       "      <th>4</th>\n",
       "      <td>Finca Venta de Don Quijote</td>\n",
       "      <td>2020</td>\n",
       "      <td>7166356</td>\n",
       "      <td>Tempranillo - Syrah 2020</td>\n",
       "      <td>3.6</td>\n",
       "      <td>129</td>\n",
       "      <td>2.72</td>\n",
       "      <td>España</td>\n",
       "      <td>Castilla</td>\n",
       "    </tr>\n",
       "  </tbody>\n",
       "</table>\n",
       "</div>"
      ],
      "text/plain": [
       "                       winery  year  wine_id                         wine  \\\n",
       "0                   Viña Oria  2019  1812139                Garnacha 2019   \n",
       "1                       Ayuso  2017  2084964  Abadia del Roble Tinto 2017   \n",
       "2           Castillo de Liria  2020  1643745          Bobal - Shiraz 2020   \n",
       "3           Castillo de Liria  2019  1643745          Bobal - Shiraz 2019   \n",
       "4  Finca Venta de Don Quijote  2020  7166356     Tempranillo - Syrah 2020   \n",
       "\n",
       "   rating  num_review  price country     region  \n",
       "0     3.5         327   2.50  España   Cariñena  \n",
       "1     2.9          52   2.54  España  La Mancha  \n",
       "2     3.4          85   2.56  España   Valencia  \n",
       "3     3.6         305   2.56  España   Valencia  \n",
       "4     3.6         129   2.72  España   Castilla  "
      ]
     },
     "execution_count": 1089,
     "metadata": {},
     "output_type": "execute_result"
    }
   ],
   "source": [
    "df_viv_2.drop_duplicates(inplace=True)\n",
    "print(df_viv_2.shape)\n",
    "df_viv_2.head()"
   ]
  },
  {
   "cell_type": "code",
   "execution_count": 1090,
   "metadata": {},
   "outputs": [],
   "source": [
    "df_viv_2.rename(columns = {'winery' : 'producer', \n",
    "                           'num_review' : 'rating_qty', \n",
    "                           'year' : 'vintage',\n",
    "                           'wine' : 'name'\n",
    "                           }, inplace = True)"
   ]
  },
  {
   "cell_type": "code",
   "execution_count": 1091,
   "metadata": {},
   "outputs": [
    {
     "name": "stdout",
     "output_type": "stream",
     "text": [
      "<class 'pandas.core.frame.DataFrame'>\n",
      "Index: 2018 entries, 0 to 2024\n",
      "Data columns (total 9 columns):\n",
      " #   Column      Non-Null Count  Dtype  \n",
      "---  ------      --------------  -----  \n",
      " 0   producer    2018 non-null   object \n",
      " 1   vintage     2018 non-null   object \n",
      " 2   wine_id     2018 non-null   int64  \n",
      " 3   name        2018 non-null   object \n",
      " 4   rating      2018 non-null   float64\n",
      " 5   rating_qty  2018 non-null   int64  \n",
      " 6   price       2018 non-null   float64\n",
      " 7   country     2018 non-null   object \n",
      " 8   region      2018 non-null   object \n",
      "dtypes: float64(2), int64(2), object(5)\n",
      "memory usage: 157.7+ KB\n"
     ]
    }
   ],
   "source": [
    "df_viv_2['name'] = df_viv_2['name'].apply(cf.uniform_strings)\n",
    "df_viv_2['producer'] = df_viv_2['producer'].apply(cf.uniform_strings)\n",
    "df_viv_2['region'] = df_viv_2['region'].apply(cf.uniform_strings)\n",
    "df_viv_2.info()"
   ]
  },
  {
   "cell_type": "code",
   "execution_count": 1092,
   "metadata": {},
   "outputs": [],
   "source": [
    "df_viv_2['grape_variety'] = df_viv_2['name'].apply(cf.get_grape_2)"
   ]
  },
  {
   "cell_type": "code",
   "execution_count": 1093,
   "metadata": {},
   "outputs": [],
   "source": [
    "# df_viv_2['grape_variety_2'] = df_viv_2['name'].apply(lambda x: extract_varietal(x, grape_varieties))"
   ]
  },
  {
   "cell_type": "code",
   "execution_count": 1094,
   "metadata": {},
   "outputs": [],
   "source": [
    "df_viv_2['name'] = df_viv_2['producer'] + ' ' + df_viv_2['name']\n",
    "df_viv_2['name'] = df_viv_2['name'].str.replace('-', '')\n",
    "df_viv_2['region'] = df_viv_2['region'].apply(cf.uniform_strings)\n",
    "df_viv_2['country'] = 'Spain'\n",
    "df_viv_2.loc[df_viv_2['vintage'] == 'N.V.', 'vintage'] = 'unknown'"
   ]
  },
  {
   "cell_type": "code",
   "execution_count": 1095,
   "metadata": {},
   "outputs": [
    {
     "data": {
      "text/plain": [
       "count    2018.000000\n",
       "mean        3.694995\n",
       "std         0.222506\n",
       "min         2.400000\n",
       "25%         3.600000\n",
       "50%         3.700000\n",
       "75%         3.800000\n",
       "max         4.400000\n",
       "Name: rating, dtype: float64"
      ]
     },
     "execution_count": 1095,
     "metadata": {},
     "output_type": "execute_result"
    }
   ],
   "source": [
    "df_viv_2['rating'].describe()"
   ]
  },
  {
   "cell_type": "code",
   "execution_count": 1096,
   "metadata": {},
   "outputs": [
    {
     "data": {
      "text/plain": [
       "count     2018.000000\n",
       "mean       321.930624\n",
       "std       1035.124164\n",
       "min         25.000000\n",
       "25%         49.000000\n",
       "50%        104.000000\n",
       "75%        260.750000\n",
       "max      29389.000000\n",
       "Name: rating_qty, dtype: float64"
      ]
     },
     "execution_count": 1096,
     "metadata": {},
     "output_type": "execute_result"
    }
   ],
   "source": [
    "# Minimum number of ratings 25 for this scrape. Same as df_viv_1.\n",
    "df_viv_2['rating_qty'].describe()"
   ]
  },
  {
   "cell_type": "code",
   "execution_count": 1097,
   "metadata": {},
   "outputs": [],
   "source": [
    "df_viv_2['price'] = round(df_viv_2['price'] * 0.8321682684581887, 2)"
   ]
  },
  {
   "cell_type": "code",
   "execution_count": 1098,
   "metadata": {},
   "outputs": [],
   "source": [
    "df_viv_2['wine_variety'] = 'red'"
   ]
  },
  {
   "cell_type": "code",
   "execution_count": 1099,
   "metadata": {},
   "outputs": [],
   "source": [
    "df_viv_2['abv'] = np.nan"
   ]
  },
  {
   "cell_type": "code",
   "execution_count": 1100,
   "metadata": {},
   "outputs": [],
   "source": [
    "df_viv_2['reviewed_by'] = 'unknown'"
   ]
  },
  {
   "cell_type": "code",
   "execution_count": 1101,
   "metadata": {},
   "outputs": [],
   "source": [
    "df_viv_2['from_vivino'] = True"
   ]
  },
  {
   "cell_type": "code",
   "execution_count": 1102,
   "metadata": {},
   "outputs": [],
   "source": [
    "df_viv_2.drop(columns = 'wine_id', inplace=True)"
   ]
  },
  {
   "cell_type": "markdown",
   "metadata": {},
   "source": [
    "# Cleaning Validation Dataset"
   ]
  },
  {
   "cell_type": "code",
   "execution_count": 1103,
   "metadata": {},
   "outputs": [
    {
     "name": "stdout",
     "output_type": "stream",
     "text": [
      "(1290, 17)\n"
     ]
    },
    {
     "data": {
      "text/html": [
       "<div>\n",
       "<style scoped>\n",
       "    .dataframe tbody tr th:only-of-type {\n",
       "        vertical-align: middle;\n",
       "    }\n",
       "\n",
       "    .dataframe tbody tr th {\n",
       "        vertical-align: top;\n",
       "    }\n",
       "\n",
       "    .dataframe thead th {\n",
       "        text-align: right;\n",
       "    }\n",
       "</style>\n",
       "<table border=\"1\" class=\"dataframe\">\n",
       "  <thead>\n",
       "    <tr style=\"text-align: right;\">\n",
       "      <th></th>\n",
       "      <th>title</th>\n",
       "      <th>description</th>\n",
       "      <th>price</th>\n",
       "      <th>capacity</th>\n",
       "      <th>grape</th>\n",
       "      <th>secondary_grape_varieties</th>\n",
       "      <th>closure</th>\n",
       "      <th>country</th>\n",
       "      <th>unit</th>\n",
       "      <th>characteristics</th>\n",
       "      <th>per_bottle_/_case_/_each</th>\n",
       "      <th>type</th>\n",
       "      <th>abv</th>\n",
       "      <th>region</th>\n",
       "      <th>style</th>\n",
       "      <th>vintage</th>\n",
       "      <th>appellation</th>\n",
       "    </tr>\n",
       "  </thead>\n",
       "  <tbody>\n",
       "    <tr>\n",
       "      <th>0</th>\n",
       "      <td>The Guv'nor, Spain</td>\n",
       "      <td>We asked some of our most prized winemakers wo...</td>\n",
       "      <td>£9.99 per bottle</td>\n",
       "      <td>75CL</td>\n",
       "      <td>Tempranillo</td>\n",
       "      <td>NaN</td>\n",
       "      <td>Natural Cork</td>\n",
       "      <td>Spain</td>\n",
       "      <td>10.5</td>\n",
       "      <td>Vanilla, Blackberry, Blackcurrant</td>\n",
       "      <td>per bottle</td>\n",
       "      <td>Red</td>\n",
       "      <td>ABV 14.00%</td>\n",
       "      <td>NaN</td>\n",
       "      <td>Rich &amp; Juicy</td>\n",
       "      <td>NV</td>\n",
       "      <td>NaN</td>\n",
       "    </tr>\n",
       "    <tr>\n",
       "      <th>1</th>\n",
       "      <td>Bread &amp; Butter 'Winemaker's Selection' Chardon...</td>\n",
       "      <td>This really does what it says on the tin. It’s...</td>\n",
       "      <td>£15.99 per bottle</td>\n",
       "      <td>75CL</td>\n",
       "      <td>Chardonnay</td>\n",
       "      <td>NaN</td>\n",
       "      <td>Natural Cork</td>\n",
       "      <td>USA</td>\n",
       "      <td>10.1</td>\n",
       "      <td>Vanilla, Almond, Coconut, Green Apple, Peach, ...</td>\n",
       "      <td>per bottle</td>\n",
       "      <td>White</td>\n",
       "      <td>ABV 13.50%</td>\n",
       "      <td>California</td>\n",
       "      <td>Rich &amp; Toasty</td>\n",
       "      <td>2021</td>\n",
       "      <td>Napa Valley</td>\n",
       "    </tr>\n",
       "    <tr>\n",
       "      <th>2</th>\n",
       "      <td>Oyster Bay Sauvignon Blanc 2022, Marlborough</td>\n",
       "      <td>Oyster Bay has been an award-winning gold-stan...</td>\n",
       "      <td>£12.49 per bottle</td>\n",
       "      <td>75CL</td>\n",
       "      <td>Sauvignon Blanc</td>\n",
       "      <td>NaN</td>\n",
       "      <td>Screwcap</td>\n",
       "      <td>New Zealand</td>\n",
       "      <td>9.8</td>\n",
       "      <td>Tropical Fruit, Gooseberry, Grapefruit, Grass,...</td>\n",
       "      <td>per bottle</td>\n",
       "      <td>White</td>\n",
       "      <td>ABV 13.00%</td>\n",
       "      <td>Marlborough</td>\n",
       "      <td>Crisp &amp; Zesty</td>\n",
       "      <td>2022</td>\n",
       "      <td>NaN</td>\n",
       "    </tr>\n",
       "    <tr>\n",
       "      <th>3</th>\n",
       "      <td>Louis Latour Mâcon-Lugny 2021/22</td>\n",
       "      <td>We’ve sold this wine for thirty years – and fo...</td>\n",
       "      <td>£17.99 per bottle</td>\n",
       "      <td>75CL</td>\n",
       "      <td>Chardonnay</td>\n",
       "      <td>NaN</td>\n",
       "      <td>Natural Cork</td>\n",
       "      <td>France</td>\n",
       "      <td>10.1</td>\n",
       "      <td>Peach, Apricot, Floral, Lemon</td>\n",
       "      <td>per bottle</td>\n",
       "      <td>White</td>\n",
       "      <td>ABV 13.50%</td>\n",
       "      <td>Burgundy</td>\n",
       "      <td>Ripe &amp; Rounded</td>\n",
       "      <td>2022</td>\n",
       "      <td>Macon</td>\n",
       "    </tr>\n",
       "    <tr>\n",
       "      <th>4</th>\n",
       "      <td>Bread &amp; Butter 'Winemaker's Selection' Pinot N...</td>\n",
       "      <td>Bread &amp; Butter is that thing that you can coun...</td>\n",
       "      <td>£15.99 per bottle</td>\n",
       "      <td>75CL</td>\n",
       "      <td>Pinot Noir</td>\n",
       "      <td>NaN</td>\n",
       "      <td>Natural Cork</td>\n",
       "      <td>USA</td>\n",
       "      <td>10.1</td>\n",
       "      <td>Smoke, Black Cherry, Cedar, Raspberry, Red Fruit</td>\n",
       "      <td>per bottle</td>\n",
       "      <td>Red</td>\n",
       "      <td>ABV 13.50%</td>\n",
       "      <td>California</td>\n",
       "      <td>Smooth &amp; Mellow</td>\n",
       "      <td>2021</td>\n",
       "      <td>Napa Valley</td>\n",
       "    </tr>\n",
       "  </tbody>\n",
       "</table>\n",
       "</div>"
      ],
      "text/plain": [
       "                                               title  \\\n",
       "0                                 The Guv'nor, Spain   \n",
       "1  Bread & Butter 'Winemaker's Selection' Chardon...   \n",
       "2       Oyster Bay Sauvignon Blanc 2022, Marlborough   \n",
       "3                   Louis Latour Mâcon-Lugny 2021/22   \n",
       "4  Bread & Butter 'Winemaker's Selection' Pinot N...   \n",
       "\n",
       "                                         description              price  \\\n",
       "0  We asked some of our most prized winemakers wo...   £9.99 per bottle   \n",
       "1  This really does what it says on the tin. It’s...  £15.99 per bottle   \n",
       "2  Oyster Bay has been an award-winning gold-stan...  £12.49 per bottle   \n",
       "3  We’ve sold this wine for thirty years – and fo...  £17.99 per bottle   \n",
       "4  Bread & Butter is that thing that you can coun...  £15.99 per bottle   \n",
       "\n",
       "  capacity            grape secondary_grape_varieties       closure  \\\n",
       "0     75CL      Tempranillo                       NaN  Natural Cork   \n",
       "1     75CL       Chardonnay                       NaN  Natural Cork   \n",
       "2     75CL  Sauvignon Blanc                       NaN      Screwcap   \n",
       "3     75CL       Chardonnay                       NaN  Natural Cork   \n",
       "4     75CL       Pinot Noir                       NaN  Natural Cork   \n",
       "\n",
       "       country  unit                                    characteristics  \\\n",
       "0        Spain  10.5                  Vanilla, Blackberry, Blackcurrant   \n",
       "1          USA  10.1  Vanilla, Almond, Coconut, Green Apple, Peach, ...   \n",
       "2  New Zealand   9.8  Tropical Fruit, Gooseberry, Grapefruit, Grass,...   \n",
       "3       France  10.1                      Peach, Apricot, Floral, Lemon   \n",
       "4          USA  10.1   Smoke, Black Cherry, Cedar, Raspberry, Red Fruit   \n",
       "\n",
       "  per_bottle_/_case_/_each   type         abv       region            style  \\\n",
       "0               per bottle    Red  ABV 14.00%          NaN     Rich & Juicy   \n",
       "1               per bottle  White  ABV 13.50%   California    Rich & Toasty   \n",
       "2               per bottle  White  ABV 13.00%  Marlborough    Crisp & Zesty   \n",
       "3               per bottle  White  ABV 13.50%     Burgundy   Ripe & Rounded   \n",
       "4               per bottle    Red  ABV 13.50%   California  Smooth & Mellow   \n",
       "\n",
       "  vintage  appellation  \n",
       "0      NV          NaN  \n",
       "1    2021  Napa Valley  \n",
       "2    2022          NaN  \n",
       "3    2022        Macon  \n",
       "4    2021  Napa Valley  "
      ]
     },
     "execution_count": 1103,
     "metadata": {},
     "output_type": "execute_result"
    }
   ],
   "source": [
    "df_val.drop_duplicates(inplace=True)\n",
    "print(df_val.shape)\n",
    "df_val.head()"
   ]
  },
  {
   "cell_type": "code",
   "execution_count": 1104,
   "metadata": {},
   "outputs": [
    {
     "data": {
      "text/plain": [
       "capacity\n",
       "75CL      1193\n",
       "37.5CL      23\n",
       "750ML       18\n",
       "1.5LTR      18\n",
       "150CL       11\n",
       "50CL         8\n",
       "Our          6\n",
       "2.25L        4\n",
       "70CL         3\n",
       "500ML        3\n",
       "300CL        1\n",
       "5LITRE       1\n",
       "375ML        1\n",
       "Name: count, dtype: int64"
      ]
     },
     "execution_count": 1104,
     "metadata": {},
     "output_type": "execute_result"
    }
   ],
   "source": [
    "df_val['capacity'].value_counts()"
   ]
  },
  {
   "cell_type": "code",
   "execution_count": 1105,
   "metadata": {},
   "outputs": [],
   "source": [
    "df_val = df_val[(df_val['capacity'] == '75CL') | (df_val['capacity'] == '750ML')].copy()"
   ]
  },
  {
   "cell_type": "code",
   "execution_count": 1106,
   "metadata": {},
   "outputs": [],
   "source": [
    "df_val.drop(columns = ['capacity', 'secondary_grape_varieties','closure', 'description',\n",
    "                        'characteristics', 'per_bottle_/_case_/_each', 'unit', 'style',\n",
    "                           'appellation'],   inplace=True)"
   ]
  },
  {
   "cell_type": "code",
   "execution_count": 1107,
   "metadata": {},
   "outputs": [],
   "source": [
    "df_val.rename(columns = {'title' : 'name',\n",
    "                         'grape' : 'grape_variety',\n",
    "                         'type' : 'wine_variety' \n",
    "                         }, inplace = True)"
   ]
  },
  {
   "cell_type": "code",
   "execution_count": 1108,
   "metadata": {},
   "outputs": [],
   "source": [
    "df_val['name'] = df_val['name'].apply(cf.uniform_strings)\n",
    "df_val['country'] = df_val['country'].apply(cf.uniform_strings)"
   ]
  },
  {
   "cell_type": "code",
   "execution_count": 1109,
   "metadata": {},
   "outputs": [
    {
     "data": {
      "text/plain": [
       "name               0\n",
       "price              0\n",
       "grape_variety      5\n",
       "country            0\n",
       "wine_variety       3\n",
       "abv                3\n",
       "region           135\n",
       "vintage            0\n",
       "dtype: int64"
      ]
     },
     "execution_count": 1109,
     "metadata": {},
     "output_type": "execute_result"
    }
   ],
   "source": [
    "df_val.isna().sum()"
   ]
  },
  {
   "cell_type": "code",
   "execution_count": 1110,
   "metadata": {},
   "outputs": [],
   "source": [
    "df_val['rating'] = np.nan\n",
    "df_val['rating_qty'] = np.nan"
   ]
  },
  {
   "cell_type": "code",
   "execution_count": 1111,
   "metadata": {},
   "outputs": [],
   "source": [
    "df_val.loc[df_val['country'] == 'USA', 'country'] = 'United States'"
   ]
  },
  {
   "cell_type": "code",
   "execution_count": 1112,
   "metadata": {},
   "outputs": [],
   "source": [
    "df_wine_com.loc[df_wine_com['region'].isin(cf.us_states), 'country'] = 'United States'"
   ]
  },
  {
   "cell_type": "code",
   "execution_count": 1113,
   "metadata": {},
   "outputs": [],
   "source": [
    "df_val['price'] = df_val['price'].apply(lambda x: float(re.findall(r'\\d+\\.\\d+', x)[0]))"
   ]
  },
  {
   "cell_type": "code",
   "execution_count": 1114,
   "metadata": {},
   "outputs": [
    {
     "data": {
      "text/plain": [
       "count    1211.000000\n",
       "mean       27.884649\n",
       "std        35.696620\n",
       "min         4.990000\n",
       "25%        12.490000\n",
       "50%        16.990000\n",
       "75%        29.990000\n",
       "max       430.000000\n",
       "Name: price, dtype: float64"
      ]
     },
     "execution_count": 1114,
     "metadata": {},
     "output_type": "execute_result"
    }
   ],
   "source": [
    "df_val['price'].describe()"
   ]
  },
  {
   "cell_type": "code",
   "execution_count": 1115,
   "metadata": {},
   "outputs": [],
   "source": [
    "def extract_first_four_numbers(text):\n",
    "    match = re.search(r'\\d{4}', str(text))\n",
    "    return match.group() if match else 'unknown'\n",
    "\n",
    "df_val['vintage'] = df_val['vintage'].apply(lambda x: extract_first_four_numbers(x))"
   ]
  },
  {
   "cell_type": "code",
   "execution_count": 1116,
   "metadata": {},
   "outputs": [
    {
     "data": {
      "text/plain": [
       "vintage\n",
       "2022       309\n",
       "2021       258\n",
       "2020       189\n",
       "unknown    143\n",
       "2019        96\n",
       "2018        65\n",
       "2017        43\n",
       "2016        20\n",
       "2015        19\n",
       "2014        16\n",
       "2023        12\n",
       "2012        10\n",
       "2013        10\n",
       "2008         6\n",
       "2010         4\n",
       "2011         3\n",
       "2007         3\n",
       "2005         2\n",
       "1999         1\n",
       "2003         1\n",
       "2009         1\n",
       "Name: count, dtype: int64"
      ]
     },
     "execution_count": 1116,
     "metadata": {},
     "output_type": "execute_result"
    }
   ],
   "source": [
    "df_val['vintage'].value_counts()"
   ]
  },
  {
   "cell_type": "code",
   "execution_count": 1117,
   "metadata": {},
   "outputs": [],
   "source": [
    "# Apply three producer extraction steps and combine \n",
    "df_val['name'] = df_val['name'].apply(cf.uniform_strings)\n",
    "df_val['producer_clean'] = df_val['name'].apply(lambda x: cf.extract_string(x, all_producers))\n"
   ]
  },
  {
   "cell_type": "code",
   "execution_count": 1118,
   "metadata": {},
   "outputs": [],
   "source": [
    "# df_val['producer_clean'].value_counts().tail(50)"
   ]
  },
  {
   "cell_type": "code",
   "execution_count": 1119,
   "metadata": {},
   "outputs": [
    {
     "data": {
      "text/plain": [
       "producer_varietal_removed\n",
       "review                                                           441\n",
       "Waimea Estates Nelson                                              7\n",
       "Bread Butter Winemakers Selection California                       4\n",
       "Pringle Bay Western Cape                                           4\n",
       "Cape Mentelle Margaret River                                       3\n",
       "Yalumba Y Series Australia                                         3\n",
       "Nero Oro Sicily                                                    3\n",
       "Catena Menda                                                       3\n",
       "La Angele France                                                   3\n",
       "Aqualta Doc                                                        3\n",
       "Cloudy Bay Marlborough                                             3\n",
       "Rocklin Ranch Monterey                                             3\n",
       "Santa Rita 120 Central Valley                                      3\n",
       "Gabb Family Vineyards South Africa                                 3\n",
       "Smith Wright Australia                                             3\n",
       "Cave Vinicole De Hunawihr Kuhlmannplatz Cuvee Prestige Alsace      3\n",
       "Yellow Tail Australia                                              3\n",
       "Acacia Road South Africa                                           3\n",
       "Toast California                                                   3\n",
       "Saint Clair Pioneer Marlborough                                    3\n",
       "Lb7 Lisbon                                                         3\n",
       "Chapel Down Kent                                                   3\n",
       "Mud House Marlborough                                              2\n",
       "The Ned Marlborough                                                2\n",
       "Bouvet Ladubay Saumur                                              2\n",
       "Tutiac Lion The Lily Bordeaux                                      2\n",
       "Graham Beck South Africa                                           2\n",
       "Villa M Cellar Selection Marlborough                               2\n",
       "Incanta Romania                                                    2\n",
       "Stags Leap Hands Of Time Valley                                    2\n",
       "Greywacke Marlborough                                              2\n",
       "Moillardthomas                                                     2\n",
       "Domane Wachau Weingarten Weissenkirchen Wachau                     2\n",
       "Boekenhoutskloof The Wolftrap South Africa                         2\n",
       "19 Crimes Australia                                                2\n",
       "Pasqua Dlz Idealysta Puglia                                        2\n",
       "Barista Western Cape                                               2\n",
       "Edouard Delaunay Septembre Burgundy                                2\n",
       "Langloischateau Lextra Par Langlois De Loire                       2\n",
       "Definition English Sparkling Hampshire                             2\n",
       "Veuve Clicquot Champagne                                           2\n",
       "Vergelegen Mill Race Stellenbosch                                  2\n",
       "Alamos Menda                                                       2\n",
       "Oyster Bay Marlborough                                             2\n",
       "Edna Valley Central Coast                                          2\n",
       "Kang Road Mclaren Vale                                             2\n",
       "Saintsbury Carneros                                                2\n",
       "Cattier Premier Cru Champagne                                      2\n",
       "Duckhorn Decoy Sonoma County                                       2\n",
       "Framingham Nobodys Hero Marlborough                                2\n",
       "Name: count, dtype: int64"
      ]
     },
     "execution_count": 1119,
     "metadata": {},
     "output_type": "execute_result"
    }
   ],
   "source": [
    "df_val['producer_varietal_removed'] = df_val['name'].apply(lambda x : cf.remove_varietal(x, varietal_set_long))\n",
    "df_val['producer_varietal_removed'].value_counts().head(50)"
   ]
  },
  {
   "cell_type": "code",
   "execution_count": 1120,
   "metadata": {},
   "outputs": [],
   "source": [
    "df_val['producer_dirty'] = df_val['name'].apply(cf.get_dirty_producer)\n",
    "df_val['combined_methods_producer'] = df_val.apply(cf.combine_methods, axis = 1)"
   ]
  },
  {
   "cell_type": "code",
   "execution_count": 1121,
   "metadata": {},
   "outputs": [
    {
     "data": {
      "text/plain": [
       "Index(['Acacia Road', 'Adega De Pegoes', 'Alain Grignon', 'Allegrini',\n",
       "       'Alturo Menda', 'Annas Way Marlborough', 'Avior Argentina',\n",
       "       'Ayala Le Blanc', 'Babich', 'Barons De Rothschild Lafite',\n",
       "       'Beato Bartolomeo Delle Venezie', 'Behind Closed Doors Lisbon',\n",
       "       'Benmarco', 'Bodegas Hidalgo Triana', 'Carpe Diem Moldova',\n",
       "       'Cattier Millesime', 'Cave Vinicole De Hunawihr Kuhlmannplatz',\n",
       "       'Caves Desclans', 'Cecchi', 'Chandon', 'Chateau Bel', 'Chateau Caronne',\n",
       "       'Chateau De La Tour', 'Chateau De Thauvenay', 'Chateau Fourcas Dupre',\n",
       "       'Chateau Grimont', 'Chateau Le Boscq', 'Chateau Lhyverniere',\n",
       "       'Chateau Livran', 'Chateau Rauzansegla', 'Chateau Tour Bayard',\n",
       "       'Ciabot Berton', 'Cillar D', 'Contesa', 'Corallo Sicily',\n",
       "       'De Ladoucette', 'Dom Perignon Vintage Champagne',\n",
       "       'Domaine De Villemajou', 'Domaine Du Vaux St Georges Touraine',\n",
       "       'Domaine Et Edmond Figeat Pouilly', 'Domaine Moillardthomas',\n",
       "       'Domaine Olivier', 'Domaine Pierre', 'Domodo',\n",
       "       'Emma Marris Marlborough', 'Hidalgo Pastrana', 'Hugel',\n",
       "       'Indomita Gran Cas Valley', 'Iona',\n",
       "       'J Moreau Et Fils Le Sans Bois France', 'Jaboulet Les Jumelles',\n",
       "       'Jean Bon', 'Jean Sablenay', 'Jeanlouis Chavy', 'Kendermanns Germany',\n",
       "       'Krasno Brda', 'La Baume Cuvee Florence Piquepoul Languedoc',\n",
       "       'La Buxynoise', 'La Garnacha', 'La Serena', 'Le Bois Dore Saumur',\n",
       "       'Le Relais', 'Le Voyage Dodette France', 'Leon Perdigal', 'Les Freres',\n",
       "       'Les Freres Lumiere Du Rhone', 'Les Hauts', 'Lfe 900',\n",
       "       'Maison Antech Mademoiselle Marguerite Blanquette De Limoux',\n",
       "       'Maison Chanzy En Y Rully Burgundy', 'Making Tracks South Australia',\n",
       "       'Managers Choice Vik A Cachapoal Valley', 'Marea Leyda Valley',\n",
       "       'Marques De Altillo', 'Marques De Murrieta', 'Martin Codax Rias Baixas',\n",
       "       'Mendel Selection Menda', 'Moillardthomas Coteaux', 'Nivola Italy',\n",
       "       'Noughty Organic Sparkling 0', 'Nunzio Ghiraldi', 'Oliver Dubois',\n",
       "       'Ornellaia', 'Pavillon La Tourelle', 'Perdeberg',\n",
       "       'Petaluma White Label Coonawarra', 'Peter Ulrich Griebeler Dry Mosel',\n",
       "       'Plum Pepper Barossa', 'Primitivo Il Feudo',\n",
       "       'Proyecto Garnachas De Espana', 'Pulignymontrachet 201920',\n",
       "       'Saintveran Les Vignerons', 'Saladini Pilastri Organic Offida Docg',\n",
       "       'Selvapiana', 'Surani Pietrariccia Puglia', 'The Pale',\n",
       "       'Vieux Remparts', 'Villa Borghetti', 'Von Der Land Austria',\n",
       "       'Wakeld Visionary'],\n",
       "      dtype='object', name='combined_methods_producer')"
      ]
     },
     "execution_count": 1121,
     "metadata": {},
     "output_type": "execute_result"
    }
   ],
   "source": [
    "val_producer_list = df_val['combined_methods_producer'].value_counts().tail(100).index.sort_values()\n",
    "val_producer_list"
   ]
  },
  {
   "cell_type": "code",
   "execution_count": 1122,
   "metadata": {},
   "outputs": [
    {
     "name": "stdout",
     "output_type": "stream",
     "text": [
      "Acacia Road\n",
      "Adega De Pegoes\n",
      "Alain Grignon\n",
      "Allegrini\n",
      "Alturo Menda\n",
      "Annas Way Marlborough\n",
      "Avior Argentina\n",
      "Ayala Le Blanc\n",
      "Babich\n",
      "Barons De Rothschild Lafite\n",
      "Beato Bartolomeo Delle Venezie\n",
      "Behind Closed Doors Lisbon\n",
      "Benmarco\n",
      "Bodegas Hidalgo Triana\n",
      "Carpe Diem Moldova\n",
      "Cattier Millesime\n",
      "Cave Vinicole De Hunawihr Kuhlmannplatz\n",
      "Caves Desclans\n",
      "Cecchi\n",
      "Chandon\n",
      "Chateau Bel\n",
      "Chateau Caronne\n",
      "Chateau De La Tour\n",
      "Chateau De Thauvenay\n",
      "Chateau Fourcas Dupre\n",
      "Chateau Grimont\n",
      "Chateau Le Boscq\n",
      "Chateau Lhyverniere\n",
      "Chateau Livran\n",
      "Chateau Rauzansegla\n",
      "Chateau Tour Bayard\n",
      "Ciabot Berton\n",
      "Cillar D\n",
      "Contesa\n",
      "Corallo Sicily\n",
      "De Ladoucette\n",
      "Dom Perignon Vintage Champagne\n",
      "Domaine De Villemajou\n",
      "Domaine Du Vaux St Georges Touraine\n",
      "Domaine Et Edmond Figeat Pouilly\n",
      "Domaine Moillardthomas\n",
      "Domaine Olivier\n",
      "Domaine Pierre\n",
      "Domodo\n",
      "Emma Marris Marlborough\n",
      "Hidalgo Pastrana\n",
      "Hugel\n",
      "Indomita Gran Cas Valley\n",
      "Iona\n",
      "J Moreau Et Fils Le Sans Bois France\n",
      "Jaboulet Les Jumelles\n",
      "Jean Bon\n",
      "Jean Sablenay\n",
      "Jeanlouis Chavy\n",
      "Kendermanns Germany\n",
      "Krasno Brda\n",
      "La Baume Cuvee Florence Piquepoul Languedoc\n",
      "La Buxynoise\n",
      "La Garnacha\n",
      "La Serena\n",
      "Le Bois Dore Saumur\n",
      "Le Relais\n",
      "Le Voyage Dodette France\n",
      "Leon Perdigal\n",
      "Les Freres\n",
      "Les Freres Lumiere Du Rhone\n",
      "Les Hauts\n",
      "Lfe 900\n",
      "Maison Antech Mademoiselle Marguerite Blanquette De Limoux\n",
      "Maison Chanzy En Y Rully Burgundy\n",
      "Making Tracks South Australia\n",
      "Managers Choice Vik A Cachapoal Valley\n",
      "Marea Leyda Valley\n",
      "Marques De Altillo\n",
      "Marques De Murrieta\n",
      "Martin Codax Rias Baixas\n",
      "Mendel Selection Menda\n",
      "Moillardthomas Coteaux\n",
      "Nivola Italy\n",
      "Noughty Organic Sparkling 0\n",
      "Nunzio Ghiraldi\n",
      "Oliver Dubois\n",
      "Ornellaia\n",
      "Pavillon La Tourelle\n",
      "Perdeberg\n",
      "Petaluma White Label Coonawarra\n",
      "Peter Ulrich Griebeler Dry Mosel\n",
      "Plum Pepper Barossa\n",
      "Primitivo Il Feudo\n",
      "Proyecto Garnachas De Espana\n",
      "Pulignymontrachet 201920\n",
      "Saintveran Les Vignerons\n",
      "Saladini Pilastri Organic Offida Docg\n",
      "Selvapiana\n",
      "Surani Pietrariccia Puglia\n",
      "The Pale\n",
      "Vieux Remparts\n",
      "Villa Borghetti\n",
      "Von Der Land Austria\n",
      "Wakeld Visionary\n"
     ]
    }
   ],
   "source": [
    "for i in val_producer_list.unique():\n",
    "    print(i)"
   ]
  },
  {
   "cell_type": "code",
   "execution_count": 1123,
   "metadata": {},
   "outputs": [
    {
     "data": {
      "text/plain": [
       "producer\n",
       "Definition                  34\n",
       "Pasqua                      12\n",
       "Penfolds                    10\n",
       "Saint Clair                  9\n",
       "Two Hands                    8\n",
       "Muga                         8\n",
       "Louis Latour                 8\n",
       "Waimea Estates Nelson        7\n",
       "Louis Roederer               7\n",
       "Chosen By Majestic           7\n",
       "Rustenberg                   7\n",
       "Veuve Clicquot               7\n",
       "Catena                       7\n",
       "Yalumba                      7\n",
       "E Guigal                     6\n",
       "Cloudy Bay                   6\n",
       "Peter Lehmann                6\n",
       "Santa Rita                   6\n",
       "Errazuriz                    6\n",
       "Laurentperrier               6\n",
       "Bread Butter                 6\n",
       "Paul Jaboulet Aine           5\n",
       "Taittinger                   5\n",
       "Montes                       5\n",
       "Louis Jadot                  5\n",
       "La Gioiosa                   5\n",
       "The Ned                      5\n",
       "Cune                         5\n",
       "Ruinart                      5\n",
       "Villa Maria                  5\n",
       "Boekenhoutskloof             5\n",
       "Creek                        5\n",
       "Jim Barry                    4\n",
       "Langloischateau              4\n",
       "Pommery                      4\n",
       "Marques De Caceres           4\n",
       "Alain Jaume                  4\n",
       "Alain Chavy                  4\n",
       "Lanson Le                    4\n",
       "Yellow Tail                  4\n",
       "Torbreck                     4\n",
       "Pol Roger                    4\n",
       "Alamos                       4\n",
       "Pringle Bay Western Cape     4\n",
       "Matsu                        4\n",
       "Bollinger                    4\n",
       "Chateau Tour                 4\n",
       "Gerard Bertrand              4\n",
       "Graham Beck                  4\n",
       "Bouvet                       4\n",
       "Name: count, dtype: int64"
      ]
     },
     "execution_count": 1123,
     "metadata": {},
     "output_type": "execute_result"
    }
   ],
   "source": [
    "df_val['producer'] = df_val['combined_methods_producer']\n",
    "df_val['producer'].value_counts().head(50)\n"
   ]
  },
  {
   "cell_type": "code",
   "execution_count": 1124,
   "metadata": {},
   "outputs": [],
   "source": [
    "df_val['wine_variety'].fillna('unknown', inplace=True)"
   ]
  },
  {
   "cell_type": "code",
   "execution_count": 1125,
   "metadata": {},
   "outputs": [
    {
     "data": {
      "text/plain": [
       "wine_variety\n",
       "red      546\n",
       "white    546\n",
       "rose     110\n",
       "other      9\n",
       "Name: count, dtype: int64"
      ]
     },
     "execution_count": 1125,
     "metadata": {},
     "output_type": "execute_result"
    }
   ],
   "source": [
    "df_val['wine_variety'] = df_val['wine_variety'].apply(cf.get_wine_variety)\n",
    "df_val['wine_variety'].value_counts()"
   ]
  },
  {
   "cell_type": "code",
   "execution_count": 1126,
   "metadata": {},
   "outputs": [],
   "source": [
    "df_val['abv'].fillna('ABV 00.00%', inplace=True)"
   ]
  },
  {
   "cell_type": "code",
   "execution_count": 1127,
   "metadata": {},
   "outputs": [],
   "source": [
    "df_val['abv'] = df_val['abv'].apply(lambda x: float(re.findall(r'\\d+\\.\\d+', x)[0]))\n"
   ]
  },
  {
   "cell_type": "code",
   "execution_count": 1128,
   "metadata": {},
   "outputs": [],
   "source": [
    "df_val['region'] = df_val['region'].apply(lambda x: 'unknown' if pd.isna(x) else x)\n",
    "df_val['region'] = df_val['region'].apply(cf.uniform_strings)"
   ]
  },
  {
   "cell_type": "code",
   "execution_count": 1129,
   "metadata": {},
   "outputs": [],
   "source": [
    "df_val.loc[df_val['abv'] == 0.0, 'abv'] = np.nan"
   ]
  },
  {
   "cell_type": "code",
   "execution_count": 1130,
   "metadata": {},
   "outputs": [],
   "source": [
    "df_val['grape_variety'] = df_val['grape_variety'].apply(lambda x: 'unknown' if pd.isna(x) else x)\n",
    "df_val['grape_variety'] = df_val['grape_variety'].apply(cf.uniform_strings)"
   ]
  },
  {
   "cell_type": "code",
   "execution_count": 1131,
   "metadata": {},
   "outputs": [],
   "source": [
    "df_val['reviewed_by'] = 'unknown'"
   ]
  },
  {
   "cell_type": "code",
   "execution_count": 1132,
   "metadata": {},
   "outputs": [],
   "source": [
    "df_val['from_vivino'] = False"
   ]
  },
  {
   "cell_type": "code",
   "execution_count": 1161,
   "metadata": {},
   "outputs": [
    {
     "data": {
      "text/plain": [
       "Index(['name', 'region', 'country', 'vintage', 'producer', 'wine_variety',\n",
       "       'grape_variety', 'price', 'rating', 'rating_qty', 'abv', 'reviewed_by',\n",
       "       'from_vivino'],\n",
       "      dtype='object')"
      ]
     },
     "execution_count": 1161,
     "metadata": {},
     "output_type": "execute_result"
    }
   ],
   "source": [
    "df_combined.columns "
   ]
  },
  {
   "cell_type": "code",
   "execution_count": 1162,
   "metadata": {},
   "outputs": [
    {
     "data": {
      "text/plain": [
       "Index(['name', 'region', 'country', 'vintage', 'producer', 'wine_variety',\n",
       "       'grape_variety', 'price', 'rating', 'rating_qty', 'abv', 'reviewed_by',\n",
       "       'from_vivino'],\n",
       "      dtype='object')"
      ]
     },
     "execution_count": 1162,
     "metadata": {},
     "output_type": "execute_result"
    }
   ],
   "source": [
    "df_val.columns"
   ]
  },
  {
   "cell_type": "code",
   "execution_count": 1141,
   "metadata": {},
   "outputs": [],
   "source": [
    "# Make categoricals uniform with other datasets\n",
    "df_val.loc[df_val['region'] == 'Unknown', 'region'] = 'unknown'\n",
    "df_val.loc[df_val['country'] == 'United Kingdom', 'country'] = 'England'\n",
    "df_val.loc[df_val['country'] == 'Usa', 'country'] = 'United States'\n"
   ]
  },
  {
   "cell_type": "code",
   "execution_count": 1142,
   "metadata": {},
   "outputs": [],
   "source": [
    "df_val.drop(columns = ['producer_clean','producer_varietal_removed', 'producer_dirty',\n",
    "       'combined_methods_producer'],   inplace=True)"
   ]
  },
  {
   "cell_type": "markdown",
   "metadata": {},
   "source": [
    "# Order and Combine Dataframes"
   ]
  },
  {
   "cell_type": "code",
   "execution_count": 1143,
   "metadata": {},
   "outputs": [
    {
     "name": "stdout",
     "output_type": "stream",
     "text": [
      "(14266, 13)\n",
      "(34664, 13)\n",
      "(2018, 13)\n"
     ]
    }
   ],
   "source": [
    "desired_columns_order = ['name', 'region', 'country', 'vintage', 'producer', 'wine_variety','grape_variety',\n",
    "                         'price', 'rating', 'rating_qty', 'abv', 'reviewed_by', 'from_vivino']\n",
    "df_wine_com = df_wine_com[desired_columns_order]\n",
    "df_viv_1 = df_viv_1[desired_columns_order]\n",
    "df_viv_2 = df_viv_2[desired_columns_order]\n",
    "df_val = df_val[desired_columns_order]\n",
    "print(df_wine_com.shape)\n",
    "print(df_viv_1.shape)\n",
    "print(df_viv_2.shape)\n",
    "df_combined = pd.concat([df_wine_com, df_viv_1, df_viv_2])"
   ]
  },
  {
   "cell_type": "code",
   "execution_count": 1144,
   "metadata": {},
   "outputs": [
    {
     "data": {
      "text/plain": [
       "name                0\n",
       "region              0\n",
       "country             0\n",
       "vintage           929\n",
       "producer            0\n",
       "wine_variety        0\n",
       "grape_variety       0\n",
       "price               0\n",
       "rating              0\n",
       "rating_qty          0\n",
       "abv              4360\n",
       "reviewed_by         0\n",
       "from_vivino         0\n",
       "dtype: int64"
      ]
     },
     "execution_count": 1144,
     "metadata": {},
     "output_type": "execute_result"
    }
   ],
   "source": [
    "df_wine_com.isna().sum()"
   ]
  },
  {
   "cell_type": "code",
   "execution_count": 1145,
   "metadata": {},
   "outputs": [
    {
     "name": "stdout",
     "output_type": "stream",
     "text": [
      "<class 'pandas.core.frame.DataFrame'>\n",
      "Index: 50948 entries, 0 to 2024\n",
      "Data columns (total 13 columns):\n",
      " #   Column         Non-Null Count  Dtype  \n",
      "---  ------         --------------  -----  \n",
      " 0   name           50948 non-null  object \n",
      " 1   region         50948 non-null  object \n",
      " 2   country        50948 non-null  object \n",
      " 3   vintage        49987 non-null  object \n",
      " 4   producer       50948 non-null  object \n",
      " 5   wine_variety   50948 non-null  object \n",
      " 6   grape_variety  50948 non-null  object \n",
      " 7   price          50948 non-null  float64\n",
      " 8   rating         50948 non-null  float64\n",
      " 9   rating_qty     50948 non-null  int64  \n",
      " 10  abv            9906 non-null   float64\n",
      " 11  reviewed_by    50948 non-null  object \n",
      " 12  from_vivino    50948 non-null  bool   \n",
      "dtypes: bool(1), float64(3), int64(1), object(8)\n",
      "memory usage: 5.1+ MB\n"
     ]
    }
   ],
   "source": [
    "df_combined.info()"
   ]
  },
  {
   "cell_type": "code",
   "execution_count": 1146,
   "metadata": {},
   "outputs": [
    {
     "data": {
      "text/plain": [
       "1330"
      ]
     },
     "execution_count": 1146,
     "metadata": {},
     "output_type": "execute_result"
    }
   ],
   "source": [
    "df_combined['grape_variety'] = df_combined['grape_variety'].apply(cf.uniform_strings)\n",
    "len(df_combined['grape_variety'].unique()) "
   ]
  },
  {
   "cell_type": "code",
   "execution_count": 1147,
   "metadata": {},
   "outputs": [
    {
     "data": {
      "text/plain": [
       "167"
      ]
     },
     "execution_count": 1147,
     "metadata": {},
     "output_type": "execute_result"
    }
   ],
   "source": [
    "grape_value_counts = df_combined['grape_variety'].value_counts()\n",
    "not_grapes = grape_value_counts[grape_value_counts < 4]\n",
    "df_combined['grape_variety'] = df_combined['grape_variety'].apply(lambda x: 'Unknown' if x in not_grapes.index else x)\n",
    "len(df_combined['grape_variety'].unique())"
   ]
  },
  {
   "cell_type": "code",
   "execution_count": 1148,
   "metadata": {},
   "outputs": [
    {
     "name": "stdout",
     "output_type": "stream",
     "text": [
      "Chardonnay\n",
      "Pinot Noir\n",
      "Cabernet Sauvignon\n",
      "Zinfandel\n",
      "Other Red Blends\n",
      "Tempranillo\n",
      "Pinot Grisgrigio\n",
      "Sauvignon Blanc\n",
      "Merlot\n",
      "Rhone Red Blends\n",
      "Rose\n",
      "Syrahshiraz\n",
      "Other Red Wine\n",
      "Other White Wine\n",
      "Godello\n",
      "Negroamaro\n",
      "Primitivo\n",
      "Mencia\n",
      "Sparkling Rose\n",
      "Riesling\n",
      "Grenache\n",
      "Nonvintage Sparkling Wine\n",
      "Vintage Sparkling Wine\n",
      "Albarino\n",
      "Other White Blends\n",
      "Sangiovese\n",
      "Gruner Veltliner\n",
      "Nebbiolo\n",
      "Dolcetto\n",
      "Barbera\n",
      "Bordeaux Red Blends\n",
      "Malbec\n",
      "Garganega\n",
      "Petite Sirah\n",
      "Carricante\n",
      "Xarello\n",
      "Vermentino\n",
      "Rhone White Blends\n",
      "Mourvedre\n",
      "Semillon\n",
      "Muscat\n",
      "Gewurztraminer\n",
      "Pinot Blanc\n",
      "Other Dessert\n",
      "Carmenere\n",
      "Gamay\n",
      "Assyrtiko\n",
      "Carignan\n",
      "Lambrusco\n",
      "Chenin Blanc\n",
      "Bordeaux White Blends\n",
      "Corvina\n",
      "Unknown\n",
      "Xinomavro\n",
      "Nerello Mascalese\n",
      "Bonarda\n",
      "Other Fortified\n",
      "Pedro Ximenez\n",
      "Torrontes\n",
      "Jacquere\n",
      "Mondeuse\n",
      "Verdicchio\n",
      "Verdejo\n",
      "Grenache Blanc\n",
      "Muller Thurgau\n",
      "Viognier\n",
      "Vermouth\n",
      "Tuscan Blends\n",
      "Trebbiano\n",
      "Sagrantino\n",
      "Tannat\n",
      "Cabernet Franc\n",
      "Petit Verdot\n",
      "Melon De Bourgogne\n",
      "Red Sparkling Wine\n",
      "Sherry\n",
      "Madeira\n",
      "Pinotage\n",
      "Marsanne\n",
      "Aglianico\n",
      "Friulano\n",
      "Cortese\n",
      "Greco\n",
      "Aligote\n",
      "Savagnin\n",
      "Roussanne\n",
      "Viura\n",
      "Bobal\n",
      "Alicante Bouschet\n",
      "Picpoul\n",
      "Moschofilero\n",
      "Port\n",
      "Arneis\n",
      "Montepulciano\n",
      "Nero Davola\n",
      "Falanghina\n",
      "Malvasia\n",
      "Freisa\n",
      "Lagrein\n",
      "Fiano\n",
      "Cinsault\n",
      "Grillo\n",
      "Furmint\n",
      "Zweigelt\n",
      "Fruit Wine\n",
      "Refosco\n",
      "Frappato\n",
      "Touriga Nacional\n",
      "Vernaccia\n",
      "Agiorgitiko\n",
      "Blaufrankisch\n",
      "Gaglioppo\n",
      "Teroldego\n",
      "Marsala\n",
      "Pais\n",
      "Pomerol\n",
      "Lirac\n",
      "Rosso Di Toscana\n",
      "Bardolino\n",
      "Gigondas\n",
      "Red Blend\n",
      "Chianti\n",
      "Shiraz\n",
      "Blend\n",
      "Monastrell\n",
      "Sancerre Rouge\n",
      "Fronsac\n",
      "Roma Rosso\n",
      "Garnacha\n",
      "Madiran\n",
      "Barolo\n",
      "Margaux\n",
      "Syrah\n",
      "Rioja\n",
      "Pinot Nero\n",
      "Baga\n",
      "Prieto Picudo\n",
      "Trincadeira\n",
      "Crianza\n",
      "Reserva\n",
      "Tinto\n",
      "Roble\n",
      "Rioja Crianza\n",
      "Tempranillo Crianza\n",
      "Crianza Rioja\n",
      "Gran Reserva\n",
      "Tempranillo Rioja\n",
      "Centenario Crianza\n",
      "Garnatxa Negra\n",
      "Vendimia Seleccionada\n",
      "Crianza Vendimia Seleccionada\n",
      "Rioja Reserva\n",
      "Seleccion\n",
      "Ribera Del Duero Roble\n",
      "Roble Ribera Del Duero\n",
      "Tempranillo Cabernet Sauvignon Crianza\n",
      "Tinto Roble\n",
      "Ribera Del Duero Crianza\n",
      "Negre\n",
      "Negre Seleccio\n",
      "Tempranillo Roble\n",
      "Reserva Rioja\n",
      "Crianza Ribera Del Duero\n",
      "La Garnacha Olvidada De Aragon\n",
      "Toro\n",
      "Maria\n",
      "Edicion Limitada\n"
     ]
    }
   ],
   "source": [
    "for i in df_combined['grape_variety'].unique():\n",
    "    print(i)"
   ]
  },
  {
   "cell_type": "code",
   "execution_count": 1149,
   "metadata": {},
   "outputs": [
    {
     "data": {
      "text/plain": [
       "count    9906.000000\n",
       "mean       13.605026\n",
       "std         1.462862\n",
       "min         1.200000\n",
       "25%        13.000000\n",
       "50%        13.500000\n",
       "75%        14.500000\n",
       "max        21.500000\n",
       "Name: abv, dtype: float64"
      ]
     },
     "execution_count": 1149,
     "metadata": {},
     "output_type": "execute_result"
    }
   ],
   "source": [
    "df_combined['abv'].describe()"
   ]
  },
  {
   "cell_type": "code",
   "execution_count": 1150,
   "metadata": {},
   "outputs": [
    {
     "data": {
      "text/plain": [
       "count    50948.000000\n",
       "mean       298.227821\n",
       "std        791.429115\n",
       "min          0.000000\n",
       "25%         22.000000\n",
       "50%         81.000000\n",
       "75%        268.000000\n",
       "max      29389.000000\n",
       "Name: rating_qty, dtype: float64"
      ]
     },
     "execution_count": 1150,
     "metadata": {},
     "output_type": "execute_result"
    }
   ],
   "source": [
    "df_combined['rating_qty'].describe()"
   ]
  },
  {
   "cell_type": "code",
   "execution_count": 1151,
   "metadata": {},
   "outputs": [
    {
     "data": {
      "text/html": [
       "<div>\n",
       "<style scoped>\n",
       "    .dataframe tbody tr th:only-of-type {\n",
       "        vertical-align: middle;\n",
       "    }\n",
       "\n",
       "    .dataframe tbody tr th {\n",
       "        vertical-align: top;\n",
       "    }\n",
       "\n",
       "    .dataframe thead th {\n",
       "        text-align: right;\n",
       "    }\n",
       "</style>\n",
       "<table border=\"1\" class=\"dataframe\">\n",
       "  <thead>\n",
       "    <tr style=\"text-align: right;\">\n",
       "      <th></th>\n",
       "      <th>name</th>\n",
       "      <th>region</th>\n",
       "      <th>country</th>\n",
       "      <th>vintage</th>\n",
       "      <th>producer</th>\n",
       "      <th>wine_variety</th>\n",
       "      <th>grape_variety</th>\n",
       "      <th>price</th>\n",
       "      <th>rating</th>\n",
       "      <th>rating_qty</th>\n",
       "      <th>abv</th>\n",
       "      <th>reviewed_by</th>\n",
       "      <th>from_vivino</th>\n",
       "    </tr>\n",
       "  </thead>\n",
       "  <tbody>\n",
       "  </tbody>\n",
       "</table>\n",
       "</div>"
      ],
      "text/plain": [
       "Empty DataFrame\n",
       "Columns: [name, region, country, vintage, producer, wine_variety, grape_variety, price, rating, rating_qty, abv, reviewed_by, from_vivino]\n",
       "Index: []"
      ]
     },
     "execution_count": 1151,
     "metadata": {},
     "output_type": "execute_result"
    }
   ],
   "source": [
    "df_combined[df_combined['producer'] == 'Reira Dona Antonia 10 Year Tawny Port']"
   ]
  },
  {
   "cell_type": "code",
   "execution_count": 1152,
   "metadata": {},
   "outputs": [
    {
     "name": "stdout",
     "output_type": "stream",
     "text": [
      "<class 'pandas.core.frame.DataFrame'>\n",
      "Index: 1211 entries, 0 to 1289\n",
      "Data columns (total 13 columns):\n",
      " #   Column         Non-Null Count  Dtype  \n",
      "---  ------         --------------  -----  \n",
      " 0   name           1211 non-null   object \n",
      " 1   region         1211 non-null   object \n",
      " 2   country        1211 non-null   object \n",
      " 3   vintage        1211 non-null   object \n",
      " 4   producer       1211 non-null   object \n",
      " 5   wine_variety   1211 non-null   object \n",
      " 6   grape_variety  1211 non-null   object \n",
      " 7   price          1211 non-null   float64\n",
      " 8   rating         0 non-null      float64\n",
      " 9   rating_qty     0 non-null      float64\n",
      " 10  abv            1208 non-null   float64\n",
      " 11  reviewed_by    1211 non-null   object \n",
      " 12  from_vivino    1211 non-null   bool   \n",
      "dtypes: bool(1), float64(4), object(8)\n",
      "memory usage: 124.2+ KB\n"
     ]
    }
   ],
   "source": [
    "df_val.info()"
   ]
  },
  {
   "cell_type": "code",
   "execution_count": 1153,
   "metadata": {},
   "outputs": [
    {
     "data": {
      "text/plain": [
       "6968"
      ]
     },
     "execution_count": 1153,
     "metadata": {},
     "output_type": "execute_result"
    }
   ],
   "source": [
    "# was 6996 now 6942:\n",
    "len(df_combined['producer'].unique())"
   ]
  },
  {
   "cell_type": "code",
   "execution_count": 1154,
   "metadata": {},
   "outputs": [],
   "source": [
    "# # Was revisited to iteratively add new producer names to producer list in cleaning_functions.py\n",
    "# for i in np.sort(df_combined['producer'].unique()):\n",
    "#     print(i)"
   ]
  },
  {
   "cell_type": "code",
   "execution_count": 1155,
   "metadata": {},
   "outputs": [],
   "source": [
    "sorted_producer_list = np.sort(df_combined['producer'].unique())"
   ]
  },
  {
   "cell_type": "code",
   "execution_count": 1156,
   "metadata": {},
   "outputs": [
    {
     "name": "stdout",
     "output_type": "stream",
     "text": [
      "Producers with matching first two words '4 Kilos': 4 Kilos, 4 Kilos Vinicola\n",
      "Producers with matching first two words 'Abadia De': Abadia De Acon, Abadia De Poblet\n",
      "Producers with matching first two words 'Agricola De': Agricola De Borja, Agricola De Borja Vina\n",
      "Producers with matching first two words 'Albert Boxler': Albert Boxler, Albert Boxler Edelswicker\n",
      "Producers with matching first two words 'Alfo Bertolani': Alfo Bertolani, Alfo Bertolani Allantica, Alfo Bertolani Dolce Fiore\n",
      "Producers with matching first two words 'Alma Negra': Alma Negra, Alma Negra M\n",
      "Producers with matching first two words 'Altar Uco': Altar Uco, Altar Uco Edad Media\n",
      "Producers with matching first two words 'Altos De': Altos De Rioja, Altos De Tamaron\n",
      "Producers with matching first two words 'Azienda Agricola': Azienda Agricola, Azienda Agricola Accornero, Azienda Agricola Lunelli, Azienda Agricola Morella, Azienda Agricola Pisoni\n",
      "Producers with matching first two words 'Baron De': Baron De La Charriere, Baron De Ley, Baron De Montfort\n",
      "Producers with matching first two words 'Beso De': Beso De Rechenna, Beso De Vino\n",
      "Producers with matching first two words 'Besserat De': Besserat De Fon, Besserat De Fon Bleu, Besserat De Fon De S Grand Cru\n",
      "Producers with matching first two words 'Bodega Finca': Bodega Finca Fuentegalana, Bodega Finca Las Moras\n",
      "Producers with matching first two words 'Bodega La': Bodega La Carbonera, Bodega La Milagrosa, Bodega La Remediadora\n",
      "Producers with matching first two words 'Bodegas Del': Bodegas Del Muni, Bodegas Del Rosario\n",
      "Producers with matching first two words 'Bodegas La': Bodegas La Horra, Bodegas La Rosa, Bodegas La Soterrana\n",
      "Producers with matching first two words 'Bodegas Nando': Bodegas Nando Rez De Ganuza Fincas De Ganuza Rioja, Bodegas Nando Rez De Ganuza O, Bodegas Nando Rez De Ganuza Rioja, Bodegas Nando Rez De Ganuza Rioja Gran\n",
      "Producers with matching first two words 'Bodegas Virgen': Bodegas Virgen De Galir, Bodegas Virgen De La Sierra, Bodegas Virgen Del Galir\n",
      "Producers with matching first two words 'Bodegas Y': Bodegas Y Vinedos Del Jalon, Bodegas Y Vinedos Escudero, Bodegas Y Vinedos Rodrigo Mendez Cies\n",
      "Producers with matching first two words 'Buglioni Il': Buglioni Il Bugiardo, Buglioni Il Disperato, Buglioni Il Vigliacco\n",
      "Producers with matching first two words 'Campos De': Campos De Dulcinea, Campos De Luz\n",
      "Producers with matching first two words 'Cantina Di': Cantina Di Custoza, Cantina Di Montalcino\n",
      "Producers with matching first two words 'Casa De': Casa De La Ermita, Casa De Santar, Casa De Si\n",
      "Producers with matching first two words 'Casa Di': Casa Di Malia Organic, Casa Di Terra\n",
      "Producers with matching first two words 'Casa Do': Casa Do Conego, Casa Do Lago, Casa Do Valle\n",
      "Producers with matching first two words 'Casa Vinicola': Casa Vinicola Bennati, Casa Vinicola Botter\n",
      "Producers with matching first two words 'Castello Di': Castello Di Ama, Castello Di Bolgheri, Castello Di Bossi, Castello Di Gabbiano, Castello Di Luzzano, Castello Di Meleto, Castello Di Monsanto, Castello Di Morcote, Castello Di Neive, Castello Di Querceto, Castello Di Uzzano, Castello Di Verduno, Castello Di Verrazzano, Castello Di Volpaia\n",
      "Producers with matching first two words 'Castillo De': Castillo De Albai, Castillo De Aresan, Castillo De Cuzcurrita, Castillo De Embid, Castillo De Eneriz, Castillo De Liria, Castillo De Maetierra, Castillo De Mendoza, Castillo De Monesma, Castillo De Monjardin, Castillo De Monseran\n",
      "Producers with matching first two words 'Cave De': Cave De Lugny Macon Lugny Les Charmes, Cave De Pomerols, Cave De Ribeauville, Cave De Roquebrun, Cave De Tain\n",
      "Producers with matching first two words 'Celler De': Celler De Capcanes, Celler De Sanui\n",
      "Producers with matching first two words 'Cellier Des': Cellier Des Dauphins, Cellier Des Princes\n",
      "Producers with matching first two words 'Champagne Le': Champagne Le Mesnil De S Grand Cru, Champagne Le Mesnil De S Grand Cru Vintage\n",
      "Producers with matching first two words 'Charles De': Charles De Cazanove, Charles De E, Charles De E Cuvee Jeanlouis De S, Charles De E Cuvee Jeanlouis Ice De S, Charles De E De S\n",
      "Producers with matching first two words 'Charles Joguet': Charles Joguet, Charles Joguet Chinon\n",
      "Producers with matching first two words 'Chateau Beausejour': Chateau Beausejour, Chateau Beausejour Becot\n",
      "Producers with matching first two words 'Chateau Belair': Chateau Belair, Chateau Belair Perponcher\n",
      "Producers with matching first two words 'Chateau Bellevue': Chateau Bellevue, Chateau Bellevue Figeac, Chateau Bellevue La Foret\n",
      "Producers with matching first two words 'Chateau Bourgneuf': Chateau Bourgneuf, Chateau Bourgneuf Vieux Chateau Bourgneuf\n",
      "Producers with matching first two words 'Chateau Cap': Chateau Cap De Faugeres, Chateau Cap Dor, Chateau Cap Saintmartin, Chateau Cap St George\n",
      "Producers with matching first two words 'Chateau Certan': Chateau Certan De May, Chateau Certan Marzelle\n",
      "Producers with matching first two words 'Chateau Clos': Chateau Clos, Chateau Clos Chaumont, Chateau Clos Du Moulin, Chateau Clos Saint Emilion Philippe, Chateau Clos Saint Martin\n",
      "Producers with matching first two words 'Chateau Cote': Chateau Cote De Baleau, Chateau Cote Montpezat\n",
      "Producers with matching first two words 'Chateau De': Chateau De Beaucastel, Chateau De Belair, Chateau De Berne, Chateau De Bligny Grande, Chateau De Bligny Green Bay Packers Grande, Chateau De Camarsac, Chateau De Camensac, Chateau De Campuget 1753, Chateau De Campuget Tradition, Chateau De Caraguilhes, Chateau De Carles, Chateau De Chambert, Chateau De Chamirey, Chateau De Chantegrive, Chateau De Corneilla, Chateau De Coulaine, Chateau De Dracy, Chateau De Ferrand, Chateau De Fieuzal, Chateau De Fonbel, Chateau De Fonsalette Du Rhone, Chateau De Fontenille, Chateau De Fosseseche, Chateau De France, Chateau De Francs, Chateau De Jau, Chateau De Javernand, Chateau De La Chaize, Chateau De La Commanderie, Chateau De La Cour Dargent, Chateau De La Cree, Chateau De La Grave, Chateau De La Huste, Chateau De La Liquiere, Chateau De La Maltroye, Chateau De La Soujeole, Chateau De La Tour, Chateau De Lancyre, Chateau De Lancyre Le, Chateau De Lascaux, Chateau De Lavagnac, Chateau De Lengarran, Chateau De Lescarelle, Chateau De Lisse, Chateau De Lussac, Chateau De Manissy, Chateau De Marsannay, Chateau De Meursault, Chateau De Meursault Clos Du Chateau, Chateau De Montfaucon, Chateau De Montfort, Chateau De Montmirail, Chateau De Nages, Chateau De Nalys, Chateau De Pampelonne De Provence, Chateau De Panigon, Chateau De Parenchere, Chateau De Pennautier, Chateau De Pez, Chateau De Pibarnon, Chateau De Pitray, Chateau De Pizay, Chateau De Plaisance, Chateau De Poncie, Chateau De Pressac, Chateau De Reignac, Chateau De Ricaud, Chateau De Roquefort, Chateau De Rouanne, Chateau De Rouillac, Chateau De Saint Cosme, Chateau De Sales, Chateau De Tiregand, Chateau De Vaudieu, Chateau De Viaud\n",
      "Producers with matching first two words 'Chateau Des': Chateau Des Bardes, Chateau Des Bormettes, Chateau Des Ferrages, Chateau Des Fines Roches, Chateau Des Graviers, Chateau Des Jacques, Chateau Des Laurets, Chateau Des Mille, Chateau Des Sarrins, Chateau Des Tours\n",
      "Producers with matching first two words 'Chateau Du': Chateau Du Bois De La Garde, Chateau Du Bousquet, Chateau Du Caillau, Chateau Du Carillon, Chateau Du Cayrou, Chateau Du Cedre, Chateau Du Chatelard, Chateau Du Courlat, Chateau Du Glana, Chateau Du Grand Caumont, Chateau Du Hureau, Chateau Du Lort, Chateau Du Moulin, Chateau Du Moulin Rouge, Chateau Du Perier, Chateau Du Retout, Chateau Du Tertre, Chateau Du Trignon\n",
      "Producers with matching first two words 'Chateau Feuillet': Chateau Feuillet, Chateau Feuillet Valle Daosta\n",
      "Producers with matching first two words 'Chateau Fleur': Chateau Fleur, Chateau Fleur Cardinale, Chateau Fleur De Lisse\n",
      "Producers with matching first two words 'Chateau Fuisse': Chateau Fuisse, Chateau Fuisse Julienas\n",
      "Producers with matching first two words 'Chateau Gazin': Chateau Gazin, Chateau Gazin Rocquencourt\n",
      "Producers with matching first two words 'Chateau Grand': Chateau Grand, Chateau Grand Barrail Lamarzelle Figeac, Chateau Grand Corbin, Chateau Grand Mayne, Chateau Grand Pascaud\n",
      "Producers with matching first two words 'Chateau Haut': Chateau Haut, Chateau Haut Bardin, Chateau Haut Condissas, Chateau Haut Rian, Chateau Haut Saint Clair\n",
      "Producers with matching first two words 'Chateau Hautbages': Chateau Hautbages Liberal, Chateau Hautbages Monpelou\n",
      "Producers with matching first two words 'Chateau Jean': Chateau Jean Faure, Chateau Jean Gue\n",
      "Producers with matching first two words 'Chateau La': Chateau La Bastienne, Chateau La Cabanne, Chateau La Caminade, Chateau La Canorgue, Chateau La Cardonne, Chateau La Chapelle Despagnet, Chateau La Commanderie, Chateau La Confession, Chateau La Conseillante, Chateau La Coudraie, Chateau La Couronne, Chateau La Couspaude, Chateau La Coustarelle, Chateau La Croix Chantecaille, Chateau La Croix Du Duc, Chateau La Dominique, Chateau La Fleur, Chateau La Fleur Darthus, Chateau La Fleur De Bouard, Chateau La Fleur De Jaugue, Chateau La Fleur Morange, Chateau La Fleurpetrus, Chateau La Freynelle, Chateau La Friere, Chateau La Gaffeliere, Chateau La Garde, Chateau La Gorce, Chateau La Grave Trigant De Boisset, Chateau La Gurgue, Chateau La Lagune, Chateau La Louviere, Chateau La Mission Hautbrion, Chateau La Negly, Chateau La Nerthe, Chateau La Patache, Chateau La Perriere, Chateau La Prade, Chateau La Providence, Chateau La Raze Beauvallet, Chateau La Renaissance, Chateau La Reverence, Chateau La Roque, Chateau La Roque Languedoc, Chateau La Serre, Chateau La Tonnelle, Chateau La Tour Carnet, Chateau La Tour De Leveque, Chateau La Tour De Mons, Chateau La Tour Figeac, Chateau La Vieille Cure\n",
      "Producers with matching first two words 'Chateau Lafite': Chateau Lafite Monteil, Chateau Lafite Rothschild\n",
      "Producers with matching first two words 'Chateau Lalande': Chateau Lalande, Chateau Lalande De Gravet\n",
      "Producers with matching first two words 'Chateau Latour': Chateau Latour, Chateau Latour A Pomerol\n",
      "Producers with matching first two words 'Chateau Le': Chateau Le Bedat, Chateau Le Bon Pasteur, Chateau Le Boscq, Chateau Le Coteau, Chateau Le Crock, Chateau Le Doyenne, Chateau Le Gardera, Chateau Le Gay, Chateau Le Grand, Chateau Le Pin Beausoleil, Chateau Le Prieure, Chateau Le Puy, Chateau Le Sabley\n",
      "Producers with matching first two words 'Chateau Leoville': Chateau Leoville Barton, Chateau Leoville Las Cases, Chateau Leoville Poyferre\n",
      "Producers with matching first two words 'Chateau Les': Chateau Les Barraillots, Chateau Les Belles Murailles, Chateau Les Carmes, Chateau Les Carmes Hautbrion, Chateau Les Grandes Murailles, Chateau Les Grands, Chateau Les Grands Chenes, Chateau Les Graves De Viaud, Chateau Les Gravieres, Chateau Les Hautsconseillants, Chateau Les Ormes, Chateau Les Pins De Bossuet, Chateau Les Rambauds, Chateau Les Trois Croix, Chateau Les Vieux Ormes\n",
      "Producers with matching first two words 'Chateau Lestage': Chateau Lestage, Chateau Lestage Chevillon\n",
      "Producers with matching first two words 'Chateau Lestignac': Chateau Lestignac, Chateau Lestignac Caravane\n",
      "Producers with matching first two words 'Chateau Marquis': Chateau Marquis Dalesme, Chateau Marquis De Terme\n",
      "Producers with matching first two words 'Chateau Maupague': Chateau Maupague De Provence Cabaret, Chateau Maupague De Provence Saintevictoire\n",
      "Producers with matching first two words 'Chateau Mont': Chateau Mont, Chateau Mont On Chateauneufdupape, Chateau Mont On Du Rhone\n",
      "Producers with matching first two words 'Chateau Moulin': Chateau Moulin De Curat, Chateau Moulin Du Cadet, Chateau Moulin Hautlaroque\n",
      "Producers with matching first two words 'Chateau Pavie': Chateau Pavie, Chateau Pavie Decesse, Chateau Pavie Macquin\n",
      "Producers with matching first two words 'Chateau Petit': Chateau Petit, Chateau Petit Bocq, Chateau Petit Gravet Aine\n",
      "Producers with matching first two words 'Chateau Pey': Chateau Pey De Faure, Chateau Pey La Tour\n",
      "Producers with matching first two words 'Chateau Pichon': Chateau Pichon Baron, Chateau Pichon Longueville Comtesse De Lalande\n",
      "Producers with matching first two words 'Chateau Rieussec': Chateau Rieussec, Chateau Rieussec R De Rieussec\n",
      "Producers with matching first two words 'Chateau Saint': Chateau Saint, Chateau Saint Sulpice Esprit De Saintsulpice\n",
      "Producers with matching first two words 'Chateau Smith': Chateau Smith, Chateau Smith Hautlafitte\n",
      "Producers with matching first two words 'Chateau Ste': Chateau Ste, Chateau Ste Michelle\n",
      "Producers with matching first two words 'Chateau Tertre': Chateau Tertre, Chateau Tertre Roteboeuf\n",
      "Producers with matching first two words 'Chateau Tour': Chateau Tour, Chateau Tour Baladoz, Chateau Tour Bayard, Chateau Tour Calon, Chateau Tour De Mirambeau, Chateau Tour Des Termes, Chateau Tour Du Cauze, Chateau Tour Du Haut Moulin, Chateau Tour Maillet, Chateau Tour Saintchristophe, Chateau Tour Seran\n",
      "Producers with matching first two words 'Chateau Vieux': Chateau Vieux Clos St Emilion, Chateau Vieux Garrouilh\n",
      "Producers with matching first two words 'Cic Cellars': Cic Cellars Dead Nuts, Cic Cellars Paradise, Cic Cellars Pink Pedals, Cic Cellars Sir Real, Cic Cellars Sofa King Bueno, Cic Cellars Spritz And Giggles\n",
      "Producers with matching first two words 'Clos De': Clos De Bouard, Clos De La Chapelle, Clos De La Tech, Clos De Lom, Clos De Lona, Clos De Loratoire, Clos De Los Siete, Clos De Lours, Clos De Sarpe\n",
      "Producers with matching first two words 'Clos Des': Clos Des Boutes, Clos Des Fous, Clos Des Jacobins, Clos Des Lunes, Clos Des Menuts, Clos Des Papes, Clos Des Papes Paul Avril\n",
      "Producers with matching first two words 'Clos Du': Clos Du Bois, Clos Du Caillou, Clos Du Clocher, Clos Du Jaugueyron, Clos Du Marquis, Clos Du Mont, Clos Du Val\n",
      "Producers with matching first two words 'Clos Henri': Clos Henri, Clos Henri Vineyard\n",
      "Producers with matching first two words 'Condado De': Condado De Haza, Condado De Oriza\n",
      "Producers with matching first two words 'Corte Dei': Corte Dei Mori, Corte Dei Papi\n",
      "Producers with matching first two words 'Costers Del': Costers Del Priorat, Costers Del Sio\n",
      "Producers with matching first two words 'Cote Des': Cote Des Roses, Cote Des S\n",
      "Producers with matching first two words 'Cuvelier Los': Cuvelier Los, Cuvelier Los Andes\n",
      "Producers with matching first two words 'De Bleu': De Bleu Cuvee Mousseux, De Bleu De\n",
      "Producers with matching first two words 'Dehesa De': Dehesa De Los Canonigos, Dehesa De Luna\n",
      "Producers with matching first two words 'Descendientes De': Descendientes De J Palacios, Descendientes De Jose\n",
      "Producers with matching first two words 'Diora La': Diora La Petite Grace, Diora La Splendeur Du Soleil\n",
      "Producers with matching first two words 'Do Reiro': Do Reiro, Do Reiro Cepas Vellas\n",
      "Producers with matching first two words 'Domaine Anne': Domaine Anne, Domaine Anne Gros Jeanpaul Tollot\n",
      "Producers with matching first two words 'Domaine Bruno': Domaine Bruno, Domaine Bruno Clair\n",
      "Producers with matching first two words 'Domaine Comte': Domaine Comte, Domaine Comte Georges De Vogue\n",
      "Producers with matching first two words 'Domaine De': Domaine De Baronarques, Domaine De Beaurenard, Domaine De Bellene, Domaine De Bernier, Domaine De Boede, Domaine De Cambes, Domaine De Castelnau, Domaine De Chevalier, Domaine De Cristia, Domaine De Cumelle, Domaine De Ferrand, Domaine De Fontclare, Domaine De Fontsainte, Domaine De Gry Sablon Dominique Morel, Domaine De La Begude, Domaine De La Bergerie, Domaine De La Bongran Vireclesse, Domaine De La Cadette, Domaine De La Cadette Bourgogne, Domaine De La Chanade, Domaine De La Chanteleuserie Bourgueil, Domaine De La Charbonniere Chateauneufdupape, Domaine De La Clapiere, Domaine De La Cote, Domaine De La Croix, Domaine De La Damase, Domaine De La Fouquette De Provence, Domaine De La Fruitiere, Domaine De La Grandcour Fleurie, Domaine De La Guilloterie, Domaine De La Janasse, Domaine De La Madone, Domaine De La Mordoree, Domaine De La Noblaie, Domaine De La Pauline, Domaine De La Pepiere, Domaine De La Pirolette, Domaine De La Pousse Dor, Domaine De La Prebende, Domaine De La Romaneeconti, Domaine De La Rouge, Domaine De La Solitude, Domaine De La Taille Aux Loups, Domaine De La Tour Du Bon, Domaine De La Vieille Julienne Chateauneufdupape, Domaine De La Vougeraie Terres, Domaine De La Vougeraie Vougeot, Domaine De Larlot, Domaine De Lenchantoir, Domaine De Lenclos, Domaine De Lhorizon, Domaine De Lhortus, Domaine De Lile, Domaine De Marcoux, Domaine De Montille, Domaine De Montvac, Domaine De Nizas, Domaine De Pajot, Domaine De Pallus, Domaine De Pellehaut, Domaine De Piaugier, Domaine De Reuilly, Domaine De Rochebin, Domaine De Rosiers, Domaine De Sabbat, Domaine De Suremain, Domaine De Terrebrune, Domaine De Triennes, Domaine De Valmengaux, Domaine De Vauroux, Domaine De Villaine, Domaine De Vodanis Vouvray Petillant\n",
      "Producers with matching first two words 'Domaine Des': Domaine Des Aires Hautes, Domaine Des Ardoisieres, Domaine Des Baumard, Domaine Des Billards, Domaine Des Bosquets, Domaine Des Comtes Lafon, Domaine Des Cres Ricards, Domaine Des Deux Cles, Domaine Des Entrefaux, Domaine Des Escaravailles, Domaine Des Gravennes, Domaine Des Heritiers Louis Jadot, Domaine Des Lambrays, Domaine Des Lises, Domaine Des Marrans, Domaine Des Nouelles, Domaine Des Perdrix, Domaine Des Peres, Domaine Des Quatre, Domaine Des Roches Neuves, Domaine Des Senechaux, Domaine Des Vercheres\n",
      "Producers with matching first two words 'Domaine Du': Domaine Du Bel, Domaine Du Castel, Domaine Du Cayron, Domaine Du Cellier, Domaine Du Clos, Domaine Du Clos Des Fees, Domaine Du Colombier, Domaine Du Haut, Domaine Du Mage, Domaine Du Moulin Gaillac Cuvee, Domaine Du Pegau, Domaine Du Pere, Domaine Du Pesquier, Domaine Du Seminaire, Domaine Du Tariquet, Domaine Du Terme, Domaine Du Vieux Lazaret, Domaine Du Vieux Telegraphe\n",
      "Producers with matching first two words 'Domaine Francois': Domaine Francois, Domaine Francois Buffet, Domaine Francois Lumpp\n",
      "Producers with matching first two words 'Domaine Henri': Domaine Henri, Domaine Henri Boillot, Domaine Henri Delagrange Et Fils\n",
      "Producers with matching first two words 'Domaine Jean': Domaine Jean Foillard, Domaine Jean Grivot, Domaine Jean Monnier Fils, Domaine Jean Royer, Domaine Jean Vullien\n",
      "Producers with matching first two words 'Domaine La': Domaine La Barroche, Domaine La Bouissiere, Domaine La Casenove, Domaine La Florane, Domaine La Garrigue, Domaine La Grange, Domaine La Grangette\n",
      "Producers with matching first two words 'Domaine Les': Domaine Les Aphillanthes, Domaine Les Enfants Sauvages, Domaine Les Fines, Domaine Les Fouques, Domaine Les Grands, Domaine Les Pallieres, Domaine Les Roches, Domaine Les Terres Promises\n",
      "Producers with matching first two words 'Domaine Lucien': Domaine Lucien, Domaine Lucien Boillot\n",
      "Producers with matching first two words 'Domaine Marie': Domaine Marie, Domaine Marie Et Florian Curtet Vin De Savoie\n",
      "Producers with matching first two words 'Domaine Michel': Domaine Michel, Domaine Michel Barraud, Domaine Michel Guignier\n",
      "Producers with matching first two words 'Domaine Pierre': Domaine Pierre, Domaine Pierre Andre\n",
      "Producers with matching first two words 'Domaine Robert': Domaine Robert, Domaine Robert Chevillon\n",
      "Producers with matching first two words 'Domaine Roux': Domaine Roux, Domaine Roux Pere Fils Les Cotilles\n",
      "Producers with matching first two words 'Domaine Saint': Domaine Saint, Domaine Saint Nicolas\n",
      "Producers with matching first two words 'Domaine Ste': Domaine Ste, Domaine Ste Michelle\n",
      "Producers with matching first two words 'Domaine Thierry': Domaine Thierry, Domaine Thierry Mortet, Domaine Thierry Tissot Bugey\n",
      "Producers with matching first two words 'Dominio De': Dominio De Atauta, Dominio De Bornos, Dominio De Cair, Dominio De Calles, Dominio De Eguren, Dominio De Longaz, Dominio De Pingus, Dominio De Tares\n",
      "Producers with matching first two words 'Dominio Del': Dominio Del Aguila, Dominio Del Bendito, Dominio Del Urogallo\n",
      "Producers with matching first two words 'Dona M': Dona M Amantis, Dona M Grande\n",
      "Producers with matching first two words 'Dora Di': Dora Di Paolo, Dora Di Paolo Lacryma Christi Del Vesuvio\n",
      "Producers with matching first two words 'Duo Tons': Duo Tons De Duo, Duo Tons De Duo White\n",
      "Producers with matching first two words 'E Pira': E Pira, E Pira Figli\n",
      "Producers with matching first two words 'Fattoria Di': Fattoria Di Basciano, Fattoria Di Grignano, Fattoria Di Grignano Poggio Gualtieri Chianti Rufina, Fattoria Di Magliano, Fattoria Di Petroio Chianti Classico\n",
      "Producers with matching first two words 'Fattoria La': Fattoria La Fiorita, Fattoria La Parrina, Fattoria La Rivolta\n",
      "Producers with matching first two words 'Fattoria Le': Fattoria Le Corti, Fattoria Le Pupille\n",
      "Producers with matching first two words 'Feudi Del': Feudi Del Pisciotto Carolina Marengo, Feudi Del Pisciotto Missoni, Feudi Del Pisciotto Versace\n",
      "Producers with matching first two words 'Finca De': Finca De La Rica, Finca De Los Arandinos, Finca De Los Padrillos\n",
      "Producers with matching first two words 'Finca La': Finca La Celia, Finca La Emperatriz, Finca La Estacada, Finca La Luz Callejon Del Crimen Gran, Finca La Solana\n",
      "Producers with matching first two words 'Fleur De': Fleur De California, Fleur De Mer\n",
      "Producers with matching first two words 'Ghettina Franciacorta': Ghettina Franciacorta, Ghettina Franciacorta Cuvee, Ghettina Franciacorta Milledi\n",
      "Producers with matching first two words 'Green Chiles': Green Chiles Canyon Vineyards, Green Chiles Mill Vineyards\n",
      "Producers with matching first two words 'Hacienda Del': Hacienda Del Carche, Hacienda Del Carmen\n",
      "Producers with matching first two words 'Hamilton Russell': Hamilton Russell, Hamilton Russell Vineyards\n",
      "Producers with matching first two words 'Herdade Do': Herdade Do Perdigao, Herdade Do Rocim\n",
      "Producers with matching first two words 'Hund Acre': Hund Acre Ancient Way Vineyard Summers, Hund Acre Few And Far Between, Hund Acre Precious, Hund Acre Wraith\n",
      "Producers with matching first two words 'Isa And': Isa And Pierre Clement Menetou Salon, Isa And Pierre Clement Menetousalon\n",
      "Producers with matching first two words 'Jean Max': Jean Max, Jean Max Roger Sancerre\n",
      "Producers with matching first two words 'Jj P': Jj P Bernkasteler Badstube, Jj P Bernkasteler Lay, Jj P Graacher Himmelreich, Jj P Graacher Himmelreich Gold Capsule, Jj P Wehlener Sonnenuhr, Jj P Wehlener Sonnenuhr Gold Capsule, Jj P Zeltinger Sonnenuhr, Jj P Zeltinger Sonnenuhr Gold Capsule\n",
      "Producers with matching first two words 'La Croix': La Croix Belle, La Croix De Saint Jean\n",
      "Producers with matching first two words 'La Marca': La Marca, La Marca Di San Michele\n",
      "Producers with matching first two words 'La Playa': La Playa, La Playa Estate\n",
      "Producers with matching first two words 'La Vis': La Vis, La Vis Trentino\n",
      "Producers with matching first two words 'Lar De': Lar De Maia, Lar De Paula\n",
      "Producers with matching first two words 'Les Cretes': Les Cretes, Les Cretes Le Sommet\n",
      "Producers with matching first two words 'Les Vins': Les Vins, Les Vins De Vienne Cuillerongaillardvillard\n",
      "Producers with matching first two words 'Louis De': Louis De Grenelle Corail Saumur, Louis De Originel\n",
      "Producers with matching first two words 'Louis Jadot': Louis Jadot, Louis Jadot Domaine Gagey\n",
      "Producers with matching first two words 'Maison De': Maison De La Villette, Maison De Montille\n",
      "Producers with matching first two words 'Marques De': Marques De Altillo, Marques De Ballestar, Marques De Borba, Marques De Burgos, Marques De Caceres, Marques De Carrion, Marques De Casa Concha, Marques De Chive, Marques De Grinon, Marques De Irun, Marques De La Carrasca, Marques De La Concordia, Marques De Monte Meru, Marques De Mundaiz, Marques De Murrieta, Marques De Riscal, Marques De Tomares, Marques De Tosos, Marques De Valdueza, Marques De Villanueva, Marques De Vitoria\n",
      "Producers with matching first two words 'Mas De': Mas De Boislauzon, Mas De Cadenet Sainte Victoire De Provence, Mas De Daumas Gassac, Mas De Gourgonnier, Mas De Labundancia\n",
      "Producers with matching first two words 'Mas Del': Mas Del Perie Fabien Jouves, Mas Del Serral\n",
      "Producers with matching first two words 'Mas Den': Mas Den Blei, Mas Den Gil\n",
      "Producers with matching first two words 'Mas Des': Mas Des Mas, Mas Des Tannes\n",
      "Producers with matching first two words 'Michael Pzan': Michael Pzan, Michael Pzan Russian River Valley\n",
      "Producers with matching first two words 'Michel Men': Michel Men, Michel Men Coteaux Bourguignons\n",
      "Producers with matching first two words 'Monte Da': Monte Da Cacada, Monte Da Penha, Monte Da Ravasqueira\n",
      "Producers with matching first two words 'Pago De': Pago De Cirsus, Pago De La Jaraba, Pago De Los Capellanes, Pago De Tharsys, Pago De Vallegarcia\n",
      "Producers with matching first two words 'Pago Del': Pago Del Cielo, Pago Del Vicario\n",
      "Producers with matching first two words 'Pagos De': Pagos De Araiz, Pagos De Valcerracin\n",
      "Producers with matching first two words 'Pagos Del': Pagos Del Moncayo, Pagos Del Rey\n",
      "Producers with matching first two words 'Palacio De': Palacio De Primavera, Palacio De Villachica\n",
      "Producers with matching first two words 'Paul K': Paul K Et Fils, Paul K Et Fils Classique\n",
      "Producers with matching first two words 'Pazo De': Pazo De Barrantes, Pazo De Galegos, Pazo De Senorans\n",
      "Producers with matching first two words 'Poggio Al': Poggio Al Sole, Poggio Al Tesoro\n",
      "Producers with matching first two words 'Potek Winery': Potek Winery Demetria, Potek Winery Tierra Alta\n",
      "Producers with matching first two words 'Prats Symington': Prats Symington, Prats Symington Ps\n",
      "Producers with matching first two words 'Prayers Of': Prayers Of Saints, Prayers Of Sinners, Prayers Of Sinners Saints\n",
      "Producers with matching first two words 'Quinta Da': Quinta Da Boavista, Quinta Da Espiga, Quinta Da Gandara, Quinta Da Pellada, Quinta Da Plansel, Quinta Da Ponte Pedrinha, Quinta Da Raza, Quinta Da Raza Dom Diogo, Quinta Da Romaneira\n",
      "Producers with matching first two words 'Quinta Das': Quinta Das Amoras, Quinta Das Setencostas, Quinta Das Tecedeiras\n",
      "Producers with matching first two words 'Quinta De': Quinta De Baixo, Quinta De Bonsventos, Quinta De Chocapalha, Quinta De Couselo, Quinta De La Quietud, Quinta De La Rosa, Quinta De Porrais, Quinta De Quercus, Quinta De Roriz\n",
      "Producers with matching first two words 'Quinta Do': Quinta Do Ameal, Quinta Do Casal Monteiro, Quinta Do Conde, Quinta Do Crasto, Quinta Do Crasto Douro, Quinta Do Crasto Douro Superior, Quinta Do Infantado, Quinta Do Noval, Quinta Do Paral, Quinta Do Pego, Quinta Do Portal, Quinta Do Regueiro, Quinta Do Vale Meao, Quinta Do Vesuvio, Quinta Do Vesuvio Douro, Quinta Do Vesuvio Pombal Do Vesuvio Douro, Quinta Do Zambujeiro\n",
      "Producers with matching first two words 'Quinta Nova': Quinta Nova, Quinta Nova De Nossa Senhora Do Carmo\n",
      "Producers with matching first two words 'R Lopez': R Lopez, R Lopez De Heia Rioja Vina Tondonia, R Lopez De Heia Rioja White Vina Tondonia Gran, R Lopez De Heia Vina Nia, R Lopez De Heredia Vina Tondonia\n",
      "Producers with matching first two words 'Rer De': Rer De Noirs, Rer De S\n",
      "Producers with matching first two words 'Robert Mondavi': Robert Mondavi, Robert Mondavi Private Selection\n",
      "Producers with matching first two words 'Rocca Di': Rocca Di Castagnoli, Rocca Di Frassinello, Rocca Di Montegrossi, Rocca Di Montemassi, Rocca Di Passo\n",
      "Producers with matching first two words 'Roscato Dolce': Roscato Dolce, Roscato Dolce Sweet\n",
      "Producers with matching first two words 'Round Pond': Round Pond, Round Pond Estate\n",
      "Producers with matching first two words 'Sa P': Sa P Mosel, Sa P Solitar, Sa P Urziger Wurzgarten, Sa P Wehlener Sonnenuhr\n",
      "Producers with matching first two words 'Santa Maria': Santa Maria De Nogueira, Santa Maria La Palma\n",
      "Producers with matching first two words 'Scatte Peaks': Scatte Peaks, Scatte Peaks Small Lot\n",
      "Producers with matching first two words 'Senorio De': Senorio De Benidorm, Senorio De Grevol, Senorio De Libano, Senorio De Los Llanos, Senorio De Nava, Senorio De San, Senorio De Sarria, Senorio De Villarrica\n",
      "Producers with matching first two words 'Sierra De': Sierra De La Demanda, Sierra De Tolono\n",
      "Producers with matching first two words 'St Supery': St Supery, St Supery Dollarhide\n",
      "Producers with matching first two words 'Stags Leap': Stags Leap, Stags Leap Wine Cellars\n",
      "Producers with matching first two words 'Tenuta Dei': Tenuta Dei Baroni Capoano, Tenuta Dei Sette Cieli\n",
      "Producers with matching first two words 'Tenuta Di': Tenuta Di Arceno, Tenuta Di Ceppaiano, Tenuta Di Corte, Tenuta Di Ghizzano, Tenuta Di Gracciano Della Seta, Tenuta Di Nozzole, Tenuta Di Sesta, Tenuta Di Tavignano, Tenuta Di Trinoro, Tenuta Di Valgiano\n",
      "Producers with matching first two words 'Tenuta Guado': Tenuta Guado, Tenuta Guado Al Tasso\n",
      "Producers with matching first two words 'Tenuta Il': Tenuta Il Oltrenero Cuvee, Tenuta Il Palagio, Tenuta Il Poggione\n",
      "Producers with matching first two words 'Tenuta Le': Tenuta Le Colonne, Tenuta Le Velette\n",
      "Producers with matching first two words 'Tenuta San': Tenuta San, Tenuta San Guido, Tenuta San Jacopo Chianti Poggio Ai Grilli\n",
      "Producers with matching first two words 'Tenuta Sette': Tenuta Sette, Tenuta Sette Ponti\n",
      "Producers with matching first two words 'Terre Del': Terre Del Barolo, Terre Del Marchesato, Terre Del Noce\n",
      "Producers with matching first two words 'Terre Di': Terre Di Campo Sasso, Terre Di Montelusa\n",
      "Producers with matching first two words 'Terroir Al': Terroir Al Limit, Terroir Al Limit Soc Lda\n",
      "Producers with matching first two words 'Torre De': Torre De Barreda, Torre De Ona\n",
      "Producers with matching first two words 'Tuck Beckstof': Tuck Beckstof 75, Tuck Beckstof Hogwash\n",
      "Producers with matching first two words 'Val Di': Val Di Suga, Val Di Toro\n",
      "Producers with matching first two words 'Vieux Chateau': Vieux Chateau Certan, Vieux Chateau Palon\n",
      "Producers with matching first two words 'Vignerons De': Vignerons De Lenclave, Vignerons De Tautavel Vingrau\n",
      "Producers with matching first two words 'Vigneti Del': Vigneti Del Salento, Vigneti Del Sole, Vigneti Del Vulture\n",
      "Producers with matching first two words 'Villa Di': Villa Di Geggiano, Villa Di Vetrice\n",
      "Producers with matching first two words 'Vinas Del': Vinas Del Cenit, Vinas Del Vero\n",
      "Producers with matching first two words 'Vinos Del': Vinos Del Paseante, Vinos Del Viento Michael Cooper\n"
     ]
    }
   ],
   "source": [
    "# Print shortlist of producer names to check and iteratively add to customer producer list\n",
    "def get_first_two_words(text):\n",
    "    words = text.split()\n",
    "    return \" \".join(words[:2]) if len(words) >= 2 else text\n",
    "\n",
    "producer_prefixes = {}\n",
    "\n",
    "# Populate the dictionary with producers having the same first two words\n",
    "for producer in sorted_producer_list:\n",
    "    prefix = get_first_two_words(producer)\n",
    "    if prefix in producer_prefixes:\n",
    "        producer_prefixes[prefix].append(producer)\n",
    "    else:\n",
    "        producer_prefixes[prefix] = [producer]\n",
    "\n",
    "# Iterate through the dictionary and print producers with matching first two words\n",
    "for prefix, producers in producer_prefixes.items():\n",
    "    if len(producers) > 1:  # Check if more than one producer has the same prefix\n",
    "        print(f\"Producers with matching first two words '{prefix}': {', '.join(producers)}\")"
   ]
  },
  {
   "cell_type": "code",
   "execution_count": 1157,
   "metadata": {},
   "outputs": [
    {
     "data": {
      "text/html": [
       "<div>\n",
       "<style scoped>\n",
       "    .dataframe tbody tr th:only-of-type {\n",
       "        vertical-align: middle;\n",
       "    }\n",
       "\n",
       "    .dataframe tbody tr th {\n",
       "        vertical-align: top;\n",
       "    }\n",
       "\n",
       "    .dataframe thead th {\n",
       "        text-align: right;\n",
       "    }\n",
       "</style>\n",
       "<table border=\"1\" class=\"dataframe\">\n",
       "  <thead>\n",
       "    <tr style=\"text-align: right;\">\n",
       "      <th></th>\n",
       "      <th>name</th>\n",
       "      <th>region</th>\n",
       "      <th>country</th>\n",
       "      <th>vintage</th>\n",
       "      <th>producer</th>\n",
       "      <th>wine_variety</th>\n",
       "      <th>grape_variety</th>\n",
       "      <th>price</th>\n",
       "      <th>rating</th>\n",
       "      <th>rating_qty</th>\n",
       "      <th>abv</th>\n",
       "      <th>reviewed_by</th>\n",
       "      <th>from_vivino</th>\n",
       "    </tr>\n",
       "  </thead>\n",
       "  <tbody>\n",
       "    <tr>\n",
       "      <th>0</th>\n",
       "      <td>00 Wines Vgw Chardonnay 2017</td>\n",
       "      <td>Willamette Valley</td>\n",
       "      <td>United States</td>\n",
       "      <td>2017</td>\n",
       "      <td>00 Wines</td>\n",
       "      <td>white</td>\n",
       "      <td>Chardonnay</td>\n",
       "      <td>65.71</td>\n",
       "      <td>0.0</td>\n",
       "      <td>0</td>\n",
       "      <td>13.0</td>\n",
       "      <td>JS, WE, WS</td>\n",
       "      <td>False</td>\n",
       "    </tr>\n",
       "    <tr>\n",
       "      <th>1</th>\n",
       "      <td>00 Wines Vgr Pinot Noir 2019</td>\n",
       "      <td>Willamette Valley</td>\n",
       "      <td>United States</td>\n",
       "      <td>2019</td>\n",
       "      <td>00 Wines</td>\n",
       "      <td>red</td>\n",
       "      <td>Pinot Noir</td>\n",
       "      <td>82.14</td>\n",
       "      <td>0.0</td>\n",
       "      <td>0</td>\n",
       "      <td>12.9</td>\n",
       "      <td>WE, JS, RP</td>\n",
       "      <td>False</td>\n",
       "    </tr>\n",
       "    <tr>\n",
       "      <th>2</th>\n",
       "      <td>00 Wines Egw Chardonnay 2019</td>\n",
       "      <td>Willamette Valley</td>\n",
       "      <td>United States</td>\n",
       "      <td>2019</td>\n",
       "      <td>00 Wines</td>\n",
       "      <td>white</td>\n",
       "      <td>Chardonnay</td>\n",
       "      <td>95.28</td>\n",
       "      <td>0.0</td>\n",
       "      <td>0</td>\n",
       "      <td>NaN</td>\n",
       "      <td>JS, RP, WE</td>\n",
       "      <td>False</td>\n",
       "    </tr>\n",
       "    <tr>\n",
       "      <th>3</th>\n",
       "      <td>100 Nails Ranch Pinot Noir 2019</td>\n",
       "      <td>Central Coast</td>\n",
       "      <td>United States</td>\n",
       "      <td>2019</td>\n",
       "      <td>100 Nails Ranch</td>\n",
       "      <td>red</td>\n",
       "      <td>Pinot Noir</td>\n",
       "      <td>13.96</td>\n",
       "      <td>0.0</td>\n",
       "      <td>0</td>\n",
       "      <td>14.2</td>\n",
       "      <td>WW</td>\n",
       "      <td>False</td>\n",
       "    </tr>\n",
       "    <tr>\n",
       "      <th>4</th>\n",
       "      <td>100 Nails Ranch Chardonnay 2019</td>\n",
       "      <td>Sonoma County</td>\n",
       "      <td>United States</td>\n",
       "      <td>2019</td>\n",
       "      <td>100 Nails Ranch</td>\n",
       "      <td>white</td>\n",
       "      <td>Chardonnay</td>\n",
       "      <td>13.96</td>\n",
       "      <td>0.0</td>\n",
       "      <td>0</td>\n",
       "      <td>14.2</td>\n",
       "      <td>0</td>\n",
       "      <td>False</td>\n",
       "    </tr>\n",
       "  </tbody>\n",
       "</table>\n",
       "</div>"
      ],
      "text/plain": [
       "                              name             region        country vintage  \\\n",
       "0     00 Wines Vgw Chardonnay 2017  Willamette Valley  United States    2017   \n",
       "1     00 Wines Vgr Pinot Noir 2019  Willamette Valley  United States    2019   \n",
       "2     00 Wines Egw Chardonnay 2019  Willamette Valley  United States    2019   \n",
       "3  100 Nails Ranch Pinot Noir 2019      Central Coast  United States    2019   \n",
       "4  100 Nails Ranch Chardonnay 2019      Sonoma County  United States    2019   \n",
       "\n",
       "          producer wine_variety grape_variety  price  rating  rating_qty  \\\n",
       "0         00 Wines        white    Chardonnay  65.71     0.0           0   \n",
       "1         00 Wines          red    Pinot Noir  82.14     0.0           0   \n",
       "2         00 Wines        white    Chardonnay  95.28     0.0           0   \n",
       "3  100 Nails Ranch          red    Pinot Noir  13.96     0.0           0   \n",
       "4  100 Nails Ranch        white    Chardonnay  13.96     0.0           0   \n",
       "\n",
       "    abv reviewed_by  from_vivino  \n",
       "0  13.0  JS, WE, WS        False  \n",
       "1  12.9  WE, JS, RP        False  \n",
       "2   NaN  JS, RP, WE        False  \n",
       "3  14.2          WW        False  \n",
       "4  14.2           0        False  "
      ]
     },
     "execution_count": 1157,
     "metadata": {},
     "output_type": "execute_result"
    }
   ],
   "source": [
    "df_combined.loc[df_combined['producer'] == '4 Kilos Vinicola', 'producer'] = '4 Kilos'\n",
    "df_combined.head()"
   ]
  },
  {
   "cell_type": "code",
   "execution_count": 1158,
   "metadata": {},
   "outputs": [
    {
     "name": "stdout",
     "output_type": "stream",
     "text": [
      "wine_variety\n",
      "red          19649\n",
      "white        12350\n",
      "sparkling     9625\n",
      "rose          9078\n",
      "Name: count, dtype: int64\n",
      "wine_variety\n",
      "red      546\n",
      "white    546\n",
      "rose     110\n",
      "Name: count, dtype: int64\n"
     ]
    }
   ],
   "source": [
    "# Remove 'other' wine varietys (port, sherry and other fortified wines etc.) from dataset. Leaving only red, white, rose and sparkling. \n",
    "df_combined = df_combined[df_combined['wine_variety'] != 'other'].copy()\n",
    "df_val = df_val[df_val['wine_variety'] != 'other'].copy()\n",
    "print(df_combined['wine_variety'].value_counts())\n",
    "print(df_val['wine_variety'].value_counts())"
   ]
  },
  {
   "cell_type": "code",
   "execution_count": 1159,
   "metadata": {},
   "outputs": [],
   "source": [
    "df_combined.loc[df_combined['vintage'] == 'unknown', 'vintage'] = np.nan\n",
    "df_val.loc[df_val['vintage'] == 'unknown', 'vintage'] = np.nan\n",
    "df_combined.dropna(subset=['vintage'], inplace=True)\n",
    "df_val.dropna(subset=['vintage'], inplace=True)"
   ]
  },
  {
   "cell_type": "code",
   "execution_count": 1160,
   "metadata": {},
   "outputs": [],
   "source": [
    "# export to csv \n",
    "df_combined.to_csv('../data/clean_combined_wines.csv', index=False)\n",
    "df_val.to_csv('../data/validation_set.csv', index=False)"
   ]
  }
 ],
 "metadata": {
  "kernelspec": {
   "display_name": "base",
   "language": "python",
   "name": "python3"
  },
  "language_info": {
   "codemirror_mode": {
    "name": "ipython",
    "version": 3
   },
   "file_extension": ".py",
   "mimetype": "text/x-python",
   "name": "python",
   "nbconvert_exporter": "python",
   "pygments_lexer": "ipython3",
   "version": "3.11.5"
  }
 },
 "nbformat": 4,
 "nbformat_minor": 2
}
