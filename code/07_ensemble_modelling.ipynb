{
 "cells": [
  {
   "cell_type": "markdown",
   "metadata": {},
   "source": [
    "# Ensemble Modelling"
   ]
  },
  {
   "cell_type": "code",
   "execution_count": 1,
   "metadata": {},
   "outputs": [],
   "source": [
    "import pandas as pd\n",
    "import numpy as np \n",
    "import matplotlib.pyplot as plt\n",
    "import seaborn as sns \n",
    "from sklearn.model_selection import train_test_split\n",
    "from sklearn.linear_model import LinearRegression\n",
    "import modelling as ml\n",
    "from sklearn.decomposition import PCA\n",
    "from sklearn.ensemble import RandomForestRegressor, StackingRegressor\n",
    "import xgboost as xgb\n",
    "import modelling as ml\n",
    "sns.set_theme(context='notebook', style='darkgrid', palette='Set3')\n",
    "import pickle\n",
    "import gzip, pickle"
   ]
  },
  {
   "cell_type": "code",
   "execution_count": 2,
   "metadata": {},
   "outputs": [],
   "source": [
    "df = pd.read_csv('../data/clean_test_train.csv')\n",
    "fillabv = pd.read_csv('../data/modelling_wines.csv')\n",
    "fillabv.set_index('name', inplace=True)\n",
    "df.set_index('name', inplace=True)"
   ]
  },
  {
   "cell_type": "code",
   "execution_count": 3,
   "metadata": {},
   "outputs": [],
   "source": [
    "# Binary encode select categoricals: country, region, vintage\n",
    "df_encoded = pd.get_dummies(df, columns=['region', 'country', 'vintage'],  drop_first=True, dtype=int)\n",
    "\n",
    "# Insert imputed abv from workbook 02\n",
    "df_encoded['abv'] = fillabv['abv']\n",
    "\n",
    "# Include some feature engineering\n",
    "df_encoded['age^2'] = df_encoded['age'] ** 2\n",
    "df_encoded['rating * log_rating_qty'] = df_encoded['rating'] * df_encoded['log_rating_qty']"
   ]
  },
  {
   "cell_type": "markdown",
   "metadata": {},
   "source": [
    "# Linear Regression Model"
   ]
  },
  {
   "cell_type": "code",
   "execution_count": 4,
   "metadata": {},
   "outputs": [
    {
     "name": "stdout",
     "output_type": "stream",
     "text": [
      "Exponent Root Mean Squared Error (RMSE): 1.517\n",
      "Root Mean Squared Error (RMSE): 0.417\n",
      "Train R-squared (R2): 0.769\n",
      "Test R-squared (R2): 0.762\n",
      "High varience noted in cross validation: [-3.22956837e+06  7.62924410e-01  7.66956281e-01  7.57706231e-01\n",
      " -8.59826455e+13]\n",
      "Cross validated r2: -17196529736415.965\n"
     ]
    }
   ],
   "source": [
    "X = df_encoded.drop(columns = ['log_price', 'reviewed_by', 'producer', 'wine_variety',\n",
    "                                'grape_variety', 'price', 'from_vivino'])\n",
    "y = df_encoded['log_price']\n",
    "\n",
    "# ss = StandardScaler()\n",
    "# X = ss.fit_transform(X)\n",
    "\n",
    "X_train, X_test, y_train, y_test = train_test_split(X, y, random_state=42, train_size=0.85)\n",
    "\n",
    "lr = LinearRegression()\n",
    "\n",
    "lr_model, y_pred = ml.model_summary(lr, X_train, X_test, y_train, y_test, log_target=True)"
   ]
  },
  {
   "cell_type": "markdown",
   "metadata": {},
   "source": [
    "Exponent Root Mean Squared Error (RMSE): 1.517<br>\n",
    "Root Mean Squared Error (RMSE): 0.417<br>\n",
    "Train R-squared (R2): 0.769<br>\n",
    "Test R-squared (R2): 0.762<br>\n",
    "High varience noted in cross validation: [-3.22956837e+06  7.62924410e-01  7.66956281e-01  7.57706231e-01\n",
    " -8.59826455e+13]<br>\n",
    "Cross validated r2: -17196529736415.965<br>"
   ]
  },
  {
   "cell_type": "code",
   "execution_count": 5,
   "metadata": {},
   "outputs": [],
   "source": [
    "# getcols = df_encoded.drop(columns = ['log_price', 'reviewed_by', 'producer', 'wine_variety',\n",
    "#                                 'grape_variety', 'price', 'from_vivino'])\n",
    "# # Extract coefficients and return a dataframe\n",
    "# coefficients = lr_model.coef_\n",
    "# coeff_df = pd.DataFrame({'Feature': getcols.columns, 'Coefficient': coefficients})"
   ]
  },
  {
   "cell_type": "code",
   "execution_count": 6,
   "metadata": {},
   "outputs": [],
   "source": [
    "# xg_reg = xgb.XGBRegressor()\n",
    "\n",
    "# xg_model, y_pred_gx = ml.model_summary(xg_reg,X_train, X_test, y_train, y_test, log_target=True)"
   ]
  },
  {
   "cell_type": "markdown",
   "metadata": {},
   "source": [
    "**XGBoost Results:**<br>\n",
    "Exponent Root Mean Squared Error (RMSE): 1.385<br>\n",
    "Root Mean Squared Error (RMSE): 0.326<br>\n",
    "Train R-squared (R2): 0.88<br>\n",
    "Test R-squared (R2): 0.855<br>\n",
    "Cross validated r2: 0.853<br>"
   ]
  },
  {
   "cell_type": "markdown",
   "metadata": {},
   "source": [
    "### With PCA"
   ]
  },
  {
   "cell_type": "code",
   "execution_count": 7,
   "metadata": {},
   "outputs": [
    {
     "name": "stdout",
     "output_type": "stream",
     "text": [
      "Exponent Root Mean Squared Error (RMSE): 1.464\n",
      "Root Mean Squared Error (RMSE): 0.381\n",
      "Train R-squared (R2): 0.815\n",
      "Test R-squared (R2): 0.801\n",
      "Cross validated r2: 0.805\n"
     ]
    }
   ],
   "source": [
    "df_encoded_again = pd.get_dummies(df_encoded, columns=['producer'],  drop_first=True, dtype=int)\n",
    "\n",
    "X = df_encoded_again.drop(columns = ['log_price', 'reviewed_by', 'wine_variety',\n",
    "                                'grape_variety', 'price', 'from_vivino'])\n",
    "\n",
    "X_train, X_test, y_train, y_test = train_test_split(X, y, random_state=42, train_size=0.85)\n",
    "\n",
    "pca = PCA(n_components=1000)\n",
    "\n",
    "pca.fit(X_train)\n",
    "Z_train = pca.transform(X_train)\n",
    "Z_test = pca.transform(X_test)\n",
    "lr_model, y_pred = ml.model_summary(lr, Z_train, Z_test, y_train, y_test, log_target=True)"
   ]
  },
  {
   "cell_type": "markdown",
   "metadata": {},
   "source": [
    "**PCA and LR with Producers - 2000 components:**<br>\n",
    "Exponent Root Mean Squared Error (RMSE): 1.426<br>\n",
    "Root Mean Squared Error (RMSE): 0.355<br>\n",
    "Train R-squared (R2): 0.849<br>\n",
    "Test R-squared (R2): 0.828<br>\n",
    "Cross validated r2: 0.832<br>\n",
    "\n",
    "**PCA and LR with Producers - 1000 components:**<br>\n",
    "Exponent Root Mean Squared Error (RMSE): 1.465<br>\n",
    "Root Mean Squared Error (RMSE): 0.382<br>\n",
    "Train R-squared (R2): 0.815<br>\n",
    "Test R-squared (R2): 0.8<br>\n",
    "Cross validated r2: 0.805<br>"
   ]
  },
  {
   "cell_type": "code",
   "execution_count": 8,
   "metadata": {},
   "outputs": [],
   "source": [
    "# ml.plot_residuals(y_test, y_pred)"
   ]
  },
  {
   "cell_type": "code",
   "execution_count": 11,
   "metadata": {},
   "outputs": [],
   "source": [
    "# Import price predictive model from 04 - decision tree model\n",
    "filepath = '../models/casi_rf_production.pkl'\n",
    "with gzip.open(filepath, 'rb') as f:\n",
    "    p = pickle.Unpickler(f)\n",
    "    model_rf = p.load()"
   ]
  },
  {
   "cell_type": "markdown",
   "metadata": {},
   "source": [
    "### Stacking Models"
   ]
  },
  {
   "cell_type": "code",
   "execution_count": 15,
   "metadata": {},
   "outputs": [],
   "source": [
    "base_models = [\n",
    "    ('linear_regression', lr_model),\n",
    "    ('random_forest', model_rf)\n",
    "]\n",
    "\n",
    "# Define the meta-model\n",
    "meta_model = LinearRegression()\n",
    "\n",
    "# Create the stacking model\n",
    "stacked_model = StackingRegressor(estimators=base_models, final_estimator=meta_model)\n",
    "\n",
    "# Fit the stacking model\n",
    "stacked_model = stacked_model.fit(X_train, y_train)\n",
    "\n",
    "final_predictions = stacked_model.predict(X_test)"
   ]
  },
  {
   "cell_type": "code",
   "execution_count": 1,
   "metadata": {},
   "outputs": [],
   "source": [
    "# ml.plot_residuals(y_test, final_predictions)"
   ]
  }
 ],
 "metadata": {
  "kernelspec": {
   "display_name": "base",
   "language": "python",
   "name": "python3"
  },
  "language_info": {
   "codemirror_mode": {
    "name": "ipython",
    "version": 3
   },
   "file_extension": ".py",
   "mimetype": "text/x-python",
   "name": "python",
   "nbconvert_exporter": "python",
   "pygments_lexer": "ipython3",
   "version": "3.11.5"
  }
 },
 "nbformat": 4,
 "nbformat_minor": 2
}
