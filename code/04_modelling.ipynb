{
 "cells": [
  {
   "cell_type": "markdown",
   "metadata": {},
   "source": [
    "# Modelling"
   ]
  },
  {
   "cell_type": "code",
   "execution_count": 26,
   "metadata": {},
   "outputs": [],
   "source": [
    "import pandas as pd\n",
    "import numpy as np \n",
    "import matplotlib.pyplot as plt\n",
    "import seaborn as sns \n",
    "from sklearn.model_selection import cross_val_score, train_test_split, GridSearchCV\n",
    "from sklearn.linear_model import LinearRegression\n",
    "from sklearn.metrics import mean_squared_error, r2_score\n",
    "import modelling as ml\n",
    "from sklearn.tree import DecisionTreeRegressor\n",
    "from sklearn.ensemble import RandomForestRegressor\n",
    "from sklearn.feature_selection import RFE\n",
    "import pickle\n",
    "import gzip, pickle, pickletools\n",
    "import shap\n",
    "\n",
    "sns.set_theme(context='notebook', style='darkgrid', palette='Set3')"
   ]
  },
  {
   "cell_type": "code",
   "execution_count": 27,
   "metadata": {},
   "outputs": [
    {
     "data": {
      "text/html": [
       "<div>\n",
       "<style scoped>\n",
       "    .dataframe tbody tr th:only-of-type {\n",
       "        vertical-align: middle;\n",
       "    }\n",
       "\n",
       "    .dataframe tbody tr th {\n",
       "        vertical-align: top;\n",
       "    }\n",
       "\n",
       "    .dataframe thead th {\n",
       "        text-align: right;\n",
       "    }\n",
       "</style>\n",
       "<table border=\"1\" class=\"dataframe\">\n",
       "  <thead>\n",
       "    <tr style=\"text-align: right;\">\n",
       "      <th></th>\n",
       "      <th>region</th>\n",
       "      <th>country</th>\n",
       "      <th>vintage</th>\n",
       "      <th>producer</th>\n",
       "      <th>wine_variety</th>\n",
       "      <th>grape_variety</th>\n",
       "      <th>price</th>\n",
       "      <th>rating</th>\n",
       "      <th>rating_qty</th>\n",
       "      <th>abv</th>\n",
       "      <th>from_vivino</th>\n",
       "      <th>age</th>\n",
       "      <th>log_price</th>\n",
       "      <th>log_rating_qty</th>\n",
       "      <th>age^2</th>\n",
       "      <th>rating * log_rating_qty</th>\n",
       "    </tr>\n",
       "    <tr>\n",
       "      <th>name</th>\n",
       "      <th></th>\n",
       "      <th></th>\n",
       "      <th></th>\n",
       "      <th></th>\n",
       "      <th></th>\n",
       "      <th></th>\n",
       "      <th></th>\n",
       "      <th></th>\n",
       "      <th></th>\n",
       "      <th></th>\n",
       "      <th></th>\n",
       "      <th></th>\n",
       "      <th></th>\n",
       "      <th></th>\n",
       "      <th></th>\n",
       "      <th></th>\n",
       "    </tr>\n",
       "  </thead>\n",
       "  <tbody>\n",
       "    <tr>\n",
       "      <th>Starkconde Syrah 2017</th>\n",
       "      <td>213.0</td>\n",
       "      <td>18.0</td>\n",
       "      <td>30.0</td>\n",
       "      <td>6214.0</td>\n",
       "      <td>0.0</td>\n",
       "      <td>113.0</td>\n",
       "      <td>22.79</td>\n",
       "      <td>3.9</td>\n",
       "      <td>129.0</td>\n",
       "      <td>14.095184</td>\n",
       "      <td>1.0</td>\n",
       "      <td>7.0</td>\n",
       "      <td>3.126322</td>\n",
       "      <td>4.859812</td>\n",
       "      <td>49.0</td>\n",
       "      <td>18.953268</td>\n",
       "    </tr>\n",
       "    <tr>\n",
       "      <th>Montedidio Ostuni 2019</th>\n",
       "      <td>179.0</td>\n",
       "      <td>10.0</td>\n",
       "      <td>32.0</td>\n",
       "      <td>4935.0</td>\n",
       "      <td>1.0</td>\n",
       "      <td>124.0</td>\n",
       "      <td>6.29</td>\n",
       "      <td>4.0</td>\n",
       "      <td>347.0</td>\n",
       "      <td>12.910800</td>\n",
       "      <td>1.0</td>\n",
       "      <td>5.0</td>\n",
       "      <td>1.838961</td>\n",
       "      <td>5.849325</td>\n",
       "      <td>25.0</td>\n",
       "      <td>23.397299</td>\n",
       "    </tr>\n",
       "    <tr>\n",
       "      <th>Alto Estate Cabernet Sauvignon 2014</th>\n",
       "      <td>213.0</td>\n",
       "      <td>18.0</td>\n",
       "      <td>27.0</td>\n",
       "      <td>165.0</td>\n",
       "      <td>2.0</td>\n",
       "      <td>17.0</td>\n",
       "      <td>19.26</td>\n",
       "      <td>4.1</td>\n",
       "      <td>157.0</td>\n",
       "      <td>13.536861</td>\n",
       "      <td>1.0</td>\n",
       "      <td>10.0</td>\n",
       "      <td>2.958030</td>\n",
       "      <td>5.056246</td>\n",
       "      <td>100.0</td>\n",
       "      <td>20.730608</td>\n",
       "    </tr>\n",
       "    <tr>\n",
       "      <th>Chateau Belgrave Hautmedoc Grand Cru Classe 2016</th>\n",
       "      <td>103.0</td>\n",
       "      <td>5.0</td>\n",
       "      <td>29.0</td>\n",
       "      <td>1382.0</td>\n",
       "      <td>3.0</td>\n",
       "      <td>124.0</td>\n",
       "      <td>40.19</td>\n",
       "      <td>3.9</td>\n",
       "      <td>199.0</td>\n",
       "      <td>12.800353</td>\n",
       "      <td>1.0</td>\n",
       "      <td>8.0</td>\n",
       "      <td>3.693618</td>\n",
       "      <td>5.293305</td>\n",
       "      <td>64.0</td>\n",
       "      <td>20.643889</td>\n",
       "    </tr>\n",
       "    <tr>\n",
       "      <th>Tate Spring Street Cabernet Sauvignon 2019</th>\n",
       "      <td>163.0</td>\n",
       "      <td>22.0</td>\n",
       "      <td>32.0</td>\n",
       "      <td>6305.0</td>\n",
       "      <td>0.0</td>\n",
       "      <td>17.0</td>\n",
       "      <td>66.53</td>\n",
       "      <td>4.7</td>\n",
       "      <td>24.0</td>\n",
       "      <td>14.300000</td>\n",
       "      <td>0.0</td>\n",
       "      <td>5.0</td>\n",
       "      <td>4.197653</td>\n",
       "      <td>3.178054</td>\n",
       "      <td>25.0</td>\n",
       "      <td>14.936853</td>\n",
       "    </tr>\n",
       "  </tbody>\n",
       "</table>\n",
       "</div>"
      ],
      "text/plain": [
       "                                                  region  country  vintage  \\\n",
       "name                                                                         \n",
       "Starkconde Syrah 2017                              213.0     18.0     30.0   \n",
       "Montedidio Ostuni 2019                             179.0     10.0     32.0   \n",
       "Alto Estate Cabernet Sauvignon 2014                213.0     18.0     27.0   \n",
       "Chateau Belgrave Hautmedoc Grand Cru Classe 2016   103.0      5.0     29.0   \n",
       "Tate Spring Street Cabernet Sauvignon 2019         163.0     22.0     32.0   \n",
       "\n",
       "                                                  producer  wine_variety  \\\n",
       "name                                                                       \n",
       "Starkconde Syrah 2017                               6214.0           0.0   \n",
       "Montedidio Ostuni 2019                              4935.0           1.0   \n",
       "Alto Estate Cabernet Sauvignon 2014                  165.0           2.0   \n",
       "Chateau Belgrave Hautmedoc Grand Cru Classe 2016    1382.0           3.0   \n",
       "Tate Spring Street Cabernet Sauvignon 2019          6305.0           0.0   \n",
       "\n",
       "                                                  grape_variety  price  \\\n",
       "name                                                                     \n",
       "Starkconde Syrah 2017                                     113.0  22.79   \n",
       "Montedidio Ostuni 2019                                    124.0   6.29   \n",
       "Alto Estate Cabernet Sauvignon 2014                        17.0  19.26   \n",
       "Chateau Belgrave Hautmedoc Grand Cru Classe 2016          124.0  40.19   \n",
       "Tate Spring Street Cabernet Sauvignon 2019                 17.0  66.53   \n",
       "\n",
       "                                                  rating  rating_qty  \\\n",
       "name                                                                   \n",
       "Starkconde Syrah 2017                                3.9       129.0   \n",
       "Montedidio Ostuni 2019                               4.0       347.0   \n",
       "Alto Estate Cabernet Sauvignon 2014                  4.1       157.0   \n",
       "Chateau Belgrave Hautmedoc Grand Cru Classe 2016     3.9       199.0   \n",
       "Tate Spring Street Cabernet Sauvignon 2019           4.7        24.0   \n",
       "\n",
       "                                                        abv  from_vivino  \\\n",
       "name                                                                       \n",
       "Starkconde Syrah 2017                             14.095184          1.0   \n",
       "Montedidio Ostuni 2019                            12.910800          1.0   \n",
       "Alto Estate Cabernet Sauvignon 2014               13.536861          1.0   \n",
       "Chateau Belgrave Hautmedoc Grand Cru Classe 2016  12.800353          1.0   \n",
       "Tate Spring Street Cabernet Sauvignon 2019        14.300000          0.0   \n",
       "\n",
       "                                                   age  log_price  \\\n",
       "name                                                                \n",
       "Starkconde Syrah 2017                              7.0   3.126322   \n",
       "Montedidio Ostuni 2019                             5.0   1.838961   \n",
       "Alto Estate Cabernet Sauvignon 2014               10.0   2.958030   \n",
       "Chateau Belgrave Hautmedoc Grand Cru Classe 2016   8.0   3.693618   \n",
       "Tate Spring Street Cabernet Sauvignon 2019         5.0   4.197653   \n",
       "\n",
       "                                                  log_rating_qty  age^2  \\\n",
       "name                                                                      \n",
       "Starkconde Syrah 2017                                   4.859812   49.0   \n",
       "Montedidio Ostuni 2019                                  5.849325   25.0   \n",
       "Alto Estate Cabernet Sauvignon 2014                     5.056246  100.0   \n",
       "Chateau Belgrave Hautmedoc Grand Cru Classe 2016        5.293305   64.0   \n",
       "Tate Spring Street Cabernet Sauvignon 2019              3.178054   25.0   \n",
       "\n",
       "                                                  rating * log_rating_qty  \n",
       "name                                                                       \n",
       "Starkconde Syrah 2017                                           18.953268  \n",
       "Montedidio Ostuni 2019                                          23.397299  \n",
       "Alto Estate Cabernet Sauvignon 2014                             20.730608  \n",
       "Chateau Belgrave Hautmedoc Grand Cru Classe 2016                20.643889  \n",
       "Tate Spring Street Cabernet Sauvignon 2019                      14.936853  "
      ]
     },
     "execution_count": 27,
     "metadata": {},
     "output_type": "execute_result"
    }
   ],
   "source": [
    "# Import label encoded and ready for modelling set from 02 file \n",
    "df = pd.read_csv('../data/modelling_wines.csv')\n",
    "df.set_index('name', inplace=True)\n",
    "df.head()"
   ]
  },
  {
   "cell_type": "code",
   "execution_count": 28,
   "metadata": {},
   "outputs": [],
   "source": [
    "# Chose to drop abv as it was highly imputed (70% of the data). Dropped from_vivino as it is not useful for production model or app.\n",
    "df.drop(columns = ['abv', 'from_vivino'], inplace=True)"
   ]
  },
  {
   "cell_type": "markdown",
   "metadata": {},
   "source": [
    "# Baseline Model"
   ]
  },
  {
   "cell_type": "markdown",
   "metadata": {},
   "source": [
    "Basic Linear Regression with abv nulls imputed via linear regression. "
   ]
  },
  {
   "cell_type": "code",
   "execution_count": 29,
   "metadata": {},
   "outputs": [
    {
     "name": "stdout",
     "output_type": "stream",
     "text": [
      "Price Root Mean Squared Error (RMSE): 1.677\n",
      "Log-Price Root Mean Squared Error (RMSE): 0.517\n",
      "R-squared (R2): 0.633\n",
      "Cross validated r2: 0.633\n"
     ]
    }
   ],
   "source": [
    "X = df.drop(columns = ['log_price', 'price', 'vintage'])\n",
    "y = df['log_price']\n",
    "\n",
    "X_train_lr, X_test_lr, y_train_lr, y_test_lr = train_test_split(X, y, random_state=42, train_size=0.85)\n",
    "\n",
    "lr = LinearRegression()\n",
    "\n",
    "lr.fit(X_train_lr, y_train_lr)\n",
    "y_pred_lr = lr.predict(X_test_lr)\n",
    "\n",
    "print(f\"Price Root Mean Squared Error (RMSE): {round(np.exp(np.sqrt(mean_squared_error(y_test_lr, y_pred_lr))),3)}\")\n",
    "print(f\"Log-Price Root Mean Squared Error (RMSE): {round(np.sqrt(mean_squared_error(y_test_lr, y_pred_lr)),3)}\")\n",
    "print(f\"R-squared (R2): {round(r2_score(y_test_lr, y_pred_lr),3)}\")\n",
    "print(f\"Cross validated r2: {round(cross_val_score(lr, X_train_lr, y_train_lr, cv = 10,scoring='r2').mean(), 3)}\")"
   ]
  },
  {
   "cell_type": "code",
   "execution_count": 30,
   "metadata": {},
   "outputs": [
    {
     "data": {
      "text/html": [
       "<div>\n",
       "<style scoped>\n",
       "    .dataframe tbody tr th:only-of-type {\n",
       "        vertical-align: middle;\n",
       "    }\n",
       "\n",
       "    .dataframe tbody tr th {\n",
       "        vertical-align: top;\n",
       "    }\n",
       "\n",
       "    .dataframe thead th {\n",
       "        text-align: right;\n",
       "    }\n",
       "</style>\n",
       "<table border=\"1\" class=\"dataframe\">\n",
       "  <thead>\n",
       "    <tr style=\"text-align: right;\">\n",
       "      <th></th>\n",
       "      <th>Coefficient</th>\n",
       "    </tr>\n",
       "  </thead>\n",
       "  <tbody>\n",
       "    <tr>\n",
       "      <th>rating</th>\n",
       "      <td>0.830439</td>\n",
       "    </tr>\n",
       "    <tr>\n",
       "      <th>rating * log_rating_qty</th>\n",
       "      <td>0.185656</td>\n",
       "    </tr>\n",
       "    <tr>\n",
       "      <th>age</th>\n",
       "      <td>0.135128</td>\n",
       "    </tr>\n",
       "    <tr>\n",
       "      <th>producer</th>\n",
       "      <td>-0.000013</td>\n",
       "    </tr>\n",
       "    <tr>\n",
       "      <th>rating_qty</th>\n",
       "      <td>-0.000038</td>\n",
       "    </tr>\n",
       "    <tr>\n",
       "      <th>grape_variety</th>\n",
       "      <td>-0.000133</td>\n",
       "    </tr>\n",
       "    <tr>\n",
       "      <th>region</th>\n",
       "      <td>-0.000205</td>\n",
       "    </tr>\n",
       "    <tr>\n",
       "      <th>age^2</th>\n",
       "      <td>-0.002182</td>\n",
       "    </tr>\n",
       "    <tr>\n",
       "      <th>country</th>\n",
       "      <td>-0.012330</td>\n",
       "    </tr>\n",
       "    <tr>\n",
       "      <th>wine_variety</th>\n",
       "      <td>-0.018898</td>\n",
       "    </tr>\n",
       "    <tr>\n",
       "      <th>log_rating_qty</th>\n",
       "      <td>-0.743878</td>\n",
       "    </tr>\n",
       "  </tbody>\n",
       "</table>\n",
       "</div>"
      ],
      "text/plain": [
       "                         Coefficient\n",
       "rating                      0.830439\n",
       "rating * log_rating_qty     0.185656\n",
       "age                         0.135128\n",
       "producer                   -0.000013\n",
       "rating_qty                 -0.000038\n",
       "grape_variety              -0.000133\n",
       "region                     -0.000205\n",
       "age^2                      -0.002182\n",
       "country                    -0.012330\n",
       "wine_variety               -0.018898\n",
       "log_rating_qty             -0.743878"
      ]
     },
     "execution_count": 30,
     "metadata": {},
     "output_type": "execute_result"
    }
   ],
   "source": [
    "# Put coefficients into a dataframe with index and columns\n",
    "coef_df = pd.DataFrame(lr.coef_, X.columns, columns=['Coefficient'])\n",
    "coef_df.sort_values(by=['Coefficient'], ascending=False, inplace=True)\n",
    "coef_df"
   ]
  },
  {
   "cell_type": "markdown",
   "metadata": {},
   "source": [
    "* Model relying heavily on non-categorical coefficients - rating, rating *  log_rating_qty, age, log_rating_qty. \n",
    "* Logartithmic transformations proved to aid model predictivness for both price as a target and rating_qty.\n",
    "* Categoricals which are label encoded grape_variety, producer, region, country performed poorly as to be expected with a linear regression model. Binary encoding was attempted of select categoricals, along with PCA to reduce dimensionality how ever best models proved to be decison tree based regressions with label encoding. "
   ]
  },
  {
   "cell_type": "code",
   "execution_count": 31,
   "metadata": {},
   "outputs": [
    {
     "name": "stdout",
     "output_type": "stream",
     "text": [
      "Not using StandardScaler\n"
     ]
    },
    {
     "data": {
      "text/html": [
       "<div>\n",
       "<style scoped>\n",
       "    .dataframe tbody tr th:only-of-type {\n",
       "        vertical-align: middle;\n",
       "    }\n",
       "\n",
       "    .dataframe tbody tr th {\n",
       "        vertical-align: top;\n",
       "    }\n",
       "\n",
       "    .dataframe thead th {\n",
       "        text-align: right;\n",
       "    }\n",
       "</style>\n",
       "<table border=\"1\" class=\"dataframe\">\n",
       "  <thead>\n",
       "    <tr style=\"text-align: right;\">\n",
       "      <th></th>\n",
       "      <th>model</th>\n",
       "      <th>rmse</th>\n",
       "      <th>cv</th>\n",
       "      <th>train_score</th>\n",
       "      <th>test_score</th>\n",
       "      <th>varience</th>\n",
       "    </tr>\n",
       "  </thead>\n",
       "  <tbody>\n",
       "    <tr>\n",
       "      <th>0</th>\n",
       "      <td>lr</td>\n",
       "      <td>0.516807</td>\n",
       "      <td>0.633175</td>\n",
       "      <td>0.633512</td>\n",
       "      <td>0.633099</td>\n",
       "      <td>0.000413</td>\n",
       "    </tr>\n",
       "    <tr>\n",
       "      <th>1</th>\n",
       "      <td>ridge</td>\n",
       "      <td>0.516806</td>\n",
       "      <td>0.633176</td>\n",
       "      <td>0.633512</td>\n",
       "      <td>0.633101</td>\n",
       "      <td>0.000411</td>\n",
       "    </tr>\n",
       "    <tr>\n",
       "      <th>2</th>\n",
       "      <td>knn</td>\n",
       "      <td>0.521162</td>\n",
       "      <td>0.552403</td>\n",
       "      <td>0.791408</td>\n",
       "      <td>0.626889</td>\n",
       "      <td>0.164519</td>\n",
       "    </tr>\n",
       "    <tr>\n",
       "      <th>3</th>\n",
       "      <td>dt</td>\n",
       "      <td>0.307919</td>\n",
       "      <td>0.839884</td>\n",
       "      <td>0.999911</td>\n",
       "      <td>0.869754</td>\n",
       "      <td>0.130157</td>\n",
       "    </tr>\n",
       "  </tbody>\n",
       "</table>\n",
       "</div>"
      ],
      "text/plain": [
       "   model      rmse        cv  train_score  test_score  varience\n",
       "0     lr  0.516807  0.633175     0.633512    0.633099  0.000413\n",
       "1  ridge  0.516806  0.633176     0.633512    0.633101  0.000411\n",
       "2    knn  0.521162  0.552403     0.791408    0.626889  0.164519\n",
       "3     dt  0.307919  0.839884     0.999911    0.869754  0.130157"
      ]
     },
     "execution_count": 31,
     "metadata": {},
     "output_type": "execute_result"
    }
   ],
   "source": [
    "results = ml.regression_model_selector(X_train_lr, y_train_lr, X_test_lr, y_test_lr, quick=True)\n",
    "results"
   ]
  },
  {
   "cell_type": "markdown",
   "metadata": {},
   "source": [
    "**Results of other models tested with same inputs:**\n",
    "|index|model|rmse|cv|train_score|test_score|varience\n",
    "|---|---|---|---|---|---|---|\n",
    "|0|lr|0.523012|0.634073|0.634886|0.631206|0.003680|\n",
    "|1|ridge|0.523014|0.634073|0.634886|0.631203|0.003683|\n",
    "|2|knn|0.528168|0.539322|0.782727|0.623898|0.158828|\n",
    "|3|dt|0.298107|0.847410|0.999962|0.880187|0.119775|\n",
    "|4|RF|0.231445|0.910326|0.989422|0.927780|0.061641|\n",
    "|5|adab|0.528435|0.634300|0.625589|0.623518|0.002071|\n",
    "|6|svr|0.755754|0.239027|0.244181|0.229945|0.014235|\n"
   ]
  },
  {
   "cell_type": "code",
   "execution_count": 32,
   "metadata": {},
   "outputs": [],
   "source": [
    "# results['date/desc'] = '7/3 | ABV imputed LR | Target: PRICE | Features: all features label encoded'\n",
    "# model_tracker_current = pd.read_csv('../data/model_tracker.csv')\n",
    "# model_tracker_current = pd.concat([model_tracker_current, results])\n",
    "# model_tracker_current.to_csv('../data/model_tracker.csv', index=False)\n",
    "# model_tracker_current"
   ]
  },
  {
   "cell_type": "markdown",
   "metadata": {},
   "source": [
    "## Decision Tree Regression"
   ]
  },
  {
   "cell_type": "code",
   "execution_count": 33,
   "metadata": {},
   "outputs": [
    {
     "name": "stdout",
     "output_type": "stream",
     "text": [
      "Log-price Root Mean Squared Error (RMSE): 0.3105776366413246\n",
      "Price USD Root Mean Squared Error (RMSE): 1.3642129059426056\n",
      "R-squared (R2): 0.8674949737615862\n"
     ]
    }
   ],
   "source": [
    "# No hyper parameter tuning with a decision tree model. \n",
    "\n",
    "X_decision_trees = df.drop(columns = ['log_price', 'price', 'age', 'age^2'])\n",
    "\n",
    "X_train_dt, X_test_dt, y_train_dt, y_test_dt = train_test_split(X_decision_trees, y, random_state=42, train_size=0.85)\n",
    "\n",
    "dt = DecisionTreeRegressor(random_state=42)\n",
    "\n",
    "dt.fit(X_train_dt, y_train_dt)\n",
    "\n",
    "y_pred_dt = dt.predict(X_test_dt)\n",
    "\n",
    "print(f\"Log-price Root Mean Squared Error (RMSE): {(np.sqrt(mean_squared_error(y_test_dt, y_pred_dt)))}\")\n",
    "print(f\"Price USD Root Mean Squared Error (RMSE): {(np.exp(np.sqrt(mean_squared_error(y_test_dt, y_pred_dt))))}\")\n",
    "print(f\"R-squared (R2): {r2_score(y_test_dt, y_pred_dt)}\")"
   ]
  },
  {
   "cell_type": "markdown",
   "metadata": {},
   "source": [
    "Log-price Root Mean Squared Error (RMSE): 0.31<br>\n",
    "Price USD Root Mean Squared Error (RMSE): 1.36<br>\n",
    "R-squared (R2): 0.867<br>"
   ]
  },
  {
   "cell_type": "code",
   "execution_count": 34,
   "metadata": {},
   "outputs": [
    {
     "name": "stdout",
     "output_type": "stream",
     "text": [
      "Best params:  {'max_depth': 50, 'min_samples_leaf': 1, 'min_samples_split': 5}\n",
      "Best score:  0.8433011020047225\n",
      "Test log Price RMSE: 0.3090397402553921\n",
      "Test Price USD RMSE: 1.3621165002854443\n"
     ]
    }
   ],
   "source": [
    "dt = DecisionTreeRegressor(random_state=42)\n",
    "param_grid = {\n",
    "    'max_depth': [10, 50, 60, 70, 100],\n",
    "    'min_samples_split': [2, 5, 10],\n",
    "    'min_samples_leaf': [1, 2]\n",
    "}\n",
    "\n",
    "gs = GridSearchCV(estimator=dt, param_grid=param_grid, \n",
    "                           cv=5, \n",
    "                           verbose=0, n_jobs=-1)\n",
    "\n",
    "gs.fit(X_train_dt, y_train_dt)\n",
    "\n",
    "print(\"Best params: \", gs.best_params_)\n",
    "print(\"Best score: \", gs.best_score_)\n",
    "\n",
    "best_model = gs.best_estimator_\n",
    "\n",
    "y_pred_dt_gs = best_model.predict(X_test_dt)\n",
    "mse = mean_squared_error(y_test_dt, y_pred_dt_gs)\n",
    "print(f\"Test log Price RMSE: {np.sqrt(mse)}\")\n",
    "print(f\"Test Price USD RMSE: {np.exp(np.sqrt(mse))}\")\n",
    "\n",
    "# Best params:  {'max_depth': 50, 'min_samples_leaf': 1, 'min_samples_split': 5}\n",
    "# Best score:  0.8433011020047225\n",
    "# Test log Price RMSE: 0.3090397402553921\n",
    "# Test Price USD RMSE: 1.3621165002854443"
   ]
  },
  {
   "cell_type": "code",
   "execution_count": 35,
   "metadata": {},
   "outputs": [
    {
     "name": "stdout",
     "output_type": "stream",
     "text": [
      "Price Root Mean Squared Error (RMSE): 1.362\n",
      "Log-price Root Mean Squared Error (RMSE): 0.309\n",
      "R-squared (R2): 0.869\n",
      "Cross validated r2: 0.843\n"
     ]
    }
   ],
   "source": [
    "# After hyper parameter tuning\n",
    "best_model.fit(X_train_dt, y_train_dt)\n",
    "y_pred_dt_tuned = best_model.predict(X_test_dt)\n",
    "\n",
    "print(f\"Price Root Mean Squared Error (RMSE): {round(np.exp(np.sqrt(mean_squared_error(y_test_dt, y_pred_dt_tuned))),3)}\")\n",
    "print(f\"Log-price Root Mean Squared Error (RMSE): {round(np.sqrt(mean_squared_error(y_test_dt, y_pred_dt_tuned)),3)}\")\n",
    "print(f\"R-squared (R2): {round(r2_score(y_test_dt, y_pred_dt_tuned),3)}\")\n",
    "print(f\"Cross validated r2: {round(cross_val_score(best_model, X_train_dt, y_train_dt, cv = 5).mean(), 3)}\")"
   ]
  },
  {
   "cell_type": "code",
   "execution_count": 36,
   "metadata": {},
   "outputs": [
    {
     "name": "stdout",
     "output_type": "stream",
     "text": [
      "Feature ranking:\n",
      "1. feature rating (0.571)\n",
      "2. feature vintage (0.122)\n",
      "3. feature region (0.069)\n",
      "4. feature producer (0.064)\n",
      "5. feature country (0.061)\n",
      "6. feature rating_qty (0.029)\n",
      "7. feature rating * log_rating_qty (0.028)\n",
      "8. feature grape_variety (0.026)\n",
      "9. feature log_rating_qty (0.024)\n",
      "10. feature wine_variety (0.007)\n"
     ]
    }
   ],
   "source": [
    "importances = best_model.feature_importances_\n",
    "indices = np.argsort(importances)[::-1]\n",
    "\n",
    "print(\"Feature ranking:\")\n",
    "for f in range(10):\n",
    "    print(f\"{f + 1}. feature {X_decision_trees.columns[indices[f]]} ({importances[indices[f]]:.3f})\")"
   ]
  },
  {
   "cell_type": "markdown",
   "metadata": {},
   "source": [
    "## Random Forests Regression "
   ]
  },
  {
   "cell_type": "code",
   "execution_count": 37,
   "metadata": {},
   "outputs": [],
   "source": [
    "# # Commented out for reproducibility speed.\n",
    "# rf = RandomForestRegressor(random_state=42)\n",
    "# param_grid = {\n",
    "#     'max_depth': [120, 150],\n",
    "#     'min_samples_split': [2],\n",
    "#     'min_samples_leaf': [1]\n",
    "# }\n",
    "\n",
    "# gs = GridSearchCV(estimator=rf, param_grid=param_grid, \n",
    "#                            cv=5, verbose=0, n_jobs=-1)\n",
    "\n",
    "# gs.fit(X_train_dt, y_train_dt)\n",
    "\n",
    "# print(\"Best params: \", gs.best_params_)\n",
    "# print(\"Best score:\", gs.best_score_)\n",
    "# rf_best_model = gs.best_estimator_\n",
    "\n",
    "# y_pred_rf = rf_best_model.predict(X_test_dt)\n",
    "# mse = mean_squared_error(y_test_dt, y_pred_rf)\n",
    "\n",
    "# print(f\"Price Root Mean Squared Error (RMSE): {round(np.exp(np.sqrt(mse)),3)}\")\n",
    "# print(f\"Log-price Root Mean Squared Error (RMSE): {round(np.sqrt(mse),3)}\")\n",
    "# print(f\"R-squared (R2): {round(r2_score(y_test_dt, y_pred_rf),3)}\")\n",
    "# print(f\"Cross validated r2: {round(cross_val_score(rf_best_model, X_train_dt, y_train_dt, cv = 5).mean(), 3)}\")\n",
    "\n"
   ]
  },
  {
   "cell_type": "markdown",
   "metadata": {},
   "source": [
    "Best params:  {'max_depth': 120, 'min_samples_leaf': 1, 'min_samples_split': 2}<br>\n",
    "Best score: 0.9023414270094839<br>\n",
    "Price Root Mean Squared Error (RMSE): 1.272<br>\n",
    "Log-price Root Mean Squared Error (RMSE): 0.24<br>\n",
    "R-squared (R2): 0.919<br>"
   ]
  },
  {
   "cell_type": "code",
   "execution_count": 38,
   "metadata": {},
   "outputs": [
    {
     "name": "stdout",
     "output_type": "stream",
     "text": [
      "Price Root Mean Squared Error (RMSE): 1.267\n",
      "Log-price Root Mean Squared Error (RMSE): 0.236\n",
      "R-squared (R2): 0.923\n"
     ]
    }
   ],
   "source": [
    "rf = RandomForestRegressor(max_depth = 120, min_samples_leaf = 1, min_samples_split = 2, random_state = 42)\n",
    "\n",
    "rf_best_model = rf.fit(X_train_dt, y_train_dt)\n",
    "\n",
    "y_pred_rf = rf_best_model.predict(X_test_dt)\n",
    "mse = mean_squared_error(y_test_dt, y_pred_rf)\n",
    "\n",
    "print(f\"Price Root Mean Squared Error (RMSE): {round(np.exp(np.sqrt(mse)),3)}\")\n",
    "print(f\"Log-price Root Mean Squared Error (RMSE): {round(np.sqrt(mse),3)}\")\n",
    "print(f\"R-squared (R2): {round(r2_score(y_test_dt, y_pred_rf),3)}\")\n",
    "print(f\"Cross validated r2: {round(cross_val_score(rf_best_model, X_train_dt, y_train_dt, cv = 5).mean(), 3)}\")"
   ]
  },
  {
   "cell_type": "code",
   "execution_count": 39,
   "metadata": {},
   "outputs": [],
   "source": [
    "# Results \n",
    "# Best parameters found:  {'max_depth': 40, 'min_samples_leaf': 1, 'min_samples_split': 2}\n",
    "# Best score: -0.06420003624506912\n",
    "# Test RMSE: 1.3501831006951108\n",
    "# R-squared (R2): 0.878\n",
    "# Cross validated r2: 0.92"
   ]
  },
  {
   "cell_type": "markdown",
   "metadata": {},
   "source": [
    "### Model Comparison: \n",
    "**Linear Regression**<br>\n",
    "Price Root Mean Squared Error (RMSE): 1.677<br>\n",
    "Log-Price Root Mean Squared Error (RMSE): 0.517<br>\n",
    "R-squared (R2): 0.633<br>\n",
    "Cross validated r2: 0.633<br>\n",
    "\n",
    "**Decision Tree Regression** - (Best parameters found:'max_depth': 30, 'min_samples_leaf': 1, 'min_samples_split': 5)<br>\n",
    "Price Root Mean Squared Error (RMSE): 1.362<br>\n",
    "Log-price Root Mean Squared Error (RMSE): 0.309<br>\n",
    "R-squared (R2): 0.869<br>\n",
    "Cross validated r2: 0.843<br>\n",
    "\n",
    "**Random Forests Regression** - (Best parameters found:'max_depth': 120, 'min_samples_leaf': 1, 'min_samples_split': 2)<br>\n",
    "Price Root Mean Squared Error (RMSE): 1.267<br>\n",
    "Log-price Root Mean Squared Error (RMSE): 0.236<br>\n",
    "R-squared (R2): 0.923<br>\n"
   ]
  },
  {
   "cell_type": "markdown",
   "metadata": {},
   "source": [
    "# Feature Importance of Decision Tree Model"
   ]
  },
  {
   "cell_type": "code",
   "execution_count": 40,
   "metadata": {},
   "outputs": [
    {
     "name": "stderr",
     "output_type": "stream",
     "text": [
      "No data for colormapping provided via 'c'. Parameters 'vmin', 'vmax' will be ignored\n"
     ]
    },
    {
     "data": {
      "image/png": "[encoded data removed]",
      "text/plain": [
       "<Figure size 800x550 with 2 Axes>"
      ]
     },
     "metadata": {},
     "output_type": "display_data"
    }
   ],
   "source": [
    "# taking hours to run for some reason \n",
    "explainer = shap.Explainer(best_model)\n",
    "shap_values = explainer(X_train_dt)\n",
    "shap.plots.beeswarm(shap_values);"
   ]
  },
  {
   "cell_type": "code",
   "execution_count": 41,
   "metadata": {},
   "outputs": [
    {
     "data": {
      "image/png": "[encoded data removed]",
      "text/plain": [
       "<Figure size 640x480 with 1 Axes>"
      ]
     },
     "metadata": {},
     "output_type": "display_data"
    }
   ],
   "source": [
    "# code from https://forecastegy.com/posts/feature-importance-in-random-forests/\n",
    "global_importances = pd.Series(best_model.feature_importances_, index=X_train_dt.columns)\n",
    "global_importances.sort_values(ascending=True, inplace=True)\n",
    "global_importances.plot.barh(color='mediumpurple')\n",
    "plt.xlabel(\"Importance\")\n",
    "plt.ylabel(\"Feature\")\n",
    "plt.title(\"Global Feature Importance\");"
   ]
  },
  {
   "cell_type": "code",
   "execution_count": 57,
   "metadata": {},
   "outputs": [
    {
     "data": {
      "image/png": "[encoded data removed]",
      "text/plain": [
       "<Figure size 640x480 with 1 Axes>"
      ]
     },
     "metadata": {},
     "output_type": "display_data"
    }
   ],
   "source": [
    "# Verifying feature importance with a comparison to a random variable\n",
    "# code from https://forecastegy.com/posts/feature-importance-in-random-forests/\n",
    "\n",
    "X_train_random = X_train_dt.copy()\n",
    "X_train_random[\"RANDOM\"] = np.random.RandomState(42).randn(X_train_dt.shape[0])\n",
    "\n",
    "dtree_random_feat_imp = DecisionTreeRegressor(max_depth = None, min_samples_leaf = 1, min_samples_split = 3, random_state=42)\n",
    "dtree_random_feat_imp.fit(X_train_random, y_train_dt)\n",
    "\n",
    "global_importances_random = pd.Series(dtree_random_feat_imp.feature_importances_, index=X_train_random.columns)\n",
    "global_importances_random.sort_values(ascending=True, inplace=True)\n",
    "global_importances_random.plot.barh(color='mediumpurple')\n",
    "plt.xlabel(\"Importance\")\n",
    "plt.ylabel(\"Feature\")\n",
    "plt.title(\"Price Predictive Feature Importance\");"
   ]
  },
  {
   "cell_type": "markdown",
   "metadata": {},
   "source": [
    "## Recursive Feature Elimination"
   ]
  },
  {
   "cell_type": "markdown",
   "metadata": {},
   "source": [
    "Recursive Feature Elimination (RFE) - as another method to see most important features in the dataset."
   ]
  },
  {
   "cell_type": "code",
   "execution_count": 58,
   "metadata": {},
   "outputs": [
    {
     "name": "stdout",
     "output_type": "stream",
     "text": [
      "Feature ranking (1 indicates selected): [1 1 1 1 5 3 1 4 1 2]\n",
      "Mask of selected features: [ True  True  True  True False False  True False  True False]\n",
      "Selected features: Index(['region', 'country', 'vintage', 'producer', 'rating', 'log_rating_qty'], dtype='object')\n"
     ]
    }
   ],
   "source": [
    "ref_model = RFE(estimator=best_model, n_features_to_select=6, step=1)\n",
    "ref_model.fit(X_train_dt, y_train_dt)\n",
    "\n",
    "print(\"Feature ranking (1 indicates selected):\", ref_model.ranking_)\n",
    "print(\"Mask of selected features:\", ref_model.support_)\n",
    "\n",
    "selected_features = X_decision_trees.columns[ref_model.support_]\n",
    "print(\"Selected features:\", selected_features)"
   ]
  },
  {
   "cell_type": "markdown",
   "metadata": {},
   "source": [
    "#"
   ]
  },
  {
   "cell_type": "markdown",
   "metadata": {},
   "source": [
    "# Exporting files for the App"
   ]
  },
  {
   "cell_type": "code",
   "execution_count": 44,
   "metadata": {},
   "outputs": [],
   "source": [
    "filepath = '../models/casi_dt_production.pkl'\n",
    "with gzip.open(filepath, \"wb\") as f:\n",
    "    pickled = pickle.dumps(best_model)\n",
    "    optimized_pickle = pickletools.optimize(pickled)\n",
    "    f.write(optimized_pickle)"
   ]
  },
  {
   "cell_type": "code",
   "execution_count": 45,
   "metadata": {},
   "outputs": [],
   "source": [
    "filepath = '../models/casi_rf_production.pkl'\n",
    "with gzip.open(filepath, \"wb\") as f:\n",
    "    pickled = pickle.dumps(rf_best_model)\n",
    "    optimized_pickle = pickletools.optimize(pickled)\n",
    "    f.write(optimized_pickle)"
   ]
  },
  {
   "cell_type": "code",
   "execution_count": null,
   "metadata": {},
   "outputs": [],
   "source": [
    "filepath = '../models/casi_rf_production.pkl'\n",
    "with gzip.open(filepath, \"wb\") as f:\n",
    "    pickled = pickle.dumps(rf_best_model)\n",
    "    optimized_pickle = pickletools.optimize(pickled)\n",
    "    f.write(optimized_pickle)"
   ]
  },
  {
   "cell_type": "markdown",
   "metadata": {},
   "source": [
    "## Sandbox"
   ]
  },
  {
   "cell_type": "code",
   "execution_count": 62,
   "metadata": {},
   "outputs": [],
   "source": [
    "# # SAND BOX RUN FROM HERE \n",
    "\n",
    "df_backend = pd.read_csv('../data/app_backend.csv')\n",
    "df_frontend = pd.read_csv('../data/app_frontend.csv')\n",
    "\n",
    "# Select a random row\n",
    "random_index = random.randint(0, len(df_backend) - 1)\n",
    "random_row_b = df_backend.loc[random_index]\n",
    "random_row_f = df_frontend.loc[random_index]"
   ]
  },
  {
   "cell_type": "code",
   "execution_count": 69,
   "metadata": {},
   "outputs": [
    {
     "data": {
      "text/plain": [
       "Index(['name', 'Region', 'Country', 'Vintage', 'Producer', 'Wine Variety',\n",
       "       'Grape Variety', 'Price ($)', 'Average Rating', 'ABV', 'Log Price',\n",
       "       'Age'],\n",
       "      dtype='object')"
      ]
     },
     "execution_count": 69,
     "metadata": {},
     "output_type": "execute_result"
    }
   ],
   "source": [
    "random_row_f.index"
   ]
  },
  {
   "cell_type": "code",
   "execution_count": 66,
   "metadata": {},
   "outputs": [
    {
     "data": {
      "text/plain": [
       "Index(['region', 'country', 'vintage', 'producer', 'wine_variety',\n",
       "       'grape_variety', 'rating', 'rating_qty', 'log_price', 'log_rating_qty',\n",
       "       'rating * log_rating_qty'],\n",
       "      dtype='object')"
      ]
     },
     "execution_count": 66,
     "metadata": {},
     "output_type": "execute_result"
    }
   ],
   "source": [
    "random_row_b.index"
   ]
  },
  {
   "cell_type": "code",
   "execution_count": 68,
   "metadata": {},
   "outputs": [
    {
     "data": {
      "text/plain": [
       "150.0"
      ]
     },
     "execution_count": 68,
     "metadata": {},
     "output_type": "execute_result"
    }
   ],
   "source": [
    "df['rating_qty'].median()"
   ]
  }
 ],
 "metadata": {
  "kernelspec": {
   "display_name": "base",
   "language": "python",
   "name": "python3"
  },
  "language_info": {
   "codemirror_mode": {
    "name": "ipython",
    "version": 3
   },
   "file_extension": ".py",
   "mimetype": "text/x-python",
   "name": "python",
   "nbconvert_exporter": "python",
   "pygments_lexer": "ipython3",
   "version": "3.11.5"
  }
 },
 "nbformat": 4,
 "nbformat_minor": 2
}
