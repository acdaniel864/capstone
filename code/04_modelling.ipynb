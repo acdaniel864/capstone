{
 "cells": [
  {
   "cell_type": "markdown",
   "metadata": {},
   "source": [
    "# Modelling"
   ]
  },
  {
   "cell_type": "code",
   "execution_count": 14,
   "metadata": {},
   "outputs": [],
   "source": [
    "import pandas as pd\n",
    "import numpy as np \n",
    "import matplotlib.pyplot as plt\n",
    "import seaborn as sns \n",
    "import random\n",
    "from sklearn.model_selection import cross_val_score, train_test_split, GridSearchCV\n",
    "from sklearn.linear_model import LinearRegression\n",
    "from sklearn.metrics import mean_squared_error, r2_score\n",
    "import modelling as ml\n",
    "from sklearn.decomposition import PCA\n",
    "from sklearn.linear_model import Ridge, RidgeCV, Lasso\n",
    "from sklearn.preprocessing import StandardScaler\n",
    "from sklearn.pipeline import Pipeline\n",
    "from sklearn.tree import DecisionTreeRegressor\n",
    "from sklearn import tree\n",
    "from sklearn.preprocessing import LabelEncoder\n",
    "from sklearn.ensemble import RandomForestRegressor\n",
    "from sklearn.feature_selection import RFE\n",
    "import pickle\n",
    "import gzip, pickle, pickletools\n",
    "import shap\n",
    "\n",
    "sns.set_theme(context='notebook', style='darkgrid', palette='Set3')"
   ]
  },
  {
   "cell_type": "code",
   "execution_count": 15,
   "metadata": {},
   "outputs": [
    {
     "data": {
      "text/html": [
       "<div>\n",
       "<style scoped>\n",
       "    .dataframe tbody tr th:only-of-type {\n",
       "        vertical-align: middle;\n",
       "    }\n",
       "\n",
       "    .dataframe tbody tr th {\n",
       "        vertical-align: top;\n",
       "    }\n",
       "\n",
       "    .dataframe thead th {\n",
       "        text-align: right;\n",
       "    }\n",
       "</style>\n",
       "<table border=\"1\" class=\"dataframe\">\n",
       "  <thead>\n",
       "    <tr style=\"text-align: right;\">\n",
       "      <th></th>\n",
       "      <th>region</th>\n",
       "      <th>country</th>\n",
       "      <th>vintage</th>\n",
       "      <th>producer</th>\n",
       "      <th>wine_variety</th>\n",
       "      <th>grape_variety</th>\n",
       "      <th>price</th>\n",
       "      <th>rating</th>\n",
       "      <th>rating_qty</th>\n",
       "      <th>abv</th>\n",
       "      <th>from_vivino</th>\n",
       "      <th>age</th>\n",
       "      <th>log_price</th>\n",
       "      <th>log_rating_qty</th>\n",
       "      <th>age^2</th>\n",
       "      <th>rating * log_rating_qty</th>\n",
       "    </tr>\n",
       "    <tr>\n",
       "      <th>name</th>\n",
       "      <th></th>\n",
       "      <th></th>\n",
       "      <th></th>\n",
       "      <th></th>\n",
       "      <th></th>\n",
       "      <th></th>\n",
       "      <th></th>\n",
       "      <th></th>\n",
       "      <th></th>\n",
       "      <th></th>\n",
       "      <th></th>\n",
       "      <th></th>\n",
       "      <th></th>\n",
       "      <th></th>\n",
       "      <th></th>\n",
       "      <th></th>\n",
       "    </tr>\n",
       "  </thead>\n",
       "  <tbody>\n",
       "    <tr>\n",
       "      <th>Ruffino Il Leo Chianti Superiore 2017</th>\n",
       "      <td>55.0</td>\n",
       "      <td>10.0</td>\n",
       "      <td>30.0</td>\n",
       "      <td>5630.0</td>\n",
       "      <td>2.0</td>\n",
       "      <td>21.0</td>\n",
       "      <td>11.71</td>\n",
       "      <td>3.6</td>\n",
       "      <td>270.0</td>\n",
       "      <td>13.194986</td>\n",
       "      <td>1.0</td>\n",
       "      <td>7.0</td>\n",
       "      <td>2.460443</td>\n",
       "      <td>5.598422</td>\n",
       "      <td>49.0</td>\n",
       "      <td>20.154319</td>\n",
       "    </tr>\n",
       "    <tr>\n",
       "      <th>Darenberg The Love Grass Shiraz 2017</th>\n",
       "      <td>130.0</td>\n",
       "      <td>1.0</td>\n",
       "      <td>30.0</td>\n",
       "      <td>2433.0</td>\n",
       "      <td>0.0</td>\n",
       "      <td>107.0</td>\n",
       "      <td>19.99</td>\n",
       "      <td>3.7</td>\n",
       "      <td>235.0</td>\n",
       "      <td>13.574750</td>\n",
       "      <td>1.0</td>\n",
       "      <td>7.0</td>\n",
       "      <td>2.995232</td>\n",
       "      <td>5.459586</td>\n",
       "      <td>49.0</td>\n",
       "      <td>20.200466</td>\n",
       "    </tr>\n",
       "    <tr>\n",
       "      <th>Pittnauer Pitti 2018</th>\n",
       "      <td>34.0</td>\n",
       "      <td>2.0</td>\n",
       "      <td>31.0</td>\n",
       "      <td>5221.0</td>\n",
       "      <td>0.0</td>\n",
       "      <td>121.0</td>\n",
       "      <td>8.54</td>\n",
       "      <td>3.7</td>\n",
       "      <td>190.0</td>\n",
       "      <td>13.242475</td>\n",
       "      <td>1.0</td>\n",
       "      <td>6.0</td>\n",
       "      <td>2.144761</td>\n",
       "      <td>5.247024</td>\n",
       "      <td>36.0</td>\n",
       "      <td>19.413989</td>\n",
       "    </tr>\n",
       "    <tr>\n",
       "      <th>Darenberg The Footbolt Shiraz 2017</th>\n",
       "      <td>130.0</td>\n",
       "      <td>1.0</td>\n",
       "      <td>30.0</td>\n",
       "      <td>2433.0</td>\n",
       "      <td>2.0</td>\n",
       "      <td>107.0</td>\n",
       "      <td>12.37</td>\n",
       "      <td>3.7</td>\n",
       "      <td>792.0</td>\n",
       "      <td>12.553393</td>\n",
       "      <td>1.0</td>\n",
       "      <td>7.0</td>\n",
       "      <td>2.515274</td>\n",
       "      <td>6.674561</td>\n",
       "      <td>49.0</td>\n",
       "      <td>24.695877</td>\n",
       "    </tr>\n",
       "    <tr>\n",
       "      <th>Kendalljackson Vintners Reserve Cabernet Sauvignon 2018</th>\n",
       "      <td>199.0</td>\n",
       "      <td>20.0</td>\n",
       "      <td>31.0</td>\n",
       "      <td>3893.0</td>\n",
       "      <td>0.0</td>\n",
       "      <td>16.0</td>\n",
       "      <td>23.99</td>\n",
       "      <td>3.9</td>\n",
       "      <td>2805.0</td>\n",
       "      <td>13.745501</td>\n",
       "      <td>1.0</td>\n",
       "      <td>6.0</td>\n",
       "      <td>3.177637</td>\n",
       "      <td>7.939159</td>\n",
       "      <td>36.0</td>\n",
       "      <td>30.962719</td>\n",
       "    </tr>\n",
       "  </tbody>\n",
       "</table>\n",
       "</div>"
      ],
      "text/plain": [
       "                                                    region  country  vintage  \\\n",
       "name                                                                           \n",
       "Ruffino Il Leo Chianti Superiore 2017                 55.0     10.0     30.0   \n",
       "Darenberg The Love Grass Shiraz 2017                 130.0      1.0     30.0   \n",
       "Pittnauer Pitti 2018                                  34.0      2.0     31.0   \n",
       "Darenberg The Footbolt Shiraz 2017                   130.0      1.0     30.0   \n",
       "Kendalljackson Vintners Reserve Cabernet Sauvig...   199.0     20.0     31.0   \n",
       "\n",
       "                                                    producer  wine_variety  \\\n",
       "name                                                                         \n",
       "Ruffino Il Leo Chianti Superiore 2017                 5630.0           2.0   \n",
       "Darenberg The Love Grass Shiraz 2017                  2433.0           0.0   \n",
       "Pittnauer Pitti 2018                                  5221.0           0.0   \n",
       "Darenberg The Footbolt Shiraz 2017                    2433.0           2.0   \n",
       "Kendalljackson Vintners Reserve Cabernet Sauvig...    3893.0           0.0   \n",
       "\n",
       "                                                    grape_variety  price  \\\n",
       "name                                                                       \n",
       "Ruffino Il Leo Chianti Superiore 2017                        21.0  11.71   \n",
       "Darenberg The Love Grass Shiraz 2017                        107.0  19.99   \n",
       "Pittnauer Pitti 2018                                        121.0   8.54   \n",
       "Darenberg The Footbolt Shiraz 2017                          107.0  12.37   \n",
       "Kendalljackson Vintners Reserve Cabernet Sauvig...           16.0  23.99   \n",
       "\n",
       "                                                    rating  rating_qty  \\\n",
       "name                                                                     \n",
       "Ruffino Il Leo Chianti Superiore 2017                  3.6       270.0   \n",
       "Darenberg The Love Grass Shiraz 2017                   3.7       235.0   \n",
       "Pittnauer Pitti 2018                                   3.7       190.0   \n",
       "Darenberg The Footbolt Shiraz 2017                     3.7       792.0   \n",
       "Kendalljackson Vintners Reserve Cabernet Sauvig...     3.9      2805.0   \n",
       "\n",
       "                                                          abv  from_vivino  \\\n",
       "name                                                                         \n",
       "Ruffino Il Leo Chianti Superiore 2017               13.194986          1.0   \n",
       "Darenberg The Love Grass Shiraz 2017                13.574750          1.0   \n",
       "Pittnauer Pitti 2018                                13.242475          1.0   \n",
       "Darenberg The Footbolt Shiraz 2017                  12.553393          1.0   \n",
       "Kendalljackson Vintners Reserve Cabernet Sauvig...  13.745501          1.0   \n",
       "\n",
       "                                                    age  log_price  \\\n",
       "name                                                                 \n",
       "Ruffino Il Leo Chianti Superiore 2017               7.0   2.460443   \n",
       "Darenberg The Love Grass Shiraz 2017                7.0   2.995232   \n",
       "Pittnauer Pitti 2018                                6.0   2.144761   \n",
       "Darenberg The Footbolt Shiraz 2017                  7.0   2.515274   \n",
       "Kendalljackson Vintners Reserve Cabernet Sauvig...  6.0   3.177637   \n",
       "\n",
       "                                                    log_rating_qty  age^2  \\\n",
       "name                                                                        \n",
       "Ruffino Il Leo Chianti Superiore 2017                     5.598422   49.0   \n",
       "Darenberg The Love Grass Shiraz 2017                      5.459586   49.0   \n",
       "Pittnauer Pitti 2018                                      5.247024   36.0   \n",
       "Darenberg The Footbolt Shiraz 2017                        6.674561   49.0   \n",
       "Kendalljackson Vintners Reserve Cabernet Sauvig...        7.939159   36.0   \n",
       "\n",
       "                                                    rating * log_rating_qty  \n",
       "name                                                                         \n",
       "Ruffino Il Leo Chianti Superiore 2017                             20.154319  \n",
       "Darenberg The Love Grass Shiraz 2017                              20.200466  \n",
       "Pittnauer Pitti 2018                                              19.413989  \n",
       "Darenberg The Footbolt Shiraz 2017                                24.695877  \n",
       "Kendalljackson Vintners Reserve Cabernet Sauvig...                30.962719  "
      ]
     },
     "execution_count": 15,
     "metadata": {},
     "output_type": "execute_result"
    }
   ],
   "source": [
    "# Import label encoded and ready for modelling set from 02 file \n",
    "df = pd.read_csv('../data/modelling_wines.csv')\n",
    "df.set_index('name', inplace=True)\n",
    "df.head()"
   ]
  },
  {
   "cell_type": "code",
   "execution_count": 16,
   "metadata": {},
   "outputs": [],
   "source": [
    "# Chose to drop abv as it was highly imputed (70% of the data). Dropped from_vivino as it is not useful for production model or app.\n",
    "df.drop(columns = ['abv', 'from_vivino'], inplace=True)"
   ]
  },
  {
   "cell_type": "markdown",
   "metadata": {},
   "source": [
    "# Baseline Model"
   ]
  },
  {
   "cell_type": "markdown",
   "metadata": {},
   "source": [
    "Basic Linear Regression with abv nulls imputed via linear regression. "
   ]
  },
  {
   "cell_type": "code",
   "execution_count": 17,
   "metadata": {},
   "outputs": [
    {
     "data": {
      "text/plain": [
       "Index(['region', 'country', 'vintage', 'producer', 'wine_variety',\n",
       "       'grape_variety', 'price', 'rating', 'rating_qty', 'age', 'log_price',\n",
       "       'log_rating_qty', 'age^2', 'rating * log_rating_qty'],\n",
       "      dtype='object')"
      ]
     },
     "execution_count": 17,
     "metadata": {},
     "output_type": "execute_result"
    }
   ],
   "source": [
    "df.columns"
   ]
  },
  {
   "cell_type": "code",
   "execution_count": 18,
   "metadata": {},
   "outputs": [
    {
     "name": "stdout",
     "output_type": "stream",
     "text": [
      "Price Root Mean Squared Error (RMSE): 1.674\n",
      "Log-Price Root Mean Squared Error (RMSE): 0.515\n",
      "R-squared (R2): 0.63\n",
      "Cross validated r2: 0.631\n"
     ]
    }
   ],
   "source": [
    "X = df.drop(columns = ['log_price', 'price', 'vintage'])\n",
    "y = df['log_price']\n",
    "\n",
    "X_train_lr, X_test_lr, y_train_lr, y_test_lr = train_test_split(X, y, random_state=42, train_size=0.85)\n",
    "\n",
    "lr = LinearRegression()\n",
    "\n",
    "lr.fit(X_train_lr, y_train_lr)\n",
    "y_pred_lr = lr.predict(X_test_lr)\n",
    "\n",
    "print(f\"Price Root Mean Squared Error (RMSE): {round(np.exp(np.sqrt(mean_squared_error(y_test_lr, y_pred_lr))),3)}\")\n",
    "print(f\"Log-Price Root Mean Squared Error (RMSE): {round(np.sqrt(mean_squared_error(y_test_lr, y_pred_lr)),3)}\")\n",
    "print(f\"R-squared (R2): {round(r2_score(y_test_lr, y_pred_lr),3)}\")\n",
    "print(f\"Cross validated r2: {round(cross_val_score(lr, X_train_lr, y_train_lr, cv = 10,scoring='r2').mean(), 3)}\")"
   ]
  },
  {
   "cell_type": "code",
   "execution_count": 19,
   "metadata": {},
   "outputs": [
    {
     "data": {
      "text/html": [
       "<div>\n",
       "<style scoped>\n",
       "    .dataframe tbody tr th:only-of-type {\n",
       "        vertical-align: middle;\n",
       "    }\n",
       "\n",
       "    .dataframe tbody tr th {\n",
       "        vertical-align: top;\n",
       "    }\n",
       "\n",
       "    .dataframe thead th {\n",
       "        text-align: right;\n",
       "    }\n",
       "</style>\n",
       "<table border=\"1\" class=\"dataframe\">\n",
       "  <thead>\n",
       "    <tr style=\"text-align: right;\">\n",
       "      <th></th>\n",
       "      <th>Coefficient</th>\n",
       "    </tr>\n",
       "  </thead>\n",
       "  <tbody>\n",
       "    <tr>\n",
       "      <th>rating</th>\n",
       "      <td>0.822022</td>\n",
       "    </tr>\n",
       "    <tr>\n",
       "      <th>rating * log_rating_qty</th>\n",
       "      <td>0.184546</td>\n",
       "    </tr>\n",
       "    <tr>\n",
       "      <th>age</th>\n",
       "      <td>0.129003</td>\n",
       "    </tr>\n",
       "    <tr>\n",
       "      <th>producer</th>\n",
       "      <td>-0.000015</td>\n",
       "    </tr>\n",
       "    <tr>\n",
       "      <th>rating_qty</th>\n",
       "      <td>-0.000039</td>\n",
       "    </tr>\n",
       "    <tr>\n",
       "      <th>grape_variety</th>\n",
       "      <td>-0.000100</td>\n",
       "    </tr>\n",
       "    <tr>\n",
       "      <th>region</th>\n",
       "      <td>-0.000169</td>\n",
       "    </tr>\n",
       "    <tr>\n",
       "      <th>age^2</th>\n",
       "      <td>-0.001967</td>\n",
       "    </tr>\n",
       "    <tr>\n",
       "      <th>country</th>\n",
       "      <td>-0.014513</td>\n",
       "    </tr>\n",
       "    <tr>\n",
       "      <th>wine_variety</th>\n",
       "      <td>-0.017660</td>\n",
       "    </tr>\n",
       "    <tr>\n",
       "      <th>log_rating_qty</th>\n",
       "      <td>-0.737366</td>\n",
       "    </tr>\n",
       "  </tbody>\n",
       "</table>\n",
       "</div>"
      ],
      "text/plain": [
       "                         Coefficient\n",
       "rating                      0.822022\n",
       "rating * log_rating_qty     0.184546\n",
       "age                         0.129003\n",
       "producer                   -0.000015\n",
       "rating_qty                 -0.000039\n",
       "grape_variety              -0.000100\n",
       "region                     -0.000169\n",
       "age^2                      -0.001967\n",
       "country                    -0.014513\n",
       "wine_variety               -0.017660\n",
       "log_rating_qty             -0.737366"
      ]
     },
     "execution_count": 19,
     "metadata": {},
     "output_type": "execute_result"
    }
   ],
   "source": [
    "# Put coefficients into a dataframe with index and columns\n",
    "coef_df = pd.DataFrame(lr.coef_, X.columns, columns=['Coefficient'])\n",
    "coef_df.sort_values(by=['Coefficient'], ascending=False, inplace=True)\n",
    "coef_df"
   ]
  },
  {
   "cell_type": "markdown",
   "metadata": {},
   "source": [
    "* Model relying heavily on non-categorical coefficients - rating, rating *  log_rating_qty, age, log_rating_qty. \n",
    "* Logartithmic transformations proved to aid model predictivness for both price as a target and rating_qty.\n",
    "* Categoricals which are label encoded grape_variety, producer, region, country performed poorly as to be expected with a linear regression model. Binary encoding was attempted of select categoricals, along with PCA to reduce dimensionality how ever best models proved to be decison tree based regressions with label encoding. "
   ]
  },
  {
   "cell_type": "code",
   "execution_count": 20,
   "metadata": {},
   "outputs": [
    {
     "name": "stdout",
     "output_type": "stream",
     "text": [
      "Not using StandardScaler\n"
     ]
    },
    {
     "data": {
      "text/html": [
       "<div>\n",
       "<style scoped>\n",
       "    .dataframe tbody tr th:only-of-type {\n",
       "        vertical-align: middle;\n",
       "    }\n",
       "\n",
       "    .dataframe tbody tr th {\n",
       "        vertical-align: top;\n",
       "    }\n",
       "\n",
       "    .dataframe thead th {\n",
       "        text-align: right;\n",
       "    }\n",
       "</style>\n",
       "<table border=\"1\" class=\"dataframe\">\n",
       "  <thead>\n",
       "    <tr style=\"text-align: right;\">\n",
       "      <th></th>\n",
       "      <th>model</th>\n",
       "      <th>rmse</th>\n",
       "      <th>cv</th>\n",
       "      <th>train_score</th>\n",
       "      <th>test_score</th>\n",
       "      <th>varience</th>\n",
       "    </tr>\n",
       "  </thead>\n",
       "  <tbody>\n",
       "    <tr>\n",
       "      <th>0</th>\n",
       "      <td>lr</td>\n",
       "      <td>0.515122</td>\n",
       "      <td>0.631404</td>\n",
       "      <td>0.631832</td>\n",
       "      <td>0.629750</td>\n",
       "      <td>0.002082</td>\n",
       "    </tr>\n",
       "    <tr>\n",
       "      <th>1</th>\n",
       "      <td>ridge</td>\n",
       "      <td>0.515120</td>\n",
       "      <td>0.631405</td>\n",
       "      <td>0.631832</td>\n",
       "      <td>0.629753</td>\n",
       "      <td>0.002079</td>\n",
       "    </tr>\n",
       "    <tr>\n",
       "      <th>2</th>\n",
       "      <td>knn</td>\n",
       "      <td>0.539901</td>\n",
       "      <td>0.514289</td>\n",
       "      <td>0.762782</td>\n",
       "      <td>0.593273</td>\n",
       "      <td>0.169509</td>\n",
       "    </tr>\n",
       "    <tr>\n",
       "      <th>3</th>\n",
       "      <td>dt</td>\n",
       "      <td>0.311154</td>\n",
       "      <td>0.834365</td>\n",
       "      <td>0.999903</td>\n",
       "      <td>0.864909</td>\n",
       "      <td>0.134993</td>\n",
       "    </tr>\n",
       "  </tbody>\n",
       "</table>\n",
       "</div>"
      ],
      "text/plain": [
       "   model      rmse        cv  train_score  test_score  varience\n",
       "0     lr  0.515122  0.631404     0.631832    0.629750  0.002082\n",
       "1  ridge  0.515120  0.631405     0.631832    0.629753  0.002079\n",
       "2    knn  0.539901  0.514289     0.762782    0.593273  0.169509\n",
       "3     dt  0.311154  0.834365     0.999903    0.864909  0.134993"
      ]
     },
     "execution_count": 20,
     "metadata": {},
     "output_type": "execute_result"
    }
   ],
   "source": [
    "results = ml.regression_model_selector(X_train_lr, y_train_lr, X_test_lr, y_test_lr, quick=True)\n",
    "results"
   ]
  },
  {
   "cell_type": "markdown",
   "metadata": {},
   "source": [
    "**Results of other models tested with same inputs:**\n",
    "|index|model|rmse|cv|train_score|test_score|varience\n",
    "|---|---|---|---|---|---|---|\n",
    "|0|lr|0.523012|0.634073|0.634886|0.631206|0.003680|\n",
    "|1|ridge|0.523014|0.634073|0.634886|0.631203|0.003683|\n",
    "|2|knn|0.528168|0.539322|0.782727|0.623898|0.158828|\n",
    "|3|dt|0.298107|0.847410|0.999962|0.880187|0.119775|\n",
    "|4|RF|0.231445|0.910326|0.989422|0.927780|0.061641|\n",
    "|5|adab|0.528435|0.634300|0.625589|0.623518|0.002071|\n",
    "|6|svr|0.755754|0.239027|0.244181|0.229945|0.014235|\n"
   ]
  },
  {
   "cell_type": "code",
   "execution_count": 21,
   "metadata": {},
   "outputs": [],
   "source": [
    "# results['date/desc'] = '7/3 | ABV imputed LR | Target: PRICE | Features: all features label encoded'\n",
    "# model_tracker_current = pd.read_csv('../data/model_tracker.csv')\n",
    "# model_tracker_current = pd.concat([model_tracker_current, results])\n",
    "# model_tracker_current.to_csv('../data/model_tracker.csv', index=False)\n",
    "# model_tracker_current"
   ]
  },
  {
   "cell_type": "markdown",
   "metadata": {},
   "source": [
    "## Decision Tree Regression"
   ]
  },
  {
   "cell_type": "code",
   "execution_count": 22,
   "metadata": {},
   "outputs": [
    {
     "name": "stdout",
     "output_type": "stream",
     "text": [
      "Log-price Root Mean Squared Error (RMSE): 0.3076071077674414\n",
      "Price USD Root Mean Squared Error (RMSE): 1.3601664850958413\n",
      "R-squared (R2): 0.8679716676542122\n"
     ]
    }
   ],
   "source": [
    "# No hyper parameter tuning with a decision tree model. \n",
    "\n",
    "X_decision_trees = df.drop(columns = ['log_price', 'price', 'age', 'age^2'])\n",
    "\n",
    "X_train_dt, X_test_dt, y_train_dt, y_test_dt = train_test_split(X_decision_trees, y, random_state=42, train_size=0.85)\n",
    "\n",
    "dt = DecisionTreeRegressor(random_state=42)\n",
    "\n",
    "dt.fit(X_train_dt, y_train_dt)\n",
    "\n",
    "y_pred_dt = dt.predict(X_test_dt)\n",
    "\n",
    "print(f\"Log-price Root Mean Squared Error (RMSE): {(np.sqrt(mean_squared_error(y_test_dt, y_pred_dt)))}\")\n",
    "print(f\"Price USD Root Mean Squared Error (RMSE): {(np.exp(np.sqrt(mean_squared_error(y_test_dt, y_pred_dt))))}\")\n",
    "print(f\"R-squared (R2): {r2_score(y_test_dt, y_pred_dt)}\")"
   ]
  },
  {
   "cell_type": "markdown",
   "metadata": {},
   "source": [
    "Log-price Root Mean Squared Error (RMSE): 0.3076<br>\n",
    "Price USD Root Mean Squared Error (RMSE): 1.3601<br>\n",
    "R-squared (R2): 0.868<br>"
   ]
  },
  {
   "cell_type": "code",
   "execution_count": 23,
   "metadata": {},
   "outputs": [
    {
     "name": "stdout",
     "output_type": "stream",
     "text": [
      "Best params:  {'max_depth': 50, 'min_samples_leaf': 1, 'min_samples_split': 5}\n",
      "Best score:  0.8370318138131483\n",
      "Test log Price RMSE: 0.30905817405895775\n",
      "Test Price USD RMSE: 1.3621416095048726\n"
     ]
    }
   ],
   "source": [
    "dt = DecisionTreeRegressor(random_state=42)\n",
    "param_grid = {\n",
    "    'max_depth': [10, 50, 60, 70, 100],\n",
    "    'min_samples_split': [2, 5, 10],\n",
    "    'min_samples_leaf': [1, 2]\n",
    "}\n",
    "\n",
    "gs = GridSearchCV(estimator=dt, param_grid=param_grid, \n",
    "                           cv=5, \n",
    "                           verbose=0, n_jobs=-1)\n",
    "\n",
    "gs.fit(X_train_dt, y_train_dt)\n",
    "\n",
    "print(\"Best params: \", gs.best_params_)\n",
    "print(\"Best score: \", gs.best_score_)\n",
    "\n",
    "best_model = gs.best_estimator_\n",
    "\n",
    "y_pred_dt_gs = best_model.predict(X_test_dt)\n",
    "mse = mean_squared_error(y_test_dt, y_pred_dt_gs)\n",
    "print(f\"Test log Price RMSE: {np.sqrt(mse)}\")\n",
    "print(f\"Test Price USD RMSE: {np.exp(np.sqrt(mse))}\")\n",
    "\n",
    "# Best params:  {'max_depth': 50, 'min_samples_leaf': 1, 'min_samples_split': 5}\n",
    "# Best score:  0.8370318138131483\n",
    "# Test log Price RMSE: 0.30905817405895775\n",
    "# Test Price USD RMSE: 1.3621416095048726"
   ]
  },
  {
   "cell_type": "code",
   "execution_count": 24,
   "metadata": {},
   "outputs": [
    {
     "name": "stdout",
     "output_type": "stream",
     "text": [
      "Price Root Mean Squared Error (RMSE): 1.362\n",
      "Log-price Root Mean Squared Error (RMSE): 0.309\n",
      "R-squared (R2): 0.867\n",
      "Cross validated r2: 0.837\n"
     ]
    }
   ],
   "source": [
    "# After hyper parameter tuning\n",
    "best_model.fit(X_train_dt, y_train_dt)\n",
    "y_pred_dt_tuned = best_model.predict(X_test_dt)\n",
    "\n",
    "print(f\"Price Root Mean Squared Error (RMSE): {round(np.exp(np.sqrt(mean_squared_error(y_test_dt, y_pred_dt_tuned))),3)}\")\n",
    "print(f\"Log-price Root Mean Squared Error (RMSE): {round(np.sqrt(mean_squared_error(y_test_dt, y_pred_dt_tuned)),3)}\")\n",
    "print(f\"R-squared (R2): {round(r2_score(y_test_dt, y_pred_dt_tuned),3)}\")\n",
    "print(f\"Cross validated r2: {round(cross_val_score(best_model, X_train_dt, y_train_dt, cv = 5).mean(), 3)}\")"
   ]
  },
  {
   "cell_type": "code",
   "execution_count": 25,
   "metadata": {},
   "outputs": [
    {
     "name": "stdout",
     "output_type": "stream",
     "text": [
      "Feature ranking:\n",
      "1. feature rating (0.566)\n",
      "2. feature vintage (0.123)\n",
      "3. feature region (0.071)\n",
      "4. feature producer (0.064)\n",
      "5. feature country (0.062)\n",
      "6. feature rating * log_rating_qty (0.033)\n",
      "7. feature grape_variety (0.027)\n",
      "8. feature log_rating_qty (0.024)\n",
      "9. feature rating_qty (0.024)\n",
      "10. feature wine_variety (0.006)\n"
     ]
    }
   ],
   "source": [
    "importances = best_model.feature_importances_\n",
    "indices = np.argsort(importances)[::-1]\n",
    "\n",
    "print(\"Feature ranking:\")\n",
    "for f in range(10):\n",
    "    print(f\"{f + 1}. feature {X_decision_trees.columns[indices[f]]} ({importances[indices[f]]:.3f})\")"
   ]
  },
  {
   "cell_type": "markdown",
   "metadata": {},
   "source": [
    "## Random Forests Regression "
   ]
  },
  {
   "cell_type": "code",
   "execution_count": 26,
   "metadata": {},
   "outputs": [],
   "source": [
    "# # Commented out for reproducibility speed.\n",
    "# np.random.seed(42)\n",
    "# rf = RandomForestRegressor()\n",
    "# param_grid = {\n",
    "#     'max_depth': [120, 150],\n",
    "#     'min_samples_split': [2],\n",
    "#     'min_samples_leaf': [1]\n",
    "# }\n",
    "\n",
    "# gs = GridSearchCV(estimator=rf, param_grid=param_grid, \n",
    "#                            cv=5, verbose=0, n_jobs=-1)\n",
    "\n",
    "# gs.fit(X_train_dt, y_train_dt)\n",
    "\n",
    "# print(\"Best params: \", gs.best_params_)\n",
    "# print(\"Best score:\", gs.best_score_)\n",
    "# rf_best_model = gs.best_estimator_\n",
    "\n",
    "# y_pred_rf = rf_best_model.predict(X_test_dt)\n",
    "# mse = mean_squared_error(y_test_dt, y_pred_rf)\n",
    "\n",
    "# print(f\"Price Root Mean Squared Error (RMSE): {round(np.exp(np.sqrt(mse)),3)}\")\n",
    "# print(f\"Log-price Root Mean Squared Error (RMSE): {round(np.sqrt(mse),3)}\")\n",
    "# print(f\"R-squared (R2): {round(r2_score(y_test_dt, y_pred_rf),3)}\")\n",
    "# print(f\"Cross validated r2: {round(cross_val_score(rf_best_model, X_train_dt, y_train_dt, cv = 5).mean(), 3)}\")\n",
    "\n"
   ]
  },
  {
   "cell_type": "markdown",
   "metadata": {},
   "source": [
    "Best params:  {'max_depth': 120, 'min_samples_leaf': 1, 'min_samples_split': 2}<br>\n",
    "Best score: 0.9023414270094839<br>\n",
    "Price Root Mean Squared Error (RMSE): 1.272<br>\n",
    "Log-price Root Mean Squared Error (RMSE): 0.24<br>\n",
    "R-squared (R2): 0.919<br>"
   ]
  },
  {
   "cell_type": "code",
   "execution_count": 29,
   "metadata": {},
   "outputs": [
    {
     "name": "stdout",
     "output_type": "stream",
     "text": [
      "Price Root Mean Squared Error (RMSE): 1.272\n",
      "Log-price Root Mean Squared Error (RMSE): 0.24\n",
      "R-squared (R2): 0.919\n",
      "Cross validated r2: 0.902\n"
     ]
    }
   ],
   "source": [
    "# Commented out for reproducibility speed.\n",
    "np.random.seed(42)\n",
    "rf = RandomForestRegressor(max_depth = 120, min_samples_leaf = 1, min_samples_split = 2)\n",
    "\n",
    "rf_best_model = rf.fit(X_train_dt, y_train_dt)\n",
    "\n",
    "y_pred_rf = rf_best_model.predict(X_test_dt)\n",
    "mse = mean_squared_error(y_test_dt, y_pred_rf)\n",
    "\n",
    "print(f\"Price Root Mean Squared Error (RMSE): {round(np.exp(np.sqrt(mse)),3)}\")\n",
    "print(f\"Log-price Root Mean Squared Error (RMSE): {round(np.sqrt(mse),3)}\")\n",
    "print(f\"R-squared (R2): {round(r2_score(y_test_dt, y_pred_rf),3)}\")\n",
    "#print(f\"Cross validated r2: {round(cross_val_score(rf_best_model, X_train_dt, y_train_dt, cv = 5).mean(), 3)}\")"
   ]
  },
  {
   "cell_type": "code",
   "execution_count": 30,
   "metadata": {},
   "outputs": [],
   "source": [
    "# Results \n",
    "# Best parameters found:  {'max_depth': 40, 'min_samples_leaf': 1, 'min_samples_split': 2}\n",
    "# Best score: -0.06420003624506912\n",
    "# Test RMSE: 1.3501831006951108\n",
    "# R-squared (R2): 0.878\n",
    "# Cross validated r2: 0.92"
   ]
  },
  {
   "cell_type": "markdown",
   "metadata": {},
   "source": [
    "### Model Comparison: \n",
    "**Linear Regression**<br>\n",
    "Price (USD) Root Mean Squared Error (RMSE): 1.687<br>\n",
    "Log-price Root Mean Squared Error (RMSE): 0.523<br>\n",
    "R-squared (R2): 0.631<br>\n",
    "Cross validated r2: 0.634<br>\n",
    "\n",
    "**Decision Tree Regression** - (Best parameters found:'max_depth': 30, 'min_samples_leaf': 1, 'min_samples_split': 5)<br>\n",
    "Price (USD) Root Mean Squared Error (RMSE): 1.35<br>\n",
    "Log-price Root Mean Squared Error (RMSE): 0.3<br>\n",
    "R-squared (R2): 0.878<br>\n",
    "Cross validated r2: 0.851<br>\n",
    "\n",
    "**Random Forests Regression** - (Best parameters found:'max_depth': 120, 'min_samples_leaf': 1, 'min_samples_split': 2)<br>\n",
    "Price Root Mean Squared Error (RMSE): 1.272<br>\n",
    "Log-price Root Mean Squared Error (RMSE): 0.24<br>\n",
    "R-squared (R2): 0.919<br>\n",
    "Cross validated r2: 0.902<br>"
   ]
  },
  {
   "cell_type": "markdown",
   "metadata": {},
   "source": [
    "# Feature Importance of Decision Tree Model"
   ]
  },
  {
   "cell_type": "code",
   "execution_count": 31,
   "metadata": {},
   "outputs": [
    {
     "name": "stderr",
     "output_type": "stream",
     "text": [
      "No data for colormapping provided via 'c'. Parameters 'vmin', 'vmax' will be ignored\n"
     ]
    },
    {
     "data": {
      "image/png": "[encoded data removed]",
      "text/plain": [
       "<Figure size 800x550 with 2 Axes>"
      ]
     },
     "metadata": {},
     "output_type": "display_data"
    }
   ],
   "source": [
    "# taking hours to run for some reason \n",
    "explainer = shap.Explainer(best_model)\n",
    "shap_values = explainer(X_train_dt)\n",
    "shap.plots.beeswarm(shap_values);"
   ]
  },
  {
   "cell_type": "code",
   "execution_count": 32,
   "metadata": {},
   "outputs": [
    {
     "data": {
      "image/png": "[encoded data removed]",
      "text/plain": [
       "<Figure size 640x480 with 1 Axes>"
      ]
     },
     "metadata": {},
     "output_type": "display_data"
    }
   ],
   "source": [
    "# code from https://forecastegy.com/posts/feature-importance-in-random-forests/\n",
    "global_importances = pd.Series(best_model.feature_importances_, index=X_train_dt.columns)\n",
    "global_importances.sort_values(ascending=True, inplace=True)\n",
    "global_importances.plot.barh(color='mediumpurple')\n",
    "plt.xlabel(\"Importance\")\n",
    "plt.ylabel(\"Feature\")\n",
    "plt.title(\"Global Feature Importance - Built-in Method\");"
   ]
  },
  {
   "cell_type": "code",
   "execution_count": 33,
   "metadata": {},
   "outputs": [
    {
     "data": {
      "image/png": "[encoded data removed]",
      "text/plain": [
       "<Figure size 640x480 with 1 Axes>"
      ]
     },
     "metadata": {},
     "output_type": "display_data"
    }
   ],
   "source": [
    "# Verifying feature importance with a comparison to a random variable\n",
    "# code from https://forecastegy.com/posts/feature-importance-in-random-forests/\n",
    "\n",
    "X_train_random = X_train_dt.copy()\n",
    "X_train_random[\"RANDOM\"] = np.random.RandomState(42).randn(X_train_dt.shape[0])\n",
    "\n",
    "dtree_random_feat_imp = DecisionTreeRegressor(max_depth = None, min_samples_leaf = 1, min_samples_split = 3, random_state=42)\n",
    "dtree_random_feat_imp.fit(X_train_random, y_train_dt)\n",
    "\n",
    "global_importances_random = pd.Series(dtree_random_feat_imp.feature_importances_, index=X_train_random.columns)\n",
    "global_importances_random.sort_values(ascending=True, inplace=True)\n",
    "global_importances_random.plot.barh(color='mediumpurple')\n",
    "plt.xlabel(\"Importance\")\n",
    "plt.ylabel(\"Feature\")\n",
    "plt.title(\"Global Feature Importance - Built-in Method\");"
   ]
  },
  {
   "cell_type": "markdown",
   "metadata": {},
   "source": [
    "## Recursive Feature Elimination"
   ]
  },
  {
   "cell_type": "markdown",
   "metadata": {},
   "source": [
    "Recursive Feature Elimination (RFE) - as another method to see most important features in the dataset."
   ]
  },
  {
   "cell_type": "code",
   "execution_count": 34,
   "metadata": {},
   "outputs": [
    {
     "name": "stdout",
     "output_type": "stream",
     "text": [
      "Feature ranking (1 indicates selected): [1 2 1 1 6 4 1 3 5 1]\n",
      "Mask of selected features: [ True False  True  True False False  True False False  True]\n",
      "Selected features: Index(['region', 'vintage', 'producer', 'rating', 'rating * log_rating_qty'], dtype='object')\n"
     ]
    }
   ],
   "source": [
    "ref_model = RFE(estimator=best_model, n_features_to_select=5, step=1)\n",
    "ref_model.fit(X_train_dt, y_train_dt)\n",
    "\n",
    "print(\"Feature ranking (1 indicates selected):\", ref_model.ranking_)\n",
    "print(\"Mask of selected features:\", ref_model.support_)\n",
    "\n",
    "selected_features = X_decision_trees.columns[ref_model.support_]\n",
    "print(\"Selected features:\", selected_features)"
   ]
  },
  {
   "cell_type": "markdown",
   "metadata": {},
   "source": [
    "**Decision Trees Features Ranking (1 feature to select)**<br>\n",
    "Feature ranking (1 indicates selected): [2 1 1 1 7 4 1 1 5 6 3]<br>\n",
    "Mask of selected features: [False  True  True  True False False  True  True False False False]<br>\n",
    "Selected features: Index(['country', 'vintage', 'producer', 'rating', 'rating_qty'], dtype='object')<br>\n",
    "\n",
    "**Random Forests Features Ranking (5 features to select)**<br>\n",
    "Feature ranking (1 indicates selected): [1 4 1 1 7 5 1 1 3 6 2]<br>\n",
    "Mask of selected features: [ True False  True  True False False  True  True False False False]<br>\n",
    "Selected features: Index(['region', 'vintage', 'producer', 'rating', 'rating_qty'], dtype='object')<br>"
   ]
  },
  {
   "cell_type": "markdown",
   "metadata": {},
   "source": [
    "#"
   ]
  },
  {
   "cell_type": "markdown",
   "metadata": {},
   "source": [
    "# Exporting files for the App"
   ]
  },
  {
   "cell_type": "code",
   "execution_count": 35,
   "metadata": {},
   "outputs": [],
   "source": [
    "filepath = '../models/casi_dt_production.pkl'\n",
    "with gzip.open(filepath, \"wb\") as f:\n",
    "    pickled = pickle.dumps(best_model)\n",
    "    optimized_pickle = pickletools.optimize(pickled)\n",
    "    f.write(optimized_pickle)"
   ]
  },
  {
   "cell_type": "code",
   "execution_count": 37,
   "metadata": {},
   "outputs": [],
   "source": [
    "filepath = '../models/casi_rf_production.pkl'\n",
    "with gzip.open(filepath, \"wb\") as f:\n",
    "    pickled = pickle.dumps(rf_best_model)\n",
    "    optimized_pickle = pickletools.optimize(pickled)\n",
    "    f.write(optimized_pickle)"
   ]
  },
  {
   "cell_type": "markdown",
   "metadata": {},
   "source": [
    "## Sandbox"
   ]
  },
  {
   "cell_type": "code",
   "execution_count": null,
   "metadata": {},
   "outputs": [],
   "source": [
    "# SAND BOX RUN FROM HERE \n",
    "\n",
    "df_backend = pd.read_csv('../data/app_backend.csv')\n",
    "df_frontend = pd.read_csv('../data/app_frontend.csv')\n",
    "\n",
    "# Select a random row\n",
    "random_index = random.randint(0, len(df_backend) - 1)\n",
    "random_row_b = df_backend.loc[random_index]\n",
    "random_row_f = df_frontend.loc[random_index]"
   ]
  },
  {
   "cell_type": "code",
   "execution_count": null,
   "metadata": {},
   "outputs": [
    {
     "ename": "NameError",
     "evalue": "name 'dt_tuned' is not defined",
     "output_type": "error",
     "traceback": [
      "\u001b[0;31m---------------------------------------------------------------------------\u001b[0m",
      "\u001b[0;31mNameError\u001b[0m                                 Traceback (most recent call last)",
      "Cell \u001b[0;32mIn[21], line 1\u001b[0m\n\u001b[0;32m----> 1\u001b[0m model \u001b[38;5;241m=\u001b[39m dt_tuned\n\u001b[1;32m      2\u001b[0m X_with_price \u001b[38;5;241m=\u001b[39m random_row_b\u001b[38;5;241m.\u001b[39mto_frame()\u001b[38;5;241m.\u001b[39mtranspose()\n\u001b[1;32m      3\u001b[0m X_with_price\n",
      "\u001b[0;31mNameError\u001b[0m: name 'dt_tuned' is not defined"
     ]
    }
   ],
   "source": [
    "model = dt_tuned\n",
    "X_with_price = random_row_b.to_frame().transpose()\n",
    "X_with_price"
   ]
  },
  {
   "cell_type": "code",
   "execution_count": null,
   "metadata": {},
   "outputs": [
    {
     "data": {
      "text/html": [
       "<div>\n",
       "<style scoped>\n",
       "    .dataframe tbody tr th:only-of-type {\n",
       "        vertical-align: middle;\n",
       "    }\n",
       "\n",
       "    .dataframe tbody tr th {\n",
       "        vertical-align: top;\n",
       "    }\n",
       "\n",
       "    .dataframe thead th {\n",
       "        text-align: right;\n",
       "    }\n",
       "</style>\n",
       "<table border=\"1\" class=\"dataframe\">\n",
       "  <thead>\n",
       "    <tr style=\"text-align: right;\">\n",
       "      <th></th>\n",
       "      <th>region</th>\n",
       "      <th>country</th>\n",
       "      <th>vintage</th>\n",
       "      <th>producer</th>\n",
       "      <th>wine_variety</th>\n",
       "      <th>grape_variety</th>\n",
       "      <th>rating</th>\n",
       "      <th>rating_qty</th>\n",
       "      <th>abv</th>\n",
       "      <th>from_vivino</th>\n",
       "      <th>age</th>\n",
       "    </tr>\n",
       "  </thead>\n",
       "  <tbody>\n",
       "    <tr>\n",
       "      <th>1730</th>\n",
       "      <td>270.0</td>\n",
       "      <td>0.0</td>\n",
       "      <td>38.0</td>\n",
       "      <td>2412.0</td>\n",
       "      <td>2.0</td>\n",
       "      <td>146.0</td>\n",
       "      <td>3.5</td>\n",
       "      <td>63.0</td>\n",
       "      <td>12.419702</td>\n",
       "      <td>1.0</td>\n",
       "      <td>5.0</td>\n",
       "    </tr>\n",
       "  </tbody>\n",
       "</table>\n",
       "</div>"
      ],
      "text/plain": [
       "      region  country  vintage  producer  wine_variety  grape_variety  rating  \\\n",
       "1730   270.0      0.0     38.0    2412.0           2.0          146.0     3.5   \n",
       "\n",
       "      rating_qty        abv  from_vivino  age  \n",
       "1730        63.0  12.419702          1.0  5.0  "
      ]
     },
     "execution_count": 111,
     "metadata": {},
     "output_type": "execute_result"
    }
   ],
   "source": [
    "X = X_with_price.drop(['log_price'], axis = 1)\n",
    "X"
   ]
  },
  {
   "cell_type": "code",
   "execution_count": null,
   "metadata": {},
   "outputs": [
    {
     "data": {
      "text/plain": [
       "8.15"
      ]
     },
     "execution_count": 112,
     "metadata": {},
     "output_type": "execute_result"
    }
   ],
   "source": [
    "real_price = float(round(np.exp(X_with_price['log_price']), 2).iloc[0])\n",
    "real_price\n"
   ]
  },
  {
   "cell_type": "code",
   "execution_count": null,
   "metadata": {},
   "outputs": [
    {
     "ename": "ValueError",
     "evalue": "The feature names should match those that were passed during fit.\nFeature names unseen at fit time:\n- abv\n- age\n- from_vivino\nFeature names seen at fit time, yet now missing:\n- log_rating_qty\n- rating * log_rating_qty\n",
     "output_type": "error",
     "traceback": [
      "\u001b[0;31m---------------------------------------------------------------------------\u001b[0m",
      "\u001b[0;31mValueError\u001b[0m                                Traceback (most recent call last)",
      "Cell \u001b[0;32mIn[113], line 1\u001b[0m\n\u001b[0;32m----> 1\u001b[0m casi_answer \u001b[38;5;241m=\u001b[39m  \u001b[38;5;28mfloat\u001b[39m(\u001b[38;5;28mround\u001b[39m(np\u001b[38;5;241m.\u001b[39mexp(model\u001b[38;5;241m.\u001b[39mpredict(X)[\u001b[38;5;241m0\u001b[39m]),\u001b[38;5;241m2\u001b[39m))\n\u001b[1;32m      2\u001b[0m casi_answer\n",
      "File \u001b[0;32m~/anaconda3/lib/python3.11/site-packages/sklearn/tree/_classes.py:426\u001b[0m, in \u001b[0;36mBaseDecisionTree.predict\u001b[0;34m(self, X, check_input)\u001b[0m\n\u001b[1;32m    403\u001b[0m \u001b[38;5;250m\u001b[39m\u001b[38;5;124;03m\"\"\"Predict class or regression value for X.\u001b[39;00m\n\u001b[1;32m    404\u001b[0m \n\u001b[1;32m    405\u001b[0m \u001b[38;5;124;03mFor a classification model, the predicted class for each sample in X is\u001b[39;00m\n\u001b[0;32m   (...)\u001b[0m\n\u001b[1;32m    423\u001b[0m \u001b[38;5;124;03m    The predicted classes, or the predict values.\u001b[39;00m\n\u001b[1;32m    424\u001b[0m \u001b[38;5;124;03m\"\"\"\u001b[39;00m\n\u001b[1;32m    425\u001b[0m check_is_fitted(\u001b[38;5;28mself\u001b[39m)\n\u001b[0;32m--> 426\u001b[0m X \u001b[38;5;241m=\u001b[39m \u001b[38;5;28mself\u001b[39m\u001b[38;5;241m.\u001b[39m_validate_X_predict(X, check_input)\n\u001b[1;32m    427\u001b[0m proba \u001b[38;5;241m=\u001b[39m \u001b[38;5;28mself\u001b[39m\u001b[38;5;241m.\u001b[39mtree_\u001b[38;5;241m.\u001b[39mpredict(X)\n\u001b[1;32m    428\u001b[0m n_samples \u001b[38;5;241m=\u001b[39m X\u001b[38;5;241m.\u001b[39mshape[\u001b[38;5;241m0\u001b[39m]\n",
      "File \u001b[0;32m~/anaconda3/lib/python3.11/site-packages/sklearn/tree/_classes.py:392\u001b[0m, in \u001b[0;36mBaseDecisionTree._validate_X_predict\u001b[0;34m(self, X, check_input)\u001b[0m\n\u001b[1;32m    390\u001b[0m \u001b[38;5;250m\u001b[39m\u001b[38;5;124;03m\"\"\"Validate the training data on predict (probabilities).\"\"\"\u001b[39;00m\n\u001b[1;32m    391\u001b[0m \u001b[38;5;28;01mif\u001b[39;00m check_input:\n\u001b[0;32m--> 392\u001b[0m     X \u001b[38;5;241m=\u001b[39m \u001b[38;5;28mself\u001b[39m\u001b[38;5;241m.\u001b[39m_validate_data(X, dtype\u001b[38;5;241m=\u001b[39mDTYPE, accept_sparse\u001b[38;5;241m=\u001b[39m\u001b[38;5;124m\"\u001b[39m\u001b[38;5;124mcsr\u001b[39m\u001b[38;5;124m\"\u001b[39m, reset\u001b[38;5;241m=\u001b[39m\u001b[38;5;28;01mFalse\u001b[39;00m)\n\u001b[1;32m    393\u001b[0m     \u001b[38;5;28;01mif\u001b[39;00m issparse(X) \u001b[38;5;129;01mand\u001b[39;00m (\n\u001b[1;32m    394\u001b[0m         X\u001b[38;5;241m.\u001b[39mindices\u001b[38;5;241m.\u001b[39mdtype \u001b[38;5;241m!=\u001b[39m np\u001b[38;5;241m.\u001b[39mintc \u001b[38;5;129;01mor\u001b[39;00m X\u001b[38;5;241m.\u001b[39mindptr\u001b[38;5;241m.\u001b[39mdtype \u001b[38;5;241m!=\u001b[39m np\u001b[38;5;241m.\u001b[39mintc\n\u001b[1;32m    395\u001b[0m     ):\n\u001b[1;32m    396\u001b[0m         \u001b[38;5;28;01mraise\u001b[39;00m \u001b[38;5;167;01mValueError\u001b[39;00m(\u001b[38;5;124m\"\u001b[39m\u001b[38;5;124mNo support for np.int64 index based sparse matrices\u001b[39m\u001b[38;5;124m\"\u001b[39m)\n",
      "File \u001b[0;32m~/anaconda3/lib/python3.11/site-packages/sklearn/base.py:548\u001b[0m, in \u001b[0;36mBaseEstimator._validate_data\u001b[0;34m(self, X, y, reset, validate_separately, **check_params)\u001b[0m\n\u001b[1;32m    483\u001b[0m \u001b[38;5;28;01mdef\u001b[39;00m \u001b[38;5;21m_validate_data\u001b[39m(\n\u001b[1;32m    484\u001b[0m     \u001b[38;5;28mself\u001b[39m,\n\u001b[1;32m    485\u001b[0m     X\u001b[38;5;241m=\u001b[39m\u001b[38;5;124m\"\u001b[39m\u001b[38;5;124mno_validation\u001b[39m\u001b[38;5;124m\"\u001b[39m,\n\u001b[0;32m   (...)\u001b[0m\n\u001b[1;32m    489\u001b[0m     \u001b[38;5;241m*\u001b[39m\u001b[38;5;241m*\u001b[39mcheck_params,\n\u001b[1;32m    490\u001b[0m ):\n\u001b[1;32m    491\u001b[0m \u001b[38;5;250m    \u001b[39m\u001b[38;5;124;03m\"\"\"Validate input data and set or check the `n_features_in_` attribute.\u001b[39;00m\n\u001b[1;32m    492\u001b[0m \n\u001b[1;32m    493\u001b[0m \u001b[38;5;124;03m    Parameters\u001b[39;00m\n\u001b[0;32m   (...)\u001b[0m\n\u001b[1;32m    546\u001b[0m \u001b[38;5;124;03m        validated.\u001b[39;00m\n\u001b[1;32m    547\u001b[0m \u001b[38;5;124;03m    \"\"\"\u001b[39;00m\n\u001b[0;32m--> 548\u001b[0m     \u001b[38;5;28mself\u001b[39m\u001b[38;5;241m.\u001b[39m_check_feature_names(X, reset\u001b[38;5;241m=\u001b[39mreset)\n\u001b[1;32m    550\u001b[0m     \u001b[38;5;28;01mif\u001b[39;00m y \u001b[38;5;129;01mis\u001b[39;00m \u001b[38;5;28;01mNone\u001b[39;00m \u001b[38;5;129;01mand\u001b[39;00m \u001b[38;5;28mself\u001b[39m\u001b[38;5;241m.\u001b[39m_get_tags()[\u001b[38;5;124m\"\u001b[39m\u001b[38;5;124mrequires_y\u001b[39m\u001b[38;5;124m\"\u001b[39m]:\n\u001b[1;32m    551\u001b[0m         \u001b[38;5;28;01mraise\u001b[39;00m \u001b[38;5;167;01mValueError\u001b[39;00m(\n\u001b[1;32m    552\u001b[0m             \u001b[38;5;124mf\u001b[39m\u001b[38;5;124m\"\u001b[39m\u001b[38;5;124mThis \u001b[39m\u001b[38;5;132;01m{\u001b[39;00m\u001b[38;5;28mself\u001b[39m\u001b[38;5;241m.\u001b[39m\u001b[38;5;18m__class__\u001b[39m\u001b[38;5;241m.\u001b[39m\u001b[38;5;18m__name__\u001b[39m\u001b[38;5;132;01m}\u001b[39;00m\u001b[38;5;124m estimator \u001b[39m\u001b[38;5;124m\"\u001b[39m\n\u001b[1;32m    553\u001b[0m             \u001b[38;5;124m\"\u001b[39m\u001b[38;5;124mrequires y to be passed, but the target y is None.\u001b[39m\u001b[38;5;124m\"\u001b[39m\n\u001b[1;32m    554\u001b[0m         )\n",
      "File \u001b[0;32m~/anaconda3/lib/python3.11/site-packages/sklearn/base.py:481\u001b[0m, in \u001b[0;36mBaseEstimator._check_feature_names\u001b[0;34m(self, X, reset)\u001b[0m\n\u001b[1;32m    476\u001b[0m \u001b[38;5;28;01mif\u001b[39;00m \u001b[38;5;129;01mnot\u001b[39;00m missing_names \u001b[38;5;129;01mand\u001b[39;00m \u001b[38;5;129;01mnot\u001b[39;00m unexpected_names:\n\u001b[1;32m    477\u001b[0m     message \u001b[38;5;241m+\u001b[39m\u001b[38;5;241m=\u001b[39m (\n\u001b[1;32m    478\u001b[0m         \u001b[38;5;124m\"\u001b[39m\u001b[38;5;124mFeature names must be in the same order as they were in fit.\u001b[39m\u001b[38;5;130;01m\\n\u001b[39;00m\u001b[38;5;124m\"\u001b[39m\n\u001b[1;32m    479\u001b[0m     )\n\u001b[0;32m--> 481\u001b[0m \u001b[38;5;28;01mraise\u001b[39;00m \u001b[38;5;167;01mValueError\u001b[39;00m(message)\n",
      "\u001b[0;31mValueError\u001b[0m: The feature names should match those that were passed during fit.\nFeature names unseen at fit time:\n- abv\n- age\n- from_vivino\nFeature names seen at fit time, yet now missing:\n- log_rating_qty\n- rating * log_rating_qty\n"
     ]
    }
   ],
   "source": [
    "casi_answer =  float(round(np.exp(model.predict(X)[0]),2))\n",
    "casi_answer"
   ]
  }
 ],
 "metadata": {
  "kernelspec": {
   "display_name": "base",
   "language": "python",
   "name": "python3"
  },
  "language_info": {
   "codemirror_mode": {
    "name": "ipython",
    "version": 3
   },
   "file_extension": ".py",
   "mimetype": "text/x-python",
   "name": "python",
   "nbconvert_exporter": "python",
   "pygments_lexer": "ipython3",
   "version": "3.11.5"
  }
 },
 "nbformat": 4,
 "nbformat_minor": 2
}
