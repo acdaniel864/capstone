{
 "cells": [
  {
   "cell_type": "markdown",
   "metadata": {},
   "source": [
    "# Modelling"
   ]
  },
  {
   "cell_type": "code",
   "execution_count": 97,
   "metadata": {},
   "outputs": [],
   "source": [
    "import pandas as pd\n",
    "import numpy as np \n",
    "import matplotlib.pyplot as plt\n",
    "import seaborn as sns \n",
    "import statistics\n",
    "from visualisations import compare_histograms\n",
    "import random\n",
    "from sklearn.model_selection import cross_val_score, train_test_split, GridSearchCV\n",
    "from sklearn.linear_model import LinearRegression\n",
    "from sklearn.metrics import mean_squared_error, r2_score\n",
    "import modelling as ml\n",
    "from sklearn.experimental import enable_iterative_imputer \n",
    "from sklearn.impute import IterativeImputer\n",
    "from sklearn.decomposition import PCA\n",
    "from sklearn.linear_model import Ridge, RidgeCV, Lasso\n",
    "from sklearn.preprocessing import StandardScaler\n",
    "from sklearn.pipeline import Pipeline\n",
    "from sklearn.tree import DecisionTreeRegressor\n",
    "from sklearn.model_selection import train_test_split\n",
    "from sklearn import tree\n",
    "from sklearn.preprocessing import LabelEncoder\n",
    "from sklearn.ensemble import RandomForestRegressor\n",
    "from sklearn.feature_selection import RFE\n",
    "import pickle\n",
    "import shap\n",
    "\n",
    "# set random seed for reproducibility\n",
    "np.random.seed(42)\n",
    "\n",
    "sns.set_theme(context='notebook', style='darkgrid', palette='Set3')"
   ]
  },
  {
   "cell_type": "code",
   "execution_count": 98,
   "metadata": {},
   "outputs": [
    {
     "data": {
      "text/html": [
       "<div>\n",
       "<style scoped>\n",
       "    .dataframe tbody tr th:only-of-type {\n",
       "        vertical-align: middle;\n",
       "    }\n",
       "\n",
       "    .dataframe tbody tr th {\n",
       "        vertical-align: top;\n",
       "    }\n",
       "\n",
       "    .dataframe thead th {\n",
       "        text-align: right;\n",
       "    }\n",
       "</style>\n",
       "<table border=\"1\" class=\"dataframe\">\n",
       "  <thead>\n",
       "    <tr style=\"text-align: right;\">\n",
       "      <th></th>\n",
       "      <th>region</th>\n",
       "      <th>country</th>\n",
       "      <th>vintage</th>\n",
       "      <th>producer</th>\n",
       "      <th>wine_variety</th>\n",
       "      <th>grape_variety</th>\n",
       "      <th>price</th>\n",
       "      <th>rating</th>\n",
       "      <th>rating_qty</th>\n",
       "      <th>abv</th>\n",
       "      <th>from_vivino</th>\n",
       "      <th>age</th>\n",
       "      <th>log_price</th>\n",
       "    </tr>\n",
       "    <tr>\n",
       "      <th>name</th>\n",
       "      <th></th>\n",
       "      <th></th>\n",
       "      <th></th>\n",
       "      <th></th>\n",
       "      <th></th>\n",
       "      <th></th>\n",
       "      <th></th>\n",
       "      <th></th>\n",
       "      <th></th>\n",
       "      <th></th>\n",
       "      <th></th>\n",
       "      <th></th>\n",
       "      <th></th>\n",
       "    </tr>\n",
       "  </thead>\n",
       "  <tbody>\n",
       "    <tr>\n",
       "      <th>00 Wines Vgw Chardonnay 2017</th>\n",
       "      <td>253.0</td>\n",
       "      <td>10.0</td>\n",
       "      <td>19.0</td>\n",
       "      <td>0.0</td>\n",
       "      <td>4.0</td>\n",
       "      <td>105.0</td>\n",
       "      <td>66.0</td>\n",
       "      <td>0.0</td>\n",
       "      <td>0.0</td>\n",
       "      <td>13.00000</td>\n",
       "      <td>0.0</td>\n",
       "      <td>1998.0</td>\n",
       "      <td>4.189655</td>\n",
       "    </tr>\n",
       "    <tr>\n",
       "      <th>00 Wines Vgr Pinot Noir 2019</th>\n",
       "      <td>253.0</td>\n",
       "      <td>10.0</td>\n",
       "      <td>22.0</td>\n",
       "      <td>0.0</td>\n",
       "      <td>1.0</td>\n",
       "      <td>37.0</td>\n",
       "      <td>82.0</td>\n",
       "      <td>0.0</td>\n",
       "      <td>0.0</td>\n",
       "      <td>12.90000</td>\n",
       "      <td>0.0</td>\n",
       "      <td>1995.0</td>\n",
       "      <td>4.406719</td>\n",
       "    </tr>\n",
       "    <tr>\n",
       "      <th>00 Wines Egw Chardonnay 2019</th>\n",
       "      <td>253.0</td>\n",
       "      <td>10.0</td>\n",
       "      <td>22.0</td>\n",
       "      <td>0.0</td>\n",
       "      <td>4.0</td>\n",
       "      <td>105.0</td>\n",
       "      <td>95.0</td>\n",
       "      <td>0.0</td>\n",
       "      <td>0.0</td>\n",
       "      <td>13.35941</td>\n",
       "      <td>0.0</td>\n",
       "      <td>1995.0</td>\n",
       "      <td>4.553877</td>\n",
       "    </tr>\n",
       "    <tr>\n",
       "      <th>100 Nails Ranch Pinot Noir 2019</th>\n",
       "      <td>301.0</td>\n",
       "      <td>10.0</td>\n",
       "      <td>22.0</td>\n",
       "      <td>1.0</td>\n",
       "      <td>1.0</td>\n",
       "      <td>37.0</td>\n",
       "      <td>14.0</td>\n",
       "      <td>0.0</td>\n",
       "      <td>0.0</td>\n",
       "      <td>14.20000</td>\n",
       "      <td>0.0</td>\n",
       "      <td>1995.0</td>\n",
       "      <td>2.639057</td>\n",
       "    </tr>\n",
       "    <tr>\n",
       "      <th>100 Nails Ranch Chardonnay 2019</th>\n",
       "      <td>200.0</td>\n",
       "      <td>10.0</td>\n",
       "      <td>22.0</td>\n",
       "      <td>1.0</td>\n",
       "      <td>4.0</td>\n",
       "      <td>105.0</td>\n",
       "      <td>14.0</td>\n",
       "      <td>0.0</td>\n",
       "      <td>0.0</td>\n",
       "      <td>14.20000</td>\n",
       "      <td>0.0</td>\n",
       "      <td>1995.0</td>\n",
       "      <td>2.639057</td>\n",
       "    </tr>\n",
       "  </tbody>\n",
       "</table>\n",
       "</div>"
      ],
      "text/plain": [
       "                                 region  country  vintage  producer  \\\n",
       "name                                                                  \n",
       "00 Wines Vgw Chardonnay 2017      253.0     10.0     19.0       0.0   \n",
       "00 Wines Vgr Pinot Noir 2019      253.0     10.0     22.0       0.0   \n",
       "00 Wines Egw Chardonnay 2019      253.0     10.0     22.0       0.0   \n",
       "100 Nails Ranch Pinot Noir 2019   301.0     10.0     22.0       1.0   \n",
       "100 Nails Ranch Chardonnay 2019   200.0     10.0     22.0       1.0   \n",
       "\n",
       "                                 wine_variety  grape_variety  price  rating  \\\n",
       "name                                                                          \n",
       "00 Wines Vgw Chardonnay 2017              4.0          105.0   66.0     0.0   \n",
       "00 Wines Vgr Pinot Noir 2019              1.0           37.0   82.0     0.0   \n",
       "00 Wines Egw Chardonnay 2019              4.0          105.0   95.0     0.0   \n",
       "100 Nails Ranch Pinot Noir 2019           1.0           37.0   14.0     0.0   \n",
       "100 Nails Ranch Chardonnay 2019           4.0          105.0   14.0     0.0   \n",
       "\n",
       "                                 rating_qty       abv  from_vivino     age  \\\n",
       "name                                                                         \n",
       "00 Wines Vgw Chardonnay 2017            0.0  13.00000          0.0  1998.0   \n",
       "00 Wines Vgr Pinot Noir 2019            0.0  12.90000          0.0  1995.0   \n",
       "00 Wines Egw Chardonnay 2019            0.0  13.35941          0.0  1995.0   \n",
       "100 Nails Ranch Pinot Noir 2019         0.0  14.20000          0.0  1995.0   \n",
       "100 Nails Ranch Chardonnay 2019         0.0  14.20000          0.0  1995.0   \n",
       "\n",
       "                                 log_price  \n",
       "name                                        \n",
       "00 Wines Vgw Chardonnay 2017      4.189655  \n",
       "00 Wines Vgr Pinot Noir 2019      4.406719  \n",
       "00 Wines Egw Chardonnay 2019      4.553877  \n",
       "100 Nails Ranch Pinot Noir 2019   2.639057  \n",
       "100 Nails Ranch Chardonnay 2019   2.639057  "
      ]
     },
     "execution_count": 98,
     "metadata": {},
     "output_type": "execute_result"
    }
   ],
   "source": [
    "# Import label encoded and ready for modelling set from 02 file \n",
    "df = pd.read_csv('../data/modelling_wines.csv')\n",
    "df.set_index('name', inplace=True)\n",
    "df.head()"
   ]
  },
  {
   "cell_type": "code",
   "execution_count": 99,
   "metadata": {},
   "outputs": [],
   "source": [
    "# df_encoded = pd.get_dummies(df, columns=['region', 'country', 'vintage', 'wine_variety', \n",
    "#                                         'grape_variety', 'from_vivino', 'producer'],  drop_first=True, dtype=int)"
   ]
  },
  {
   "cell_type": "code",
   "execution_count": 100,
   "metadata": {},
   "outputs": [],
   "source": [
    "df_30plusratings = df[df['rating_qty'] > 30]\n",
    "X = df_30plusratings.drop(columns = ['log_price', 'price'])\n",
    "y = df_30plusratings['log_price']\n",
    "\n",
    "X_train, X_test, y_train, y_test = train_test_split(X, y, random_state=42, train_size=0.85)"
   ]
  },
  {
   "cell_type": "markdown",
   "metadata": {},
   "source": [
    "# Baseline Model"
   ]
  },
  {
   "cell_type": "markdown",
   "metadata": {},
   "source": [
    "Basic Linear Regression with nulls imputed from median "
   ]
  },
  {
   "cell_type": "code",
   "execution_count": 101,
   "metadata": {},
   "outputs": [],
   "source": [
    "# df_encoded['abv'].fillna(df_encoded['abv'].median(), inplace=True)"
   ]
  },
  {
   "cell_type": "code",
   "execution_count": 102,
   "metadata": {},
   "outputs": [],
   "source": [
    "# lr = LinearRegression()\n",
    "\n",
    "# lr.fit(X_train, y_train)\n",
    "# y_pred = lr.predict(X_test)\n",
    "# print(f\" Cross validated r2: {cross_val_score(lr, X_train, y_train, cv = 10,scoring='r2')}\")\n",
    "# print(f\" Mean squared error: {np.sqrt(mean_squared_error(y_test, y_pred))}\")"
   ]
  },
  {
   "cell_type": "code",
   "execution_count": 103,
   "metadata": {},
   "outputs": [],
   "source": [
    "# df_encoded = pd.get_dummies(df, columns=['country', 'vintage', 'wine_variety', \n",
    "#                                         'grape_variety', 'from_vivino'],  drop_first=True, dtype=int)\n",
    "# # df_encoded['abv'].fillna(df_encoded['abv'].median(), inplace=True)\n",
    "\n",
    "# X = df.drop(columns = ['log_price', 'price'])\n",
    "# y = df['log_price']\n",
    "\n",
    "# X_train, X_test, y_train, y_test = train_test_split(X, y, random_state=42, train_size=0.85)"
   ]
  },
  {
   "cell_type": "code",
   "execution_count": 104,
   "metadata": {},
   "outputs": [],
   "source": [
    "# lr = LinearRegression()\n",
    "\n",
    "# lr.fit(X_train, y_train)\n",
    "# y_pred = lr.predict(X_test)\n",
    "# print(f\" Cross validated r2: {cross_val_score(lr, X_train, y_train, cv = 10,scoring='r2')}\")\n",
    "# print(f\" Root mean squared error: {np.sqrt(mean_squared_error(y_test, y_pred))}\")"
   ]
  },
  {
   "cell_type": "code",
   "execution_count": 105,
   "metadata": {},
   "outputs": [],
   "source": [
    "# results = ml.regression_model_selector(X_train, y_train, X_test, y_test)\n",
    "# results"
   ]
  },
  {
   "cell_type": "code",
   "execution_count": 106,
   "metadata": {},
   "outputs": [],
   "source": [
    "# results['date/desc'] = '7/3 | ABV imputed LR | Target: PRICE | Features: all features label encoded'\n",
    "# model_tracker_current = pd.read_csv('../data/model_tracker.csv')\n",
    "# model_tracker_current = pd.concat([model_tracker_current, results])\n",
    "# model_tracker_current.to_csv('../data/model_tracker.csv', index=False)\n",
    "# model_tracker_current\n"
   ]
  },
  {
   "cell_type": "markdown",
   "metadata": {},
   "source": [
    "## Decision Tree Regression"
   ]
  },
  {
   "cell_type": "code",
   "execution_count": 107,
   "metadata": {},
   "outputs": [
    {
     "name": "stdout",
     "output_type": "stream",
     "text": [
      "Root Mean Squared Error (RMSE): 1.243699374220951\n",
      "R-squared (R2): 0.9437839035596564\n"
     ]
    }
   ],
   "source": [
    "# No hyper parameter tuning\n",
    "\n",
    "dt = DecisionTreeRegressor(random_state=42)\n",
    "\n",
    "dt.fit(X_train, y_train)\n",
    "\n",
    "y_pred = dt.predict(X_test)\n",
    "\n",
    "print(f\"Root Mean Squared Error (RMSE): {np.exp(np.sqrt(mean_squared_error(y_test, y_pred)))}\")\n",
    "print(f\"R-squared (R2): {r2_score(y_test, y_pred)}\")"
   ]
  },
  {
   "cell_type": "code",
   "execution_count": 108,
   "metadata": {},
   "outputs": [
    {
     "name": "stdout",
     "output_type": "stream",
     "text": [
      "Fitting 5 folds for each of 30 candidates, totalling 150 fits\n"
     ]
    },
    {
     "name": "stdout",
     "output_type": "stream",
     "text": [
      "[CV] END max_depth=None, min_samples_leaf=1, min_samples_split=2; total time=   0.6s\n",
      "[CV] END max_depth=None, min_samples_leaf=1, min_samples_split=2; total time=   0.6s\n",
      "[CV] END max_depth=None, min_samples_leaf=1, min_samples_split=2; total time=   0.6s\n",
      "[CV] END max_depth=None, min_samples_leaf=1, min_samples_split=2; total time=   0.6s\n",
      "[CV] END max_depth=None, min_samples_leaf=1, min_samples_split=3; total time=   0.6s\n",
      "[CV] END max_depth=None, min_samples_leaf=1, min_samples_split=3; total time=   0.6s\n",
      "[CV] END max_depth=None, min_samples_leaf=1, min_samples_split=2; total time=   0.6s\n",
      "[CV] END max_depth=None, min_samples_leaf=1, min_samples_split=3; total time=   0.6s\n",
      "[CV] END max_depth=None, min_samples_leaf=1, min_samples_split=3; total time=   0.5s\n",
      "[CV] END max_depth=None, min_samples_leaf=1, min_samples_split=3; total time=   0.5s\n",
      "[CV] END max_depth=None, min_samples_leaf=1, min_samples_split=5; total time=   0.4s\n",
      "[CV] END max_depth=None, min_samples_leaf=1, min_samples_split=5; total time=   0.4s\n",
      "[CV] END max_depth=None, min_samples_leaf=1, min_samples_split=5; total time=   0.5s\n",
      "[CV] END max_depth=None, min_samples_leaf=1, min_samples_split=5; total time=   0.5s\n",
      "[CV] END max_depth=None, min_samples_leaf=1, min_samples_split=5; total time=   0.5s\n",
      "[CV] END max_depth=None, min_samples_leaf=2, min_samples_split=2; total time=   0.5s\n",
      "[CV] END max_depth=None, min_samples_leaf=2, min_samples_split=2; total time=   0.5s\n",
      "[CV] END max_depth=None, min_samples_leaf=2, min_samples_split=2; total time=   0.5s\n",
      "[CV] END max_depth=None, min_samples_leaf=2, min_samples_split=2; total time=   0.5s\n",
      "[CV] END max_depth=None, min_samples_leaf=2, min_samples_split=3; total time=   0.5s\n",
      "[CV] END max_depth=None, min_samples_leaf=2, min_samples_split=2; total time=   0.5s\n",
      "[CV] END max_depth=None, min_samples_leaf=2, min_samples_split=3; total time=   0.4s\n",
      "[CV] END max_depth=None, min_samples_leaf=2, min_samples_split=3; total time=   0.5s\n",
      "[CV] END max_depth=None, min_samples_leaf=2, min_samples_split=3; total time=   0.4s\n",
      "[CV] END max_depth=10, min_samples_leaf=1, min_samples_split=2; total time=   0.2s\n",
      "[CV] END max_depth=10, min_samples_leaf=1, min_samples_split=2; total time=   0.3s\n",
      "[CV] END max_depth=None, min_samples_leaf=2, min_samples_split=5; total time=   0.5s\n",
      "[CV] END max_depth=None, min_samples_leaf=2, min_samples_split=3; total time=   0.5s\n",
      "[CV] END max_depth=None, min_samples_leaf=2, min_samples_split=5; total time=   0.5s\n",
      "[CV] END max_depth=None, min_samples_leaf=2, min_samples_split=5; total time=   0.5s\n",
      "[CV] END max_depth=None, min_samples_leaf=2, min_samples_split=5; total time=   0.5s\n",
      "[CV] END max_depth=None, min_samples_leaf=2, min_samples_split=5; total time=   0.5s\n",
      "[CV] END max_depth=10, min_samples_leaf=1, min_samples_split=2; total time=   0.3s\n",
      "[CV] END max_depth=10, min_samples_leaf=1, min_samples_split=2; total time=   0.4s\n",
      "[CV] END max_depth=10, min_samples_leaf=1, min_samples_split=2; total time=   0.3s\n",
      "[CV] END max_depth=10, min_samples_leaf=1, min_samples_split=3; total time=   0.3s\n",
      "[CV] END max_depth=10, min_samples_leaf=1, min_samples_split=3; total time=   0.3s\n",
      "[CV] END max_depth=10, min_samples_leaf=1, min_samples_split=3; total time=   0.4s\n",
      "[CV] END max_depth=10, min_samples_leaf=1, min_samples_split=3; total time=   0.3s\n",
      "[CV] END max_depth=10, min_samples_leaf=1, min_samples_split=3; total time=   0.4s\n",
      "[CV] END max_depth=10, min_samples_leaf=1, min_samples_split=5; total time=   0.3s\n",
      "[CV] END max_depth=10, min_samples_leaf=1, min_samples_split=5; total time=   0.3s\n",
      "[CV] END max_depth=10, min_samples_leaf=1, min_samples_split=5; total time=   0.3s\n",
      "[CV] END max_depth=10, min_samples_leaf=1, min_samples_split=5; total time=   0.3s\n",
      "[CV] END max_depth=10, min_samples_leaf=1, min_samples_split=5; total time=   0.3s\n",
      "[CV] END max_depth=10, min_samples_leaf=2, min_samples_split=2; total time=   0.3s\n",
      "[CV] END max_depth=10, min_samples_leaf=2, min_samples_split=2; total time=   0.3s\n",
      "[CV] END max_depth=10, min_samples_leaf=2, min_samples_split=2; total time=   0.3s\n",
      "[CV] END max_depth=10, min_samples_leaf=2, min_samples_split=2; total time=   0.3s\n",
      "[CV] END max_depth=10, min_samples_leaf=2, min_samples_split=2; total time=   0.3s\n",
      "[CV] END max_depth=10, min_samples_leaf=2, min_samples_split=3; total time=   0.3s\n",
      "[CV] END max_depth=10, min_samples_leaf=2, min_samples_split=3; total time=   0.3s\n",
      "[CV] END max_depth=10, min_samples_leaf=2, min_samples_split=3; total time=   0.3s\n",
      "[CV] END max_depth=10, min_samples_leaf=2, min_samples_split=3; total time=   0.3s\n",
      "[CV] END max_depth=10, min_samples_leaf=2, min_samples_split=5; total time=   0.3s\n",
      "[CV] END max_depth=10, min_samples_leaf=2, min_samples_split=3; total time=   0.3s\n",
      "[CV] END max_depth=10, min_samples_leaf=2, min_samples_split=5; total time=   0.3s\n",
      "[CV] END max_depth=10, min_samples_leaf=2, min_samples_split=5; total time=   0.3s\n",
      "[CV] END max_depth=10, min_samples_leaf=2, min_samples_split=5; total time=   0.3s\n",
      "[CV] END max_depth=10, min_samples_leaf=2, min_samples_split=5; total time=   0.3s\n",
      "[CV] END max_depth=20, min_samples_leaf=1, min_samples_split=2; total time=   0.6s\n",
      "[CV] END max_depth=20, min_samples_leaf=1, min_samples_split=2; total time=   0.6s\n",
      "[CV] END max_depth=20, min_samples_leaf=1, min_samples_split=2; total time=   0.6s\n",
      "[CV] END max_depth=20, min_samples_leaf=1, min_samples_split=2; total time=   0.7s\n",
      "[CV] END max_depth=20, min_samples_leaf=1, min_samples_split=2; total time=   0.7s\n",
      "[CV] END max_depth=20, min_samples_leaf=1, min_samples_split=3; total time=   0.7s\n",
      "[CV] END max_depth=20, min_samples_leaf=1, min_samples_split=3; total time=   0.7s\n",
      "[CV] END max_depth=20, min_samples_leaf=1, min_samples_split=3; total time=   0.7s\n",
      "[CV] END max_depth=20, min_samples_leaf=1, min_samples_split=3; total time=   0.6s\n",
      "[CV] END max_depth=20, min_samples_leaf=1, min_samples_split=3; total time=   0.6s\n",
      "[CV] END max_depth=20, min_samples_leaf=1, min_samples_split=5; total time=   0.5s\n",
      "[CV] END max_depth=20, min_samples_leaf=1, min_samples_split=5; total time=   0.6s\n",
      "[CV] END max_depth=20, min_samples_leaf=1, min_samples_split=5; total time=   0.5s\n",
      "[CV] END max_depth=20, min_samples_leaf=1, min_samples_split=5; total time=   0.6s\n",
      "[CV] END max_depth=20, min_samples_leaf=1, min_samples_split=5; total time=   0.5s\n",
      "[CV] END max_depth=20, min_samples_leaf=2, min_samples_split=2; total time=   0.5s\n",
      "[CV] END max_depth=20, min_samples_leaf=2, min_samples_split=2; total time=   0.6s\n",
      "[CV] END max_depth=20, min_samples_leaf=2, min_samples_split=2; total time=   0.5s\n",
      "[CV] END max_depth=20, min_samples_leaf=2, min_samples_split=2; total time=   0.5s\n",
      "[CV] END max_depth=20, min_samples_leaf=2, min_samples_split=2; total time=   0.6s\n",
      "[CV] END max_depth=20, min_samples_leaf=2, min_samples_split=3; total time=   0.5s\n",
      "[CV] END max_depth=20, min_samples_leaf=2, min_samples_split=3; total time=   0.5s\n",
      "[CV] END max_depth=20, min_samples_leaf=2, min_samples_split=3; total time=   0.5s\n",
      "[CV] END max_depth=20, min_samples_leaf=2, min_samples_split=3; total time=   0.5s\n",
      "[CV] END max_depth=20, min_samples_leaf=2, min_samples_split=3; total time=   0.4s\n",
      "[CV] END max_depth=20, min_samples_leaf=2, min_samples_split=5; total time=   0.4s\n",
      "[CV] END max_depth=20, min_samples_leaf=2, min_samples_split=5; total time=   0.5s\n",
      "[CV] END max_depth=20, min_samples_leaf=2, min_samples_split=5; total time=   0.5s\n",
      "[CV] END max_depth=20, min_samples_leaf=2, min_samples_split=5; total time=   0.5s\n",
      "[CV] END max_depth=20, min_samples_leaf=2, min_samples_split=5; total time=   0.5s\n",
      "[CV] END max_depth=30, min_samples_leaf=1, min_samples_split=2; total time=   0.6s\n",
      "[CV] END max_depth=30, min_samples_leaf=1, min_samples_split=2; total time=   0.6s\n",
      "[CV] END max_depth=30, min_samples_leaf=1, min_samples_split=2; total time=   0.6s\n",
      "[CV] END max_depth=30, min_samples_leaf=1, min_samples_split=2; total time=   0.6s\n",
      "[CV] END max_depth=30, min_samples_leaf=1, min_samples_split=2; total time=   0.7s\n",
      "[CV] END max_depth=30, min_samples_leaf=1, min_samples_split=3; total time=   0.6s\n",
      "[CV] END max_depth=30, min_samples_leaf=1, min_samples_split=3; total time=   0.6s\n",
      "[CV] END max_depth=30, min_samples_leaf=1, min_samples_split=3; total time=   0.6s\n",
      "[CV] END max_depth=30, min_samples_leaf=1, min_samples_split=3; total time=   0.7s\n",
      "[CV] END max_depth=30, min_samples_leaf=1, min_samples_split=3; total time=   0.7s\n",
      "[CV] END max_depth=30, min_samples_leaf=1, min_samples_split=5; total time=   0.7s\n",
      "[CV] END max_depth=30, min_samples_leaf=1, min_samples_split=5; total time=   0.7s\n",
      "[CV] END max_depth=30, min_samples_leaf=1, min_samples_split=5; total time=   0.7s\n",
      "[CV] END max_depth=30, min_samples_leaf=1, min_samples_split=5; total time=   0.7s\n",
      "[CV] END max_depth=30, min_samples_leaf=2, min_samples_split=2; total time=   0.7s\n",
      "[CV] END max_depth=30, min_samples_leaf=1, min_samples_split=5; total time=   0.6s\n",
      "[CV] END max_depth=30, min_samples_leaf=2, min_samples_split=2; total time=   0.4s\n",
      "[CV] END max_depth=30, min_samples_leaf=2, min_samples_split=2; total time=   0.4s\n",
      "[CV] END max_depth=30, min_samples_leaf=2, min_samples_split=2; total time=   0.4s\n",
      "[CV] END max_depth=30, min_samples_leaf=2, min_samples_split=2; total time=   0.4s\n",
      "[CV] END max_depth=30, min_samples_leaf=2, min_samples_split=3; total time=   0.4s\n",
      "[CV] END max_depth=30, min_samples_leaf=2, min_samples_split=3; total time=   0.4s\n",
      "[CV] END max_depth=30, min_samples_leaf=2, min_samples_split=3; total time=   0.4s\n",
      "[CV] END max_depth=30, min_samples_leaf=2, min_samples_split=3; total time=   0.4s\n",
      "[CV] END max_depth=30, min_samples_leaf=2, min_samples_split=5; total time=   0.4s\n",
      "[CV] END max_depth=30, min_samples_leaf=2, min_samples_split=3; total time=   0.4s\n",
      "[CV] END max_depth=30, min_samples_leaf=2, min_samples_split=5; total time=   0.4s\n",
      "[CV] END max_depth=30, min_samples_leaf=2, min_samples_split=5; total time=   0.4s\n",
      "[CV] END max_depth=30, min_samples_leaf=2, min_samples_split=5; total time=   0.4s\n",
      "[CV] END max_depth=30, min_samples_leaf=2, min_samples_split=5; total time=   0.4s\n",
      "[CV] END max_depth=40, min_samples_leaf=1, min_samples_split=2; total time=   0.6s\n",
      "[CV] END max_depth=40, min_samples_leaf=1, min_samples_split=2; total time=   0.6s\n",
      "[CV] END max_depth=40, min_samples_leaf=1, min_samples_split=2; total time=   0.7s\n",
      "[CV] END max_depth=40, min_samples_leaf=1, min_samples_split=2; total time=   0.7s\n",
      "[CV] END max_depth=40, min_samples_leaf=1, min_samples_split=2; total time=   0.7s\n",
      "[CV] END max_depth=40, min_samples_leaf=1, min_samples_split=3; total time=   0.7s\n",
      "[CV] END max_depth=40, min_samples_leaf=1, min_samples_split=3; total time=   0.6s\n",
      "[CV] END max_depth=40, min_samples_leaf=1, min_samples_split=3; total time=   0.7s\n",
      "[CV] END max_depth=40, min_samples_leaf=1, min_samples_split=3; total time=   0.7s\n",
      "[CV] END max_depth=40, min_samples_leaf=1, min_samples_split=3; total time=   0.6s\n",
      "[CV] END max_depth=40, min_samples_leaf=1, min_samples_split=5; total time=   0.5s\n",
      "[CV] END max_depth=40, min_samples_leaf=1, min_samples_split=5; total time=   0.6s\n",
      "[CV] END max_depth=40, min_samples_leaf=1, min_samples_split=5; total time=   0.6s\n",
      "[CV] END max_depth=40, min_samples_leaf=1, min_samples_split=5; total time=   0.6s\n",
      "[CV] END max_depth=40, min_samples_leaf=1, min_samples_split=5; total time=   0.7s\n",
      "[CV] END max_depth=40, min_samples_leaf=2, min_samples_split=2; total time=   0.7s\n",
      "[CV] END max_depth=40, min_samples_leaf=2, min_samples_split=2; total time=   0.8s\n",
      "[CV] END max_depth=40, min_samples_leaf=2, min_samples_split=2; total time=   0.8s\n",
      "[CV] END max_depth=40, min_samples_leaf=2, min_samples_split=2; total time=   0.8s\n",
      "[CV] END max_depth=40, min_samples_leaf=2, min_samples_split=2; total time=   0.8s\n",
      "[CV] END max_depth=40, min_samples_leaf=2, min_samples_split=3; total time=   0.7s\n",
      "[CV] END max_depth=40, min_samples_leaf=2, min_samples_split=3; total time=   0.7s\n",
      "[CV] END max_depth=40, min_samples_leaf=2, min_samples_split=3; total time=   0.6s\n",
      "[CV] END max_depth=40, min_samples_leaf=2, min_samples_split=3; total time=   0.6s\n",
      "[CV] END max_depth=40, min_samples_leaf=2, min_samples_split=3; total time=   0.5s\n",
      "[CV] END max_depth=40, min_samples_leaf=2, min_samples_split=5; total time=   0.5s\n",
      "[CV] END max_depth=40, min_samples_leaf=2, min_samples_split=5; total time=   0.5s\n",
      "[CV] END max_depth=40, min_samples_leaf=2, min_samples_split=5; total time=   0.5s\n",
      "[CV] END max_depth=40, min_samples_leaf=2, min_samples_split=5; total time=   0.4s\n",
      "[CV] END max_depth=40, min_samples_leaf=2, min_samples_split=5; total time=   0.4s\n",
      "Best parameters found:  {'max_depth': 30, 'min_samples_leaf': 1, 'min_samples_split': 3}\n",
      "Best score: -0.07597703812280106\n",
      "Test Price RMSE: 1.24772720377612\n"
     ]
    }
   ],
   "source": [
    "dt = DecisionTreeRegressor(random_state=42, )\n",
    "param_grid = {\n",
    "    'max_depth': [None, 10, 20, 30, 40],\n",
    "    'min_samples_split': [2, 3, 5],\n",
    "    'min_samples_leaf': [1, 2]\n",
    "}\n",
    "\n",
    "gs = GridSearchCV(estimator=dt, param_grid=param_grid, \n",
    "                           cv=5, scoring='neg_mean_squared_error', \n",
    "                           verbose=2, n_jobs=-1)\n",
    "\n",
    "gs.fit(X_train, y_train)\n",
    "\n",
    "print(\"Best parameters found: \", gs.best_params_)\n",
    "\n",
    "print(\"Best score:\", gs.best_score_)\n",
    "\n",
    "best_model = gs.best_estimator_\n",
    "\n",
    "y_pred = best_model.predict(X_test)\n",
    "mse = mean_squared_error(y_test, y_pred)\n",
    "print(f\"Test Price RMSE: {np.exp(np.sqrt(mean_squared_error(y_test, y_pred)))}\")\n",
    "\n",
    "# Best parameters found:  {'max_depth': None, 'min_samples_leaf': 1, 'min_samples_split': 3}\n",
    "# Best score: -0.06097922282343639\n",
    "# Test Price RMSE: 1.1965245503424489"
   ]
  },
  {
   "cell_type": "code",
   "execution_count": 109,
   "metadata": {},
   "outputs": [
    {
     "name": "stdout",
     "output_type": "stream",
     "text": [
      "Root Mean Squared Error (RMSE): 1.25\n",
      "R-squared (R2): 0.941\n",
      "Cross validated r2: 0.926\n"
     ]
    }
   ],
   "source": [
    "# Best parameters found:  {'max_depth': 30, 'min_samples_leaf': 2, 'min_samples_split': 10}\n",
    "# After hyper parameter tuning\n",
    "dt_tuned = DecisionTreeRegressor(max_depth = None, min_samples_leaf = 1, min_samples_split = 3, random_state=42)\n",
    "\n",
    "dt_tuned.fit(X_train, y_train)\n",
    "\n",
    "y_pred = dt_tuned.predict(X_test)\n",
    "\n",
    "print(f\"Root Mean Squared Error (RMSE): {round(np.exp(np.sqrt(mean_squared_error(y_test, y_pred))),3)}\")\n",
    "print(f\"R-squared (R2): {round(r2_score(y_test, y_pred),3)}\")\n",
    "\n",
    "print(f\"Cross validated r2: {round(cross_val_score(dt_tuned, X_train, y_train, cv = 10).mean(), 3)}\")"
   ]
  },
  {
   "cell_type": "markdown",
   "metadata": {},
   "source": [
    "Root Mean Squared Error (RMSE): 1.197<br>\n",
    "R-squared (R2): 0.962<br>\n",
    "Cross validated r2: 0.943<br>"
   ]
  },
  {
   "cell_type": "code",
   "execution_count": 110,
   "metadata": {},
   "outputs": [
    {
     "name": "stdout",
     "output_type": "stream",
     "text": [
      "Feature ranking:\n",
      "1. feature rating (0.606)\n",
      "2. feature age (0.107)\n",
      "3. feature country (0.058)\n",
      "4. feature region (0.049)\n",
      "5. feature rating_qty (0.046)\n",
      "6. feature producer (0.045)\n",
      "7. feature abv (0.032)\n",
      "8. feature grape_variety (0.028)\n",
      "9. feature from_vivino (0.012)\n",
      "10. feature vintage (0.011)\n",
      "11. feature wine_variety (0.007)\n"
     ]
    }
   ],
   "source": [
    "importances = dt_tuned.feature_importances_\n",
    "indices = np.argsort(importances)[::-1]\n",
    "\n",
    "print(\"Feature ranking:\")\n",
    "for f in range(11):\n",
    "    print(f\"{f + 1}. feature {X.columns[indices[f]]} ({importances[indices[f]]:.3f})\")\n"
   ]
  },
  {
   "cell_type": "markdown",
   "metadata": {},
   "source": [
    "# PCA including Regions & Producers"
   ]
  },
  {
   "cell_type": "code",
   "execution_count": 111,
   "metadata": {},
   "outputs": [],
   "source": [
    "# df_encoded_pca = pd.get_dummies(df, columns=['country', 'vintage', 'wine_variety', \n",
    "#                                         'grape_variety', 'from_vivino', 'producer', 'region'],  drop_first=True, dtype=int)\n",
    "# df_encoded_pca['abv'].fillna(df_encoded['abv'].median(), inplace=True)\n",
    "\n",
    "# X = df_encoded_pca.drop(columns = ['log_price', 'reviewed_by'])\n",
    "# y = df['log_price']\n",
    "\n",
    "# X_train, X_test, y_train, y_test = train_test_split(X, y, random_state=42, train_size=0.85)\n",
    "\n",
    "# for i in [200, 500, 1000, 2000]:\n",
    "#     pca = PCA(n_components=i)\n",
    "\n",
    "#     pca.fit(X_train)\n",
    "\n",
    "#     Z_train = pca.transform(X_train)\n",
    "#     Z_test = pca.transform(X_test)\n",
    "#     lr.fit(Z_train, y_train)\n",
    "#     print(f'N-Components: {i}')\n",
    "#     print(f'Training Score: {round(lr.score(Z_train, y_train),4)}')\n",
    "#     print(f'Testing Score: {round(lr.score(Z_test, y_test),4)}')\n",
    "\n",
    "#     y_pred = lr.predict(Z_test)\n",
    "\n",
    "#     print(f\" Cross validated r2: {cross_val_score(lr, Z_train, y_train, cv = 5)}\")\n",
    "#     print(f\" Root mean squared error: {np.sqrt(mean_squared_error(y_test, y_pred))}\")"
   ]
  },
  {
   "cell_type": "code",
   "execution_count": 112,
   "metadata": {},
   "outputs": [],
   "source": [
    "# pca = PCA(n_components=2500)\n",
    "\n",
    "# pca.fit(X_train)\n",
    "\n",
    "# Z_train = pca.transform(X_train)\n",
    "# Z_test = pca.transform(X_test)\n",
    "\n",
    "# best_dt_pca = best_model.fit(Z_train, y_train)\n",
    "\n",
    "# y_pred_pca = best_dt_pca.predict(Z_test)\n",
    "# mse_pca = mean_squared_error(y_test, y_pred_pca)\n",
    "# print(f\"Test RMSE: {np.sqrt(mse_pca)}\")"
   ]
  },
  {
   "cell_type": "markdown",
   "metadata": {},
   "source": [
    "## Random Forests Regression "
   ]
  },
  {
   "cell_type": "code",
   "execution_count": 113,
   "metadata": {},
   "outputs": [],
   "source": [
    "# np.random.seed(42)\n",
    "# rf = RandomForestRegressor()\n",
    "# param_grid = {\n",
    "#     'max_depth': [None, 10, 20, 40],\n",
    "#     'min_samples_split': [2, 5, 10],\n",
    "#     'min_samples_leaf': [1, 2, 4]\n",
    "# }\n",
    "\n",
    "# gs = GridSearchCV(estimator=rf, param_grid=param_grid, \n",
    "#                            cv=5, scoring='neg_mean_squared_error', \n",
    "#                            verbose=2, n_jobs=-1)\n",
    "\n",
    "# gs.fit(X_train, y_train)\n",
    "\n",
    "# print(\"Best parameters found: \", gs.best_params_)\n",
    "\n",
    "# print(\"Best score:\", gs.best_score_)\n",
    "\n",
    "# rf_best_model = gs.best_estimator_\n",
    "\n",
    "# y_pred = best_model.predict(X_test)\n",
    "# mse = mean_squared_error(y_test, y_pred)\n",
    "# print(f\"Test RMSE: {np.exp(np.sqrt(mse))}\")\n",
    "\n",
    "# print(f\"R-squared (R2): {round(r2_score(y_test, y_pred),3)}\")\n",
    "\n",
    "# print(f\"Cross validated r2: {round(cross_val_score(rf_best_model, X_train, y_train, cv = 10).mean(), 3)}\")\n"
   ]
  },
  {
   "cell_type": "code",
   "execution_count": 114,
   "metadata": {},
   "outputs": [
    {
     "name": "stdout",
     "output_type": "stream",
     "text": [
      "Test RMSE price: 1.1915478395375665\n",
      "Training Score: 0.995\n",
      "Testing Score: 0.9637\n"
     ]
    }
   ],
   "source": [
    "#Best parameters found:  {'max_depth': 40, 'min_samples_leaf': 1, 'min_samples_split': 2}\n",
    "\n",
    "rf_tuned = RandomForestRegressor(max_depth = 40, min_samples_leaf = 1, min_samples_split = 2, random_state=42)\n",
    "rf_tuned = rf_tuned.fit(X_train, y_train)\n",
    "y_pred = rf_tuned.predict(X_test)\n",
    "mse = mean_squared_error(y_test, y_pred)\n",
    "print(f\"Test RMSE price: {np.exp(np.sqrt(mse))}\")\n",
    "print(f'Training Score: {round(rf_tuned.score(X_train, y_train),4)}')\n",
    "print(f'Testing Score: {round(rf_tuned.score(X_test, y_test),4)}')\n",
    "# Test RMSE price: 1.1915478395375665\n",
    "# Training Score: 0.995\n",
    "# Testing Score: 0.9637"
   ]
  },
  {
   "cell_type": "code",
   "execution_count": 115,
   "metadata": {},
   "outputs": [],
   "source": [
    "# X = df.drop(columns = ['log_price', 'price'])\n",
    "# y = df['log_price']\n",
    "\n",
    "# X_train, X_test, y_train, y_test = train_test_split(X, y, random_state=42, train_size=0.85)\n",
    "\n",
    "# rf_tuned = RandomForestRegressor(max_depth = 40, min_samples_leaf = 1, min_samples_split = 2)\n",
    "# rf_tuned = rf_tuned.fit(X_train, y_train)\n",
    "# y_pred = rf_tuned.predict(X_test)\n",
    "# mse = mean_squared_error(y_test, y_pred)\n",
    "# print(f\"Test RMSE price: {np.exp(np.sqrt(mse))}\")\n",
    "# print(f'Training Score: {round(rf_tuned.score(X_train, y_train),4)}')\n",
    "# print(f'Testing Score: {round(rf_tuned.score(X_test, y_test),4)}')\n",
    "\n",
    "# # RESULTS \n",
    "# # Test RMSE price: 1.360004955078327\n",
    "# # Training Score: 0.9869\n",
    "# # Testing Score: 0.9051"
   ]
  },
  {
   "cell_type": "code",
   "execution_count": 116,
   "metadata": {},
   "outputs": [],
   "source": [
    "# # Remove wines with less then 30 ratings based on EDA finding that correlation between price and rating was much higher with\n",
    "# # more reliable ratings. \n",
    "# np.random.seed(42)\n",
    "\n",
    "# rf_tuned = RandomForestRegressor(max_depth = 40, min_samples_leaf = 1, min_samples_split = 2, random_state=42)\n",
    "# rf_tuned = rf_tuned.fit(X_train, y_train)\n",
    "# y_pred = rf_tuned.predict(X_test)\n",
    "# mse = mean_squared_error(y_test, y_pred)\n",
    "# print(f\"Test RMSE price: {np.exp(np.sqrt(mse))}\")\n",
    "# print(f'Training Score: {round(rf_tuned.score(X_train, y_train),4)}')\n",
    "# print(f'Testing Score: {round(rf_tuned.score(X_test, y_test),4)}')\n",
    "\n",
    "# # Test RMSE price: 1.171555724949263\n",
    "# # Training Score: 0.9958\n",
    "# # Testing Score: 0.9704"
   ]
  },
  {
   "cell_type": "markdown",
   "metadata": {},
   "source": [
    "**Model Performance:**<br>\n",
    "Test RMSE price: 1.1636248759919523<br>\n",
    "Training Score: 0.9967<br>\n",
    "Testing Score: 0.9754<br>\n",
    "\n",
    "Model clearly much more reliable when "
   ]
  },
  {
   "cell_type": "markdown",
   "metadata": {},
   "source": [
    "# Feature Importance of Decision Tree Model"
   ]
  },
  {
   "cell_type": "code",
   "execution_count": 117,
   "metadata": {},
   "outputs": [
    {
     "name": "stderr",
     "output_type": "stream",
     "text": [
      "No data for colormapping provided via 'c'. Parameters 'vmin', 'vmax' will be ignored\n"
     ]
    },
    {
     "data": {
      "image/png": "[encoded data removed]",
      "text/plain": [
       "<Figure size 800x550 with 2 Axes>"
      ]
     },
     "metadata": {},
     "output_type": "display_data"
    }
   ],
   "source": [
    "# taking hours to run for some reason \n",
    "explainer = shap.Explainer(dt_tuned)\n",
    "shap_values = explainer(X_train)\n",
    "\n",
    "shap.plots.beeswarm(shap_values);"
   ]
  },
  {
   "cell_type": "code",
   "execution_count": 118,
   "metadata": {},
   "outputs": [
    {
     "data": {
      "image/png": "[encoded data removed]",
      "text/plain": [
       "<Figure size 640x480 with 1 Axes>"
      ]
     },
     "metadata": {},
     "output_type": "display_data"
    }
   ],
   "source": [
    "# code from https://forecastegy.com/posts/feature-importance-in-random-forests/#:~:text=Permutation%20feature%20importance%20is%20another,out%2Dof%2Dsample%20dataset.\n",
    "\n",
    "global_importances = pd.Series(dt_tuned.feature_importances_, index=X_train.columns)\n",
    "global_importances.sort_values(ascending=True, inplace=True)\n",
    "global_importances.plot.barh(color='mediumpurple')\n",
    "plt.xlabel(\"Importance\")\n",
    "plt.ylabel(\"Feature\")\n",
    "plt.title(\"Global Feature Importance - Built-in Method\");"
   ]
  },
  {
   "cell_type": "code",
   "execution_count": 119,
   "metadata": {},
   "outputs": [
    {
     "data": {
      "image/png": "[encoded data removed]",
      "text/plain": [
       "<Figure size 640x480 with 1 Axes>"
      ]
     },
     "metadata": {},
     "output_type": "display_data"
    }
   ],
   "source": [
    "X_train_random = X_train.copy()\n",
    "X_train_random[\"RANDOM\"] = np.random.RandomState(42).randn(X_train.shape[0])\n",
    "\n",
    "dt_tuned = RandomForestRegressor(max_depth = None, min_samples_leaf = 1, min_samples_split = 3, random_state=42)\n",
    "dt_tuned.fit(X_train_random, y_train)\n",
    "\n",
    "global_importances_random = pd.Series(dt_tuned.feature_importances_, index=X_train_random.columns)\n",
    "global_importances_random.sort_values(ascending=True, inplace=True)\n",
    "global_importances_random.plot.barh(color='mediumpurple')\n",
    "plt.xlabel(\"Importance\")\n",
    "plt.ylabel(\"Feature\")\n",
    "plt.title(\"Global Feature Importance - Built-in Method\");"
   ]
  },
  {
   "cell_type": "markdown",
   "metadata": {},
   "source": [
    "* Best performing model on test data includes all wines, targets log_price and is a random forests classifier with the following parameters: max_depth = 40, min_samples_leaf = 1, min_samples_split = 2. "
   ]
  },
  {
   "cell_type": "markdown",
   "metadata": {},
   "source": [
    "## Recursive Feature Elimination"
   ]
  },
  {
   "cell_type": "markdown",
   "metadata": {},
   "source": [
    "Recursive Feature Elimination (RFE) - to see which features are most important to the RF model. These might eventually be the features users (or an API) inputs into the app. "
   ]
  },
  {
   "cell_type": "code",
   "execution_count": 120,
   "metadata": {},
   "outputs": [],
   "source": [
    "# model = RandomForestRegressor(random_state=42)\n",
    "\n",
    "# # Initialize RFE with the linear regression model and desired number of features\n",
    "# rfe_lr = RFE(estimator=model, n_features_to_select=5, step=1)\n",
    "# rfe_lr.fit(X, y)\n",
    "# print(\"Feature ranking (1 indicates selected):\", rfe_lr.ranking_)\n",
    "\n",
    "# # Print the mask of selected features\n",
    "# print(\"Mask of selected features:\", rfe_lr.support_)\n",
    "\n",
    "# # Mapping back to feature names\n",
    "# selected_features = X.columns[rfe_lr.support_]\n",
    "# print(\"Selected features:\", selected_features)"
   ]
  },
  {
   "cell_type": "markdown",
   "metadata": {},
   "source": [
    "**Random Forests Features Ranking (5 features to select)**<br>\n",
    "Feature ranking (1 indicates selected): [1 4 1 1 7 5 1 1 3 6 2]<br>\n",
    "Mask of selected features: [ True False  True  True False False  True  True False False False]<br>\n",
    "Selected features: Index(['region', 'vintage', 'producer', 'rating', 'rating_qty'], dtype='object')<br>\n",
    "\n",
    "**Decision Trees Features Ranking (1 feature to select)**<br>\n",
    "Feature ranking (1 indicates selected): [ 7  6  8  5 10  9  2  3  1 11  4]<br>\n",
    "Mask of selected features: [False False False False False False False False  True False False]<br>\n",
    "Selected features: Index(['abv'], dtype='object')<br>"
   ]
  },
  {
   "cell_type": "code",
   "execution_count": 121,
   "metadata": {},
   "outputs": [],
   "source": [
    "# %%time \n",
    "# rf_final.predict(X_test)"
   ]
  },
  {
   "cell_type": "markdown",
   "metadata": {},
   "source": [
    "# Exporting files for the App"
   ]
  },
  {
   "cell_type": "code",
   "execution_count": 143,
   "metadata": {},
   "outputs": [
    {
     "data": {
      "text/html": [
       "<div>\n",
       "<style scoped>\n",
       "    .dataframe tbody tr th:only-of-type {\n",
       "        vertical-align: middle;\n",
       "    }\n",
       "\n",
       "    .dataframe tbody tr th {\n",
       "        vertical-align: top;\n",
       "    }\n",
       "\n",
       "    .dataframe thead th {\n",
       "        text-align: right;\n",
       "    }\n",
       "</style>\n",
       "<table border=\"1\" class=\"dataframe\">\n",
       "  <thead>\n",
       "    <tr style=\"text-align: right;\">\n",
       "      <th></th>\n",
       "      <th>Region</th>\n",
       "      <th>Country</th>\n",
       "      <th>Vintage</th>\n",
       "      <th>Producer</th>\n",
       "      <th>Wine Variety</th>\n",
       "      <th>Grape Variety</th>\n",
       "      <th>Price (£)</th>\n",
       "      <th>Average Rating</th>\n",
       "      <th>ABV</th>\n",
       "    </tr>\n",
       "    <tr>\n",
       "      <th>name</th>\n",
       "      <th></th>\n",
       "      <th></th>\n",
       "      <th></th>\n",
       "      <th></th>\n",
       "      <th></th>\n",
       "      <th></th>\n",
       "      <th></th>\n",
       "      <th></th>\n",
       "      <th></th>\n",
       "    </tr>\n",
       "  </thead>\n",
       "  <tbody>\n",
       "    <tr>\n",
       "      <th>00 Wines Vgw Chardonnay 2017</th>\n",
       "      <td>Willamette Valley</td>\n",
       "      <td>United States</td>\n",
       "      <td>2017</td>\n",
       "      <td>00 Wines</td>\n",
       "      <td>White</td>\n",
       "      <td>Chardonnay</td>\n",
       "      <td>66.0</td>\n",
       "      <td>0.0</td>\n",
       "      <td>13.0</td>\n",
       "    </tr>\n",
       "    <tr>\n",
       "      <th>00 Wines Vgr Pinot Noir 2019</th>\n",
       "      <td>Willamette Valley</td>\n",
       "      <td>United States</td>\n",
       "      <td>2019</td>\n",
       "      <td>00 Wines</td>\n",
       "      <td>Red</td>\n",
       "      <td>Pinot Noir</td>\n",
       "      <td>82.0</td>\n",
       "      <td>0.0</td>\n",
       "      <td>12.9</td>\n",
       "    </tr>\n",
       "    <tr>\n",
       "      <th>00 Wines Egw Chardonnay 2019</th>\n",
       "      <td>Willamette Valley</td>\n",
       "      <td>United States</td>\n",
       "      <td>2019</td>\n",
       "      <td>00 Wines</td>\n",
       "      <td>White</td>\n",
       "      <td>Chardonnay</td>\n",
       "      <td>95.0</td>\n",
       "      <td>0.0</td>\n",
       "      <td>NaN</td>\n",
       "    </tr>\n",
       "    <tr>\n",
       "      <th>100 Nails Ranch Pinot Noir 2019</th>\n",
       "      <td>Central Coast</td>\n",
       "      <td>United States</td>\n",
       "      <td>2019</td>\n",
       "      <td>100 Nails Ranch</td>\n",
       "      <td>Red</td>\n",
       "      <td>Pinot Noir</td>\n",
       "      <td>14.0</td>\n",
       "      <td>0.0</td>\n",
       "      <td>14.2</td>\n",
       "    </tr>\n",
       "    <tr>\n",
       "      <th>100 Nails Ranch Chardonnay 2019</th>\n",
       "      <td>Sonoma County</td>\n",
       "      <td>United States</td>\n",
       "      <td>2019</td>\n",
       "      <td>100 Nails Ranch</td>\n",
       "      <td>White</td>\n",
       "      <td>Chardonnay</td>\n",
       "      <td>14.0</td>\n",
       "      <td>0.0</td>\n",
       "      <td>14.2</td>\n",
       "    </tr>\n",
       "  </tbody>\n",
       "</table>\n",
       "</div>"
      ],
      "text/plain": [
       "                                            Region        Country  Vintage  \\\n",
       "name                                                                         \n",
       "00 Wines Vgw Chardonnay 2017     Willamette Valley  United States     2017   \n",
       "00 Wines Vgr Pinot Noir 2019     Willamette Valley  United States     2019   \n",
       "00 Wines Egw Chardonnay 2019     Willamette Valley  United States     2019   \n",
       "100 Nails Ranch Pinot Noir 2019      Central Coast  United States     2019   \n",
       "100 Nails Ranch Chardonnay 2019      Sonoma County  United States     2019   \n",
       "\n",
       "                                        Producer Wine Variety Grape Variety  \\\n",
       "name                                                                          \n",
       "00 Wines Vgw Chardonnay 2017            00 Wines        White    Chardonnay   \n",
       "00 Wines Vgr Pinot Noir 2019            00 Wines          Red    Pinot Noir   \n",
       "00 Wines Egw Chardonnay 2019            00 Wines        White    Chardonnay   \n",
       "100 Nails Ranch Pinot Noir 2019  100 Nails Ranch          Red    Pinot Noir   \n",
       "100 Nails Ranch Chardonnay 2019  100 Nails Ranch        White    Chardonnay   \n",
       "\n",
       "                                 Price (£)  Average Rating   ABV  \n",
       "name                                                              \n",
       "00 Wines Vgw Chardonnay 2017          66.0             0.0  13.0  \n",
       "00 Wines Vgr Pinot Noir 2019          82.0             0.0  12.9  \n",
       "00 Wines Egw Chardonnay 2019          95.0             0.0   NaN  \n",
       "100 Nails Ranch Pinot Noir 2019       14.0             0.0  14.2  \n",
       "100 Nails Ranch Chardonnay 2019       14.0             0.0  14.2  "
      ]
     },
     "execution_count": 143,
     "metadata": {},
     "output_type": "execute_result"
    }
   ],
   "source": [
    "app_frontend = pd.read_csv('../data/clean_combined_wines.csv', index_col=0)\n",
    "def to_normal_case(column_name):\n",
    "    return ' '.join(word.capitalize() for word in column_name.split('_'))\n",
    "app_frontend.columns = [to_normal_case(column) for column in app_frontend.columns]\n",
    "app_frontend.rename(columns = {'Abv': 'ABV', 'Rating': 'Average Rating', 'Price' : 'Price (£)'}, inplace=True)\n",
    "app_frontend.drop(columns = ['Reviewed By', 'From Vivino', 'Rating Qty'], inplace=True)\n",
    "app_frontend['Wine Variety'] = app_frontend['Wine Variety'].apply(to_normal_case)\n",
    "\n",
    "app_frontend.head()"
   ]
  },
  {
   "cell_type": "code",
   "execution_count": 149,
   "metadata": {},
   "outputs": [
    {
     "name": "stdout",
     "output_type": "stream",
     "text": [
      "(4294, 13)\n",
      "(4294, 9)\n"
     ]
    }
   ],
   "source": [
    "# concatenate join X_test and y_test\n",
    "test_backend = pd.concat([X_test, y_test], axis=1)\n",
    "\n",
    "# make the index of test_dataframe into a column called 'name'\n",
    "test_backend['name'] = test_backend.index\n",
    "app_frontend = app_frontend[~app_frontend.index.duplicated(keep='first')]\n",
    "test_backend = test_backend[~test_backend.index.duplicated(keep='first')]\n",
    "\n",
    "# Reindexing app_frontend to match the index of test_backend\n",
    "app_frontend_aligned = app_frontend.reindex(test_backend.index)\n",
    "\n",
    "test_backend.to_csv('../data/app_backend.csv', index=False)\n",
    "app_frontend_aligned.to_csv('../data/app_fronted.csv', index=False)\n",
    "\n",
    "print(test_backend.shape)\n",
    "print(app_frontend_aligned.shape)"
   ]
  },
  {
   "cell_type": "code",
   "execution_count": null,
   "metadata": {},
   "outputs": [],
   "source": []
  },
  {
   "cell_type": "code",
   "execution_count": 122,
   "metadata": {},
   "outputs": [],
   "source": [
    "import gzip, pickle, pickletools\n",
    "filepath = '../models/casi_dt_v1.pkl'\n",
    "with gzip.open(filepath, \"wb\") as f:\n",
    "    pickled = pickle.dumps(dt_tuned)\n",
    "    optimized_pickle = pickletools.optimize(pickled)\n",
    "    f.write(optimized_pickle)"
   ]
  }
 ],
 "metadata": {
  "kernelspec": {
   "display_name": "base",
   "language": "python",
   "name": "python3"
  },
  "language_info": {
   "codemirror_mode": {
    "name": "ipython",
    "version": 3
   },
   "file_extension": ".py",
   "mimetype": "text/x-python",
   "name": "python",
   "nbconvert_exporter": "python",
   "pygments_lexer": "ipython3",
   "version": "3.11.5"
  }
 },
 "nbformat": 4,
 "nbformat_minor": 2
}
