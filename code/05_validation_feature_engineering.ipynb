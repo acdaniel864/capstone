{
 "cells": [
  {
   "cell_type": "markdown",
   "metadata": {},
   "source": [
    "# Manipulate Validaiton Dataframe"
   ]
  },
  {
   "cell_type": "code",
   "execution_count": 2,
   "metadata": {},
   "outputs": [],
   "source": [
    "import pandas as pd\n",
    "import numpy as np \n",
    "import statistics"
   ]
  },
  {
   "cell_type": "markdown",
   "metadata": {},
   "source": [
    "#### Price"
   ]
  },
  {
   "cell_type": "code",
   "execution_count": 3,
   "metadata": {},
   "outputs": [],
   "source": [
    "# do same steps to validaiton set\n",
    "val_df = pd.read_csv('../data/validation_set.csv')\n",
    "val_df['log_price'] = np.log(val_df['price'])"
   ]
  },
  {
   "cell_type": "code",
   "execution_count": 4,
   "metadata": {},
   "outputs": [
    {
     "data": {
      "text/html": [
       "<div>\n",
       "<style scoped>\n",
       "    .dataframe tbody tr th:only-of-type {\n",
       "        vertical-align: middle;\n",
       "    }\n",
       "\n",
       "    .dataframe tbody tr th {\n",
       "        vertical-align: top;\n",
       "    }\n",
       "\n",
       "    .dataframe thead th {\n",
       "        text-align: right;\n",
       "    }\n",
       "</style>\n",
       "<table border=\"1\" class=\"dataframe\">\n",
       "  <thead>\n",
       "    <tr style=\"text-align: right;\">\n",
       "      <th></th>\n",
       "      <th>name</th>\n",
       "      <th>region</th>\n",
       "      <th>country</th>\n",
       "      <th>vintage</th>\n",
       "      <th>producer</th>\n",
       "      <th>wine_variety</th>\n",
       "      <th>grape_variety</th>\n",
       "      <th>price</th>\n",
       "      <th>rating</th>\n",
       "      <th>rating_qty</th>\n",
       "      <th>abv</th>\n",
       "      <th>reviewed_by</th>\n",
       "      <th>from_vivino</th>\n",
       "      <th>log_price</th>\n",
       "    </tr>\n",
       "  </thead>\n",
       "  <tbody>\n",
       "    <tr>\n",
       "      <th>0</th>\n",
       "      <td>The Guvnor Spain</td>\n",
       "      <td>Unknown</td>\n",
       "      <td>Spain</td>\n",
       "      <td>unknown</td>\n",
       "      <td>The Guvnor</td>\n",
       "      <td>red</td>\n",
       "      <td>Tempranillo</td>\n",
       "      <td>9.99</td>\n",
       "      <td>NaN</td>\n",
       "      <td>NaN</td>\n",
       "      <td>14.0</td>\n",
       "      <td>unknown</td>\n",
       "      <td>False</td>\n",
       "      <td>2.301585</td>\n",
       "    </tr>\n",
       "    <tr>\n",
       "      <th>1</th>\n",
       "      <td>Bread Butter Winemakers Selection Chardonnay 2...</td>\n",
       "      <td>California</td>\n",
       "      <td>Usa</td>\n",
       "      <td>2021</td>\n",
       "      <td>Bread Butter</td>\n",
       "      <td>white</td>\n",
       "      <td>Chardonnay</td>\n",
       "      <td>15.99</td>\n",
       "      <td>NaN</td>\n",
       "      <td>NaN</td>\n",
       "      <td>13.5</td>\n",
       "      <td>unknown</td>\n",
       "      <td>False</td>\n",
       "      <td>2.771964</td>\n",
       "    </tr>\n",
       "    <tr>\n",
       "      <th>2</th>\n",
       "      <td>Oyster Bay Sauvignon Blanc 2022 Marlborough</td>\n",
       "      <td>Marlborough</td>\n",
       "      <td>New Zealand</td>\n",
       "      <td>2022</td>\n",
       "      <td>Oyster Bay</td>\n",
       "      <td>white</td>\n",
       "      <td>Sauvignon Blanc</td>\n",
       "      <td>12.49</td>\n",
       "      <td>NaN</td>\n",
       "      <td>NaN</td>\n",
       "      <td>13.0</td>\n",
       "      <td>unknown</td>\n",
       "      <td>False</td>\n",
       "      <td>2.524928</td>\n",
       "    </tr>\n",
       "    <tr>\n",
       "      <th>3</th>\n",
       "      <td>Louis Latour Maconlugny 202122</td>\n",
       "      <td>Burgundy</td>\n",
       "      <td>France</td>\n",
       "      <td>2022</td>\n",
       "      <td>Louis Latour</td>\n",
       "      <td>white</td>\n",
       "      <td>Chardonnay</td>\n",
       "      <td>17.99</td>\n",
       "      <td>NaN</td>\n",
       "      <td>NaN</td>\n",
       "      <td>13.5</td>\n",
       "      <td>unknown</td>\n",
       "      <td>False</td>\n",
       "      <td>2.889816</td>\n",
       "    </tr>\n",
       "    <tr>\n",
       "      <th>4</th>\n",
       "      <td>Bread Butter Winemakers Selection Pinot Noir 2...</td>\n",
       "      <td>California</td>\n",
       "      <td>Usa</td>\n",
       "      <td>2021</td>\n",
       "      <td>Bread Butter</td>\n",
       "      <td>red</td>\n",
       "      <td>Pinot Noir</td>\n",
       "      <td>15.99</td>\n",
       "      <td>NaN</td>\n",
       "      <td>NaN</td>\n",
       "      <td>13.5</td>\n",
       "      <td>unknown</td>\n",
       "      <td>False</td>\n",
       "      <td>2.771964</td>\n",
       "    </tr>\n",
       "  </tbody>\n",
       "</table>\n",
       "</div>"
      ],
      "text/plain": [
       "                                                name       region  \\\n",
       "0                                   The Guvnor Spain      Unknown   \n",
       "1  Bread Butter Winemakers Selection Chardonnay 2...   California   \n",
       "2        Oyster Bay Sauvignon Blanc 2022 Marlborough  Marlborough   \n",
       "3                     Louis Latour Maconlugny 202122     Burgundy   \n",
       "4  Bread Butter Winemakers Selection Pinot Noir 2...   California   \n",
       "\n",
       "       country  vintage      producer wine_variety    grape_variety  price  \\\n",
       "0        Spain  unknown    The Guvnor          red      Tempranillo   9.99   \n",
       "1          Usa     2021  Bread Butter        white       Chardonnay  15.99   \n",
       "2  New Zealand     2022    Oyster Bay        white  Sauvignon Blanc  12.49   \n",
       "3       France     2022  Louis Latour        white       Chardonnay  17.99   \n",
       "4          Usa     2021  Bread Butter          red       Pinot Noir  15.99   \n",
       "\n",
       "   rating  rating_qty   abv reviewed_by  from_vivino  log_price  \n",
       "0     NaN         NaN  14.0     unknown        False   2.301585  \n",
       "1     NaN         NaN  13.5     unknown        False   2.771964  \n",
       "2     NaN         NaN  13.0     unknown        False   2.524928  \n",
       "3     NaN         NaN  13.5     unknown        False   2.889816  \n",
       "4     NaN         NaN  13.5     unknown        False   2.771964  "
      ]
     },
     "execution_count": 4,
     "metadata": {},
     "output_type": "execute_result"
    }
   ],
   "source": [
    "val_df.head()"
   ]
  },
  {
   "cell_type": "markdown",
   "metadata": {},
   "source": [
    "#### Zero Values and Imputation"
   ]
  },
  {
   "cell_type": "code",
   "execution_count": null,
   "metadata": {},
   "outputs": [],
   "source": []
  }
 ],
 "metadata": {
  "kernelspec": {
   "display_name": "base",
   "language": "python",
   "name": "python3"
  },
  "language_info": {
   "codemirror_mode": {
    "name": "ipython",
    "version": 3
   },
   "file_extension": ".py",
   "mimetype": "text/x-python",
   "name": "python",
   "nbconvert_exporter": "python",
   "pygments_lexer": "ipython3",
   "version": "3.11.5"
  }
 },
 "nbformat": 4,
 "nbformat_minor": 2
}
